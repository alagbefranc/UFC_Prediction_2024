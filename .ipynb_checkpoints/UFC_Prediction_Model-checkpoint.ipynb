{
 "cells": [
  {
   "cell_type": "code",
   "execution_count": 2,
   "id": "570a2e72",
   "metadata": {},
   "outputs": [],
   "source": [
    "#getting dependencies\n",
    "import pandas as pd\n",
    "pd.options.mode.chained_assignment = None  # default='warn' (disables SettingWithCopyWarning)\n",
    "\n",
    "import numpy as npy\n",
    "from datetime import datetime\n",
    "from datetime import date\n",
    "import matplotlib.pyplot as plt\n",
    "import random\n",
    "import sklearn\n",
    "import scipy\n",
    "from sklearn.linear_model import LogisticRegression\n",
    "from sklearn.ensemble import RandomForestClassifier\n",
    "from sklearn.neural_network import MLPClassifier\n",
    "from sklearn.model_selection import train_test_split, KFold, cross_val_score\n",
    "from sklearn import preprocessing\n",
    "from sklearn.preprocessing import PolynomialFeatures\n",
    "from sklearn.feature_selection import VarianceThreshold\n",
    "import itertools\n",
    "#this imports all of the functions from the file functions.py\n",
    "from functions import *"
   ]
  },
  {
   "cell_type": "code",
   "execution_count": 4,
   "id": "95a388bc",
   "metadata": {},
   "outputs": [],
   "source": [
    "#importing csv fight data and saving as dataframes\n",
    "ufc_fights_winner = pd.read_csv('ufc_fights.csv',low_memory=False)\n",
    "ufc_fights_method = pd.read_csv('ufc_fights.csv',low_memory=False)\n",
    "ufcfighterscrap =pd.read_csv('fighter_stats.csv',sep=',',low_memory=False)"
   ]
  },
  {
   "cell_type": "code",
   "execution_count": 5,
   "id": "e64d3b89",
   "metadata": {},
   "outputs": [],
   "source": [
    "for i in range(len(ufcfighterscrap['name'])):\n",
    "    if ufcfighterscrap['name'][i]=='Xiaonan Yan':\n",
    "        ufcfighterscrap['name'][i]='Yan Xiaonan'\n",
    "        \n",
    "for i in range(len(ufcfightscrap['fighter'])):\n",
    "    if ufcfightscrap['fighter'][i]=='Xiaonan Yan':\n",
    "        ufcfightscrap['fighter'][i]='Yan Xiaonan'\n",
    "        \n",
    "for i in range(len(ufcfightscrap['opponent'])):\n",
    "    if ufcfightscrap['opponent'][i]=='Xiaonan Yan':\n",
    "        ufcfightscrap['opponent'][i]='Yan Xiaonan'\n",
    "    \n",
    "#it gets saved as Joanne Wood for some reason\n",
    "for i in range(len(ufc_fights['fighter'])):\n",
    "    if ufc_fights['fighter'][i]=='Joanne Wood':\n",
    "        ufc_fights['fighter'][i]='Joanne Calderwood'\n",
    "    if ufc_fights['opponent'][i]=='Joanne Wood':\n",
    "        ufc_fights['opponent'][i]='Joanne Calderwood'"
   ]
  },
  {
   "cell_type": "code",
   "execution_count": 6,
   "id": "f54d09a6",
   "metadata": {},
   "outputs": [],
   "source": [
    "#there are two lists of names which sometimes get scraped differently... this causes some problems which are being\n",
    "#addressed in this cell. \n",
    "\n",
    "names_list = list(set((list(ufcfightscrap['fighter'])+list(ufcfightscrap['opponent']))))\n",
    "names_list.sort()\n",
    "\n",
    "names_list2 = list(set(ufcfighterscrap['name']))\n",
    "names_list2.sort()\n",
    "\n",
    "#Use the following two lines of code to examine names if necessary...\n",
    "\n",
    "#for name in names_list:\n",
    "    #print(name)\n",
    "    \n",
    "#for name in names_list2:\n",
    "    #print(name)"
   ]
  },
  {
   "cell_type": "code",
   "execution_count": 7,
   "id": "2ef2d0ff",
   "metadata": {},
   "outputs": [
    {
     "data": {
      "text/plain": [
       "array(['DEC', 'KO/TKO', 'bullshit', 'SUB'], dtype=object)"
      ]
     },
     "execution_count": 7,
     "metadata": {},
     "output_type": "execute_result"
    }
   ],
   "source": [
    "#cleaning the methods column for winner prediction (counting split decisions as bullshit)\n",
    "ufc_fights_winner['method'] = clean_method_for_winner_vect(ufc_fights_winner['method'])\n",
    "ufc_fights_winner['method'].unique()"
   ]
  },
  {
   "cell_type": "code",
   "execution_count": 8,
   "id": "33119001",
   "metadata": {},
   "outputs": [
    {
     "data": {
      "text/plain": [
       "array(['DEC', 'KO/TKO', 'SUB', 'bullshit'], dtype=object)"
      ]
     },
     "execution_count": 8,
     "metadata": {},
     "output_type": "execute_result"
    }
   ],
   "source": [
    "#cleaning the methods column for method prediction (counting split decisions as decisions)\n",
    "ufc_fights_method['method'] = clean_method_vect(ufc_fights_method['method'])\n",
    "ufc_fights_method['method'].unique()"
   ]
  },
  {
   "cell_type": "code",
   "execution_count": 9,
   "id": "73ce89e2",
   "metadata": {},
   "outputs": [],
   "source": [
    "#getting rid of rows with incomplete or useless data\n",
    "#fights with outcome \"Win\" or \"Loss\" (no \"Draw\")\n",
    "draw_mask=ufc_fights['result'] != 'D' \n",
    "#fights where the method of victory is TKO/SUB/DEC (no split decision or DQ or Overturned or anything else like that)\n",
    "method_mask_winner=(ufc_fights_winner['method']!='bullshit')\n",
    "method_mask_method=(ufc_fights_method['method']!='bullshit')\n",
    "#fights where age is known\n",
    "age_mask=(ufc_fights['fighter_age']!='unknown')&(ufc_fights['opponent_age']!='unknown')\n",
    "#fights where height reach is known\n",
    "height_mask=(ufc_fights['fighter_height']!='unknown')&(ufc_fights['opponent_height']!='unknown')\n",
    "reach_mask=(ufc_fights['fighter_reach']!='unknown')&(ufc_fights['opponent_reach']!='unknown')\n",
    "#fights where number of wins is known\n",
    "wins_mask=(ufc_fights['fighter_wins'] != 'unknown' )& (ufc_fights['opponent_wins'] != 'unknown')\n",
    "#fights where both fighters have strike statistics (gets rid of UFC debuts)\n",
    "strikes_mask=(ufc_fights['fighter_inf_sig_strikes_attempts_avg'] != 0)&(ufc_fights['opponent_inf_sig_strikes_attempts_avg'] != 0)\n",
    "#includes only the fights satisfying these conditions\n",
    "ufc_fights_winner=ufc_fights_winner[draw_mask&method_mask_winner&age_mask&height_mask&reach_mask&wins_mask&strikes_mask]\n",
    "ufc_fights_method=ufc_fights_method[draw_mask&method_mask_method&age_mask&height_mask&reach_mask&wins_mask&strikes_mask]\n",
    "\n",
    "#listing all stats and making some new stats from them (differences often score higher in the learning models)\n",
    "record_statistics=[u'fighter_wins', \n",
    "                   u'fighter_losses',\n",
    "                   u'fighter_L5Y_wins',\n",
    "                   u'fighter_L5Y_losses', \n",
    "                   u'fighter_L2Y_wins', \n",
    "                   u'fighter_L2Y_losses',\n",
    "                    u'fighter_ko_wins',\n",
    "                   u'fighter_ko_losses',\n",
    "                   u'fighter_L5Y_ko_wins',\n",
    "                   u'fighter_L5Y_ko_losses',\n",
    "                   u'fighter_L2Y_ko_wins',\n",
    "                    u'fighter_L2Y_ko_losses',\n",
    "                   u'fighter_sub_wins',\n",
    "                   u'fighter_sub_losses',\n",
    "                   u'fighter_L5Y_sub_wins',\n",
    "                    u'fighter_L5Y_sub_losses', \n",
    "                   u'fighter_L2Y_sub_wins', \n",
    "                   u'fighter_L2Y_sub_losses',\n",
    "                   u'opponent_wins', \n",
    "                   u'opponent_losses',\n",
    "                   u'opponent_L5Y_wins', \n",
    "                   u'opponent_L5Y_losses', \n",
    "                   u'opponent_L2Y_wins', \n",
    "                   u'opponent_L2Y_losses', \n",
    "                    u'opponent_ko_wins', \n",
    "                   u'opponent_ko_losses', \n",
    "                   u'opponent_L5Y_ko_wins', \n",
    "                   u'opponent_L5Y_ko_losses', \n",
    "                   u'opponent_L2Y_ko_wins',\n",
    "                    u'opponent_L2Y_ko_losses', \n",
    "                   u'opponent_sub_wins', \n",
    "                   u'opponent_sub_losses',\n",
    "                   u'opponent_L5Y_sub_wins', \n",
    "                    u'opponent_L5Y_sub_losses', \n",
    "                   u'opponent_L2Y_sub_wins', \n",
    "                   u'opponent_L2Y_sub_losses']\n",
    "\n",
    "physical_stats=[ u'fighter_age',\n",
    "                u'fighter_height',\n",
    "                    u'fighter_reach',  \n",
    "                u'opponent_age',  \n",
    "                u'opponent_height',\n",
    "                    u'opponent_reach']\n",
    "\n",
    "#THERE MAY BE A PROBLEM IN AGE HEIGHT REACH TO DO WITH STRING VS FLOAT. MAKE SURE THESE ARE ALL THE CORRECT TYPE\n",
    "#MAYBE WE ARE LOSING PREDICTABILITY HERE\n",
    "\n",
    "#here is the list of all stats available (besides stance), does not include names or result\n",
    "punch_statistics=[    u'fighter_inf_knockdowns_avg',\n",
    "                    u'fighter_inf_pass_avg',\n",
    "                    u'fighter_inf_reversals_avg',\n",
    "                    u'fighter_inf_sub_attempts_avg',\n",
    "                    u'fighter_inf_takedowns_landed_avg',\n",
    "                    u'fighter_inf_takedowns_attempts_avg',\n",
    "                    u'fighter_inf_sig_strikes_landed_avg',\n",
    "                    u'fighter_inf_sig_strikes_attempts_avg',\n",
    "                    u'fighter_inf_total_strikes_landed_avg',\n",
    "                    u'fighter_inf_total_strikes_attempts_avg',\n",
    "                    u'fighter_inf_head_strikes_landed_avg',\n",
    "                    u'fighter_inf_head_strikes_attempts_avg',\n",
    "                    u'fighter_inf_body_strikes_landed_avg',\n",
    "                    u'fighter_inf_body_strikes_attempts_avg',\n",
    "                    u'fighter_inf_leg_strikes_landed_avg',\n",
    "                    u'fighter_inf_leg_strikes_attempts_avg',\n",
    "                    u'fighter_inf_distance_strikes_landed_avg',\n",
    "                    u'fighter_inf_distance_strikes_attempts_avg',\n",
    "                    u'fighter_inf_clinch_strikes_landed_avg',\n",
    "                    u'fighter_inf_clinch_strikes_attempts_avg',\n",
    "                    u'fighter_inf_ground_strikes_landed_avg',\n",
    "                    u'fighter_inf_ground_strikes_attempts_avg',\n",
    "                \n",
    "                    u'fighter_abs_knockdowns_avg',\n",
    "                    u'fighter_abs_pass_avg',\n",
    "                    u'fighter_abs_reversals_avg',\n",
    "                    u'fighter_abs_sub_attempts_avg',\n",
    "                    u'fighter_abs_takedowns_landed_avg',\n",
    "                    u'fighter_abs_takedowns_attempts_avg',\n",
    "                    u'fighter_abs_sig_strikes_landed_avg',\n",
    "                    u'fighter_abs_sig_strikes_attempts_avg',\n",
    "                    u'fighter_abs_total_strikes_landed_avg',\n",
    "                    u'fighter_abs_total_strikes_attempts_avg',\n",
    "                    u'fighter_abs_head_strikes_landed_avg',\n",
    "                    u'fighter_abs_head_strikes_attempts_avg',\n",
    "                    u'fighter_abs_body_strikes_landed_avg',\n",
    "                    u'fighter_abs_body_strikes_attempts_avg',\n",
    "                    u'fighter_abs_leg_strikes_landed_avg',\n",
    "                    u'fighter_abs_leg_strikes_attempts_avg',\n",
    "                    u'fighter_abs_distance_strikes_landed_avg',\n",
    "                    u'fighter_abs_distance_strikes_attempts_avg',\n",
    "                    u'fighter_abs_clinch_strikes_landed_avg',\n",
    "                    u'fighter_abs_clinch_strikes_attempts_avg',\n",
    "                    u'fighter_abs_ground_strikes_landed_avg',\n",
    "                    u'fighter_abs_ground_strikes_attempts_avg',\n",
    "                    \n",
    "                    u'opponent_inf_knockdowns_avg',\n",
    "                    u'opponent_inf_pass_avg',\n",
    "                    u'opponent_inf_reversals_avg',\n",
    "                    u'opponent_inf_sub_attempts_avg',\n",
    "                    u'opponent_inf_takedowns_landed_avg',\n",
    "                    u'opponent_inf_takedowns_attempts_avg',\n",
    "                    u'opponent_inf_sig_strikes_landed_avg',\n",
    "                    u'opponent_inf_sig_strikes_attempts_avg',\n",
    "                    u'opponent_inf_total_strikes_landed_avg',\n",
    "                    u'opponent_inf_total_strikes_attempts_avg',\n",
    "                    u'opponent_inf_head_strikes_landed_avg',\n",
    "                    u'opponent_inf_head_strikes_attempts_avg',\n",
    "                    u'opponent_inf_body_strikes_landed_avg',\n",
    "                    u'opponent_inf_body_strikes_attempts_avg',\n",
    "                    u'opponent_inf_leg_strikes_landed_avg',\n",
    "                    u'opponent_inf_leg_strikes_attempts_avg',\n",
    "                    u'opponent_inf_distance_strikes_landed_avg',\n",
    "                    u'opponent_inf_distance_strikes_attempts_avg',\n",
    "                    u'opponent_inf_clinch_strikes_landed_avg',\n",
    "                    u'opponent_inf_clinch_strikes_attempts_avg',\n",
    "                    u'opponent_inf_ground_strikes_landed_avg',\n",
    "                    u'opponent_inf_ground_strikes_attempts_avg',\n",
    "                \n",
    "                    u'opponent_abs_knockdowns_avg',\n",
    "                    u'opponent_abs_pass_avg',\n",
    "                    u'opponent_abs_reversals_avg',\n",
    "                    u'opponent_abs_sub_attempts_avg',\n",
    "                    u'opponent_abs_takedowns_landed_avg',\n",
    "                    u'opponent_abs_takedowns_attempts_avg',\n",
    "                    u'opponent_abs_sig_strikes_landed_avg',\n",
    "                    u'opponent_abs_sig_strikes_attempts_avg',\n",
    "                    u'opponent_abs_total_strikes_landed_avg',\n",
    "                    u'opponent_abs_total_strikes_attempts_avg',\n",
    "                    u'opponent_abs_head_strikes_landed_avg',\n",
    "                    u'opponent_abs_head_strikes_attempts_avg',\n",
    "                    u'opponent_abs_body_strikes_landed_avg',\n",
    "                    u'opponent_abs_body_strikes_attempts_avg',\n",
    "                    u'opponent_abs_leg_strikes_landed_avg',\n",
    "                    u'opponent_abs_leg_strikes_attempts_avg',\n",
    "                    u'opponent_abs_distance_strikes_landed_avg',\n",
    "                    u'opponent_abs_distance_strikes_attempts_avg',\n",
    "                    u'opponent_abs_clinch_strikes_landed_avg',\n",
    "                    u'opponent_abs_clinch_strikes_attempts_avg',\n",
    "                    u'opponent_abs_ground_strikes_landed_avg',\n",
    "                    u'opponent_abs_ground_strikes_attempts_avg']\n",
    "\n",
    "#here is the version of punch stats geared for comparing fighter_inf to opponent_abs\n",
    "punch_statistics_alt=[    u'fighter_inf_knockdowns_avg',\n",
    "                    u'fighter_inf_pass_avg',\n",
    "                    u'fighter_inf_reversals_avg',\n",
    "                    u'fighter_inf_sub_attempts_avg',\n",
    "                    u'fighter_inf_takedowns_landed_avg',\n",
    "                    u'fighter_inf_takedowns_attempts_avg',\n",
    "                    u'fighter_inf_sig_strikes_landed_avg',\n",
    "                    u'fighter_inf_sig_strikes_attempts_avg',\n",
    "                    u'fighter_inf_total_strikes_landed_avg',\n",
    "                    u'fighter_inf_total_strikes_attempts_avg',\n",
    "                    u'fighter_inf_head_strikes_landed_avg',\n",
    "                    u'fighter_inf_head_strikes_attempts_avg',\n",
    "                    u'fighter_inf_body_strikes_landed_avg',\n",
    "                    u'fighter_inf_body_strikes_attempts_avg',\n",
    "                    u'fighter_inf_leg_strikes_landed_avg',\n",
    "                    u'fighter_inf_leg_strikes_attempts_avg',\n",
    "                    u'fighter_inf_distance_strikes_landed_avg',\n",
    "                    u'fighter_inf_distance_strikes_attempts_avg',\n",
    "                    u'fighter_inf_clinch_strikes_landed_avg',\n",
    "                    u'fighter_inf_clinch_strikes_attempts_avg',\n",
    "                    u'fighter_inf_ground_strikes_landed_avg',\n",
    "                    u'fighter_inf_ground_strikes_attempts_avg',\n",
    "                \n",
    "                    u'fighter_abs_knockdowns_avg',\n",
    "                    u'fighter_abs_pass_avg',\n",
    "                    u'fighter_abs_reversals_avg',\n",
    "                    u'fighter_abs_sub_attempts_avg',\n",
    "                    u'fighter_abs_takedowns_landed_avg',\n",
    "                    u'fighter_abs_takedowns_attempts_avg',\n",
    "                    u'fighter_abs_sig_strikes_landed_avg',\n",
    "                    u'fighter_abs_sig_strikes_attempts_avg',\n",
    "                    u'fighter_abs_total_strikes_landed_avg',\n",
    "                    u'fighter_abs_total_strikes_attempts_avg',\n",
    "                    u'fighter_abs_head_strikes_landed_avg',\n",
    "                    u'fighter_abs_head_strikes_attempts_avg',\n",
    "                    u'fighter_abs_body_strikes_landed_avg',\n",
    "                    u'fighter_abs_body_strikes_attempts_avg',\n",
    "                    u'fighter_abs_leg_strikes_landed_avg',\n",
    "                    u'fighter_abs_leg_strikes_attempts_avg',\n",
    "                    u'fighter_abs_distance_strikes_landed_avg',\n",
    "                    u'fighter_abs_distance_strikes_attempts_avg',\n",
    "                    u'fighter_abs_clinch_strikes_landed_avg',\n",
    "                    u'fighter_abs_clinch_strikes_attempts_avg',\n",
    "                    u'fighter_abs_ground_strikes_landed_avg',\n",
    "                    u'fighter_abs_ground_strikes_attempts_avg',\n",
    "                \n",
    "                    u'opponent_abs_knockdowns_avg',\n",
    "                    u'opponent_abs_pass_avg',\n",
    "                    u'opponent_abs_reversals_avg',\n",
    "                    u'opponent_abs_sub_attempts_avg',\n",
    "                    u'opponent_abs_takedowns_landed_avg',\n",
    "                    u'opponent_abs_takedowns_attempts_avg',\n",
    "                    u'opponent_abs_sig_strikes_landed_avg',\n",
    "                    u'opponent_abs_sig_strikes_attempts_avg',\n",
    "                    u'opponent_abs_total_strikes_landed_avg',\n",
    "                    u'opponent_abs_total_strikes_attempts_avg',\n",
    "                    u'opponent_abs_head_strikes_landed_avg',\n",
    "                    u'opponent_abs_head_strikes_attempts_avg',\n",
    "                    u'opponent_abs_body_strikes_landed_avg',\n",
    "                    u'opponent_abs_body_strikes_attempts_avg',\n",
    "                    u'opponent_abs_leg_strikes_landed_avg',\n",
    "                    u'opponent_abs_leg_strikes_attempts_avg',\n",
    "                    u'opponent_abs_distance_strikes_landed_avg',\n",
    "                    u'opponent_abs_distance_strikes_attempts_avg',\n",
    "                    u'opponent_abs_clinch_strikes_landed_avg',\n",
    "                    u'opponent_abs_clinch_strikes_attempts_avg',\n",
    "                    u'opponent_abs_ground_strikes_landed_avg',\n",
    "                    u'opponent_abs_ground_strikes_attempts_avg',\n",
    "                     \n",
    "                     u'opponent_inf_knockdowns_avg',\n",
    "                    u'opponent_inf_pass_avg',\n",
    "                    u'opponent_inf_reversals_avg',\n",
    "                    u'opponent_inf_sub_attempts_avg',\n",
    "                    u'opponent_inf_takedowns_landed_avg',\n",
    "                    u'opponent_inf_takedowns_attempts_avg',\n",
    "                    u'opponent_inf_sig_strikes_landed_avg',\n",
    "                    u'opponent_inf_sig_strikes_attempts_avg',\n",
    "                    u'opponent_inf_total_strikes_landed_avg',\n",
    "                    u'opponent_inf_total_strikes_attempts_avg',\n",
    "                    u'opponent_inf_head_strikes_landed_avg',\n",
    "                    u'opponent_inf_head_strikes_attempts_avg',\n",
    "                    u'opponent_inf_body_strikes_landed_avg',\n",
    "                    u'opponent_inf_body_strikes_attempts_avg',\n",
    "                    u'opponent_inf_leg_strikes_landed_avg',\n",
    "                    u'opponent_inf_leg_strikes_attempts_avg',\n",
    "                    u'opponent_inf_distance_strikes_landed_avg',\n",
    "                    u'opponent_inf_distance_strikes_attempts_avg',\n",
    "                    u'opponent_inf_clinch_strikes_landed_avg',\n",
    "                    u'opponent_inf_clinch_strikes_attempts_avg',\n",
    "                    u'opponent_inf_ground_strikes_landed_avg',\n",
    "                    u'opponent_inf_ground_strikes_attempts_avg']\n",
    "\n",
    "#adding record differences to ufc_fights\n",
    "record_statistics_diff = []\n",
    "half_length=int(len(record_statistics)/2)\n",
    "for i in range(half_length):\n",
    "    ufc_fights_winner[record_statistics[i]+'_diff_2']=ufc_fights_winner[record_statistics[i]]-ufc_fights_winner[record_statistics[i+half_length]]\n",
    "    ufc_fights_method[record_statistics[i]+'_diff_2']=ufc_fights_method[record_statistics[i]]-ufc_fights_method[record_statistics[i+half_length]]\n",
    "    record_statistics_diff.append(record_statistics[i]+'_diff_2')\n",
    "    \n",
    "#lets try and improve the greedy algorithm by considering differences. Lets start by replacing height and reach by their differences\n",
    "ufc_fights_winner['height_diff']=ufc_fights_winner['fighter_height'].apply(float)-ufc_fights_winner['opponent_height'].apply(float)\n",
    "ufc_fights_winner['reach_diff']=ufc_fights_winner['fighter_reach'].apply(float)-ufc_fights_winner['opponent_reach'].apply(float)\n",
    "ufc_fights_method['height_diff']=ufc_fights_method['fighter_height'].apply(float)-ufc_fights_method['opponent_height'].apply(float)\n",
    "ufc_fights_method['reach_diff']=ufc_fights_method['fighter_reach'].apply(float)-ufc_fights_method['opponent_reach'].apply(float)\n",
    "\n",
    "\n",
    "physical_stats_diff = [ 'fighter_age','opponent_age', 'height_diff', 'reach_diff']\n",
    "\n",
    "#adding punch differences to ufc_fights\n",
    "punch_statistics_diff = []\n",
    "half_length=int(len(punch_statistics)/2)\n",
    "for i in range(half_length):\n",
    "    ufc_fights_method[punch_statistics[i]+'_diff_2']=ufc_fights_method[punch_statistics[i]]-ufc_fights_method[punch_statistics[i+half_length]]\n",
    "    ufc_fights_winner[punch_statistics[i]+'_diff_2']=ufc_fights_winner[punch_statistics[i]]-ufc_fights_winner[punch_statistics[i+half_length]]\n",
    "    punch_statistics_diff.append(punch_statistics[i]+'_diff_2')\n",
    "    \n",
    "possible_stats =record_statistics_diff+physical_stats_diff+punch_statistics_diff\n",
    "\n"
   ]
  },
  {
   "cell_type": "code",
   "execution_count": 10,
   "id": "e625f05f",
   "metadata": {},
   "outputs": [
    {
     "data": {
      "text/plain": [
       "array(['DEC', 'KO/TKO', 'SUB'], dtype=object)"
      ]
     },
     "execution_count": 10,
     "metadata": {},
     "output_type": "execute_result"
    }
   ],
   "source": [
    "ufc_fights_method['method'].unique()"
   ]
  },
  {
   "cell_type": "code",
   "execution_count": 11,
   "id": "d8bcafe4",
   "metadata": {},
   "outputs": [
    {
     "data": {
      "text/plain": [
       "array(['DEC', 'KO/TKO', 'SUB'], dtype=object)"
      ]
     },
     "execution_count": 11,
     "metadata": {},
     "output_type": "execute_result"
    }
   ],
   "source": [
    "ufc_fights_winner['method'].unique()"
   ]
  },
  {
   "cell_type": "code",
   "execution_count": 12,
   "id": "b495d916",
   "metadata": {},
   "outputs": [
    {
     "data": {
      "text/plain": [
       "0.6372727272727273"
      ]
     },
     "execution_count": 12,
     "metadata": {},
     "output_type": "execute_result"
    }
   ],
   "source": [
    "#this is currently the hightest scoring subset of stats to choose. It scores around .637.\n",
    "#actually, after I changed method mask to coincide with the method prediction notebook, it dropped a whole percentage\n",
    "#to .626... Why would this be?\n",
    "#FIGURED IT OUT. Including split decisions in the example set drops predictions by a whole percentage. I changed the\n",
    "#clean_method function to count split decisions as 'bullshit'\n",
    "#This is the score to beat.\n",
    "\n",
    "best_smallest_set=list(set(['fighter_age', \n",
    "                            'opponent_age', \n",
    "                            'reach_diff',\n",
    "                            'fighter_L5Y_ko_losses_diff_2', \n",
    "                            'fighter_L5Y_wins_diff_2',\n",
    "                            'fighter_L5Y_losses_diff_2', \n",
    "                            'fighter_abs_total_strikes_landed_avg_diff_2', \n",
    "                            'fighter_inf_takedowns_attempts_avg_diff_2', \n",
    "                            'fighter_abs_ground_strikes_landed_avg_diff_2'\n",
    "]))\n",
    "\n",
    "ufc_fights_df = ufc_fights_winner[['fighter_age', \n",
    "                            'opponent_age', \n",
    "                            'reach_diff',\n",
    "                            'fighter_L5Y_ko_losses_diff_2', \n",
    "                            'fighter_L5Y_wins_diff_2',\n",
    "                            'fighter_L5Y_losses_diff_2', \n",
    "                            'fighter_abs_total_strikes_landed_avg_diff_2', \n",
    "                            'fighter_inf_takedowns_attempts_avg_diff_2', \n",
    "                            'fighter_abs_ground_strikes_landed_avg_diff_2',]]\n",
    "\n",
    "winPredictionModel=LogisticRegression(solver='lbfgs', max_iter=2000)\n",
    "X=ufc_fights_df.iloc[0:40*55].to_numpy()\n",
    "y=ufc_fights_winner['result'].iloc[0:40*55]\n",
    "winPredictionModel.fit(X,y)\n",
    "winPredictionModel.score(X,y)"
   ]
  },
  {
   "cell_type": "code",
   "execution_count": 13,
   "id": "d4599d54",
   "metadata": {},
   "outputs": [
    {
     "name": "stdout",
     "output_type": "stream",
     "text": [
      "Accuracy: 0.5230476475774525 F1 score: 0.21273919839560484\n"
     ]
    }
   ],
   "source": [
    "#random forest does way better for picking the method!\n",
    "best_stats=['fighter_ko_losses_diff_2', 'fighter_L2Y_sub_losses_diff_2']\n",
    "rfc=RandomForestClassifier()\n",
    "Xr=ufc_fights_method[best_stats].iloc[0:2300]\n",
    "yr=ufc_fights_method['method'].iloc[0:2300]\n",
    "\n",
    "rfc.fit(Xr,yr)\n",
    "accuracy = cross_val_score(rfc,Xr,yr,cv=3).mean()\n",
    "precision = cross_val_score(rfc,Xr,yr,cv=3, scoring='precision_micro').mean()\n",
    "recall = cross_val_score(rfc, Xr, yr, cv=3, scoring='recall_macro').mean()\n",
    "print('Accuracy: '+str(accuracy),'F1 score: '+str(precision*recall/(precision+recall)))"
   ]
  },
  {
   "cell_type": "code",
   "execution_count": 14,
   "id": "777a2b88",
   "metadata": {},
   "outputs": [],
   "source": [
    "#I've defined this in such a way to predict what happens when fighter1 in their day1 version fights fighter2\n",
    "#in their day2 version. Meaning we could compare for example 2014 Tyron Woodley to 2019 Colby Covington\n",
    "def ufc_prediction_tuple(fighter1,fighter2,day1=date.today(),day2=date.today()):\n",
    "    return [fighter_age(fighter1,day1),\n",
    "            fighter_age(fighter2,day2),\n",
    "            fighter_reach(fighter1)-fighter_reach(fighter2),\n",
    "            L5Y_ko_losses(fighter1,day1)-L5Y_ko_losses(fighter2,day2),\n",
    "            L5Y_wins(fighter1,day1)-L5Y_wins(fighter2,day2),\n",
    "            L5Y_losses(fighter1,day1)-L5Y_losses(fighter2,day2),\n",
    "            avg_count('total_strikes_landed',fighter1,'abs',day1)-avg_count('total_strikes_landed',fighter2,'abs',day2),\n",
    "            avg_count('takedowns_attempts',fighter1,'inf',day1)-avg_count('takedowns_attempts',fighter2,'inf',day2),\n",
    "            avg_count('ground_strikes_landed',fighter1,'abs',day1)-avg_count('ground_strikes_landed',fighter2,'abs',day2)\n",
    "        ]\n",
    "\n",
    "def ufc_method_prediction_tuple(fighter1,fighter2,day1=date.today(),day2=date.today()):\n",
    "    return [ko_losses(fighter1,day1)-ko_losses(fighter2,day2),\n",
    "            sub_losses(fighter1,day1)-sub_losses(fighter2,day2)]\n",
    "\n",
    "winPredictionModel=LogisticRegression(solver='lbfgs', max_iter=2000)\n",
    "X=ufc_fights_df.iloc[0:40*55].to_numpy()\n",
    "y=ufc_fights['result'].iloc[0:40*55]\n",
    "winPredictionModel.fit(X,y)\n",
    "\n",
    "best_stats=['fighter_ko_losses_diff_2', 'fighter_sub_losses_diff_2']\n",
    "rfc=RandomForestClassifier()\n",
    "Xr=ufc_fights_method[best_stats].iloc[0:2300].to_numpy()\n",
    "yr=ufc_fights_method['method'].iloc[0:2300]\n",
    "rfc.fit(Xr,yr)\n",
    "\n",
    "#date entered in the form 'Aug 20, 2013'\n",
    "#predicts what happens if the day1 version of fighter1 fights fighter2 at their day2 version\n",
    "#by default day1 and day2 are set to today if left unspecified\n",
    "def ufc_predict(fighter1,fighter2,day1=date.today(), day2=date.today()):\n",
    "    fighters=[fighter1,fighter2]\n",
    "    random_guy=fighters[random.choice([0,1])]\n",
    "    fighter1_fights=(ufcfightscrap['fighter']==fighter1).sum()\n",
    "    fighter2_fights=(ufcfightscrap['fighter']==fighter2).sum()\n",
    "    if fighter1_fights==0 and not fighter2_fights==0:\n",
    "        print('This is '+fighter1+\"'s UFC debut... so obviously I do not have enough data to make an educated pick. But since you are DEMANDING an outcome, hmmm... I guess I'll go with \"+random_guy+'.')\n",
    "    elif fighter2_fights==0 and not fighter1_fights==0:\n",
    "        print('This is '+fighter2+\"'s UFC debut... so obviously I do not have enough data to make an educated pick. But since you are DEMANDING an outcome, hmmm... I guess I'll go with \"+random_guy+'.') \n",
    "    elif fighter1_fights==0 and fighter2_fights==0:\n",
    "        print('This is both '+fighter1+\"'s \"+'and '+fighter2+\"'s \"+\"UFC debuts... so obviously I do not have enough data to make an educated pick. But since you are DEMANDING an outcome, hmmm... I guess I'll go with \"+random_guy+'.')\n",
    "    else:\n",
    "        ufc_tuple=ufc_prediction_tuple(fighter1,fighter2,day1,day2)\n",
    "        ufc_method_tuple=ufc_method_prediction_tuple(fighter1,fighter2,day1,day2)\n",
    "        if 'unknown' in ufc_tuple or 'NaN' in ufc_tuple:\n",
    "            print('Fighters have incomplete data on record, I honestly do not know what to do with this.')\n",
    "        else:\n",
    "            value=winPredictionModel.predict([ufc_tuple])[0]\n",
    "            result=rfc.predict([ufc_method_tuple])[0]\n",
    "            if value=='W':\n",
    "                print(fighter1+' by '+result)\n",
    "            else:\n",
    "                print(fighter2+' by '+result)\n",
    "                \n",
    "                "
   ]
  },
  {
   "cell_type": "code",
   "execution_count": 15,
   "id": "1a5973e1",
   "metadata": {},
   "outputs": [
    {
     "name": "stdout",
     "output_type": "stream",
     "text": [
      "Colby Covington by DEC\n"
     ]
    }
   ],
   "source": [
    "ufc_predict('Colby Covington','Jorge Masvidal', 'March 5, 2022', 'March 5, 2022')"
   ]
  },
  {
   "cell_type": "code",
   "execution_count": 14,
   "id": "18de37f0",
   "metadata": {},
   "outputs": [
    {
     "name": "stdout",
     "output_type": "stream",
     "text": [
      "Rafael Dos Anjos by DEC\n"
     ]
    }
   ],
   "source": [
    "ufc_predict('Rafael Dos Anjos','Renato Moicano', 'March 5, 2022', 'March 5, 2022',)"
   ]
  },
  {
   "cell_type": "code",
   "execution_count": 15,
   "id": "1f271974",
   "metadata": {},
   "outputs": [
    {
     "name": "stdout",
     "output_type": "stream",
     "text": [
      "Edson Barboza by KO/TKO\n"
     ]
    }
   ],
   "source": [
    "ufc_predict('Edson Barboza','Bryce Mitchell', 'March 5, 2022', 'March 5, 2022',)"
   ]
  },
  {
   "cell_type": "code",
   "execution_count": 16,
   "id": "a686f47b",
   "metadata": {},
   "outputs": [
    {
     "name": "stdout",
     "output_type": "stream",
     "text": [
      "Alex Oliveira by SUB\n"
     ]
    }
   ],
   "source": [
    "ufc_predict('Kevin Holland','Alex Oliveira', 'March 5, 2022', 'March 5, 2022',)"
   ]
  },
  {
   "cell_type": "code",
   "execution_count": 17,
   "id": "42aac1e2",
   "metadata": {},
   "outputs": [
    {
     "name": "stdout",
     "output_type": "stream",
     "text": [
      "This is Sergey Spivak's UFC debut... so obviously I do not have enough data to make an educated pick. But since you are DEMANDING an outcome, hmmm... I guess I'll go with Sergey Spivak.\n"
     ]
    }
   ],
   "source": [
    "#there must be an issue with the say Spivak's name is scraped. look into this... fix needed\n",
    "ufc_predict('Sergey Spivak','Greg Hardy', 'March 5, 2022', 'March 5, 2022',)"
   ]
  },
  {
   "cell_type": "code",
   "execution_count": 18,
   "id": "b33645f9",
   "metadata": {},
   "outputs": [
    {
     "name": "stdout",
     "output_type": "stream",
     "text": [
      "Jamie Mullarkey by DEC\n"
     ]
    }
   ],
   "source": [
    "ufc_predict('Jalin Turner','Jamie Mullarkey', 'March 5, 2022', 'March 5, 2022',)"
   ]
  },
  {
   "cell_type": "code",
   "execution_count": 19,
   "id": "3757e7ff",
   "metadata": {},
   "outputs": [
    {
     "data": {
      "text/plain": [
       "'unknown'"
      ]
     },
     "execution_count": 19,
     "metadata": {},
     "output_type": "execute_result"
    }
   ],
   "source": [
    "fighter_height('Yan Xiaonan')"
   ]
  },
  {
   "cell_type": "code",
   "execution_count": 20,
   "id": "1985fd9a",
   "metadata": {},
   "outputs": [
    {
     "ename": "TypeError",
     "evalue": "unsupported operand type(s) for -: 'float' and 'str'",
     "output_type": "error",
     "traceback": [
      "\u001b[0;31m---------------------------------------------------------------------------\u001b[0m",
      "\u001b[0;31mTypeError\u001b[0m                                 Traceback (most recent call last)",
      "Input \u001b[0;32mIn [20]\u001b[0m, in \u001b[0;36m<module>\u001b[0;34m\u001b[0m\n\u001b[1;32m      1\u001b[0m \u001b[38;5;66;03m#issue with unknown reach/height... fix needed\u001b[39;00m\n\u001b[0;32m----> 2\u001b[0m \u001b[43mufc_predict\u001b[49m\u001b[43m(\u001b[49m\u001b[38;5;124;43m'\u001b[39;49m\u001b[38;5;124;43mMarina Rodriguez\u001b[39;49m\u001b[38;5;124;43m'\u001b[39;49m\u001b[43m,\u001b[49m\u001b[38;5;124;43m'\u001b[39;49m\u001b[38;5;124;43mYan Xiaonan\u001b[39;49m\u001b[38;5;124;43m'\u001b[39;49m\u001b[43m,\u001b[49m\u001b[43m \u001b[49m\u001b[38;5;124;43m'\u001b[39;49m\u001b[38;5;124;43mMarch 5, 2022\u001b[39;49m\u001b[38;5;124;43m'\u001b[39;49m\u001b[43m,\u001b[49m\u001b[43m \u001b[49m\u001b[38;5;124;43m'\u001b[39;49m\u001b[38;5;124;43mMarch 5, 2022\u001b[39;49m\u001b[38;5;124;43m'\u001b[39;49m\u001b[43m,\u001b[49m\u001b[43m)\u001b[49m\n",
      "Input \u001b[0;32mIn [12]\u001b[0m, in \u001b[0;36mufc_predict\u001b[0;34m(fighter1, fighter2, day1, day2)\u001b[0m\n\u001b[1;32m     43\u001b[0m     \u001b[38;5;28mprint\u001b[39m(\u001b[38;5;124m'\u001b[39m\u001b[38;5;124mThis is both \u001b[39m\u001b[38;5;124m'\u001b[39m\u001b[38;5;241m+\u001b[39mfighter1\u001b[38;5;241m+\u001b[39m\u001b[38;5;124m\"\u001b[39m\u001b[38;5;124m'\u001b[39m\u001b[38;5;124ms \u001b[39m\u001b[38;5;124m\"\u001b[39m\u001b[38;5;241m+\u001b[39m\u001b[38;5;124m'\u001b[39m\u001b[38;5;124mand \u001b[39m\u001b[38;5;124m'\u001b[39m\u001b[38;5;241m+\u001b[39mfighter2\u001b[38;5;241m+\u001b[39m\u001b[38;5;124m\"\u001b[39m\u001b[38;5;124m'\u001b[39m\u001b[38;5;124ms \u001b[39m\u001b[38;5;124m\"\u001b[39m\u001b[38;5;241m+\u001b[39m\u001b[38;5;124m\"\u001b[39m\u001b[38;5;124mUFC debuts... so obviously I do not have enough data to make an educated pick. But since you are DEMANDING an outcome, hmmm... I guess I\u001b[39m\u001b[38;5;124m'\u001b[39m\u001b[38;5;124mll go with \u001b[39m\u001b[38;5;124m\"\u001b[39m\u001b[38;5;241m+\u001b[39mrandom_guy\u001b[38;5;241m+\u001b[39m\u001b[38;5;124m'\u001b[39m\u001b[38;5;124m.\u001b[39m\u001b[38;5;124m'\u001b[39m)\n\u001b[1;32m     44\u001b[0m \u001b[38;5;28;01melse\u001b[39;00m:\n\u001b[0;32m---> 45\u001b[0m     ufc_tuple\u001b[38;5;241m=\u001b[39m\u001b[43mufc_prediction_tuple\u001b[49m\u001b[43m(\u001b[49m\u001b[43mfighter1\u001b[49m\u001b[43m,\u001b[49m\u001b[43mfighter2\u001b[49m\u001b[43m,\u001b[49m\u001b[43mday1\u001b[49m\u001b[43m,\u001b[49m\u001b[43mday2\u001b[49m\u001b[43m)\u001b[49m\n\u001b[1;32m     46\u001b[0m     ufc_method_tuple\u001b[38;5;241m=\u001b[39mufc_method_prediction_tuple(fighter1,fighter2,day1,day2)\n\u001b[1;32m     47\u001b[0m     \u001b[38;5;28;01mif\u001b[39;00m \u001b[38;5;124m'\u001b[39m\u001b[38;5;124munknown\u001b[39m\u001b[38;5;124m'\u001b[39m \u001b[38;5;129;01min\u001b[39;00m ufc_tuple \u001b[38;5;129;01mor\u001b[39;00m \u001b[38;5;124m'\u001b[39m\u001b[38;5;124mNaN\u001b[39m\u001b[38;5;124m'\u001b[39m \u001b[38;5;129;01min\u001b[39;00m ufc_tuple:\n",
      "Input \u001b[0;32mIn [12]\u001b[0m, in \u001b[0;36mufc_prediction_tuple\u001b[0;34m(fighter1, fighter2, day1, day2)\u001b[0m\n\u001b[1;32m      3\u001b[0m \u001b[38;5;28;01mdef\u001b[39;00m \u001b[38;5;21mufc_prediction_tuple\u001b[39m(fighter1,fighter2,day1\u001b[38;5;241m=\u001b[39mdate\u001b[38;5;241m.\u001b[39mtoday(),day2\u001b[38;5;241m=\u001b[39mdate\u001b[38;5;241m.\u001b[39mtoday()):\n\u001b[1;32m      4\u001b[0m     \u001b[38;5;28;01mreturn\u001b[39;00m [fighter_age(fighter1,day1),\n\u001b[1;32m      5\u001b[0m             fighter_age(fighter2,day2),\n\u001b[0;32m----> 6\u001b[0m             \u001b[43mfighter_reach\u001b[49m\u001b[43m(\u001b[49m\u001b[43mfighter1\u001b[49m\u001b[43m)\u001b[49m\u001b[38;5;241;43m-\u001b[39;49m\u001b[43mfighter_reach\u001b[49m\u001b[43m(\u001b[49m\u001b[43mfighter2\u001b[49m\u001b[43m)\u001b[49m,\n\u001b[1;32m      7\u001b[0m             L5Y_ko_losses(fighter1,day1)\u001b[38;5;241m-\u001b[39mL5Y_ko_losses(fighter2,day2),\n\u001b[1;32m      8\u001b[0m             L5Y_wins(fighter1,day1)\u001b[38;5;241m-\u001b[39mL5Y_wins(fighter2,day2),\n\u001b[1;32m      9\u001b[0m             L5Y_losses(fighter1,day1)\u001b[38;5;241m-\u001b[39mL5Y_losses(fighter2,day2),\n\u001b[1;32m     10\u001b[0m             avg_count(\u001b[38;5;124m'\u001b[39m\u001b[38;5;124mtotal_strikes_landed\u001b[39m\u001b[38;5;124m'\u001b[39m,fighter1,\u001b[38;5;124m'\u001b[39m\u001b[38;5;124mabs\u001b[39m\u001b[38;5;124m'\u001b[39m,day1)\u001b[38;5;241m-\u001b[39mavg_count(\u001b[38;5;124m'\u001b[39m\u001b[38;5;124mtotal_strikes_landed\u001b[39m\u001b[38;5;124m'\u001b[39m,fighter2,\u001b[38;5;124m'\u001b[39m\u001b[38;5;124mabs\u001b[39m\u001b[38;5;124m'\u001b[39m,day2),\n\u001b[1;32m     11\u001b[0m             avg_count(\u001b[38;5;124m'\u001b[39m\u001b[38;5;124mtakedowns_attempts\u001b[39m\u001b[38;5;124m'\u001b[39m,fighter1,\u001b[38;5;124m'\u001b[39m\u001b[38;5;124minf\u001b[39m\u001b[38;5;124m'\u001b[39m,day1)\u001b[38;5;241m-\u001b[39mavg_count(\u001b[38;5;124m'\u001b[39m\u001b[38;5;124mtakedowns_attempts\u001b[39m\u001b[38;5;124m'\u001b[39m,fighter2,\u001b[38;5;124m'\u001b[39m\u001b[38;5;124minf\u001b[39m\u001b[38;5;124m'\u001b[39m,day2),\n\u001b[1;32m     12\u001b[0m             avg_count(\u001b[38;5;124m'\u001b[39m\u001b[38;5;124mground_strikes_landed\u001b[39m\u001b[38;5;124m'\u001b[39m,fighter1,\u001b[38;5;124m'\u001b[39m\u001b[38;5;124mabs\u001b[39m\u001b[38;5;124m'\u001b[39m,day1)\u001b[38;5;241m-\u001b[39mavg_count(\u001b[38;5;124m'\u001b[39m\u001b[38;5;124mground_strikes_landed\u001b[39m\u001b[38;5;124m'\u001b[39m,fighter2,\u001b[38;5;124m'\u001b[39m\u001b[38;5;124mabs\u001b[39m\u001b[38;5;124m'\u001b[39m,day2)\n\u001b[1;32m     13\u001b[0m         ]\n",
      "\u001b[0;31mTypeError\u001b[0m: unsupported operand type(s) for -: 'float' and 'str'"
     ]
    }
   ],
   "source": [
    "#issue with unknown reach/height... fix needed\n",
    "ufc_predict('Marina Rodriguez','Yan Xiaonan', 'March 5, 2022', 'March 5, 2022',)"
   ]
  },
  {
   "cell_type": "code",
   "execution_count": 21,
   "id": "9f179007",
   "metadata": {},
   "outputs": [
    {
     "name": "stdout",
     "output_type": "stream",
     "text": [
      "Nicolae Negumereanu by DEC\n"
     ]
    }
   ],
   "source": [
    "ufc_predict('Nicolae Negumereanu','Kennedy Nzechukwu', 'March 5, 2022', 'March 5, 2022',)"
   ]
  },
  {
   "cell_type": "code",
   "execution_count": 22,
   "id": "e92332c1",
   "metadata": {},
   "outputs": [
    {
     "name": "stdout",
     "output_type": "stream",
     "text": [
      "Mariya Agapova by DEC\n"
     ]
    }
   ],
   "source": [
    "ufc_predict('Maryna Moroz','Mariya Agapova', 'March 5, 2022', 'March 5, 2022',)"
   ]
  },
  {
   "cell_type": "code",
   "execution_count": 23,
   "id": "0e93bbde",
   "metadata": {},
   "outputs": [
    {
     "name": "stdout",
     "output_type": "stream",
     "text": [
      "Umar Nurmagomedov by DEC\n"
     ]
    }
   ],
   "source": [
    "ufc_predict('Umar Nurmagomedov','Brian Kelleher', 'March 5, 2022', 'March 5, 2022',)"
   ]
  },
  {
   "cell_type": "code",
   "execution_count": 24,
   "id": "9af459dc",
   "metadata": {},
   "outputs": [
    {
     "name": "stdout",
     "output_type": "stream",
     "text": [
      "Tim Elliott by DEC\n"
     ]
    }
   ],
   "source": [
    "ufc_predict('Tim Elliott','Tagir Ulanbekov', 'March 5, 2022', 'March 5, 2022',)"
   ]
  },
  {
   "cell_type": "code",
   "execution_count": 25,
   "id": "c7818e37",
   "metadata": {},
   "outputs": [
    {
     "name": "stdout",
     "output_type": "stream",
     "text": [
      "This is Michał Oleksiejczuk's UFC debut... so obviously I do not have enough data to make an educated pick. But since you are DEMANDING an outcome, hmmm... I guess I'll go with Michał Oleksiejczuk.\n"
     ]
    }
   ],
   "source": [
    "#Must be an issue with michal's name in scraping\n",
    "ufc_predict('Dustin Jacoby','Michał Oleksiejczuk', 'March 5, 2022', 'March 5, 2022',)"
   ]
  },
  {
   "cell_type": "code",
   "execution_count": null,
   "id": "3d2d3722",
   "metadata": {},
   "outputs": [],
   "source": []
  },
  {
   "cell_type": "code",
   "execution_count": 26,
   "id": "4d585493",
   "metadata": {},
   "outputs": [
    {
     "name": "stdout",
     "output_type": "stream",
     "text": [
      "Thiago Santos by KO/TKO\n"
     ]
    }
   ],
   "source": [
    "ufc_predict('Thiago Santos','Magomed Ankalaev', 'March 12, 2022', 'March 12, 2022',)"
   ]
  },
  {
   "cell_type": "code",
   "execution_count": 27,
   "id": "fa3648d2",
   "metadata": {},
   "outputs": [
    {
     "name": "stdout",
     "output_type": "stream",
     "text": [
      "Marlon Moraes by KO/TKO\n"
     ]
    }
   ],
   "source": [
    "ufc_predict('Marlon Moraes','Song Yadong', 'March 12, 2022', 'March 12, 2022',)"
   ]
  },
  {
   "cell_type": "code",
   "execution_count": 28,
   "id": "0ea17caa",
   "metadata": {},
   "outputs": [
    {
     "name": "stdout",
     "output_type": "stream",
     "text": [
      "Sodiq Yusuff by DEC\n"
     ]
    }
   ],
   "source": [
    "ufc_predict('Sodiq Yusuff','Alex Caceres', 'March 12, 2022', 'March 12, 2022',)"
   ]
  },
  {
   "cell_type": "code",
   "execution_count": 29,
   "id": "a98b91cc",
   "metadata": {},
   "outputs": [
    {
     "name": "stdout",
     "output_type": "stream",
     "text": [
      "Khalil Rountree Jr. by KO/TKO\n"
     ]
    }
   ],
   "source": [
    "ufc_predict('Khalil Rountree Jr.','Karl Roberson', 'March 12, 2022', 'March 12, 2022',)"
   ]
  },
  {
   "cell_type": "code",
   "execution_count": 30,
   "id": "4a5b7138",
   "metadata": {},
   "outputs": [
    {
     "name": "stdout",
     "output_type": "stream",
     "text": [
      "Drew Dober by DEC\n"
     ]
    }
   ],
   "source": [
    "ufc_predict('Drew Dober','Terrance McKinney', 'March 12, 2022', 'March 12, 2022',)"
   ]
  },
  {
   "cell_type": "code",
   "execution_count": 31,
   "id": "9ba35675",
   "metadata": {},
   "outputs": [
    {
     "name": "stdout",
     "output_type": "stream",
     "text": [
      "Bruno Silva by DEC\n"
     ]
    }
   ],
   "source": [
    "ufc_predict('Alex Pereira','Bruno Silva', 'March 12, 2022', 'March 12, 2022',)"
   ]
  },
  {
   "cell_type": "code",
   "execution_count": 32,
   "id": "725ff2b5",
   "metadata": {},
   "outputs": [
    {
     "name": "stdout",
     "output_type": "stream",
     "text": [
      "This is AJ Fletcher's UFC debut... so obviously I do not have enough data to make an educated pick. But since you are DEMANDING an outcome, hmmm... I guess I'll go with Matthew Semelsberger.\n"
     ]
    }
   ],
   "source": [
    "ufc_predict('Matthew Semelsberger','AJ Fletcher', 'March 12, 2022', 'March 12, 2022',)"
   ]
  },
  {
   "cell_type": "code",
   "execution_count": 33,
   "id": "75d2d8dc",
   "metadata": {},
   "outputs": [
    {
     "name": "stdout",
     "output_type": "stream",
     "text": [
      "Gillian Robertson by DEC\n"
     ]
    }
   ],
   "source": [
    "ufc_predict('JJ Aldrich','Gillian Robertson', 'March 12, 2022', 'March 12, 2022',)"
   ]
  },
  {
   "cell_type": "code",
   "execution_count": 34,
   "id": "33d04670",
   "metadata": {},
   "outputs": [
    {
     "name": "stdout",
     "output_type": "stream",
     "text": [
      "This is Javid Basharat's UFC debut... so obviously I do not have enough data to make an educated pick. But since you are DEMANDING an outcome, hmmm... I guess I'll go with Javid Basharat.\n"
     ]
    }
   ],
   "source": [
    "ufc_predict('Trevin Jones','Javid Basharat', 'March 12, 2022', 'March 12, 2022',)"
   ]
  },
  {
   "cell_type": "code",
   "execution_count": 35,
   "id": "13df70a3",
   "metadata": {},
   "outputs": [
    {
     "name": "stdout",
     "output_type": "stream",
     "text": [
      "Damon Jackson by DEC\n"
     ]
    }
   ],
   "source": [
    "ufc_predict('Damon Jackson','Kamuela Kirk', 'March 12, 2022', 'March 12, 2022',)"
   ]
  },
  {
   "cell_type": "code",
   "execution_count": 36,
   "id": "81956600",
   "metadata": {},
   "outputs": [
    {
     "name": "stdout",
     "output_type": "stream",
     "text": [
      "Miranda Maverick by DEC\n"
     ]
    }
   ],
   "source": [
    "ufc_predict('Sabina Mazo','Miranda Maverick', 'March 12, 2022', 'March 12, 2022',)"
   ]
  },
  {
   "cell_type": "code",
   "execution_count": 37,
   "id": "ac01d259",
   "metadata": {},
   "outputs": [
    {
     "name": "stdout",
     "output_type": "stream",
     "text": [
      "Dalcha Lungiambula by DEC\n"
     ]
    }
   ],
   "source": [
    "ufc_predict('Dalcha Lungiambula','Cody Brundage', 'March 12, 2022', 'March 12, 2022',)"
   ]
  },
  {
   "cell_type": "code",
   "execution_count": 38,
   "id": "22798c8d",
   "metadata": {},
   "outputs": [
    {
     "name": "stdout",
     "output_type": "stream",
     "text": [
      "Kris Moutinho by DEC\n"
     ]
    }
   ],
   "source": [
    "ufc_predict('Kris Moutinho','Guido Cannetti', 'March 12, 2022', 'March 12, 2022',)"
   ]
  },
  {
   "cell_type": "code",
   "execution_count": 39,
   "id": "48208fc0",
   "metadata": {},
   "outputs": [
    {
     "name": "stdout",
     "output_type": "stream",
     "text": [
      "This is Azamat Murzakanov's UFC debut... so obviously I do not have enough data to make an educated pick. But since you are DEMANDING an outcome, hmmm... I guess I'll go with Tafon Nchukwi.\n"
     ]
    }
   ],
   "source": [
    "ufc_predict('Tafon Nchukwi','Azamat Murzakanov', 'March 12, 2022', 'March 12, 2022',)"
   ]
  },
  {
   "cell_type": "code",
   "execution_count": 16,
   "id": "988ef31b",
   "metadata": {},
   "outputs": [
    {
     "name": "stdout",
     "output_type": "stream",
     "text": [
      "Alexander Volkov by DEC\n"
     ]
    }
   ],
   "source": [
    "ufc_predict('Alexander Volkov','Tom Aspinall', 'March 19, 2022', 'March 19, 2022',)"
   ]
  },
  {
   "cell_type": "code",
   "execution_count": 17,
   "id": "1292daa0",
   "metadata": {},
   "outputs": [
    {
     "name": "stdout",
     "output_type": "stream",
     "text": [
      "Dan Hooker by DEC\n"
     ]
    }
   ],
   "source": [
    "ufc_predict('Arnold Allen', 'Dan Hooker', 'March 19, 2022', 'March 19, 2022',)"
   ]
  },
  {
   "cell_type": "code",
   "execution_count": 18,
   "id": "3a0ff092",
   "metadata": {},
   "outputs": [
    {
     "name": "stdout",
     "output_type": "stream",
     "text": [
      "Paddy Pimblett by DEC\n"
     ]
    }
   ],
   "source": [
    "ufc_predict('Paddy Pimblett', 'Kazula Vargas', 'March 19, 2022', 'March 19, 2022',)"
   ]
  },
  {
   "cell_type": "code",
   "execution_count": 19,
   "id": "2d2f8e0f",
   "metadata": {},
   "outputs": [
    {
     "name": "stdout",
     "output_type": "stream",
     "text": [
      "Gunnar Nelson by DEC\n"
     ]
    }
   ],
   "source": [
    "ufc_predict('Gunnar Nelson', 'Takashi Sato', 'March 19, 2022', 'March 19, 2022',)"
   ]
  },
  {
   "cell_type": "code",
   "execution_count": 20,
   "id": "c2b14a04",
   "metadata": {},
   "outputs": [
    {
     "name": "stdout",
     "output_type": "stream",
     "text": [
      "Molly McCann by DEC\n"
     ]
    }
   ],
   "source": [
    "ufc_predict('Molly McCann', 'Luana Carolina', 'March 19, 2022', 'March 19, 2022',)"
   ]
  },
  {
   "cell_type": "code",
   "execution_count": 21,
   "id": "35cf3f6d",
   "metadata": {},
   "outputs": [
    {
     "name": "stdout",
     "output_type": "stream",
     "text": [
      "This is \tIlia Topuria's UFC debut... so obviously I do not have enough data to make an educated pick. But since you are DEMANDING an outcome, hmmm... I guess I'll go with \tIlia Topuria.\n"
     ]
    }
   ],
   "source": [
    "ufc_predict('Molly McCann', '\tIlia Topuria', 'March 19, 2022', 'March 19, 2022',)"
   ]
  },
  {
   "cell_type": "code",
   "execution_count": null,
   "id": "7d5a88d4",
   "metadata": {},
   "outputs": [],
   "source": []
  }
 ],
 "metadata": {
  "kernelspec": {
   "display_name": "Python 3 (ipykernel)",
   "language": "python",
   "name": "python3"
  },
  "language_info": {
   "codemirror_mode": {
    "name": "ipython",
    "version": 3
   },
   "file_extension": ".py",
   "mimetype": "text/x-python",
   "name": "python",
   "nbconvert_exporter": "python",
   "pygments_lexer": "ipython3",
   "version": "3.9.7"
  }
 },
 "nbformat": 4,
 "nbformat_minor": 5
}
