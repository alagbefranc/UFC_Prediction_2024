{
 "cells": [
  {
   "cell_type": "code",
   "execution_count": 1,
   "metadata": {},
   "outputs": [],
   "source": [
    "import pandas as pd\n",
    "pd.options.mode.chained_assignment = None  # default='warn' (disables SettingWithCopyWarning)\n",
    "\n",
    "import numpy as npy\n",
    "from datetime import datetime\n",
    "from datetime import date\n",
    "import matplotlib.pyplot as plt\n",
    "import random\n",
    "import sklearn\n",
    "import scipy\n",
    "from sklearn.linear_model import LogisticRegression\n",
    "from sklearn.ensemble import RandomForestClassifier\n",
    "from sklearn.neural_network import MLPClassifier\n",
    "from sklearn.model_selection import train_test_split, KFold, cross_val_score\n",
    "from sklearn import preprocessing\n",
    "from sklearn.preprocessing import PolynomialFeatures\n",
    "import itertools"
   ]
  },
  {
   "cell_type": "code",
   "execution_count": 2,
   "metadata": {},
   "outputs": [],
   "source": [
    "#this imports all of the functions from the file functions.py\n",
    "from functions import *"
   ]
  },
  {
   "cell_type": "code",
   "execution_count": 3,
   "metadata": {},
   "outputs": [],
   "source": [
    "#importing csv fight data and saving as dataframes\n",
    "ufc_fights = pd.read_csv('ufc_fights.csv',low_memory=False)\n",
    "ufcfighterscrap =pd.read_csv('fighter_stats.csv',sep=',',low_memory=False)"
   ]
  },
  {
   "cell_type": "code",
   "execution_count": 4,
   "metadata": {},
   "outputs": [],
   "source": [
    "#adding stance \n",
    "ufc_fights['fighter_stance']=stance_vect(ufc_fights['fighter'])\n",
    "ufc_fights['opponent_stance']=stance_vect(ufc_fights['opponent'])"
   ]
  },
  {
   "cell_type": "code",
   "execution_count": 5,
   "metadata": {},
   "outputs": [],
   "source": [
    "#getting rid of rows with incomplete data\n",
    "stance_mask_a=ufc_fights['fighter_stance']!=5\n",
    "stance_mask_b=ufc_fights['opponent_stance']!=5\n",
    "method_mask=ufc_fights['method']!='bullshit'\n",
    "reach_mask_a=ufc_fights['fighter_reach']!='unknown'\n",
    "reach_mask_b=ufc_fights['opponent_reach']!='unknown'\n",
    "mask_w=ufc_fights['fighter_wins'] != 'unknown'    \n",
    "mask_fs=ufc_fights['fighter_inf_sig_strikes_attempts_avg'] != 0\n",
    "mask_os=ufc_fights['opponent_inf_sig_strikes_attempts_avg'] != 0\n",
    "ufc_fights=ufc_fights[stance_mask_a&stance_mask_b&method_mask&reach_mask_a&reach_mask_b&mask_w&mask_fs&mask_os]"
   ]
  },
  {
   "cell_type": "code",
   "execution_count": 6,
   "metadata": {},
   "outputs": [],
   "source": [
    "#THERE MAY BE A PROBLEM IN AGE HEIGHT REACH TO DO WITH STRING VS FLOAT. MAKE SURE THESE ARE ALL THE CORRECT TYPE\n",
    "#MAYBE WE ARE LOSING PREDICTABILITY HERE"
   ]
  },
  {
   "cell_type": "code",
   "execution_count": 7,
   "metadata": {},
   "outputs": [],
   "source": [
    "record_statistics=[u'fighter_wins', \n",
    "                   u'fighter_losses',\n",
    "                   u'fighter_L5Y_wins',\n",
    "                   u'fighter_L5Y_losses', \n",
    "                   u'fighter_L2Y_wins', \n",
    "                   u'fighter_L2Y_losses',\n",
    "                    u'fighter_ko_wins',\n",
    "                   u'fighter_ko_losses',\n",
    "                   u'fighter_L5Y_ko_wins',\n",
    "                   u'fighter_L5Y_ko_losses',\n",
    "                   u'fighter_L2Y_ko_wins',\n",
    "                    u'fighter_L2Y_ko_losses',\n",
    "                   u'fighter_sub_wins',\n",
    "                   u'fighter_sub_losses',\n",
    "                   u'fighter_L5Y_sub_wins',\n",
    "                    u'fighter_L5Y_sub_losses', \n",
    "                   u'fighter_L2Y_sub_wins', \n",
    "                   u'fighter_L2Y_sub_losses',\n",
    "                   u'opponent_wins', \n",
    "                   u'opponent_losses',\n",
    "                   u'opponent_L5Y_wins', \n",
    "                   u'opponent_L5Y_losses', \n",
    "                   u'opponent_L2Y_wins', \n",
    "                   u'opponent_L2Y_losses', \n",
    "                    u'opponent_ko_wins', \n",
    "                   u'opponent_ko_losses', \n",
    "                   u'opponent_L5Y_ko_wins', \n",
    "                   u'opponent_L5Y_ko_losses', \n",
    "                   u'opponent_L2Y_ko_wins',\n",
    "                    u'opponent_L2Y_ko_losses', \n",
    "                   u'opponent_sub_wins', \n",
    "                   u'opponent_sub_losses',\n",
    "                   u'opponent_L5Y_sub_wins', \n",
    "                    u'opponent_L5Y_sub_losses', \n",
    "                   u'opponent_L2Y_sub_wins', \n",
    "                   u'opponent_L2Y_sub_losses']\n",
    "\n",
    "physical_stats=[ u'fighter_age',\n",
    "                u'fighter_height',\n",
    "                    u'fighter_reach',  \n",
    "                u'opponent_age',  \n",
    "                u'opponent_height',\n",
    "                    u'opponent_reach']\n",
    "\n",
    "#here is the list of all stats available (besides stance), does not include names or result\n",
    "punch_statistics=[    u'fighter_inf_knockdowns_avg',\n",
    "                    u'fighter_inf_pass_avg',\n",
    "                    u'fighter_inf_reversals_avg',\n",
    "                    u'fighter_inf_sub_attempts_avg',\n",
    "                    u'fighter_inf_takedowns_landed_avg',\n",
    "                    u'fighter_inf_takedowns_attempts_avg',\n",
    "                    u'fighter_inf_sig_strikes_landed_avg',\n",
    "                    u'fighter_inf_sig_strikes_attempts_avg',\n",
    "                    u'fighter_inf_total_strikes_landed_avg',\n",
    "                    u'fighter_inf_total_strikes_attempts_avg',\n",
    "                    u'fighter_inf_head_strikes_landed_avg',\n",
    "                    u'fighter_inf_head_strikes_attempts_avg',\n",
    "                    u'fighter_inf_body_strikes_landed_avg',\n",
    "                    u'fighter_inf_body_strikes_attempts_avg',\n",
    "                    u'fighter_inf_leg_strikes_landed_avg',\n",
    "                    u'fighter_inf_leg_strikes_attempts_avg',\n",
    "                    u'fighter_inf_distance_strikes_landed_avg',\n",
    "                    u'fighter_inf_distance_strikes_attempts_avg',\n",
    "                    u'fighter_inf_clinch_strikes_landed_avg',\n",
    "                    u'fighter_inf_clinch_strikes_attempts_avg',\n",
    "                    u'fighter_inf_ground_strikes_landed_avg',\n",
    "                    u'fighter_inf_ground_strikes_attempts_avg',\n",
    "                \n",
    "                    u'fighter_abs_knockdowns_avg',\n",
    "                    u'fighter_abs_pass_avg',\n",
    "                    u'fighter_abs_reversals_avg',\n",
    "                    u'fighter_abs_sub_attempts_avg',\n",
    "                    u'fighter_abs_takedowns_landed_avg',\n",
    "                    u'fighter_abs_takedowns_attempts_avg',\n",
    "                    u'fighter_abs_sig_strikes_landed_avg',\n",
    "                    u'fighter_abs_sig_strikes_attempts_avg',\n",
    "                    u'fighter_abs_total_strikes_landed_avg',\n",
    "                    u'fighter_abs_total_strikes_attempts_avg',\n",
    "                    u'fighter_abs_head_strikes_landed_avg',\n",
    "                    u'fighter_abs_head_strikes_attempts_avg',\n",
    "                    u'fighter_abs_body_strikes_landed_avg',\n",
    "                    u'fighter_abs_body_strikes_attempts_avg',\n",
    "                    u'fighter_abs_leg_strikes_landed_avg',\n",
    "                    u'fighter_abs_leg_strikes_attempts_avg',\n",
    "                    u'fighter_abs_distance_strikes_landed_avg',\n",
    "                    u'fighter_abs_distance_strikes_attempts_avg',\n",
    "                    u'fighter_abs_clinch_strikes_landed_avg',\n",
    "                    u'fighter_abs_clinch_strikes_attempts_avg',\n",
    "                    u'fighter_abs_ground_strikes_landed_avg',\n",
    "                    u'fighter_abs_ground_strikes_attempts_avg',\n",
    "                    \n",
    "                    u'opponent_inf_knockdowns_avg',\n",
    "                    u'opponent_inf_pass_avg',\n",
    "                    u'opponent_inf_reversals_avg',\n",
    "                    u'opponent_inf_sub_attempts_avg',\n",
    "                    u'opponent_inf_takedowns_landed_avg',\n",
    "                    u'opponent_inf_takedowns_attempts_avg',\n",
    "                    u'opponent_inf_sig_strikes_landed_avg',\n",
    "                    u'opponent_inf_sig_strikes_attempts_avg',\n",
    "                    u'opponent_inf_total_strikes_landed_avg',\n",
    "                    u'opponent_inf_total_strikes_attempts_avg',\n",
    "                    u'opponent_inf_head_strikes_landed_avg',\n",
    "                    u'opponent_inf_head_strikes_attempts_avg',\n",
    "                    u'opponent_inf_body_strikes_landed_avg',\n",
    "                    u'opponent_inf_body_strikes_attempts_avg',\n",
    "                    u'opponent_inf_leg_strikes_landed_avg',\n",
    "                    u'opponent_inf_leg_strikes_attempts_avg',\n",
    "                    u'opponent_inf_distance_strikes_landed_avg',\n",
    "                    u'opponent_inf_distance_strikes_attempts_avg',\n",
    "                    u'opponent_inf_clinch_strikes_landed_avg',\n",
    "                    u'opponent_inf_clinch_strikes_attempts_avg',\n",
    "                    u'opponent_inf_ground_strikes_landed_avg',\n",
    "                    u'opponent_inf_ground_strikes_attempts_avg',\n",
    "                \n",
    "                    u'opponent_abs_knockdowns_avg',\n",
    "                    u'opponent_abs_pass_avg',\n",
    "                    u'opponent_abs_reversals_avg',\n",
    "                    u'opponent_abs_sub_attempts_avg',\n",
    "                    u'opponent_abs_takedowns_landed_avg',\n",
    "                    u'opponent_abs_takedowns_attempts_avg',\n",
    "                    u'opponent_abs_sig_strikes_landed_avg',\n",
    "                    u'opponent_abs_sig_strikes_attempts_avg',\n",
    "                    u'opponent_abs_total_strikes_landed_avg',\n",
    "                    u'opponent_abs_total_strikes_attempts_avg',\n",
    "                    u'opponent_abs_head_strikes_landed_avg',\n",
    "                    u'opponent_abs_head_strikes_attempts_avg',\n",
    "                    u'opponent_abs_body_strikes_landed_avg',\n",
    "                    u'opponent_abs_body_strikes_attempts_avg',\n",
    "                    u'opponent_abs_leg_strikes_landed_avg',\n",
    "                    u'opponent_abs_leg_strikes_attempts_avg',\n",
    "                    u'opponent_abs_distance_strikes_landed_avg',\n",
    "                    u'opponent_abs_distance_strikes_attempts_avg',\n",
    "                    u'opponent_abs_clinch_strikes_landed_avg',\n",
    "                    u'opponent_abs_clinch_strikes_attempts_avg',\n",
    "                    u'opponent_abs_ground_strikes_landed_avg',\n",
    "                    u'opponent_abs_ground_strikes_attempts_avg']\n"
   ]
  },
  {
   "cell_type": "code",
   "execution_count": 8,
   "metadata": {},
   "outputs": [],
   "source": [
    "#adding record differences to ufc_fights\n",
    "record_statistics_diff = []\n",
    "half_length=int(len(record_statistics)/2)\n",
    "for i in range(half_length):\n",
    "    ufc_fights[record_statistics[i]+'_diff_2']=ufc_fights[record_statistics[i]]-ufc_fights[record_statistics[i+half_length]]\n",
    "    record_statistics_diff.append(record_statistics[i]+'_diff_2')"
   ]
  },
  {
   "cell_type": "code",
   "execution_count": 9,
   "metadata": {},
   "outputs": [],
   "source": [
    "Xrec=ufc_fights[record_statistics]\n",
    "Xrecscaler = preprocessing.StandardScaler().fit(Xrec)\n",
    "Xrec_scaled = Xrecscaler.transform(Xrec)\n",
    "\n",
    "y=ufc_fights['result']"
   ]
  },
  {
   "cell_type": "code",
   "execution_count": 10,
   "metadata": {},
   "outputs": [],
   "source": [
    "Xrecdiff=ufc_fights[record_statistics_diff]\n",
    "Xrecdiffscaler = preprocessing.StandardScaler().fit(Xrecdiff)\n",
    "Xrecdiff_scaled = Xrecdiffscaler.transform(Xrecdiff)"
   ]
  },
  {
   "cell_type": "code",
   "execution_count": 11,
   "metadata": {},
   "outputs": [],
   "source": [
    "all_rec_stats=record_statistics\n",
    "all_rec_stats.extend(record_statistics_diff)\n",
    "Xrecboth=ufc_fights[all_rec_stats]\n",
    "Xrecbothscaler = preprocessing.StandardScaler().fit(Xrecboth)\n",
    "Xrecboth_scaled = Xrecbothscaler.transform(Xrecboth)"
   ]
  },
  {
   "cell_type": "code",
   "execution_count": 12,
   "metadata": {},
   "outputs": [],
   "source": [
    "winPredictionModel=LogisticRegression(solver='lbfgs', max_iter=500)"
   ]
  },
  {
   "cell_type": "code",
   "execution_count": 13,
   "metadata": {},
   "outputs": [
    {
     "data": {
      "text/plain": [
       "0.5434879425056932"
      ]
     },
     "execution_count": 13,
     "metadata": {},
     "output_type": "execute_result"
    }
   ],
   "source": [
    "#before scaling features (av score of .543)\n",
    "cross_val_score(winPredictionModel,Xrec,y,cv=4).mean()"
   ]
  },
  {
   "cell_type": "code",
   "execution_count": 14,
   "metadata": {},
   "outputs": [
    {
     "data": {
      "text/plain": [
       "0.5437587984103519"
      ]
     },
     "execution_count": 14,
     "metadata": {},
     "output_type": "execute_result"
    }
   ],
   "source": [
    "#after scaling features (av score of .543)\n",
    "cross_val_score(winPredictionModel,Xrec_scaled,y,cv=4).mean()"
   ]
  },
  {
   "cell_type": "code",
   "execution_count": 15,
   "metadata": {},
   "outputs": [
    {
     "data": {
      "text/plain": [
       "0.5535099047480276"
      ]
     },
     "execution_count": 15,
     "metadata": {},
     "output_type": "execute_result"
    }
   ],
   "source": [
    "#trying only the differences\n",
    "cross_val_score(winPredictionModel,Xrecdiff_scaled,y,cv=4).mean()"
   ]
  },
  {
   "cell_type": "code",
   "execution_count": 16,
   "metadata": {},
   "outputs": [
    {
     "data": {
      "text/plain": [
       "0.5437587984103519"
      ]
     },
     "execution_count": 16,
     "metadata": {},
     "output_type": "execute_result"
    }
   ],
   "source": [
    "#trying absolute records together with differences (both)\n",
    "cross_val_score(winPredictionModel,Xrecboth_scaled,y,cv=4).mean()"
   ]
  },
  {
   "cell_type": "code",
   "execution_count": 17,
   "metadata": {},
   "outputs": [],
   "source": [
    "#so it is best to only consider the differences. "
   ]
  },
  {
   "cell_type": "code",
   "execution_count": 18,
   "metadata": {},
   "outputs": [
    {
     "name": "stdout",
     "output_type": "stream",
     "text": [
      "(3691, 189)\n"
     ]
    },
    {
     "data": {
      "text/plain": [
       "0.5269633821618179"
      ]
     },
     "execution_count": 18,
     "metadata": {},
     "output_type": "execute_result"
    }
   ],
   "source": [
    "#Now lets see if adding polynomial features in the differences helps\n",
    "polyWin = PolynomialFeatures(degree = 2, interaction_only=False, include_bias=False)\n",
    "Xrecdiff_poly = polyWin.fit_transform(Xrecdiff)\n",
    "#preprocessing to get mean 0 and standardize variance\n",
    "Xrecdiffpolyscaler = preprocessing.StandardScaler().fit(Xrecdiff_poly)\n",
    "Xrecdiff_poly_scaled = Xrecdiffpolyscaler.transform(Xrecdiff_poly)\n",
    "print(Xrecdiff_poly.shape)\n",
    "#lets see our score with degree 2 polynomial features added to rec diff (its much much worse)\n",
    "cross_val_score(winPredictionModel,Xrecdiff_poly_scaled,y,cv=4).mean()"
   ]
  },
  {
   "cell_type": "code",
   "execution_count": 19,
   "metadata": {},
   "outputs": [
    {
     "name": "stdout",
     "output_type": "stream",
     "text": [
      "fighter_wins_diff_2 0.5079937744269722\n",
      "fighter_losses_diff_2 0.5326454807604177\n",
      "fighter_L5Y_wins_diff_2 0.5340065169928296\n",
      "fighter_L5Y_losses_diff_2 0.525601464619521\n",
      "fighter_L2Y_wins_diff_2 0.5369827004744973\n",
      "fighter_L2Y_losses_diff_2 0.5139552482591192\n",
      "fighter_ko_wins_diff_2 0.5085354862362897\n",
      "fighter_ko_losses_diff_2 0.5245183347708476\n",
      "fighter_L5Y_ko_wins_diff_2 0.5115154887274591\n",
      "fighter_L5Y_ko_losses_diff_2 0.5245159846111543\n",
      "fighter_L2Y_ko_wins_diff_2 0.5172066941948705\n",
      "fighter_L2Y_ko_losses_diff_2 0.5158465392723436\n",
      "fighter_sub_wins_diff_2 0.5107020397035978\n",
      "fighter_sub_losses_diff_2 0.5112425764330686\n",
      "fighter_L5Y_sub_wins_diff_2 0.5112399325034136\n",
      "fighter_L5Y_sub_losses_diff_2 0.5117857570921944\n",
      "fighter_L2Y_sub_wins_diff_2 0.5218094819542988\n",
      "fighter_L2Y_sub_losses_diff_2 0.5060977830943612\n"
     ]
    }
   ],
   "source": [
    "#Lets check some individual diff stats and see how they perform\n",
    "rec_diff_performance_dict={}\n",
    "for i in range(len(record_statistics_diff)):\n",
    "    Xtemp = ufc_fights[[record_statistics_diff[i]]]\n",
    "    y = ufc_fights['result']\n",
    "    test_score = cross_val_score(winPredictionModel,Xtemp,y,cv=4).mean()\n",
    "    rec_diff_performance_dict[record_statistics_diff[i]]=test_score\n",
    "    print(record_statistics_diff[i],test_score)"
   ]
  },
  {
   "cell_type": "code",
   "execution_count": 20,
   "metadata": {},
   "outputs": [],
   "source": [
    "#this picks the top 7 of the individual scores\n",
    "rec_diff_performance_dict_top_7={}\n",
    "counter=0\n",
    "while counter<7:\n",
    "    counter+=1\n",
    "    max_key = max(rec_diff_performance_dict, key=rec_diff_performance_dict.get)\n",
    "    rec_diff_performance_dict_top_7[max_key]=rec_diff_performance_dict[max_key]\n",
    "    rec_diff_performance_dict.pop(max_key)\n",
    "rec_diff_performance_dict_bottom = rec_diff_performance_dict"
   ]
  },
  {
   "cell_type": "code",
   "execution_count": 22,
   "metadata": {},
   "outputs": [
    {
     "data": {
      "text/plain": [
       "0.5551332775562099"
      ]
     },
     "execution_count": 22,
     "metadata": {},
     "output_type": "execute_result"
    }
   ],
   "source": [
    "#score just from top 7 record diff stats (higher than from all record diffs, got .555)\n",
    "rec_top_7=rec_diff_performance_dict_top_7.keys()\n",
    "Xrectop7=ufc_fights[rec_top_7]\n",
    "Xrectop7scaler = preprocessing.StandardScaler().fit(Xrectop7)\n",
    "Xrectop7_scaled = Xrectop7scaler.transform(Xrectop7)\n",
    "y=ufc_fights['result']\n",
    "cross_val_score(winPredictionModel,Xrectop7_scaled,y,cv=4).mean()"
   ]
  },
  {
   "cell_type": "code",
   "execution_count": 42,
   "metadata": {},
   "outputs": [
    {
     "data": {
      "text/plain": [
       "18"
      ]
     },
     "execution_count": 42,
     "metadata": {},
     "output_type": "execute_result"
    }
   ],
   "source": [
    "#was this the best 7 to pick? Lets check\n",
    "len(record_statistics_diff)"
   ]
  },
  {
   "cell_type": "code",
   "execution_count": 43,
   "metadata": {},
   "outputs": [
    {
     "data": {
      "text/plain": [
       "<map at 0x29b78fa00>"
      ]
     },
     "execution_count": 43,
     "metadata": {},
     "output_type": "execute_result"
    }
   ],
   "source": [
    "s = set((1, 2, 3))\n",
    "map(set, itertools.combinations(s, 2))"
   ]
  },
  {
   "cell_type": "code",
   "execution_count": null,
   "metadata": {},
   "outputs": [],
   "source": []
  },
  {
   "cell_type": "code",
   "execution_count": 23,
   "metadata": {},
   "outputs": [
    {
     "data": {
      "text/plain": [
       "0.5361721891502528"
      ]
     },
     "execution_count": 23,
     "metadata": {},
     "output_type": "execute_result"
    }
   ],
   "source": [
    "#score just from those not in the top 7 record diffs\n",
    "rec_bottom=rec_diff_performance_dict_bottom.keys()\n",
    "Xrecbottom=ufc_fights[rec_bottom]\n",
    "Xrecbottomscaler = preprocessing.StandardScaler().fit(Xrecbottom)\n",
    "Xrecbottom_scaled = Xrecbottomscaler.transform(Xrecbottom)\n",
    "y=ufc_fights['result']\n",
    "cross_val_score(winPredictionModel,Xrecbottom_scaled,y,cv=4).mean()"
   ]
  },
  {
   "cell_type": "code",
   "execution_count": null,
   "metadata": {},
   "outputs": [],
   "source": [
    "#Xrecbottom seems to still have some info. Lets see if we can increase rec_top_7 by adding some of Xrecbottom"
   ]
  },
  {
   "cell_type": "code",
   "execution_count": 24,
   "metadata": {
    "scrolled": true
   },
   "outputs": [],
   "source": [
    "#Lets start building a dataframe of all the stats which we know perform best\n",
    "ufc_best_df=ufc_fights[rec_top_7]"
   ]
  },
  {
   "cell_type": "code",
   "execution_count": 25,
   "metadata": {},
   "outputs": [],
   "source": [
    "#moving on to physical_stats:\n",
    "#we keep ages absolute, but make differences for height and reach\n",
    "ufc_best_df['fighter_age']=ufc_fights['fighter_age']\n",
    "ufc_best_df['opponent_age']=ufc_fights['opponent_age']\n",
    "ufc_best_df['height_diff']=ufc_fights['fighter_height'].apply(float)-ufc_fights['opponent_height'].apply(float)\n",
    "ufc_best_df['reach_diff']=ufc_fights['fighter_reach'].apply(float)-ufc_fights['opponent_reach'].apply(float)"
   ]
  },
  {
   "cell_type": "code",
   "execution_count": 37,
   "metadata": {},
   "outputs": [
    {
     "name": "stdout",
     "output_type": "stream",
     "text": [
      "350 0.5487199582027169\n",
      "400 0.57\n",
      "450 0.557917193426043\n",
      "500 0.56\n",
      "550 0.5637363799851899\n",
      "600 0.5716666666666665\n",
      "650 0.5507555101113384\n",
      "700 0.5671428571428572\n",
      "750 0.5626635567186256\n",
      "800 0.58375\n",
      "850 0.5847063513154398\n",
      "900 0.5866666666666667\n",
      "950 0.5852524554125448\n",
      "1000 0.594\n",
      "1050 0.5866615389080777\n",
      "1100 0.5845454545454546\n",
      "1150 0.5912819396051103\n",
      "1200 0.5891666666666667\n",
      "1250 0.5936066396329975\n",
      "1300 0.6007692307692307\n",
      "1350 0.6007475462223237\n",
      "1400 0.5992857142857143\n",
      "1450 0.5972501255650426\n",
      "1500 0.6013333333333333\n",
      "1550 0.6090515863501957\n",
      "1600 0.606875\n",
      "1650 0.6042558005594866\n",
      "1700 0.6070588235294118\n",
      "1750 0.603435890201979\n",
      "1800 0.606111111111111\n",
      "1850 0.6043332117846156\n",
      "1900 0.6063157894736841\n",
      "1950 0.6030849210623759\n",
      "2000 0.6025\n",
      "2050 0.5965835541544835\n",
      "2100 0.6090476190476191\n",
      "2150 0.6009316178964785\n",
      "2200 0.6013636363636363\n",
      "2250 0.604005613041472\n",
      "2300 0.6039130434782609\n",
      "2350 0.6012810149613508\n",
      "2400 0.6012500000000001\n",
      "2450 0.5979565833946412\n",
      "2500 0.5992\n",
      "2550 0.5980386608465427\n",
      "2600 0.5926923076923077\n",
      "2650 0.5939597544804582\n",
      "2700 0.5918518518518519\n",
      "2750 0.586175252191869\n",
      "2800 0.5878571428571429\n",
      "2850 0.5849029657878563\n",
      "2900 0.5851724137931034\n",
      "2950 0.5854108982066754\n"
     ]
    }
   ],
   "source": [
    "#with a range of values for iloc (max at 2100)\n",
    "for i in range(7,60):\n",
    "    XrecPhy=ufc_best_df.iloc[0:50*i]\n",
    "    XrecPhyscaler = preprocessing.StandardScaler().fit(XrecPhy)\n",
    "    XrecPhy_scaled = XrecPhyscaler.transform(XrecPhy)\n",
    "    y=ufc_fights.iloc[0:50*i]['result']\n",
    "    score = cross_val_score(winPredictionModel,XrecPhy_scaled,y,cv=4).mean()\n",
    "    print(50*i,score)"
   ]
  },
  {
   "cell_type": "code",
   "execution_count": 39,
   "metadata": {},
   "outputs": [
    {
     "data": {
      "text/plain": [
       "0.6090476190476191"
      ]
     },
     "execution_count": 39,
     "metadata": {},
     "output_type": "execute_result"
    }
   ],
   "source": [
    "#Heres the score for record stats + physical stats (without stance included)\n",
    "#HIGHEST (currently .609 with rec top 7 and physical)\n",
    "XrecPhy=ufc_best_df.iloc[0:2100]\n",
    "XrecPhyscaler = preprocessing.StandardScaler().fit(XrecPhy)\n",
    "XrecPhy_scaled = XrecPhyscaler.transform(XrecPhy)\n",
    "y=ufc_fights.iloc[0:2100]['result']\n",
    "cross_val_score(winPredictionModel,XrecPhy_scaled,y,cv=4).mean()"
   ]
  },
  {
   "cell_type": "code",
   "execution_count": 40,
   "metadata": {},
   "outputs": [],
   "source": [
    "#adding stance to ufc_best_df\n",
    "ufc_best_df['fighter_stance']=ufc_fights['fighter_stance']\n",
    "ufc_best_df['opponent_stance']=ufc_fights['opponent_stance']"
   ]
  },
  {
   "cell_type": "code",
   "execution_count": 41,
   "metadata": {},
   "outputs": [
    {
     "data": {
      "text/plain": [
       "0.6009523809523809"
      ]
     },
     "execution_count": 41,
     "metadata": {},
     "output_type": "execute_result"
    }
   ],
   "source": [
    "#Heres the score when we include stance. Somehow it goes down... (so lets not include stance)\n",
    "XrecPhySta=ufc_best_df.iloc[0:2100]\n",
    "XrecPhyStascaler = preprocessing.StandardScaler().fit(XrecPhySta)\n",
    "XrecPhySta_scaled = XrecPhyStascaler.transform(XrecPhySta)\n",
    "y=ufc_fights.iloc[0:2100]['result']\n",
    "cross_val_score(winPredictionModel,XrecPhySta_scaled,y,cv=4).mean()"
   ]
  },
  {
   "cell_type": "code",
   "execution_count": null,
   "metadata": {},
   "outputs": [],
   "source": [
    "#This includes all the best choices in terms of taking differences\n",
    "for col in punch_statistics:\n",
    "    ufc_best_df[col]=ufc_fights[col]"
   ]
  },
  {
   "cell_type": "code",
   "execution_count": null,
   "metadata": {},
   "outputs": [],
   "source": [
    "#Heres the score when we include stance and all punch stats.  (goes down by a lott...)\n",
    "XrecPhyPun=ufc_best_df.iloc[0:2101]\n",
    "XrecPhyPunscaler = preprocessing.StandardScaler().fit(XrecPhyPun)\n",
    "XrecPhyPun_scaled = XrecPhyPunscaler.transform(XrecPhyPun)\n",
    "y=ufc_fights.iloc[0:2101]['result']\n",
    "cross_val_score(winPredictionModel,XrecPhyPun_scaled,y,cv=4).mean()"
   ]
  },
  {
   "cell_type": "code",
   "execution_count": null,
   "metadata": {},
   "outputs": [],
   "source": []
  },
  {
   "cell_type": "code",
   "execution_count": null,
   "metadata": {},
   "outputs": [],
   "source": []
  },
  {
   "cell_type": "code",
   "execution_count": null,
   "metadata": {},
   "outputs": [],
   "source": [
    "#Can also predict the method, e.g.\n",
    "methodPredictionModel=LogisticRegression(solver='lbfgs', max_iter=500)\n",
    "ymeth=ufc_fights.iloc[0:2101]['method']\n",
    "cross_val_score(methodPredictionModel,XrecPhyStaPun_scaled,ymeth,cv=4).mean()"
   ]
  },
  {
   "cell_type": "code",
   "execution_count": null,
   "metadata": {},
   "outputs": [],
   "source": [
    "#earlier cleaned data so that there are only three possible outcomes\n",
    "ymeth.unique()"
   ]
  },
  {
   "cell_type": "code",
   "execution_count": null,
   "metadata": {},
   "outputs": [],
   "source": [
    "X=ufc_best_df.iloc[0:2101]\n",
    "ymeth=ufc_fights.iloc[0:2101]['method']\n",
    "Xscaler = preprocessing.StandardScaler().fit(X)\n",
    "X = Xscaler.transform(X)\n",
    "methodPredictionModel.fit(X,ymeth)\n",
    "methodPredictionModel.score(X,ymeth)"
   ]
  },
  {
   "cell_type": "code",
   "execution_count": null,
   "metadata": {},
   "outputs": [],
   "source": [
    "#need to define a model first before calling the following functions\n",
    "#REDEFINE THIS AFTER GETTING ALL STATS COMPILED. WE CURRENTLY CANNOT PREDICT\n",
    "#I've redefined this in such a way to predict what happens when fighter1 in their day1 version fights fighter2\n",
    "#in their day2 version. Meaning we could compare for example 2014 Tyron Woodley to 2019 Colby Covington\n",
    "def ufc_prediction_tuple(fighter1,fighter2,day1=date.today(),day2=date.today()):\n",
    "    if (day1==date.today())&(day2==date.today()):\n",
    "        \n",
    "    return [wins_before(fighter1,day1)-wins_before(fighter2,day2),\n",
    "            losses_before(fighter1,day1)-losses_before(fighter2,day2),\n",
    "            L5Y_wins(fighter1,day1)-L5Y_wins(fighter2,day2),\n",
    "            L5Y_losses(fighter1,day1)-L5Y_losses(fighter2,day2),\n",
    "            L2Y_wins(fighter1,day1)-L2Y_wins(fighter2,day2),\n",
    "            L2Y_losses(fighter1,day1)-L2Y_losses(fighter2,day2),\n",
    "            ko_wins(fighter1,day1)-ko_wins(fighter2,day2),\n",
    "            ko_losses(fighter1,day1)-ko_losses(fighter2,day2),\n",
    "            L5Y_ko_wins(fighter1,day1)-L5Y_ko_wins(fighter2,day2),\n",
    "            L5Y_ko_losses(fighter1,day1)-L5Y_ko_losses(fighter2,day2),\n",
    "            L2Y_ko_wins(fighter1,day1)-L2Y_ko_wins(fighter2,day2),\n",
    "            L2Y_ko_losses(fighter1,day1)-L2Y_ko_losses(fighter2,day2),\n",
    "            sub_wins(fighter1,day1)-sub_wins(fighter2,day2),\n",
    "            sub_losses(fighter1,day1)-sub_losses(fighter2,day2),\n",
    "            L5Y_sub_wins(fighter1,day1)-L5Y_sub_wins(fighter2,day2),\n",
    "            L5Y_sub_losses(fighter1,day1)-L5Y_sub_losses(fighter2,day2),\n",
    "            L2Y_sub_wins(fighter1,day1)-L2Y_sub_wins(fighter2,day2),\n",
    "            L2Y_sub_losses(fighter1,day1)-L2Y_sub_losses(fighter2,day2),\n",
    "            fighter_age(fighter1,day1),fighter_age(fighter2,day2),\n",
    "            fighter_height(fighter1)-fighter_height(fighter2),\n",
    "            fighter_reach(fighter1)-fighter_reach(fighter2),\n",
    "            avg_count('knockdowns',fighter1,'inf',day1), avg_count('pass',fighter1,'inf',day1),\n",
    "            avg_count('reversals',fighter1,'inf',day1),avg_count('sub_attempts',fighter1,'inf',day1),\n",
    "            avg_count('takedowns_landed',fighter1,'inf',day1),avg_count('takedowns_attempts',fighter1,'inf',day1),\n",
    "            avg_count('sig_strikes_landed',fighter1,'inf',day1),avg_count('sig_strikes_attempts',fighter1,'inf',day1),\n",
    "            avg_count('total_strikes_landed',fighter1,'inf',day1),avg_count('total_strikes_attempts',fighter1,'inf',day1),\n",
    "            avg_count('head_strikes_landed',fighter1,'inf',day1),avg_count('head_strikes_attempts',fighter1,'inf',day1),\n",
    "            avg_count('body_strikes_landed',fighter1,'inf',day1),avg_count('body_strikes_attempts',fighter1,'inf',day1),\n",
    "            avg_count('leg_strikes_landed',fighter1,'inf',day1),avg_count('leg_strikes_attempts',fighter1,'inf',day1),\n",
    "            avg_count('distance_strikes_landed',fighter1,'inf',day1),avg_count('distance_strikes_attempts',fighter1,'inf',day1),\n",
    "            avg_count('clinch_strikes_landed',fighter1,'inf',day1),avg_count('clinch_strikes_attempts',fighter1,'inf',day1),\n",
    "            avg_count('ground_strikes_landed',fighter1,'inf',day1),avg_count('ground_strikes_attempts',fighter1,'inf',day1),\n",
    "            avg_count('knockdowns',fighter1,'abs',day1), avg_count('pass',fighter1,'abs',day1),\n",
    "            avg_count('reversals',fighter1,'abs',day1),avg_count('sub_attempts',fighter1,'abs',day1),\n",
    "            avg_count('takedowns_landed',fighter1,'abs',day1),avg_count('takedowns_attempts',fighter1,'abs',day1),\n",
    "            avg_count('sig_strikes_landed',fighter1,'abs',day1),avg_count('sig_strikes_attempts',fighter1,'abs',day1),\n",
    "            avg_count('total_strikes_landed',fighter1,'abs',day1),avg_count('total_strikes_attempts',fighter1,'abs',day1),\n",
    "            avg_count('head_strikes_landed',fighter1,'abs',day1),avg_count('head_strikes_attempts',fighter1,'abs',day1),\n",
    "            avg_count('body_strikes_landed',fighter1,'abs',day1),avg_count('body_strikes_attempts',fighter1,'abs',day1),\n",
    "            avg_count('leg_strikes_landed',fighter1,'abs',day1),avg_count('leg_strikes_attempts',fighter1,'abs',day1),\n",
    "            avg_count('distance_strikes_landed',fighter1,'abs',day1),avg_count('distance_strikes_attempts',fighter1,'abs',day1),\n",
    "            avg_count('clinch_strikes_landed',fighter1,'abs',day1),avg_count('clinch_strikes_attempts',fighter1,'abs',day1),\n",
    "            avg_count('ground_strikes_landed',fighter1,'abs',day1),avg_count('ground_strikes_attempts',fighter1,'abs',day1),\n",
    "            avg_count('knockdowns',fighter2,'inf',day2), avg_count('pass',fighter2,'inf',day2),\n",
    "            avg_count('reversals',fighter2,'inf',day2),avg_count('sub_attempts',fighter2,'inf',day2),\n",
    "            avg_count('takedowns_landed',fighter2,'inf',day2),avg_count('takedowns_attempts',fighter2,'inf',day2),\n",
    "            avg_count('sig_strikes_landed',fighter2,'inf',day2),avg_count('sig_strikes_attempts',fighter2,'inf',day2),\n",
    "            avg_count('total_strikes_landed',fighter2,'inf',day2),avg_count('total_strikes_attempts',fighter2,'inf',day2),\n",
    "            avg_count('head_strikes_landed',fighter2,'inf',day2),avg_count('head_strikes_attempts',fighter2,'inf',day2),\n",
    "            avg_count('body_strikes_landed',fighter2,'inf',day2),avg_count('body_strikes_attempts',fighter2,'inf',day2),\n",
    "            avg_count('leg_strikes_landed',fighter2,'inf',day2),avg_count('leg_strikes_attempts',fighter2,'inf',day2),\n",
    "            avg_count('distance_strikes_landed',fighter2,'inf',day2),avg_count('distance_strikes_attempts',fighter2,'inf',day2),\n",
    "            avg_count('clinch_strikes_landed',fighter2,'inf',day2),avg_count('clinch_strikes_attempts',fighter2,'inf',day2),\n",
    "            avg_count('ground_strikes_landed',fighter2,'inf',day2),avg_count('ground_strikes_attempts',fighter2,'inf',day2),\n",
    "            avg_count('knockdowns',fighter2,'abs',day2), avg_count('pass',fighter2,'abs',day2),\n",
    "            avg_count('reversals',fighter2,'abs',day2),avg_count('sub_attempts',fighter2,'abs',day2),\n",
    "            avg_count('takedowns_landed',fighter2,'abs',day2),avg_count('takedowns_attempts',fighter2,'abs',day2),\n",
    "            avg_count('sig_strikes_landed',fighter2,'abs',day2),avg_count('sig_strikes_attempts',fighter2,'abs',day2),\n",
    "            avg_count('total_strikes_landed',fighter2,'abs',day2),avg_count('total_strikes_attempts',fighter2,'abs',day2),\n",
    "            avg_count('head_strikes_landed',fighter2,'abs',day2),avg_count('head_strikes_attempts',fighter2,'abs',day2),\n",
    "            avg_count('body_strikes_landed',fighter2,'abs',day2),avg_count('body_strikes_attempts',fighter2,'abs',day2),\n",
    "            avg_count('leg_strikes_landed',fighter2,'abs',day2),avg_count('leg_strikes_attempts',fighter2,'abs',day2),\n",
    "            avg_count('distance_strikes_landed',fighter2,'abs',day2),avg_count('distance_strikes_attempts',fighter2,'abs',day2),\n",
    "            avg_count('clinch_strikes_landed',fighter2,'abs',day2),avg_count('clinch_strikes_attempts',fighter2,'abs',day2),\n",
    "            avg_count('ground_strikes_landed',fighter2,'abs',day2),avg_count('ground_strikes_attempts',fighter2,'abs',day2),\n",
    "            stance(fighter1),stance(fighter2)]\n",
    "\n",
    "mlp=MLPClassifier(hidden_layer_sizes=(110,110),alpha=.00001,solver='sgd',random_state=3)\n",
    "Xp=ufc_best_df.iloc[0:2101]\n",
    "yp=ufc_fights_clean_stance.iloc[0:2101]['method']\n",
    "mlp.fit(Xp,yp)\n",
    "\n",
    "model=LogisticRegression()\n",
    "X=ufc_best_df.iloc[0:2101]\n",
    "y=ufc_fights_clean_stance.iloc[0:2101]['result']\n",
    "model.fit(X,y)\n",
    "\n",
    "\n",
    "#date entered in the form 'Aug 20, 2013'\n",
    "#predicts what happens if the day1 version of fighter1 fights fighter2 at their day2 version\n",
    "#by default day1 and day2 are set to today if left unspecified\n",
    "def ufc_predict(fighter1,fighter2,day1=date.today(), day2=date.today()):\n",
    "    fighters=[fighter1,fighter2]\n",
    "    random_guy=fighters[random.choice([0,1])]\n",
    "    fighter1_fights=(ufcfightscrap['fighter']==fighter1).sum()\n",
    "    fighter2_fights=(ufcfightscrap['fighter']==fighter2).sum()\n",
    "    if fighter1_fights==0 and not fighter2_fights==0:\n",
    "        print('This is '+fighter1+\"'s UFC debut... so obviously I do not have enough data to make an educated pick. But since you are DEMANDING an outcome, hmmm... I guess I'll go with \"+random_guy+'.')\n",
    "    elif fighter2_fights==0 and not fighter1_fights==0:\n",
    "        print('This is '+fighter2+\"'s UFC debut... so obviously I do not have enough data to make an educated pick. But since you are DEMANDING an outcome, hmmm... I guess I'll go with \"+random_guy+'.') \n",
    "    elif fighter1_fights==0 and fighter2_fights==0:\n",
    "        print('This is both '+fighter1+\"'s \"+'and '+fighter2+\"'s \"+\"UFC debuts... so obviously I do not have enough data to make an educated pick. But since you are DEMANDING an outcome, hmmm... I guess I'll go with \"+random_guy+'.')\n",
    "    else:\n",
    "        ufc_tuple=ufc_prediction_tuple(fighter1,fighter2,day1,day2)\n",
    "        if 'unknown' in ufc_tuple or 'NaN' in ufc_tuple:\n",
    "            print('Fighters have incomplete data on record, I honestly do not know what to do with this.')\n",
    "        else:\n",
    "            value=model.predict([ufc_tuple])[0]\n",
    "            result=mlp.predict([ufc_tuple])[0]\n",
    "            if value=='W':\n",
    "                print(fighter1+' by '+result)\n",
    "            else:\n",
    "                print(fighter2+' by '+result)"
   ]
  },
  {
   "cell_type": "code",
   "execution_count": null,
   "metadata": {},
   "outputs": [],
   "source": [
    "#WRITE ANOTHER UFC_PREDICT FUNCTION USING CURRENT VALUES FOR CURRENT PREDICTIONS. THIS WILL RUN IMMEDIATELY\n",
    "#THE FUNCTION WE HAVE NOW IS NICE FOR PAST PREDICTIONS BUT IS UNNECESSARILY SLOW FOR CURRENT ONES."
   ]
  },
  {
   "cell_type": "code",
   "execution_count": null,
   "metadata": {},
   "outputs": [],
   "source": [
    "winPredictionModel.predict([ufc_prediction_tuple('Israel Adesanya','Paulo Costa','September 27, 2020', 'September 27, 2020')])[0]"
   ]
  },
  {
   "cell_type": "code",
   "execution_count": null,
   "metadata": {},
   "outputs": [],
   "source": [
    "time ufc_predict('Israel Adesanya','Paulo Costa','September 27, 2020', 'September 27, 2020')"
   ]
  },
  {
   "cell_type": "code",
   "execution_count": null,
   "metadata": {},
   "outputs": [],
   "source": [
    "time ufc_predict('Dominick Reyes','Jan Blachowicz','September 27, 2020', 'September 27, 2020')"
   ]
  },
  {
   "cell_type": "code",
   "execution_count": null,
   "metadata": {},
   "outputs": [],
   "source": [
    "time ufc_predict('Claudia Gadelha','Xiaonan Yan','September 27, 2020', 'September 27, 2020')"
   ]
  },
  {
   "cell_type": "code",
   "execution_count": null,
   "metadata": {},
   "outputs": [],
   "source": [
    "time ufc_predict('Hakeem Dawodu','Zubaira Tukhugov','September 27, 2020', 'September 27, 2020')"
   ]
  },
  {
   "cell_type": "code",
   "execution_count": null,
   "metadata": {},
   "outputs": [],
   "source": [
    "time ufc_predict('Diego Sanchez','Jake Matthews','September 27, 2020', 'September 27, 2020')"
   ]
  },
  {
   "cell_type": "code",
   "execution_count": null,
   "metadata": {},
   "outputs": [],
   "source": [
    "time ufc_predict('Brad Riddell','Alexda Silva Coelho','September 27, 2020', 'September 27, 2020')"
   ]
  },
  {
   "cell_type": "code",
   "execution_count": null,
   "metadata": {},
   "outputs": [],
   "source": [
    "time ufc_predict('Kai Kara-France','Brandon Royval','September 27, 2020', 'September 27, 2020')"
   ]
  },
  {
   "cell_type": "code",
   "execution_count": null,
   "metadata": {},
   "outputs": [],
   "source": [
    "time ufc_predict('Shane Young','Nate Landwehr','September 27, 2020', 'September 27, 2020')"
   ]
  },
  {
   "cell_type": "code",
   "execution_count": null,
   "metadata": {},
   "outputs": [],
   "source": [
    "time ufc_predict('Amanda Ribas','Paige VanZant','July 12, 2020', 'July 12, 2020')"
   ]
  },
  {
   "cell_type": "code",
   "execution_count": null,
   "metadata": {},
   "outputs": [],
   "source": [
    "time ufc_predict('Jessica Andrade','Rose Namajunas','July 12, 2020', 'July 12, 2020')"
   ]
  },
  {
   "cell_type": "code",
   "execution_count": null,
   "metadata": {},
   "outputs": [],
   "source": [
    "time ufc_predict('Petr Yan','Jose Aldo','July 12, 2020', 'July 12, 2020')"
   ]
  },
  {
   "cell_type": "code",
   "execution_count": null,
   "metadata": {},
   "outputs": [],
   "source": [
    "time ufc_predict('Alexander Volkanovski','Max Holloway','July 12, 2020', 'July 12, 2020')"
   ]
  },
  {
   "cell_type": "code",
   "execution_count": null,
   "metadata": {},
   "outputs": [],
   "source": [
    "time ufc_predict('Kamaru Usman','Jorge Masvidal','July 12, 2020', 'July 12, 2020')"
   ]
  },
  {
   "cell_type": "code",
   "execution_count": null,
   "metadata": {},
   "outputs": [],
   "source": [
    "time ufc_predict('Jorge Masvidal','Kamaru Usman','July 12, 2020', 'July 12, 2020')"
   ]
  },
  {
   "cell_type": "code",
   "execution_count": null,
   "metadata": {},
   "outputs": [],
   "source": [
    "time ufc_predict('Alistair Overeem','Augusto Sakai','September 6, 2020', 'September 6, 2020')"
   ]
  },
  {
   "cell_type": "code",
   "execution_count": null,
   "metadata": {},
   "outputs": [],
   "source": [
    "time ufc_predict('Ovince Saint Preux','Alonzo Menifield','September 6, 2020', 'September 6, 2020')"
   ]
  },
  {
   "cell_type": "code",
   "execution_count": null,
   "metadata": {},
   "outputs": [],
   "source": [
    "time ufc_predict('Sijara Eubanks','Karol Rosa','September 6, 2020', 'September 6, 2020')"
   ]
  },
  {
   "cell_type": "code",
   "execution_count": null,
   "metadata": {},
   "outputs": [],
   "source": [
    "time ufc_predict('Thiago Santos','Glover Teixeira','September 13, 2020', 'September 13, 2020')"
   ]
  },
  {
   "cell_type": "code",
   "execution_count": null,
   "metadata": {},
   "outputs": [],
   "source": [
    "time ufc_predict('Michelle Waterson','Angela Hill','September 13, 2020', 'September 13, 2020')"
   ]
  },
  {
   "cell_type": "code",
   "execution_count": null,
   "metadata": {},
   "outputs": [],
   "source": [
    "time ufc_predict('Billy Quarantillo','Kyle Nelson','September 13, 2020', 'September 13, 2020')"
   ]
  },
  {
   "cell_type": "code",
   "execution_count": null,
   "metadata": {},
   "outputs": [],
   "source": [
    "time ufc_predict('Colby Covington','Tyron Woodley','September 19, 2020', 'September 19, 2020')"
   ]
  },
  {
   "cell_type": "code",
   "execution_count": null,
   "metadata": {},
   "outputs": [],
   "source": [
    "time ufc_predict('Shamil Abdurakhimov','Ciryl Gane','September 19, 2020', 'September 19, 2020')"
   ]
  },
  {
   "cell_type": "code",
   "execution_count": null,
   "metadata": {},
   "outputs": [],
   "source": [
    "time ufc_predict('Mackenzie Dern','Randa Markos','September 19, 2020', 'September 19, 2020')"
   ]
  },
  {
   "cell_type": "code",
   "execution_count": null,
   "metadata": {},
   "outputs": [],
   "source": [
    "time ufc_predict('Khabib Nurmagomedov','Justin Gaethje','October 24, 2020', 'October 24, 2020')"
   ]
  },
  {
   "cell_type": "code",
   "execution_count": null,
   "metadata": {},
   "outputs": [],
   "source": [
    "time ufc_predict('Robert Whittaker','Jared Cannonier','October 24, 2020', 'October 24, 2020')"
   ]
  },
  {
   "cell_type": "code",
   "execution_count": null,
   "metadata": {},
   "outputs": [],
   "source": [
    "time ufc_predict('Robert Whittaker','Jared Cannonier','October 24, 2020', 'October 24, 2020')"
   ]
  },
  {
   "cell_type": "code",
   "execution_count": null,
   "metadata": {},
   "outputs": [],
   "source": [
    "time ufc_predict('Zabit Magomedsharipov','Yair Rodriguez','October 24, 2020', 'October 24, 2020')"
   ]
  },
  {
   "cell_type": "code",
   "execution_count": null,
   "metadata": {},
   "outputs": [],
   "source": [
    "time ufc_predict('Rafael Dos Anjos','Islam Makhachev','October 24, 2020', 'October 24, 2020')"
   ]
  },
  {
   "cell_type": "code",
   "execution_count": null,
   "metadata": {},
   "outputs": [],
   "source": [
    "time ufc_predict('Tony Ferguson','Dustin Poirier','October 24, 2020', 'October 24, 2020')"
   ]
  },
  {
   "cell_type": "code",
   "execution_count": null,
   "metadata": {},
   "outputs": [],
   "source": [
    "time ufc_predict('Alexander Volkov','Walt Harris','October 24, 2020', 'October 24, 2020')"
   ]
  },
  {
   "cell_type": "code",
   "execution_count": null,
   "metadata": {},
   "outputs": [],
   "source": [
    "mlp=MLPClassifier()\n",
    "Xp=ufc_best_df.iloc[0:2101]\n",
    "yp=ufc_fights.iloc[0:2101]['method']\n",
    "mlp.fit(Xp,yp)\n",
    "cross_val_score(mlp,Xp,yp,cv=4).mean()"
   ]
  },
  {
   "cell_type": "code",
   "execution_count": null,
   "metadata": {},
   "outputs": [],
   "source": [
    "mlp=MLPClassifier(hidden_layer_sizes=(140),alpha=.0001,solver='sgd',max_iter=300,batch_size=250,random_state=0,learning_rate = 'constant')\n",
    "Xp=ufc_best_df.iloc[0:2101]\n",
    "yp=ufc_fights.iloc[0:2101]['method']\n",
    "mlp.fit(Xp,yp)\n",
    "cross_val_score(mlp,Xp,yp,cv=4).mean()"
   ]
  },
  {
   "cell_type": "code",
   "execution_count": null,
   "metadata": {},
   "outputs": [],
   "source": [
    "#changing the architecture doesn't seem to help\n",
    "mlp=MLPClassifier(hidden_layer_sizes=(110,110),alpha=.0001,solver='sgd',max_iter=500)\n",
    "Xp=ufc_best_df.iloc[0:2101]\n",
    "yp=ufc_fights.iloc[0:2101]['method']\n",
    "mlp.fit(Xp,yp)\n",
    "cross_val_score(mlp,Xp,yp,cv=4).mean()"
   ]
  },
  {
   "cell_type": "code",
   "execution_count": null,
   "metadata": {},
   "outputs": [],
   "source": [
    "#seems sgd is the best solver. Lets figure out the hidden layers thing"
   ]
  },
  {
   "cell_type": "code",
   "execution_count": null,
   "metadata": {},
   "outputs": [],
   "source": [
    "#random forest does way better for picking the method!\n",
    "rfc=RandomForestClassifier()\n",
    "Xr=ufc_best_df.iloc[0:2101]\n",
    "yr=ufc_fights.iloc[0:2101]['method']\n",
    "rfc.fit(Xr,yr)\n",
    "cross_val_score(rfc,Xr,yr,cv=4).mean()"
   ]
  },
  {
   "cell_type": "code",
   "execution_count": null,
   "metadata": {},
   "outputs": [],
   "source": []
  },
  {
   "cell_type": "code",
   "execution_count": null,
   "metadata": {},
   "outputs": [],
   "source": []
  },
  {
   "cell_type": "code",
   "execution_count": null,
   "metadata": {},
   "outputs": [],
   "source": [
    "#so 71.5% of the time we pick the right winner, 40% of the time we pick the right method, meaning .715*.4=\n",
    "#28.6% of the time we guess both correctly"
   ]
  },
  {
   "cell_type": "code",
   "execution_count": null,
   "metadata": {},
   "outputs": [],
   "source": [
    "keepers=['fighter_ko_wins_diff_2',\n",
    "        'fighter_inf_total_strikes_landed_avg',\n",
    "        'opponent_inf_total_strikes_landed_avg',\n",
    "        'fighter_abs_total_strikes_landed_avg',\n",
    "        'opponent_abs_total_strikes_landed_avg',\n",
    "        'fighter_age',\n",
    "        'opponent_age',\n",
    "        'fighter_sub_wins_diff_2',\n",
    "        'fighter_inf_head_strikes_landed_avg',\n",
    "        'fighter_abs_head_strikes_landed_avg',\n",
    "        'opponent_inf_head_strikes_landed_avg',\n",
    "        'opponent_abs_head_strikes_landed_avg',\n",
    "        'fighter_ko_losses_diff_2',\n",
    "        'fighter_inf_ground_strikes_landed_avg',\n",
    "        'fighter_abs_ground_strikes_landed_avg',\n",
    "        'opponent_inf_ground_strikes_landed_avg',\n",
    "        'opponent_abs_ground_strikes_landed_avg',\n",
    "        'fighter_inf_body_strikes_landed_avg',\n",
    "        'fighter_inf_body_strikes_attempts_avg',\n",
    "        'fighter_abs_body_strikes_landed_avg',\n",
    "        'fighter_abs_body_strikes_attempts_avg',\n",
    "        'opponent_inf_body_strikes_landed_avg',\n",
    "        'opponent_inf_body_strikes_attempts_avg',\n",
    "        'opponent_abs_body_strikes_landed_avg',\n",
    "        'opponent_abs_body_strikes_attempts_avg',\n",
    "        'fighter_inf_takedowns_landed_avg',\n",
    "        'fighter_abs_takedowns_landed_avg',\n",
    "        'opponent_inf_takedowns_landed_avg',\n",
    "        'opponent_abs_takedowns_landed_avg',\n",
    "        'fighter_inf_knockdowns_avg',\n",
    "        'fighter_abs_knockdowns_avg',\n",
    "        'opponent_inf_knockdowns_avg',\n",
    "        'opponent_abs_knockdowns_avg',\n",
    "        'fighter_inf_ground_strikes_attempts_avg',\n",
    "        'fighter_abs_ground_strikes_attempts_avg',\n",
    "        'opponent_inf_ground_strikes_attempts_avg',\n",
    "        'opponent_abs_ground_strikes_attempts_avg',\n",
    "        'fighter_inf_leg_strikes_landed_avg',\n",
    "        'fighter_inf_leg_strikes_attempts_avg',\n",
    "        'fighter_abs_leg_strikes_landed_avg',\n",
    "        'fighter_abs_leg_strikes_attempts_avg',\n",
    "        'opponent_inf_leg_strikes_landed_avg',\n",
    "        'opponent_inf_leg_strikes_attempts_avg',\n",
    "        'opponent_abs_leg_strikes_landed_avg',\n",
    "        'opponent_abs_leg_strikes_attempts_avg',\n",
    "        'fighter_inf_clinch_strikes_attempts_avg',\n",
    "        'fighter_abs_clinch_strikes_attempts_avg',\n",
    "        'opponent_inf_clinch_strikes_attempts_avg',\n",
    "        'opponent_abs_clinch_strikes_attempts_avg',\n",
    "        'fighter_inf_pass_avg',\n",
    "        'fighter_abs_pass_avg',\n",
    "        'opponent_inf_pass_avg',\n",
    "        'opponent_abs_pass_avg',\n",
    "        'fighter_stance',\n",
    "        'opponent_stance',\n",
    "        'height_diff',\n",
    "        'reach_diff']\n",
    "\n",
    "maybies=[\n",
    "['fighter_wins_diff_2',\n",
    "'fighter_losses_diff_2'],\n",
    "['fighter_L5Y_wins_diff_2',\n",
    "'fighter_L5Y_losses_diff_2',\n",
    "'fighter_L2Y_wins_diff_2',\n",
    "'fighter_L2Y_losses_diff_2'],\n",
    "['fighter_L5Y_ko_wins_diff_2',\n",
    "'fighter_L5Y_ko_losses_diff_2',\n",
    "'fighter_L2Y_ko_wins_diff_2',\n",
    "'fighter_L2Y_ko_losses_diff_2'],\n",
    "['fighter_sub_losses_diff_2',\n",
    "'fighter_L5Y_sub_wins_diff_2',\n",
    "'fighter_L5Y_sub_losses_diff_2',\n",
    "'fighter_L2Y_sub_wins_diff_2',\n",
    "'fighter_L2Y_sub_losses_diff_2'],\n",
    "['fighter_inf_reversals_avg',\n",
    "'fighter_abs_reversals_avg',\n",
    "'opponent_inf_reversals_avg',\n",
    "'opponent_abs_reversals_avg'],\n",
    "['fighter_inf_sub_attempts_avg',\n",
    "'fighter_abs_sub_attempts_avg',\n",
    "'opponent_inf_sub_attempts_avg',\n",
    "'opponent_abs_sub_attempts_avg'],\n",
    "['fighter_inf_takedowns_attempts_avg',\n",
    "'fighter_abs_takedowns_attempts_avg',\n",
    "'opponent_inf_takedowns_attempts_avg',\n",
    "'opponent_abs_takedowns_attempts_avg'],\n",
    "['fighter_inf_sig_strikes_landed_avg',\n",
    "'fighter_abs_sig_strikes_landed_avg',\n",
    "'opponent_inf_sig_strikes_landed_avg',\n",
    "'opponent_abs_sig_strikes_landed_avg'],\n",
    "['fighter_inf_sig_strikes_attempts_avg',\n",
    "'fighter_abs_sig_strikes_attempts_avg',\n",
    "'opponent_inf_sig_strikes_attempts_avg',\n",
    "'opponent_abs_sig_strikes_attempts_avg'],\n",
    "['fighter_inf_total_strikes_attempts_avg',\n",
    "'fighter_abs_total_strikes_attempts_avg',\n",
    "'opponent_inf_total_strikes_attempts_avg',\n",
    "'opponent_abs_total_strikes_attempts_avg'],\n",
    "['fighter_inf_head_strikes_attempts_avg',\n",
    "'fighter_abs_head_strikes_attempts_avg',\n",
    "'opponent_inf_head_strikes_attempts_avg',\n",
    "'opponent_abs_head_strikes_attempts_avg'],\n",
    "['fighter_inf_distance_strikes_landed_avg',\n",
    "'fighter_abs_distance_strikes_landed_avg',\n",
    "'opponent_inf_distance_strikes_landed_avg',\n",
    "'opponent_abs_distance_strikes_landed_avg'],\n",
    "['fighter_inf_distance_strikes_attempts_avg',\n",
    "'fighter_abs_distance_strikes_attempts_avg',\n",
    "'opponent_inf_distance_strikes_attempts_avg',\n",
    "'opponent_abs_distance_strikes_attempts_avg'],\n",
    "['fighter_inf_clinch_strikes_landed_avg',\n",
    "'fighter_abs_clinch_strikes_landed_avg',\n",
    "'opponent_inf_clinch_strikes_landed_avg',\n",
    "'opponent_abs_clinch_strikes_landed_avg'],\n",
    "]\n",
    "len(maybies+keepers)"
   ]
  },
  {
   "cell_type": "code",
   "execution_count": null,
   "metadata": {},
   "outputs": [],
   "source": [
    "len(keepers)"
   ]
  },
  {
   "cell_type": "code",
   "execution_count": null,
   "metadata": {},
   "outputs": [],
   "source": []
  }
 ],
 "metadata": {
  "kernelspec": {
   "display_name": "Python 3 (ipykernel)",
   "language": "python",
   "name": "python3"
  },
  "language_info": {
   "codemirror_mode": {
    "name": "ipython",
    "version": 3
   },
   "file_extension": ".py",
   "mimetype": "text/x-python",
   "name": "python",
   "nbconvert_exporter": "python",
   "pygments_lexer": "ipython3",
   "version": "3.9.10"
  }
 },
 "nbformat": 4,
 "nbformat_minor": 2
}
