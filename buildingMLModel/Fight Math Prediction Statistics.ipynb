{
 "cells": [
  {
   "cell_type": "code",
   "execution_count": 1,
   "id": "11d6c236",
   "metadata": {},
   "outputs": [],
   "source": [
    "from graph import Graph, Graph3D\n",
    "from functions import *\n",
    "import pandas as pd\n",
    "import numpy as np\n",
    "\n",
    "#getting dependencies\n",
    "pd.options.mode.chained_assignment = None  # default='warn' (disables SettingWithCopyWarning)\n",
    "pd.set_option('display.max_rows', None)\n",
    "pd.set_option('display.max_columns', None)\n",
    "from datetime import datetime\n",
    "from datetime import date\n",
    "import matplotlib.pyplot as plt\n",
    "import random\n",
    "import sklearn\n",
    "import scipy\n",
    "from sklearn.linear_model import LogisticRegression\n",
    "from sklearn.ensemble import RandomForestClassifier\n",
    "from sklearn.neural_network import MLPClassifier\n",
    "from sklearn.model_selection import train_test_split, KFold, cross_val_score\n",
    "from sklearn import preprocessing\n",
    "from sklearn.preprocessing import PolynomialFeatures\n",
    "from sklearn.feature_selection import VarianceThreshold\n",
    "import itertools\n",
    "\n",
    "ufc_fights = pd.read_csv('ufc_fights.csv',low_memory=False)\n",
    "ufc_fights_graph = pd.read_csv('ufc_fights_crap.csv',low_memory=False)\n",
    "odd_indices = range(1,len(ufc_fights_graph.index),2)\n",
    "ufc_fights_graph = ufc_fights_graph.drop(odd_indices)\n",
    "ufc_fights_graph = ufc_fights_graph[['fighter', 'opponent', 'method', 'date', 'division']]\n",
    "ufc_fights_graph = ufc_fights_graph.reset_index(drop=True);\n",
    "ufc_wins_list=[]\n",
    "\n",
    "for i in ufc_fights_graph.index:\n",
    "    temp_list = []\n",
    "    temp_list.append(ufc_fights_graph['fighter'][i])\n",
    "    temp_list.append(ufc_fights_graph['opponent'][i])\n",
    "    temp_list.append(ufc_fights_graph['date'][i])\n",
    "    temp_list.append(ufc_fights_graph['division'][i])\n",
    "    ufc_wins_list.append(temp_list)\n",
    "    \n",
    "#need to define variable \"years\" before calling this function\n",
    "def fight_math(fighter,opponent,date):\n",
    "    fighter_advantage = 0\n",
    "    ufc_wins_list_l5y = [fight for fight in ufc_wins_list if 0<time_diff(fight[2],date)<years*365]\n",
    "    fighter_wins = [fight[1] for fight in ufc_wins_list_l5y if fight[0]==fighter]\n",
    "    fighter_wins.append(fighter)\n",
    "    fighter_wins_wins = [fight[1] for fight in ufc_wins_list_l5y if fight[0] in fighter_wins]\n",
    "    relevant_wins = list(set(fighter_wins+fighter_wins_wins))\n",
    "    fight_math_wins = [fight for fight in ufc_wins_list_l5y if (fight[0] in relevant_wins and fight[1]==opponent)]\n",
    "    fighter_advantage+=len(fight_math_wins)\n",
    "    return fighter_advantage\n",
    "\n",
    "def fight_math_diff(fighter,opponent,date):\n",
    "    return fight_math(fighter,opponent,date)-fight_math(opponent,fighter,date)\n",
    "fight_math_diff_vect = np.vectorize(fight_math_diff)\n",
    "\n",
    "#need to define variable \"years\" before calling this function\n",
    "#perhaps a better score would weight more recent fights more strongly (weight drops by 1/3 every year?)\n",
    "def fighter_score(fighter, date):\n",
    "    fighter_score = 0\n",
    "    ufc_wins_list_l5y = [fight for fight in ufc_wins_list if 0<time_diff(fight[2],date)<years*365]\n",
    "    #calculating contribution from wins\n",
    "    fighter_wins = [fight[1] for fight in ufc_wins_list_l5y if fight[0]==fighter]\n",
    "    fighter_wins_wins = [fight[1] for fight in ufc_wins_list_l5y if fight[0] in fighter_wins]\n",
    "    relevant_wins = list(set(fighter_wins+fighter_wins_wins))\n",
    "    #calculating contribution from losses\n",
    "    fighter_losses = [fight[0] for fight in ufc_wins_list_l5y if fight[1]==fighter]\n",
    "    fighter_losses_losses = [fight[0] for fight in ufc_wins_list_l5y if fight[1] in fighter_wins]\n",
    "    relevant_losses = list(set(fighter_losses+fighter_losses_losses))\n",
    "    return len(relevant_wins)-len(relevant_losses)\n",
    "\n",
    "def fighter_score_diff(fighter,opponent,date):\n",
    "    return fighter_score(fighter,date)-fighter_score(opponent,date)\n",
    "\n",
    "fighter_score_diff_vect = np.vectorize(fighter_score_diff)\n",
    "\n",
    "def best_fighter(date):\n",
    "    candidates=[]\n",
    "    for name in ufcfighterscrap['name']:\n",
    "        candidates.append((name,fighter_score(name,date)))\n",
    "    highest_score=max([candidates[i][1] for i in range(len(candidates))])   \n",
    "    best_fighters = [candidates[j] for j in range(len(candidates)) if candidates[j][1]==highest_score]\n",
    "    return best_fighters\n",
    "    \n",
    "#scores a model\n",
    "def model_score(dataframe,features, iloc_val = 3200, _max_iter = 2000):\n",
    "    yyy=dataframe['result'].iloc[0:iloc_val]\n",
    "    XXX=dataframe[features].iloc[0:iloc_val]\n",
    "    XXXscaler = preprocessing.StandardScaler().fit(XXX)\n",
    "    XXX_scaled = XXXscaler.transform(XXX) \n",
    "    winPredictionModel=LogisticRegression(solver='lbfgs', max_iter=_max_iter)\n",
    "    return cross_val_score(winPredictionModel,XXX_scaled,yyy,cv=4).mean()\n",
    "    \n",
    "#CODE FOR THE GREEDY ALGORITHM FOR FEATURE SELECTION\n",
    "def greedy(dataframe, features, subsetsize, iloc_val=3200, _max_iter = 2000):\n",
    "    i=0\n",
    "    best_stats=[]\n",
    "    s=set(features)\n",
    "    subsets=list(map(set, itertools.combinations(s, subsetsize))) #subsets of size (subsetsize)\n",
    "    possible_stat_dict = {}\n",
    "    scores={0:0}\n",
    "    for stat_pair in subsets:\n",
    "        possible_stat_dict[tuple(stat_pair)]=0\n",
    "    while (i==0) or (scores[i]>scores[i-1]):\n",
    "        i+=1\n",
    "        for stat_pair in list(possible_stat_dict.keys()):\n",
    "            stats_temp = best_stats+list(stat_pair)\n",
    "            possible_stat_dict[tuple(stat_pair)]=model_score(ufc_fights,stats_temp,iloc_val,_max_iter)\n",
    "        max_key = max(possible_stat_dict, key=possible_stat_dict.get)\n",
    "        best_stats.extend(list(max_key))\n",
    "        scores[i]=possible_stat_dict[max_key]\n",
    "        possible_stat_dict.pop(max_key)\n",
    "        print(best_stats,scores[i])\n",
    "    return (best_stats[:-subsetsize], scores[i-1])"
   ]
  },
  {
   "cell_type": "code",
   "execution_count": 2,
   "id": "d59d8834",
   "metadata": {},
   "outputs": [],
   "source": [
    "ufcfighterscrap=pd.read_csv('fighter_stats.csv',sep=',')"
   ]
  },
  {
   "cell_type": "code",
   "execution_count": 11,
   "id": "34b08b75",
   "metadata": {},
   "outputs": [
    {
     "name": "stdout",
     "output_type": "stream",
     "text": [
      "1-year fight math accuracy: 0.6891891891891891\n",
      "1-percentage of the time fight math is nonzero: 0.02011416145691764\n",
      "2-year fight math accuracy: 0.6270627062706271\n",
      "2-percentage of the time fight math is nonzero: 0.0823593367762979\n"
     ]
    },
    {
     "ename": "KeyboardInterrupt",
     "evalue": "",
     "output_type": "error",
     "traceback": [
      "\u001b[0;31m---------------------------------------------------------------------------\u001b[0m",
      "\u001b[0;31mKeyboardInterrupt\u001b[0m                         Traceback (most recent call last)",
      "Input \u001b[0;32mIn [11]\u001b[0m, in \u001b[0;36m<module>\u001b[0;34m\u001b[0m\n\u001b[1;32m      2\u001b[0m \u001b[38;5;28;01mfor\u001b[39;00m i \u001b[38;5;129;01min\u001b[39;00m \u001b[38;5;28mrange\u001b[39m(\u001b[38;5;241m1\u001b[39m,\u001b[38;5;241m10\u001b[39m):    \n\u001b[1;32m      3\u001b[0m     years\u001b[38;5;241m=\u001b[39mi\n\u001b[0;32m----> 4\u001b[0m     ufc_fights[\u001b[38;5;28mstr\u001b[39m(years)\u001b[38;5;241m+\u001b[39m\u001b[38;5;124m'\u001b[39m\u001b[38;5;124m-fight_math\u001b[39m\u001b[38;5;124m'\u001b[39m] \u001b[38;5;241m=\u001b[39m \u001b[43mfight_math_diff_vect\u001b[49m\u001b[43m(\u001b[49m\u001b[43mufc_fights\u001b[49m\u001b[43m[\u001b[49m\u001b[38;5;124;43m'\u001b[39;49m\u001b[38;5;124;43mfighter\u001b[39;49m\u001b[38;5;124;43m'\u001b[39;49m\u001b[43m]\u001b[49m\u001b[43m,\u001b[49m\n\u001b[1;32m      5\u001b[0m \u001b[43m                                               \u001b[49m\u001b[43mufc_fights\u001b[49m\u001b[43m[\u001b[49m\u001b[38;5;124;43m'\u001b[39;49m\u001b[38;5;124;43mopponent\u001b[39;49m\u001b[38;5;124;43m'\u001b[39;49m\u001b[43m]\u001b[49m\u001b[43m,\u001b[49m\n\u001b[1;32m      6\u001b[0m \u001b[43m                                               \u001b[49m\u001b[43mufc_fights\u001b[49m\u001b[43m[\u001b[49m\u001b[38;5;124;43m'\u001b[39;49m\u001b[38;5;124;43mdate\u001b[39;49m\u001b[38;5;124;43m'\u001b[39;49m\u001b[43m]\u001b[49m\u001b[43m)\u001b[49m\n\u001b[1;32m      7\u001b[0m     \u001b[38;5;66;03m#gives all indices when fight math guesses correct\u001b[39;00m\n\u001b[1;32m      8\u001b[0m     fight_math_correct \u001b[38;5;241m=\u001b[39m [i \u001b[38;5;28;01mfor\u001b[39;00m i \u001b[38;5;129;01min\u001b[39;00m ufc_fights\u001b[38;5;241m.\u001b[39mindex \u001b[38;5;28;01mif\u001b[39;00m \n\u001b[1;32m      9\u001b[0m                           ((ufc_fights[\u001b[38;5;28mstr\u001b[39m(years)\u001b[38;5;241m+\u001b[39m\u001b[38;5;124m'\u001b[39m\u001b[38;5;124m-fight_math\u001b[39m\u001b[38;5;124m'\u001b[39m][i]\u001b[38;5;241m>\u001b[39m\u001b[38;5;241m0\u001b[39m \u001b[38;5;129;01mand\u001b[39;00m ufc_fights[\u001b[38;5;124m'\u001b[39m\u001b[38;5;124mresult\u001b[39m\u001b[38;5;124m'\u001b[39m][i]\u001b[38;5;241m==\u001b[39m\u001b[38;5;124m'\u001b[39m\u001b[38;5;124mW\u001b[39m\u001b[38;5;124m'\u001b[39m) \u001b[38;5;129;01mor\u001b[39;00m \n\u001b[1;32m     10\u001b[0m                           (ufc_fights[\u001b[38;5;28mstr\u001b[39m(years)\u001b[38;5;241m+\u001b[39m\u001b[38;5;124m'\u001b[39m\u001b[38;5;124m-fight_math\u001b[39m\u001b[38;5;124m'\u001b[39m][i]\u001b[38;5;241m<\u001b[39m\u001b[38;5;241m0\u001b[39m \u001b[38;5;129;01mand\u001b[39;00m ufc_fights[\u001b[38;5;124m'\u001b[39m\u001b[38;5;124mresult\u001b[39m\u001b[38;5;124m'\u001b[39m][i]\u001b[38;5;241m==\u001b[39m\u001b[38;5;124m'\u001b[39m\u001b[38;5;124mL\u001b[39m\u001b[38;5;124m'\u001b[39m))]\n",
      "File \u001b[0;32m/opt/homebrew/lib/python3.9/site-packages/numpy/lib/function_base.py:2304\u001b[0m, in \u001b[0;36mvectorize.__call__\u001b[0;34m(self, *args, **kwargs)\u001b[0m\n\u001b[1;32m   2301\u001b[0m     vargs \u001b[38;5;241m=\u001b[39m [args[_i] \u001b[38;5;28;01mfor\u001b[39;00m _i \u001b[38;5;129;01min\u001b[39;00m inds]\n\u001b[1;32m   2302\u001b[0m     vargs\u001b[38;5;241m.\u001b[39mextend([kwargs[_n] \u001b[38;5;28;01mfor\u001b[39;00m _n \u001b[38;5;129;01min\u001b[39;00m names])\n\u001b[0;32m-> 2304\u001b[0m \u001b[38;5;28;01mreturn\u001b[39;00m \u001b[38;5;28;43mself\u001b[39;49m\u001b[38;5;241;43m.\u001b[39;49m\u001b[43m_vectorize_call\u001b[49m\u001b[43m(\u001b[49m\u001b[43mfunc\u001b[49m\u001b[38;5;241;43m=\u001b[39;49m\u001b[43mfunc\u001b[49m\u001b[43m,\u001b[49m\u001b[43m \u001b[49m\u001b[43margs\u001b[49m\u001b[38;5;241;43m=\u001b[39;49m\u001b[43mvargs\u001b[49m\u001b[43m)\u001b[49m\n",
      "File \u001b[0;32m/opt/homebrew/lib/python3.9/site-packages/numpy/lib/function_base.py:2387\u001b[0m, in \u001b[0;36mvectorize._vectorize_call\u001b[0;34m(self, func, args)\u001b[0m\n\u001b[1;32m   2384\u001b[0m \u001b[38;5;66;03m# Convert args to object arrays first\u001b[39;00m\n\u001b[1;32m   2385\u001b[0m inputs \u001b[38;5;241m=\u001b[39m [asanyarray(a, dtype\u001b[38;5;241m=\u001b[39m\u001b[38;5;28mobject\u001b[39m) \u001b[38;5;28;01mfor\u001b[39;00m a \u001b[38;5;129;01min\u001b[39;00m args]\n\u001b[0;32m-> 2387\u001b[0m outputs \u001b[38;5;241m=\u001b[39m \u001b[43mufunc\u001b[49m\u001b[43m(\u001b[49m\u001b[38;5;241;43m*\u001b[39;49m\u001b[43minputs\u001b[49m\u001b[43m)\u001b[49m\n\u001b[1;32m   2389\u001b[0m \u001b[38;5;28;01mif\u001b[39;00m ufunc\u001b[38;5;241m.\u001b[39mnout \u001b[38;5;241m==\u001b[39m \u001b[38;5;241m1\u001b[39m:\n\u001b[1;32m   2390\u001b[0m     res \u001b[38;5;241m=\u001b[39m asanyarray(outputs, dtype\u001b[38;5;241m=\u001b[39motypes[\u001b[38;5;241m0\u001b[39m])\n",
      "Input \u001b[0;32mIn [1]\u001b[0m, in \u001b[0;36mfight_math_diff\u001b[0;34m(fighter, opponent, date)\u001b[0m\n\u001b[1;32m     51\u001b[0m \u001b[38;5;28;01mdef\u001b[39;00m \u001b[38;5;21mfight_math_diff\u001b[39m(fighter,opponent,date):\n\u001b[0;32m---> 52\u001b[0m     \u001b[38;5;28;01mreturn\u001b[39;00m \u001b[43mfight_math\u001b[49m\u001b[43m(\u001b[49m\u001b[43mfighter\u001b[49m\u001b[43m,\u001b[49m\u001b[43mopponent\u001b[49m\u001b[43m,\u001b[49m\u001b[43mdate\u001b[49m\u001b[43m)\u001b[49m\u001b[38;5;241m-\u001b[39mfight_math(opponent,fighter,date)\n",
      "Input \u001b[0;32mIn [1]\u001b[0m, in \u001b[0;36mfight_math\u001b[0;34m(fighter, opponent, date)\u001b[0m\n\u001b[1;32m     40\u001b[0m \u001b[38;5;28;01mdef\u001b[39;00m \u001b[38;5;21mfight_math\u001b[39m(fighter,opponent,date):\n\u001b[1;32m     41\u001b[0m     fighter_advantage \u001b[38;5;241m=\u001b[39m \u001b[38;5;241m0\u001b[39m\n\u001b[0;32m---> 42\u001b[0m     ufc_wins_list_l5y \u001b[38;5;241m=\u001b[39m [fight \u001b[38;5;28;01mfor\u001b[39;00m fight \u001b[38;5;129;01min\u001b[39;00m ufc_wins_list \u001b[38;5;28;01mif\u001b[39;00m \u001b[38;5;241m0\u001b[39m\u001b[38;5;241m<\u001b[39mtime_diff(fight[\u001b[38;5;241m2\u001b[39m],date)\u001b[38;5;241m<\u001b[39myears\u001b[38;5;241m*\u001b[39m\u001b[38;5;241m365\u001b[39m]\n\u001b[1;32m     43\u001b[0m     fighter_wins \u001b[38;5;241m=\u001b[39m [fight[\u001b[38;5;241m1\u001b[39m] \u001b[38;5;28;01mfor\u001b[39;00m fight \u001b[38;5;129;01min\u001b[39;00m ufc_wins_list_l5y \u001b[38;5;28;01mif\u001b[39;00m fight[\u001b[38;5;241m0\u001b[39m]\u001b[38;5;241m==\u001b[39mfighter]\n\u001b[1;32m     44\u001b[0m     fighter_wins\u001b[38;5;241m.\u001b[39mappend(fighter)\n",
      "Input \u001b[0;32mIn [1]\u001b[0m, in \u001b[0;36m<listcomp>\u001b[0;34m(.0)\u001b[0m\n\u001b[1;32m     40\u001b[0m \u001b[38;5;28;01mdef\u001b[39;00m \u001b[38;5;21mfight_math\u001b[39m(fighter,opponent,date):\n\u001b[1;32m     41\u001b[0m     fighter_advantage \u001b[38;5;241m=\u001b[39m \u001b[38;5;241m0\u001b[39m\n\u001b[0;32m---> 42\u001b[0m     ufc_wins_list_l5y \u001b[38;5;241m=\u001b[39m [fight \u001b[38;5;28;01mfor\u001b[39;00m fight \u001b[38;5;129;01min\u001b[39;00m ufc_wins_list \u001b[38;5;28;01mif\u001b[39;00m \u001b[38;5;241m0\u001b[39m\u001b[38;5;241m<\u001b[39m\u001b[43mtime_diff\u001b[49m\u001b[43m(\u001b[49m\u001b[43mfight\u001b[49m\u001b[43m[\u001b[49m\u001b[38;5;241;43m2\u001b[39;49m\u001b[43m]\u001b[49m\u001b[43m,\u001b[49m\u001b[43mdate\u001b[49m\u001b[43m)\u001b[49m\u001b[38;5;241m<\u001b[39myears\u001b[38;5;241m*\u001b[39m\u001b[38;5;241m365\u001b[39m]\n\u001b[1;32m     43\u001b[0m     fighter_wins \u001b[38;5;241m=\u001b[39m [fight[\u001b[38;5;241m1\u001b[39m] \u001b[38;5;28;01mfor\u001b[39;00m fight \u001b[38;5;129;01min\u001b[39;00m ufc_wins_list_l5y \u001b[38;5;28;01mif\u001b[39;00m fight[\u001b[38;5;241m0\u001b[39m]\u001b[38;5;241m==\u001b[39mfighter]\n\u001b[1;32m     44\u001b[0m     fighter_wins\u001b[38;5;241m.\u001b[39mappend(fighter)\n",
      "File \u001b[0;32m~/UFC_Prediction_2022/buildingMLModel/functions.py:137\u001b[0m, in \u001b[0;36mtime_diff\u001b[0;34m(day1, day2)\u001b[0m\n\u001b[1;32m    135\u001b[0m     answer\u001b[38;5;241m=\u001b[39m(day2\u001b[38;5;241m-\u001b[39mdatetime\u001b[38;5;241m.\u001b[39mstrptime(day1, \u001b[38;5;124m'\u001b[39m\u001b[38;5;124m%\u001b[39m\u001b[38;5;124mB \u001b[39m\u001b[38;5;132;01m%d\u001b[39;00m\u001b[38;5;124m, \u001b[39m\u001b[38;5;124m%\u001b[39m\u001b[38;5;124mY\u001b[39m\u001b[38;5;124m'\u001b[39m))\u001b[38;5;241m.\u001b[39mdays\n\u001b[1;32m    136\u001b[0m \u001b[38;5;28;01melse\u001b[39;00m:\n\u001b[0;32m--> 137\u001b[0m     answer\u001b[38;5;241m=\u001b[39m(datetime\u001b[38;5;241m.\u001b[39mstrptime(day2, \u001b[38;5;124m'\u001b[39m\u001b[38;5;124m%\u001b[39m\u001b[38;5;124mB \u001b[39m\u001b[38;5;132;01m%d\u001b[39;00m\u001b[38;5;124m, \u001b[39m\u001b[38;5;124m%\u001b[39m\u001b[38;5;124mY\u001b[39m\u001b[38;5;124m'\u001b[39m)\u001b[38;5;241m-\u001b[39m\u001b[43mdatetime\u001b[49m\u001b[38;5;241;43m.\u001b[39;49m\u001b[43mstrptime\u001b[49m\u001b[43m(\u001b[49m\u001b[43mday1\u001b[49m\u001b[43m,\u001b[49m\u001b[43m \u001b[49m\u001b[38;5;124;43m'\u001b[39;49m\u001b[38;5;124;43m%\u001b[39;49m\u001b[38;5;124;43mB \u001b[39;49m\u001b[38;5;132;43;01m%d\u001b[39;49;00m\u001b[38;5;124;43m, \u001b[39;49m\u001b[38;5;124;43m%\u001b[39;49m\u001b[38;5;124;43mY\u001b[39;49m\u001b[38;5;124;43m'\u001b[39;49m\u001b[43m)\u001b[49m)\u001b[38;5;241m.\u001b[39mdays\n\u001b[1;32m    138\u001b[0m \u001b[38;5;28;01mreturn\u001b[39;00m answer\n",
      "File \u001b[0;32m/opt/homebrew/Cellar/python@3.9/3.9.10/Frameworks/Python.framework/Versions/3.9/lib/python3.9/_strptime.py:579\u001b[0m, in \u001b[0;36m_strptime_datetime\u001b[0;34m(cls, data_string, format)\u001b[0m\n\u001b[1;32m    576\u001b[0m         tz \u001b[38;5;241m=\u001b[39m datetime_timezone(tzdelta)\n\u001b[1;32m    577\u001b[0m     args \u001b[38;5;241m+\u001b[39m\u001b[38;5;241m=\u001b[39m (tz,)\n\u001b[0;32m--> 579\u001b[0m \u001b[38;5;28;01mreturn\u001b[39;00m \u001b[38;5;28;43mcls\u001b[39;49m\u001b[43m(\u001b[49m\u001b[38;5;241;43m*\u001b[39;49m\u001b[43margs\u001b[49m\u001b[43m)\u001b[49m\n",
      "\u001b[0;31mKeyboardInterrupt\u001b[0m: "
     ]
    }
   ],
   "source": [
    "#investigating predictability of fight math depending on the number of past years to use in the calculation\n",
    "for i in range(1,10):    \n",
    "    years=i\n",
    "    ufc_fights[str(years)+'-fight_math'] = fight_math_diff_vect(ufc_fights['fighter'],\n",
    "                                               ufc_fights['opponent'],\n",
    "                                               ufc_fights['date'])\n",
    "    #gives all indices when fight math guesses correct\n",
    "    fight_math_correct = [i for i in ufc_fights.index if \n",
    "                          ((ufc_fights[str(years)+'-fight_math'][i]>0 and ufc_fights['result'][i]=='W') or \n",
    "                          (ufc_fights[str(years)+'-fight_math'][i]<0 and ufc_fights['result'][i]=='L'))]\n",
    "    #gives all indices when fight math is nonzero\n",
    "    fight_math_relevant = [i for i in ufc_fights.index if ufc_fights[str(years)+'-fight_math'][i]!=0]\n",
    "\n",
    "    # years = 5 ----------> .578\n",
    "    #percentage of the time that fight math guesses the correct fighter when nonzero\n",
    "    print(str(years)+'-year fight math accuracy: '+str(len(fight_math_correct)/len(fight_math_relevant)))\n",
    "\n",
    "    # years = 5 ----------> .154\n",
    "    #percentage of the time fight math is nonzero\n",
    "    print(str(years)+'-percentage of the time fight math is nonzero: '\n",
    "          +str(len(fight_math_relevant)/len(ufc_fights.index)))\n",
    "    \n",
    "    "
   ]
  },
  {
   "cell_type": "code",
   "execution_count": 58,
   "id": "7a621351",
   "metadata": {},
   "outputs": [
    {
     "name": "stdout",
     "output_type": "stream",
     "text": [
      "the best fighter(s) in 1993 was Royce Gracie with a score of 5\n",
      "the best fighter(s) in 1994 was Royce Gracie with a score of 24\n",
      "the best fighter(s) in 1995 was Royce Gracie with a score of 22\n",
      "the best fighter(s) in 1996 was Dan Severn with a score of 15\n",
      "the best fighter(s) in 1997 was Mark Coleman with a score of 10\n",
      "the best fighter(s) in 1998 was Randy Couture with a score of 10\n",
      "the best fighter(s) in 1999 was Frank Shamrock with a score of 7\n",
      "the best fighter(s) in 2000 was Kevin Randleman with a score of 7\n",
      "the best fighter(s) in 2001 was Tito Ortiz with a score of 7\n",
      "the best fighter(s) in 2002 was Jens Pulver with a score of 7\n",
      "the best fighter(s) in 2003 was Matt Hughes with a score of 8\n",
      "the best fighter(s) in 2004 was Yves Edwards with a score of 6\n",
      "the best fighter(s) in 2005 was Rich Franklin with a score of 9\n",
      "the best fighter(s) in 2006 was Anderson Silva with a score of 11\n",
      "the best fighter(s) in 2007 was Rashad Evans with a score of 14\n",
      "the best fighter(s) in 2008 was Anderson Silva with a score of 14\n",
      "the best fighter(s) in 2009 was Gray Maynard with a score of 14\n",
      "the best fighter(s) in 2010 was Jim Miller with a score of 11\n",
      "the best fighter(s) in 2011 was Brian Ebersole with a score of 12\n",
      "the best fighter(s) in 2012 was Johny Hendricks with a score of 13\n",
      "the best fighter(s) in 2013 was Matt Brown with a score of 14\n",
      "the best fighter(s) in 2014 was Donald Cerrone with a score of 15\n",
      "the best fighter(s) in 2015 was Neil Magny with a score of 19\n",
      "the best fighter(s) in 2016 was Donald Cerrone with a score of 12\n",
      "the best fighter(s) in 2017 was Santiago Ponzinibbio with a score of 13\n",
      "the best fighter(s) in 2018 was Thiago Santos with a score of 14\n",
      "the best fighter(s) in 2019 was Israel Adesanya with a score of 10\n",
      "the best fighter(s) in 2020 was Deiveson Figueiredo with a score of 11\n",
      "the best fighter(s) in 2021 was Rafael Fiziev with a score of 10\n",
      "the best fighter(s) in 2022 was Tom Aspinall with a score of 8\n"
     ]
    }
   ],
   "source": [
    "#this uses the last 2 years to compute fighter scores\n",
    "years = 2\n",
    "for i in range(30):\n",
    "    date = 'December 25, '+str(1993+i)\n",
    "    best = best_fighter(date)\n",
    "    print('the best fighter(s) in '+str(1993+i)+' was '+str(best[0][0])+' with a score of '+str(best[0][1]))"
   ]
  },
  {
   "cell_type": "code",
   "execution_count": 57,
   "id": "11beb4cf",
   "metadata": {},
   "outputs": [
    {
     "name": "stdout",
     "output_type": "stream",
     "text": [
      "the best fighter(s) in 1993 was Royce Gracie with a score of 5\n",
      "the best fighter(s) in 1994 was Royce Gracie with a score of 24\n",
      "the best fighter(s) in 1995 was Royce Gracie with a score of 31\n",
      "the best fighter(s) in 1996 was Royce Gracie with a score of 31\n",
      "the best fighter(s) in 1997 was Royce Gracie with a score of 30\n",
      "the best fighter(s) in 1998 was Royce Gracie with a score of 29\n",
      "the best fighter(s) in 1999 was Royce Gracie with a score of 28\n",
      "the best fighter(s) in 2000 was Royce Gracie with a score of 27\n",
      "the best fighter(s) in 2001 was Royce Gracie with a score of 27\n",
      "the best fighter(s) in 2002 was Tito Ortiz with a score of 24\n",
      "the best fighter(s) in 2003 was Randy Couture with a score of 26\n",
      "the best fighter(s) in 2004 was Randy Couture with a score of 28\n",
      "the best fighter(s) in 2005 was Chuck Liddell with a score of 32\n",
      "the best fighter(s) in 2006 was Chuck Liddell with a score of 29\n",
      "the best fighter(s) in 2007 was Georges St-Pierre with a score of 34\n",
      "the best fighter(s) in 2008 was Georges St-Pierre with a score of 44\n",
      "the best fighter(s) in 2009 was Georges St-Pierre with a score of 47\n",
      "the best fighter(s) in 2010 was Georges St-Pierre with a score of 51\n",
      "the best fighter(s) in 2011 was Georges St-Pierre with a score of 43\n",
      "the best fighter(s) in 2012 was Georges St-Pierre with a score of 46\n",
      "the best fighter(s) in 2013 was Georges St-Pierre with a score of 46\n",
      "the best fighter(s) in 2014 was Jon Jones with a score of 45\n",
      "the best fighter(s) in 2015 was Donald Cerrone with a score of 56\n",
      "the best fighter(s) in 2016 was Donald Cerrone with a score of 77\n",
      "the best fighter(s) in 2017 was Donald Cerrone with a score of 74\n",
      "the best fighter(s) in 2018 was Donald Cerrone with a score of 70\n",
      "the best fighter(s) in 2019 was Donald Cerrone with a score of 62\n",
      "the best fighter(s) in 2020 was Kamaru Usman with a score of 51\n",
      "the best fighter(s) in 2021 was Kamaru Usman with a score of 57\n",
      "the best fighter(s) in 2022 was Kamaru Usman with a score of 56\n"
     ]
    }
   ],
   "source": [
    "#this uses the last 5 years to compute fighter scores\n",
    "years = 5\n",
    "for i in range(30):\n",
    "    date = 'December 25, '+str(1993+i)\n",
    "    best = best_fighter(date)\n",
    "    print('the best fighter(s) in '+str(1993+i)+' was '+str(best[0][0])+' with a score of '+str(best[0][1]))"
   ]
  },
  {
   "cell_type": "code",
   "execution_count": 61,
   "id": "951db7ae",
   "metadata": {},
   "outputs": [
    {
     "name": "stdout",
     "output_type": "stream",
     "text": [
      "the best fighter(s) in 1993 was Royce Gracie with a score of 5\n",
      "the best fighter(s) in 1994 was Royce Gracie with a score of 24\n",
      "the best fighter(s) in 1995 was Royce Gracie with a score of 31\n",
      "the best fighter(s) in 1996 was Royce Gracie with a score of 31\n",
      "the best fighter(s) in 1997 was Royce Gracie with a score of 30\n",
      "the best fighter(s) in 1998 was Royce Gracie with a score of 29\n",
      "the best fighter(s) in 1999 was Royce Gracie with a score of 28\n",
      "the best fighter(s) in 2000 was Royce Gracie with a score of 27\n",
      "the best fighter(s) in 2001 was Royce Gracie with a score of 27\n",
      "the best fighter(s) in 2002 was Royce Gracie with a score of 26\n",
      "the best fighter(s) in 2003 was Randy Couture with a score of 26\n",
      "the best fighter(s) in 2004 was Randy Couture with a score of 28\n",
      "the best fighter(s) in 2005 was Chuck Liddell with a score of 32\n",
      "the best fighter(s) in 2006 was Chuck Liddell with a score of 35\n",
      "the best fighter(s) in 2007 was Georges St-Pierre with a score of 34\n",
      "the best fighter(s) in 2008 was Georges St-Pierre with a score of 45\n",
      "the best fighter(s) in 2009 was Georges St-Pierre with a score of 47\n",
      "the best fighter(s) in 2010 was Georges St-Pierre with a score of 54\n",
      "the best fighter(s) in 2011 was Georges St-Pierre with a score of 49\n",
      "the best fighter(s) in 2012 was Georges St-Pierre with a score of 47\n",
      "the best fighter(s) in 2013 was Georges St-Pierre with a score of 52\n",
      "the best fighter(s) in 2014 was Georges St-Pierre with a score of 47\n",
      "the best fighter(s) in 2015 was Donald Cerrone with a score of 57\n",
      "the best fighter(s) in 2016 was Donald Cerrone with a score of 78\n",
      "the best fighter(s) in 2017 was Donald Cerrone with a score of 76\n",
      "the best fighter(s) in 2018 was Donald Cerrone with a score of 77\n",
      "the best fighter(s) in 2019 was Donald Cerrone with a score of 70\n",
      "the best fighter(s) in 2020 was Donald Cerrone with a score of 63\n",
      "the best fighter(s) in 2021 was Kamaru Usman with a score of 60\n",
      "the best fighter(s) in 2022 was Kamaru Usman with a score of 59\n"
     ]
    }
   ],
   "source": [
    "#this uses the last 10 years to compute fighter scores\n",
    "years = 10\n",
    "for i in range(30):\n",
    "    date = 'December 25, '+str(1993+i)\n",
    "    best = best_fighter(date)\n",
    "    print('the best fighter(s) in '+str(1993+i)+' was '+str(best[0][0])+' with a score of '+str(best[0][1]))"
   ]
  },
  {
   "cell_type": "code",
   "execution_count": null,
   "id": "a0386fec",
   "metadata": {},
   "outputs": [],
   "source": [
    "# investingating the predictability of fighter score\n",
    "for i in range(1,20,2):    \n",
    "    years=i\n",
    "    ufc_fights[str(years)+'-fighter_score_diff'] = fighter_score_diff_vect(ufc_fights['fighter'],\n",
    "                                               ufc_fights['opponent'],\n",
    "                                               ufc_fights['date'])\n",
    "    #gives all indices when fight math guesses correct\n",
    "    fighter_score_correct = [i for i in ufc_fights.index if \n",
    "                          ((ufc_fights[str(years)+'-fighter_score_diff'][i]>0 and ufc_fights['result'][i]=='W') or \n",
    "                          (ufc_fights[str(years)+'-fighter_score_diff'][i]<0 and ufc_fights['result'][i]=='L'))]\n",
    "    #gives all indices when fight math is nonzero\n",
    "    fighter_score_relevant = [i for i in ufc_fights.index if ufc_fights[str(years)+'-fighter_score_diff'][i]!=0]\n",
    "\n",
    "    # years = 5 ----------> .578\n",
    "    #percentage of the time that fight math guesses the correct fighter when nonzero\n",
    "    print(str(years)+'-year fighter score accuracy: '+str(len(fighter_score_correct)/len(fighter_score_relevant)))\n",
    "\n",
    "    # years = 5 ----------> .154\n",
    "    #percentage of the time fight math is nonzero\n",
    "    print(str(years)+'-percentage of the time fighter score is nonzero: '\n",
    "          +str(len(fighter_score_relevant)/len(ufc_fights.index)))\n",
    "    \n",
    "    "
   ]
  },
  {
   "cell_type": "code",
   "execution_count": null,
   "id": "0b4ba427",
   "metadata": {},
   "outputs": [],
   "source": [
    "# investingating the predictability of fighter score\n",
    "for i in [4,6]:    \n",
    "    years=i\n",
    "    ufc_fights[str(years)+'-fighter_score_diff'] = fighter_score_diff_vect(ufc_fights['fighter'],\n",
    "                                               ufc_fights['opponent'],\n",
    "                                               ufc_fights['date'])\n",
    "    #gives all indices when fight math guesses correct\n",
    "    fighter_score_correct = [i for i in ufc_fights.index if \n",
    "                          ((ufc_fights[str(years)+'-fighter_score_diff'][i]>0 and ufc_fights['result'][i]=='W') or \n",
    "                          (ufc_fights[str(years)+'-fighter_score_diff'][i]<0 and ufc_fights['result'][i]=='L'))]\n",
    "    #gives all indices when fight math is nonzero\n",
    "    fighter_score_relevant = [i for i in ufc_fights.index if ufc_fights[str(years)+'-fighter_score_diff'][i]!=0]\n",
    "\n",
    "    # years = 5 ----------> .578\n",
    "    #percentage of the time that fight math guesses the correct fighter when nonzero\n",
    "    print(str(years)+'-year fighter score accuracy: '+str(len(fighter_score_correct)/len(fighter_score_relevant)))\n",
    "\n",
    "    # years = 5 ----------> .154\n",
    "    #percentage of the time fight math is nonzero\n",
    "    print(str(years)+'-percentage of the time fighter score is nonzero: '\n",
    "          +str(len(fighter_score_relevant)/len(ufc_fights.index)))"
   ]
  },
  {
   "cell_type": "code",
   "execution_count": null,
   "id": "52b1c592",
   "metadata": {},
   "outputs": [],
   "source": [
    "#Now lets use these new stats (fight_math and fighter_score) in our ML models"
   ]
  },
  {
   "cell_type": "code",
   "execution_count": 3,
   "id": "26929a11",
   "metadata": {},
   "outputs": [
    {
     "data": {
      "text/plain": [
       "array(['SUB', 'KO/TKO', 'DEC', 'bullshit'], dtype=object)"
      ]
     },
     "execution_count": 3,
     "metadata": {},
     "output_type": "execute_result"
    }
   ],
   "source": [
    "# cleans method column so 'M-DEC' and 'U-DEC' count as decision, \n",
    "# and 'S-DEC', 'doctor stoppage', 'overturned' etc counts as 'bullshit'\n",
    "ufc_fights['method'] = clean_method_for_winner_vect(ufc_fights['method'])\n",
    "ufc_fights['method'].unique()"
   ]
  },
  {
   "cell_type": "code",
   "execution_count": 4,
   "id": "46c6aed7",
   "metadata": {},
   "outputs": [],
   "source": [
    "#WHY AM I USING u'' i.e. unicode... r'' takes less memory space. Was there a reason for using u?\n",
    "#getting rid of rows with incomplete or useless data\n",
    "#fights with outcome \"Win\" or \"Loss\" (no \"Draw\")\n",
    "draw_mask=ufc_fights['result'] != 'D' \n",
    "#fights where the method of victory is TKO/SUB/DEC (no split decision or DQ or Overturned or anything else like that)\n",
    "method_mask=(ufc_fights['method']!='bullshit')\n",
    "#fights where age is known\n",
    "age_mask=(ufc_fights['fighter_age']!='unknown')&(ufc_fights['opponent_age']!='unknown')\n",
    "#fights where height reach is known\n",
    "height_mask=(ufc_fights['fighter_height']!='unknown')&(ufc_fights['opponent_height']!='unknown')\n",
    "reach_mask=(ufc_fights['fighter_reach']!='unknown')&(ufc_fights['opponent_reach']!='unknown')\n",
    "#fights where number of wins is known\n",
    "wins_mask=(ufc_fights['fighter_wins'] != 'unknown' )& (ufc_fights['opponent_wins'] != 'unknown')\n",
    "#fights where both fighters have strike statistics (gets rid of UFC debuts)\n",
    "strikes_mask=(ufc_fights['fighter_inf_sig_strikes_attempts_avg'] != 0)&(ufc_fights['opponent_inf_sig_strikes_attempts_avg'] != 0)\n",
    "#includes only the fights satisfying these conditions\n",
    "ufc_fights=ufc_fights[draw_mask&method_mask&age_mask&height_mask&reach_mask&wins_mask&strikes_mask]\n",
    "\n",
    "#listing all stats and making some new stats from them (differences often score higher in the learning models)\n",
    "record_statistics=[u'fighter_wins', u'fighter_losses', u'fighter_L5Y_wins',u'fighter_L5Y_losses', \n",
    "                   u'fighter_L2Y_wins', u'fighter_L2Y_losses',u'fighter_ko_wins',u'fighter_ko_losses',\n",
    "                   u'fighter_L5Y_ko_wins',u'fighter_L5Y_ko_losses',u'fighter_L2Y_ko_wins',u'fighter_L2Y_ko_losses',\n",
    "                   u'fighter_sub_wins',u'fighter_sub_losses',u'fighter_L5Y_sub_wins',u'fighter_L5Y_sub_losses', \n",
    "                   u'fighter_L2Y_sub_wins', u'fighter_L2Y_sub_losses',u'opponent_wins', u'opponent_losses',\n",
    "                   u'opponent_L5Y_wins', \n",
    "                   u'opponent_L5Y_losses', \n",
    "                   u'opponent_L2Y_wins', \n",
    "                   u'opponent_L2Y_losses', \n",
    "                    u'opponent_ko_wins', \n",
    "                   u'opponent_ko_losses', \n",
    "                   u'opponent_L5Y_ko_wins', \n",
    "                   u'opponent_L5Y_ko_losses', \n",
    "                   u'opponent_L2Y_ko_wins',\n",
    "                    u'opponent_L2Y_ko_losses', \n",
    "                   u'opponent_sub_wins', \n",
    "                   u'opponent_sub_losses',\n",
    "                   u'opponent_L5Y_sub_wins', \n",
    "                    u'opponent_L5Y_sub_losses', \n",
    "                   u'opponent_L2Y_sub_wins', \n",
    "                   u'opponent_L2Y_sub_losses']\n",
    "\n",
    "physical_stats=[ u'fighter_age',\n",
    "                u'fighter_height',\n",
    "                    u'fighter_reach',  \n",
    "                u'opponent_age',  \n",
    "                u'opponent_height',\n",
    "                    u'opponent_reach']\n",
    "\n",
    "#THERE MAY BE A PROBLEM IN AGE HEIGHT REACH TO DO WITH STRING VS FLOAT. MAKE SURE THESE ARE ALL THE CORRECT TYPE\n",
    "#MAYBE WE ARE LOSING PREDICTABILITY HERE\n",
    "\n",
    "#here is the list of all stats available (besides stance), does not include names or result\n",
    "punch_statistics=[    u'fighter_inf_knockdowns_avg',\n",
    "                    u'fighter_inf_pass_avg',\n",
    "                    u'fighter_inf_reversals_avg',\n",
    "                    u'fighter_inf_sub_attempts_avg',\n",
    "                    u'fighter_inf_takedowns_landed_avg',\n",
    "                    u'fighter_inf_takedowns_attempts_avg',\n",
    "                    u'fighter_inf_sig_strikes_landed_avg',\n",
    "                    u'fighter_inf_sig_strikes_attempts_avg',\n",
    "                    u'fighter_inf_total_strikes_landed_avg',\n",
    "                    u'fighter_inf_total_strikes_attempts_avg',\n",
    "                    u'fighter_inf_head_strikes_landed_avg',\n",
    "                    u'fighter_inf_head_strikes_attempts_avg',\n",
    "                    u'fighter_inf_body_strikes_landed_avg',\n",
    "                    u'fighter_inf_body_strikes_attempts_avg',\n",
    "                    u'fighter_inf_leg_strikes_landed_avg',\n",
    "                    u'fighter_inf_leg_strikes_attempts_avg',\n",
    "                    u'fighter_inf_distance_strikes_landed_avg',\n",
    "                    u'fighter_inf_distance_strikes_attempts_avg',\n",
    "                    u'fighter_inf_clinch_strikes_landed_avg',\n",
    "                    u'fighter_inf_clinch_strikes_attempts_avg',\n",
    "                    u'fighter_inf_ground_strikes_landed_avg',\n",
    "                    u'fighter_inf_ground_strikes_attempts_avg',\n",
    "                \n",
    "                    u'fighter_abs_knockdowns_avg',\n",
    "                    u'fighter_abs_pass_avg',\n",
    "                    u'fighter_abs_reversals_avg',\n",
    "                    u'fighter_abs_sub_attempts_avg',\n",
    "                    u'fighter_abs_takedowns_landed_avg',\n",
    "                    u'fighter_abs_takedowns_attempts_avg',\n",
    "                    u'fighter_abs_sig_strikes_landed_avg',\n",
    "                    u'fighter_abs_sig_strikes_attempts_avg',\n",
    "                    u'fighter_abs_total_strikes_landed_avg',\n",
    "                    u'fighter_abs_total_strikes_attempts_avg',\n",
    "                    u'fighter_abs_head_strikes_landed_avg',\n",
    "                    u'fighter_abs_head_strikes_attempts_avg',\n",
    "                    u'fighter_abs_body_strikes_landed_avg',\n",
    "                    u'fighter_abs_body_strikes_attempts_avg',\n",
    "                    u'fighter_abs_leg_strikes_landed_avg',\n",
    "                    u'fighter_abs_leg_strikes_attempts_avg',\n",
    "                    u'fighter_abs_distance_strikes_landed_avg',\n",
    "                    u'fighter_abs_distance_strikes_attempts_avg',\n",
    "                    u'fighter_abs_clinch_strikes_landed_avg',\n",
    "                    u'fighter_abs_clinch_strikes_attempts_avg',\n",
    "                    u'fighter_abs_ground_strikes_landed_avg',\n",
    "                    u'fighter_abs_ground_strikes_attempts_avg',\n",
    "                    \n",
    "                    u'opponent_inf_knockdowns_avg',\n",
    "                    u'opponent_inf_pass_avg',\n",
    "                    u'opponent_inf_reversals_avg',\n",
    "                    u'opponent_inf_sub_attempts_avg',\n",
    "                    u'opponent_inf_takedowns_landed_avg',\n",
    "                    u'opponent_inf_takedowns_attempts_avg',\n",
    "                    u'opponent_inf_sig_strikes_landed_avg',\n",
    "                    u'opponent_inf_sig_strikes_attempts_avg',\n",
    "                    u'opponent_inf_total_strikes_landed_avg',\n",
    "                    u'opponent_inf_total_strikes_attempts_avg',\n",
    "                    u'opponent_inf_head_strikes_landed_avg',\n",
    "                    u'opponent_inf_head_strikes_attempts_avg',\n",
    "                    u'opponent_inf_body_strikes_landed_avg',\n",
    "                    u'opponent_inf_body_strikes_attempts_avg',\n",
    "                    u'opponent_inf_leg_strikes_landed_avg',\n",
    "                    u'opponent_inf_leg_strikes_attempts_avg',\n",
    "                    u'opponent_inf_distance_strikes_landed_avg',\n",
    "                    u'opponent_inf_distance_strikes_attempts_avg',\n",
    "                    u'opponent_inf_clinch_strikes_landed_avg',\n",
    "                    u'opponent_inf_clinch_strikes_attempts_avg',\n",
    "                    u'opponent_inf_ground_strikes_landed_avg',\n",
    "                    u'opponent_inf_ground_strikes_attempts_avg',\n",
    "                \n",
    "                    u'opponent_abs_knockdowns_avg',\n",
    "                    u'opponent_abs_pass_avg',\n",
    "                    u'opponent_abs_reversals_avg',\n",
    "                    u'opponent_abs_sub_attempts_avg',\n",
    "                    u'opponent_abs_takedowns_landed_avg',\n",
    "                    u'opponent_abs_takedowns_attempts_avg',\n",
    "                    u'opponent_abs_sig_strikes_landed_avg',\n",
    "                    u'opponent_abs_sig_strikes_attempts_avg',\n",
    "                    u'opponent_abs_total_strikes_landed_avg',\n",
    "                    u'opponent_abs_total_strikes_attempts_avg',\n",
    "                    u'opponent_abs_head_strikes_landed_avg',\n",
    "                    u'opponent_abs_head_strikes_attempts_avg',\n",
    "                    u'opponent_abs_body_strikes_landed_avg',\n",
    "                    u'opponent_abs_body_strikes_attempts_avg',\n",
    "                    u'opponent_abs_leg_strikes_landed_avg',\n",
    "                    u'opponent_abs_leg_strikes_attempts_avg',\n",
    "                    u'opponent_abs_distance_strikes_landed_avg',\n",
    "                    u'opponent_abs_distance_strikes_attempts_avg',\n",
    "                    u'opponent_abs_clinch_strikes_landed_avg',\n",
    "                    u'opponent_abs_clinch_strikes_attempts_avg',\n",
    "                    u'opponent_abs_ground_strikes_landed_avg',\n",
    "                    u'opponent_abs_ground_strikes_attempts_avg']\n",
    "\n",
    "\n",
    "#adding record differences to ufc_fights\n",
    "record_statistics_diff = []\n",
    "half_length=int(len(record_statistics)/2)\n",
    "for i in range(half_length):\n",
    "    ufc_fights[record_statistics[i]+'_diff_2']=ufc_fights[record_statistics[i]]-ufc_fights[record_statistics[i+half_length]]\n",
    "    record_statistics_diff.append(record_statistics[i]+'_diff_2')\n",
    "    \n",
    "#lets try and improve the greedy algorithm by considering differences. Lets start by replacing height and reach by their differences\n",
    "ufc_fights['height_diff']=ufc_fights['fighter_height'].apply(float)-ufc_fights['opponent_height'].apply(float)\n",
    "ufc_fights['reach_diff']=ufc_fights['fighter_reach'].apply(float)-ufc_fights['opponent_reach'].apply(float)\n",
    "\n",
    "physical_stats_diff = ['fighter_age_diff', 'height_diff', 'reach_diff']\n",
    "\n",
    "#adding punch differences to ufc_fights\n",
    "punch_statistics_diff = []\n",
    "half_length=int(len(punch_statistics)/2)\n",
    "for i in range(half_length):\n",
    "    ufc_fights[punch_statistics[i]+'_diff_2']=ufc_fights[punch_statistics[i]]-ufc_fights[punch_statistics[i+half_length]]\n",
    "    punch_statistics_diff.append(punch_statistics[i]+'_diff_2')\n",
    "    \n",
    "possible_stats_diff =record_statistics_diff+physical_stats_diff+punch_statistics_diff\n",
    "possible_stats_all = possible_stats_diff+record_statistics+physical_stats+punch_statistics\n"
   ]
  },
  {
   "cell_type": "code",
   "execution_count": 5,
   "id": "010c4340",
   "metadata": {},
   "outputs": [],
   "source": [
    "#changing columns saved as strings to floats\n",
    "ufc_fights['fighter_age'] = ufc_fights['fighter_age'].apply(float)\n",
    "ufc_fights['fighter_height'] = ufc_fights['fighter_height'].apply(float)\n",
    "ufc_fights['fighter_reach'] = ufc_fights['fighter_reach'].apply(float)\n",
    "ufc_fights['opponent_age'] = ufc_fights['opponent_age'].apply(float)\n",
    "ufc_fights['opponent_height'] = ufc_fights['opponent_height'].apply(float)\n",
    "ufc_fights['opponent_reach'] = ufc_fights['opponent_reach'].apply(float)\n",
    "ufc_fights['fighter_stance'] = ufc_fights['fighter_stance'].apply(float)\n",
    "ufc_fights['opponent_stance'] = ufc_fights['opponent_stance'].apply(float)"
   ]
  },
  {
   "cell_type": "code",
   "execution_count": 6,
   "id": "1bfbedee",
   "metadata": {},
   "outputs": [],
   "source": [
    "#picking a model\n",
    "winPredictionModel=LogisticRegression(solver='lbfgs', max_iter=1000)"
   ]
  },
  {
   "cell_type": "code",
   "execution_count": 7,
   "id": "e6e400f7",
   "metadata": {},
   "outputs": [],
   "source": [
    "#adding an age_diff column \n",
    "#lets make this a function which measures something more precise, \n",
    "#like the difference in how close the fighters are to being prime fighting age\n",
    "#prime fighting age\n",
    "ufc_fights['fighter_age_diff'] = ufc_fights['fighter_age']-ufc_fights['opponent_age']\n"
   ]
  },
  {
   "cell_type": "code",
   "execution_count": 8,
   "id": "25642716",
   "metadata": {},
   "outputs": [
    {
     "data": {
      "text/plain": [
       "0.605"
      ]
     },
     "execution_count": 8,
     "metadata": {},
     "output_type": "execute_result"
    }
   ],
   "source": [
    "#model score with all possible stats (only differences)\n",
    "model_score(ufc_fights,possible_stats_diff)"
   ]
  },
  {
   "cell_type": "code",
   "execution_count": 9,
   "id": "becf22fe",
   "metadata": {},
   "outputs": [],
   "source": [
    "fight_math_stats = ['1-fight_math', '2-fight_math', '3-fight_math', '4-fight_math', '5-fight_math',\n",
    "                   '6-fight_math', '7-fight_math', '8-fight_math', '9-fight_math']\n",
    "\n",
    "fighter_score_stats = ['1-fighter_score_diff', '3-fighter_score_diff', '4-fighter_score_diff',\n",
    "                      '5-fighter_score_diff', '6-fighter_score_diff', '7-fighter_score_diff', '9-fighter_score_diff',\n",
    "                      '11-fighter_score_diff', '13-fighter_score_diff','15-fighter_score_diff', '17-fighter_score_diff',\n",
    "                      '19-fighter_score_diff',]\n",
    "\n"
   ]
  },
  {
   "cell_type": "code",
   "execution_count": 10,
   "id": "c5bccaa2",
   "metadata": {},
   "outputs": [
    {
     "ename": "KeyError",
     "evalue": "\"None of [Index(['1-fight_math', '2-fight_math', '3-fight_math', '4-fight_math',\\n       '5-fight_math', '6-fight_math', '7-fight_math', '8-fight_math',\\n       '9-fight_math'],\\n      dtype='object')] are in the [columns]\"",
     "output_type": "error",
     "traceback": [
      "\u001b[0;31m---------------------------------------------------------------------------\u001b[0m",
      "\u001b[0;31mKeyError\u001b[0m                                  Traceback (most recent call last)",
      "Input \u001b[0;32mIn [10]\u001b[0m, in \u001b[0;36m<module>\u001b[0;34m\u001b[0m\n\u001b[1;32m      1\u001b[0m \u001b[38;5;66;03m#model score with all fight math stats\u001b[39;00m\n\u001b[0;32m----> 2\u001b[0m \u001b[43mmodel_score\u001b[49m\u001b[43m(\u001b[49m\u001b[43mufc_fights\u001b[49m\u001b[43m,\u001b[49m\u001b[43mfight_math_stats\u001b[49m\u001b[43m)\u001b[49m\n",
      "Input \u001b[0;32mIn [1]\u001b[0m, in \u001b[0;36mmodel_score\u001b[0;34m(dataframe, features, iloc_val, _max_iter)\u001b[0m\n\u001b[1;32m     83\u001b[0m \u001b[38;5;28;01mdef\u001b[39;00m \u001b[38;5;21mmodel_score\u001b[39m(dataframe,features, iloc_val \u001b[38;5;241m=\u001b[39m \u001b[38;5;241m3200\u001b[39m, _max_iter \u001b[38;5;241m=\u001b[39m \u001b[38;5;241m2000\u001b[39m):\n\u001b[1;32m     84\u001b[0m     yyy\u001b[38;5;241m=\u001b[39mdataframe[\u001b[38;5;124m'\u001b[39m\u001b[38;5;124mresult\u001b[39m\u001b[38;5;124m'\u001b[39m]\u001b[38;5;241m.\u001b[39miloc[\u001b[38;5;241m0\u001b[39m:iloc_val]\n\u001b[0;32m---> 85\u001b[0m     XXX\u001b[38;5;241m=\u001b[39m\u001b[43mdataframe\u001b[49m\u001b[43m[\u001b[49m\u001b[43mfeatures\u001b[49m\u001b[43m]\u001b[49m\u001b[38;5;241m.\u001b[39miloc[\u001b[38;5;241m0\u001b[39m:iloc_val]\n\u001b[1;32m     86\u001b[0m     XXXscaler \u001b[38;5;241m=\u001b[39m preprocessing\u001b[38;5;241m.\u001b[39mStandardScaler()\u001b[38;5;241m.\u001b[39mfit(XXX)\n\u001b[1;32m     87\u001b[0m     XXX_scaled \u001b[38;5;241m=\u001b[39m XXXscaler\u001b[38;5;241m.\u001b[39mtransform(XXX) \n",
      "File \u001b[0;32m/opt/homebrew/lib/python3.9/site-packages/pandas/core/frame.py:3511\u001b[0m, in \u001b[0;36mDataFrame.__getitem__\u001b[0;34m(self, key)\u001b[0m\n\u001b[1;32m   3509\u001b[0m     \u001b[38;5;28;01mif\u001b[39;00m is_iterator(key):\n\u001b[1;32m   3510\u001b[0m         key \u001b[38;5;241m=\u001b[39m \u001b[38;5;28mlist\u001b[39m(key)\n\u001b[0;32m-> 3511\u001b[0m     indexer \u001b[38;5;241m=\u001b[39m \u001b[38;5;28;43mself\u001b[39;49m\u001b[38;5;241;43m.\u001b[39;49m\u001b[43mcolumns\u001b[49m\u001b[38;5;241;43m.\u001b[39;49m\u001b[43m_get_indexer_strict\u001b[49m\u001b[43m(\u001b[49m\u001b[43mkey\u001b[49m\u001b[43m,\u001b[49m\u001b[43m \u001b[49m\u001b[38;5;124;43m\"\u001b[39;49m\u001b[38;5;124;43mcolumns\u001b[39;49m\u001b[38;5;124;43m\"\u001b[39;49m\u001b[43m)\u001b[49m[\u001b[38;5;241m1\u001b[39m]\n\u001b[1;32m   3513\u001b[0m \u001b[38;5;66;03m# take() does not accept boolean indexers\u001b[39;00m\n\u001b[1;32m   3514\u001b[0m \u001b[38;5;28;01mif\u001b[39;00m \u001b[38;5;28mgetattr\u001b[39m(indexer, \u001b[38;5;124m\"\u001b[39m\u001b[38;5;124mdtype\u001b[39m\u001b[38;5;124m\"\u001b[39m, \u001b[38;5;28;01mNone\u001b[39;00m) \u001b[38;5;241m==\u001b[39m \u001b[38;5;28mbool\u001b[39m:\n",
      "File \u001b[0;32m/opt/homebrew/lib/python3.9/site-packages/pandas/core/indexes/base.py:5782\u001b[0m, in \u001b[0;36mIndex._get_indexer_strict\u001b[0;34m(self, key, axis_name)\u001b[0m\n\u001b[1;32m   5779\u001b[0m \u001b[38;5;28;01melse\u001b[39;00m:\n\u001b[1;32m   5780\u001b[0m     keyarr, indexer, new_indexer \u001b[38;5;241m=\u001b[39m \u001b[38;5;28mself\u001b[39m\u001b[38;5;241m.\u001b[39m_reindex_non_unique(keyarr)\n\u001b[0;32m-> 5782\u001b[0m \u001b[38;5;28;43mself\u001b[39;49m\u001b[38;5;241;43m.\u001b[39;49m\u001b[43m_raise_if_missing\u001b[49m\u001b[43m(\u001b[49m\u001b[43mkeyarr\u001b[49m\u001b[43m,\u001b[49m\u001b[43m \u001b[49m\u001b[43mindexer\u001b[49m\u001b[43m,\u001b[49m\u001b[43m \u001b[49m\u001b[43maxis_name\u001b[49m\u001b[43m)\u001b[49m\n\u001b[1;32m   5784\u001b[0m keyarr \u001b[38;5;241m=\u001b[39m \u001b[38;5;28mself\u001b[39m\u001b[38;5;241m.\u001b[39mtake(indexer)\n\u001b[1;32m   5785\u001b[0m \u001b[38;5;28;01mif\u001b[39;00m \u001b[38;5;28misinstance\u001b[39m(key, Index):\n\u001b[1;32m   5786\u001b[0m     \u001b[38;5;66;03m# GH 42790 - Preserve name from an Index\u001b[39;00m\n",
      "File \u001b[0;32m/opt/homebrew/lib/python3.9/site-packages/pandas/core/indexes/base.py:5842\u001b[0m, in \u001b[0;36mIndex._raise_if_missing\u001b[0;34m(self, key, indexer, axis_name)\u001b[0m\n\u001b[1;32m   5840\u001b[0m     \u001b[38;5;28;01mif\u001b[39;00m use_interval_msg:\n\u001b[1;32m   5841\u001b[0m         key \u001b[38;5;241m=\u001b[39m \u001b[38;5;28mlist\u001b[39m(key)\n\u001b[0;32m-> 5842\u001b[0m     \u001b[38;5;28;01mraise\u001b[39;00m \u001b[38;5;167;01mKeyError\u001b[39;00m(\u001b[38;5;124mf\u001b[39m\u001b[38;5;124m\"\u001b[39m\u001b[38;5;124mNone of [\u001b[39m\u001b[38;5;132;01m{\u001b[39;00mkey\u001b[38;5;132;01m}\u001b[39;00m\u001b[38;5;124m] are in the [\u001b[39m\u001b[38;5;132;01m{\u001b[39;00maxis_name\u001b[38;5;132;01m}\u001b[39;00m\u001b[38;5;124m]\u001b[39m\u001b[38;5;124m\"\u001b[39m)\n\u001b[1;32m   5844\u001b[0m not_found \u001b[38;5;241m=\u001b[39m \u001b[38;5;28mlist\u001b[39m(ensure_index(key)[missing_mask\u001b[38;5;241m.\u001b[39mnonzero()[\u001b[38;5;241m0\u001b[39m]]\u001b[38;5;241m.\u001b[39munique())\n\u001b[1;32m   5845\u001b[0m \u001b[38;5;28;01mraise\u001b[39;00m \u001b[38;5;167;01mKeyError\u001b[39;00m(\u001b[38;5;124mf\u001b[39m\u001b[38;5;124m\"\u001b[39m\u001b[38;5;132;01m{\u001b[39;00mnot_found\u001b[38;5;132;01m}\u001b[39;00m\u001b[38;5;124m not in index\u001b[39m\u001b[38;5;124m\"\u001b[39m)\n",
      "\u001b[0;31mKeyError\u001b[0m: \"None of [Index(['1-fight_math', '2-fight_math', '3-fight_math', '4-fight_math',\\n       '5-fight_math', '6-fight_math', '7-fight_math', '8-fight_math',\\n       '9-fight_math'],\\n      dtype='object')] are in the [columns]\""
     ]
    }
   ],
   "source": [
    "#model score with all fight math stats\n",
    "model_score(ufc_fights,fight_math_stats)"
   ]
  },
  {
   "cell_type": "code",
   "execution_count": 78,
   "id": "8255ae38",
   "metadata": {},
   "outputs": [
    {
     "data": {
      "text/plain": [
       "0.5709375"
      ]
     },
     "execution_count": 78,
     "metadata": {},
     "output_type": "execute_result"
    }
   ],
   "source": [
    "#model score with all fighter score stats\n",
    "model_score(ufc_fights,fighter_score_stats)"
   ]
  },
  {
   "cell_type": "code",
   "execution_count": 79,
   "id": "101bae0b",
   "metadata": {},
   "outputs": [
    {
     "data": {
      "text/plain": [
       "0.5728125000000001"
      ]
     },
     "execution_count": 79,
     "metadata": {},
     "output_type": "execute_result"
    }
   ],
   "source": [
    "#model score with all fight math stats and fighter score stats\n",
    "model_score(ufc_fights,fight_math_stats+fighter_score_stats)"
   ]
  },
  {
   "cell_type": "code",
   "execution_count": 83,
   "id": "3b57f961",
   "metadata": {},
   "outputs": [
    {
     "name": "stdout",
     "output_type": "stream",
     "text": [
      "['4-fight_math'] 0.5215624999999999\n",
      "['4-fight_math', '1-fight_math'] 0.5234375\n",
      "['4-fight_math', '1-fight_math', '9-fight_math'] 0.5240625\n",
      "['4-fight_math', '1-fight_math', '9-fight_math', '8-fight_math'] 0.5243749999999999\n",
      "['4-fight_math', '1-fight_math', '9-fight_math', '8-fight_math', '6-fight_math'] 0.5249999999999999\n",
      "['4-fight_math', '1-fight_math', '9-fight_math', '8-fight_math', '6-fight_math', '2-fight_math'] 0.5240625\n"
     ]
    },
    {
     "data": {
      "text/plain": [
       "(['4-fight_math',\n",
       "  '1-fight_math',\n",
       "  '9-fight_math',\n",
       "  '8-fight_math',\n",
       "  '6-fight_math'],\n",
       " 0.5249999999999999)"
      ]
     },
     "execution_count": 83,
     "metadata": {},
     "output_type": "execute_result"
    }
   ],
   "source": [
    "#greedy score with all fight math stats\n",
    "greedy(ufc_fights,fight_math_stats,1)"
   ]
  },
  {
   "cell_type": "code",
   "execution_count": 84,
   "id": "57af7af3",
   "metadata": {},
   "outputs": [
    {
     "name": "stdout",
     "output_type": "stream",
     "text": [
      "['1-fight_math', '4-fight_math'] 0.5234375\n",
      "['1-fight_math', '4-fight_math', '8-fight_math', '9-fight_math'] 0.5243749999999999\n",
      "['1-fight_math', '4-fight_math', '8-fight_math', '9-fight_math', '2-fight_math', '3-fight_math'] 0.5253125000000001\n",
      "['1-fight_math', '4-fight_math', '8-fight_math', '9-fight_math', '2-fight_math', '3-fight_math', '2-fight_math', '1-fight_math'] 0.5253125000000001\n"
     ]
    },
    {
     "data": {
      "text/plain": [
       "(['1-fight_math',\n",
       "  '4-fight_math',\n",
       "  '8-fight_math',\n",
       "  '9-fight_math',\n",
       "  '2-fight_math',\n",
       "  '3-fight_math'],\n",
       " 0.5253125000000001)"
      ]
     },
     "execution_count": 84,
     "metadata": {},
     "output_type": "execute_result"
    }
   ],
   "source": [
    "#greedy score with all fight math stats\n",
    "greedy(ufc_fights,fight_math_stats,2)"
   ]
  },
  {
   "cell_type": "code",
   "execution_count": 85,
   "id": "86c513f9",
   "metadata": {},
   "outputs": [
    {
     "name": "stdout",
     "output_type": "stream",
     "text": [
      "['9-fight_math', '1-fight_math', '4-fight_math'] 0.5240625\n",
      "['9-fight_math', '1-fight_math', '4-fight_math', '8-fight_math', '2-fight_math', '3-fight_math'] 0.5253125000000001\n",
      "['9-fight_math', '1-fight_math', '4-fight_math', '8-fight_math', '2-fight_math', '3-fight_math', '2-fight_math', '3-fight_math', '4-fight_math'] 0.5253125000000001\n"
     ]
    },
    {
     "data": {
      "text/plain": [
       "(['9-fight_math',\n",
       "  '1-fight_math',\n",
       "  '4-fight_math',\n",
       "  '8-fight_math',\n",
       "  '2-fight_math',\n",
       "  '3-fight_math'],\n",
       " 0.5253125000000001)"
      ]
     },
     "execution_count": 85,
     "metadata": {},
     "output_type": "execute_result"
    }
   ],
   "source": [
    "#greedy score with all fight math stats\n",
    "greedy(ufc_fights,fight_math_stats,3)"
   ]
  },
  {
   "cell_type": "code",
   "execution_count": 86,
   "id": "c4c2402f",
   "metadata": {},
   "outputs": [
    {
     "name": "stdout",
     "output_type": "stream",
     "text": [
      "['4-fighter_score_diff'] 0.5678124999999999\n",
      "['4-fighter_score_diff', '19-fighter_score_diff'] 0.573125\n",
      "['4-fighter_score_diff', '19-fighter_score_diff', '17-fighter_score_diff'] 0.5753125\n",
      "['4-fighter_score_diff', '19-fighter_score_diff', '17-fighter_score_diff', '1-fighter_score_diff'] 0.57625\n",
      "['4-fighter_score_diff', '19-fighter_score_diff', '17-fighter_score_diff', '1-fighter_score_diff', '15-fighter_score_diff'] 0.5759375\n"
     ]
    },
    {
     "data": {
      "text/plain": [
       "(['4-fighter_score_diff',\n",
       "  '19-fighter_score_diff',\n",
       "  '17-fighter_score_diff',\n",
       "  '1-fighter_score_diff'],\n",
       " 0.57625)"
      ]
     },
     "execution_count": 86,
     "metadata": {},
     "output_type": "execute_result"
    }
   ],
   "source": [
    "#greedy score with all fighter score stats\n",
    "greedy(ufc_fights,fighter_score_stats,1)"
   ]
  },
  {
   "cell_type": "code",
   "execution_count": 87,
   "id": "34e94928",
   "metadata": {},
   "outputs": [
    {
     "name": "stdout",
     "output_type": "stream",
     "text": [
      "['19-fighter_score_diff', '4-fighter_score_diff'] 0.573125\n",
      "['19-fighter_score_diff', '4-fighter_score_diff', '17-fighter_score_diff', '1-fighter_score_diff'] 0.57625\n",
      "['19-fighter_score_diff', '4-fighter_score_diff', '17-fighter_score_diff', '1-fighter_score_diff', '17-fighter_score_diff', '13-fighter_score_diff'] 0.5775\n",
      "['19-fighter_score_diff', '4-fighter_score_diff', '17-fighter_score_diff', '1-fighter_score_diff', '17-fighter_score_diff', '13-fighter_score_diff', '17-fighter_score_diff', '15-fighter_score_diff'] 0.5778125000000001\n",
      "['19-fighter_score_diff', '4-fighter_score_diff', '17-fighter_score_diff', '1-fighter_score_diff', '17-fighter_score_diff', '13-fighter_score_diff', '17-fighter_score_diff', '15-fighter_score_diff', '17-fighter_score_diff', '4-fighter_score_diff'] 0.5781250000000001\n",
      "['19-fighter_score_diff', '4-fighter_score_diff', '17-fighter_score_diff', '1-fighter_score_diff', '17-fighter_score_diff', '13-fighter_score_diff', '17-fighter_score_diff', '15-fighter_score_diff', '17-fighter_score_diff', '4-fighter_score_diff', '1-fighter_score_diff', '15-fighter_score_diff'] 0.5784375\n",
      "['19-fighter_score_diff', '4-fighter_score_diff', '17-fighter_score_diff', '1-fighter_score_diff', '17-fighter_score_diff', '13-fighter_score_diff', '17-fighter_score_diff', '15-fighter_score_diff', '17-fighter_score_diff', '4-fighter_score_diff', '1-fighter_score_diff', '15-fighter_score_diff', '17-fighter_score_diff', '19-fighter_score_diff'] 0.5784375\n"
     ]
    },
    {
     "data": {
      "text/plain": [
       "(['19-fighter_score_diff',\n",
       "  '4-fighter_score_diff',\n",
       "  '17-fighter_score_diff',\n",
       "  '1-fighter_score_diff',\n",
       "  '17-fighter_score_diff',\n",
       "  '13-fighter_score_diff',\n",
       "  '17-fighter_score_diff',\n",
       "  '15-fighter_score_diff',\n",
       "  '17-fighter_score_diff',\n",
       "  '4-fighter_score_diff',\n",
       "  '1-fighter_score_diff',\n",
       "  '15-fighter_score_diff'],\n",
       " 0.5784375)"
      ]
     },
     "execution_count": 87,
     "metadata": {},
     "output_type": "execute_result"
    }
   ],
   "source": [
    "#greedy score with all fighter score stats\n",
    "greedy(ufc_fights,fighter_score_stats,2)"
   ]
  },
  {
   "cell_type": "code",
   "execution_count": 88,
   "id": "f324a129",
   "metadata": {},
   "outputs": [
    {
     "name": "stdout",
     "output_type": "stream",
     "text": [
      "['15-fighter_score_diff', '4-fighter_score_diff', '7-fighter_score_diff'] 0.5753125000000001\n",
      "['15-fighter_score_diff', '4-fighter_score_diff', '7-fighter_score_diff', '3-fighter_score_diff', '11-fighter_score_diff', '9-fighter_score_diff'] 0.578125\n",
      "['15-fighter_score_diff', '4-fighter_score_diff', '7-fighter_score_diff', '3-fighter_score_diff', '11-fighter_score_diff', '9-fighter_score_diff', '17-fighter_score_diff', '19-fighter_score_diff', '15-fighter_score_diff'] 0.5781250000000001\n",
      "['15-fighter_score_diff', '4-fighter_score_diff', '7-fighter_score_diff', '3-fighter_score_diff', '11-fighter_score_diff', '9-fighter_score_diff', '17-fighter_score_diff', '19-fighter_score_diff', '15-fighter_score_diff', '17-fighter_score_diff', '19-fighter_score_diff', '9-fighter_score_diff'] 0.5787500000000001\n",
      "['15-fighter_score_diff', '4-fighter_score_diff', '7-fighter_score_diff', '3-fighter_score_diff', '11-fighter_score_diff', '9-fighter_score_diff', '17-fighter_score_diff', '19-fighter_score_diff', '15-fighter_score_diff', '17-fighter_score_diff', '19-fighter_score_diff', '9-fighter_score_diff', '17-fighter_score_diff', '15-fighter_score_diff', '11-fighter_score_diff'] 0.5787500000000001\n"
     ]
    },
    {
     "data": {
      "text/plain": [
       "(['15-fighter_score_diff',\n",
       "  '4-fighter_score_diff',\n",
       "  '7-fighter_score_diff',\n",
       "  '3-fighter_score_diff',\n",
       "  '11-fighter_score_diff',\n",
       "  '9-fighter_score_diff',\n",
       "  '17-fighter_score_diff',\n",
       "  '19-fighter_score_diff',\n",
       "  '15-fighter_score_diff',\n",
       "  '17-fighter_score_diff',\n",
       "  '19-fighter_score_diff',\n",
       "  '9-fighter_score_diff'],\n",
       " 0.5787500000000001)"
      ]
     },
     "execution_count": 88,
     "metadata": {},
     "output_type": "execute_result"
    }
   ],
   "source": [
    "#greedy score with all fighter score stats\n",
    "greedy(ufc_fights,fighter_score_stats,3)"
   ]
  },
  {
   "cell_type": "code",
   "execution_count": 82,
   "id": "0df0d689",
   "metadata": {},
   "outputs": [
    {
     "name": "stdout",
     "output_type": "stream",
     "text": [
      "['4-fighter_score_diff'] 0.5678124999999999\n",
      "['4-fighter_score_diff', '9-fight_math'] 0.57875\n",
      "['4-fighter_score_diff', '9-fight_math', '13-fighter_score_diff'] 0.5809375000000001\n",
      "['4-fighter_score_diff', '9-fight_math', '13-fighter_score_diff', '4-fight_math'] 0.5825\n",
      "['4-fighter_score_diff', '9-fight_math', '13-fighter_score_diff', '4-fight_math', '6-fighter_score_diff'] 0.5840625\n",
      "['4-fighter_score_diff', '9-fight_math', '13-fighter_score_diff', '4-fight_math', '6-fighter_score_diff', '15-fighter_score_diff'] 0.5846874999999999\n",
      "['4-fighter_score_diff', '9-fight_math', '13-fighter_score_diff', '4-fight_math', '6-fighter_score_diff', '15-fighter_score_diff', '17-fighter_score_diff'] 0.584375\n"
     ]
    },
    {
     "data": {
      "text/plain": [
       "(['4-fighter_score_diff',\n",
       "  '9-fight_math',\n",
       "  '13-fighter_score_diff',\n",
       "  '4-fight_math',\n",
       "  '6-fighter_score_diff',\n",
       "  '15-fighter_score_diff'],\n",
       " 0.5846874999999999)"
      ]
     },
     "execution_count": 82,
     "metadata": {},
     "output_type": "execute_result"
    }
   ],
   "source": [
    "#greedy score with all fight math stats and fighter score stats\n",
    "greedy(ufc_fights,fight_math_stats+fighter_score_stats,1)"
   ]
  },
  {
   "cell_type": "code",
   "execution_count": 90,
   "id": "a2d300c7",
   "metadata": {},
   "outputs": [
    {
     "name": "stdout",
     "output_type": "stream",
     "text": [
      "['4-fighter_score_diff', '9-fight_math'] 0.57875\n",
      "['4-fighter_score_diff', '9-fight_math', '19-fighter_score_diff', '9-fighter_score_diff'] 0.5846875\n",
      "['4-fighter_score_diff', '9-fight_math', '19-fighter_score_diff', '9-fighter_score_diff', '17-fighter_score_diff', '19-fighter_score_diff'] 0.58625\n",
      "['4-fighter_score_diff', '9-fight_math', '19-fighter_score_diff', '9-fighter_score_diff', '17-fighter_score_diff', '19-fighter_score_diff', '3-fighter_score_diff', '19-fighter_score_diff'] 0.586875\n",
      "['4-fighter_score_diff', '9-fight_math', '19-fighter_score_diff', '9-fighter_score_diff', '17-fighter_score_diff', '19-fighter_score_diff', '3-fighter_score_diff', '19-fighter_score_diff', '17-fighter_score_diff', '9-fighter_score_diff'] 0.586875\n"
     ]
    },
    {
     "data": {
      "text/plain": [
       "(['4-fighter_score_diff',\n",
       "  '9-fight_math',\n",
       "  '19-fighter_score_diff',\n",
       "  '9-fighter_score_diff',\n",
       "  '17-fighter_score_diff',\n",
       "  '19-fighter_score_diff',\n",
       "  '3-fighter_score_diff',\n",
       "  '19-fighter_score_diff'],\n",
       " 0.586875)"
      ]
     },
     "execution_count": 90,
     "metadata": {},
     "output_type": "execute_result"
    }
   ],
   "source": [
    "#greedy score with all fight math stats and fighter score stats\n",
    "greedy(ufc_fights,fight_math_stats+fighter_score_stats,2)"
   ]
  },
  {
   "cell_type": "code",
   "execution_count": 91,
   "id": "046e6aca",
   "metadata": {},
   "outputs": [
    {
     "name": "stdout",
     "output_type": "stream",
     "text": [
      "['6-fight_math', '15-fighter_score_diff', '4-fighter_score_diff'] 0.5815625\n",
      "['6-fight_math', '15-fighter_score_diff', '4-fighter_score_diff', '17-fighter_score_diff', '1-fight_math', '9-fighter_score_diff'] 0.5856250000000001\n",
      "['6-fight_math', '15-fighter_score_diff', '4-fighter_score_diff', '17-fighter_score_diff', '1-fight_math', '9-fighter_score_diff', '1-fighter_score_diff', '5-fight_math', '13-fighter_score_diff'] 0.586875\n",
      "['6-fight_math', '15-fighter_score_diff', '4-fighter_score_diff', '17-fighter_score_diff', '1-fight_math', '9-fighter_score_diff', '1-fighter_score_diff', '5-fight_math', '13-fighter_score_diff', '1-fighter_score_diff', '5-fight_math', '4-fighter_score_diff'] 0.5871875\n",
      "['6-fight_math', '15-fighter_score_diff', '4-fighter_score_diff', '17-fighter_score_diff', '1-fight_math', '9-fighter_score_diff', '1-fighter_score_diff', '5-fight_math', '13-fighter_score_diff', '1-fighter_score_diff', '5-fight_math', '4-fighter_score_diff', '1-fighter_score_diff', '5-fight_math', '15-fighter_score_diff'] 0.5871875\n"
     ]
    },
    {
     "data": {
      "text/plain": [
       "(['6-fight_math',\n",
       "  '15-fighter_score_diff',\n",
       "  '4-fighter_score_diff',\n",
       "  '17-fighter_score_diff',\n",
       "  '1-fight_math',\n",
       "  '9-fighter_score_diff',\n",
       "  '1-fighter_score_diff',\n",
       "  '5-fight_math',\n",
       "  '13-fighter_score_diff',\n",
       "  '1-fighter_score_diff',\n",
       "  '5-fight_math',\n",
       "  '4-fighter_score_diff'],\n",
       " 0.5871875)"
      ]
     },
     "execution_count": 91,
     "metadata": {},
     "output_type": "execute_result"
    }
   ],
   "source": [
    "#greedy score with all fight math stats and fighter score stats\n",
    "greedy(ufc_fights,fight_math_stats+fighter_score_stats,3)"
   ]
  },
  {
   "cell_type": "code",
   "execution_count": 123,
   "id": "d0c52b41",
   "metadata": {},
   "outputs": [
    {
     "data": {
      "text/plain": [
       "0.6536363636363637"
      ]
     },
     "execution_count": 123,
     "metadata": {},
     "output_type": "execute_result"
    }
   ],
   "source": [
    "best_smallest_set=list(set(['fighter_age_diff', \n",
    "                            'reach_diff', \n",
    "                            'fighter_L5Y_ko_losses_diff_2', \n",
    "                            'fighter_L5Y_losses_diff_2', \n",
    "                            'fighter_L2Y_wins_diff_2', \n",
    "                            'fighter_L5Y_wins_diff_2', \n",
    "                            'fighter_L5Y_sub_wins_diff_2', \n",
    "                            'fighter_abs_total_strikes_landed_avg_diff_2', \n",
    "                            'fighter_inf_head_strikes_landed_avg_diff_2', \n",
    "                            'fighter_inf_leg_strikes_landed_avg_diff_2', \n",
    "                            'fighter_abs_head_strikes_landed_avg_diff_2', \n",
    "                            'fighter_inf_knockdowns_avg_diff_2', \n",
    "                            'fighter_inf_clinch_strikes_attempts_avg_diff_2', \n",
    "                            'fighter_inf_takedowns_attempts_avg_diff_2', \n",
    "                            'fighter_inf_ground_strikes_landed_avg_diff_2', \n",
    "                            'fighter_inf_sig_strikes_landed_avg_diff_2',\n",
    "                            '6-fight_math',\n",
    "                              '15-fighter_score_diff',\n",
    "                              '4-fighter_score_diff',\n",
    "                              '17-fighter_score_diff',\n",
    "                              '1-fight_math',\n",
    "                              '9-fighter_score_diff',\n",
    "                              '1-fighter_score_diff',\n",
    "                              '5-fight_math',\n",
    "                              '13-fighter_score_diff',\n",
    "                              '1-fighter_score_diff',\n",
    "                              '5-fight_math',\n",
    "                              '4-fighter_score_diff'\n",
    "]))\n",
    "\n",
    "ufc_fights_df = ufc_fights[best_smallest_set]\n",
    "\n",
    "winPredictionModel=LogisticRegression(solver='lbfgs', max_iter=2000)\n",
    "X=ufc_fights_df.iloc[0:40*55].to_numpy()\n",
    "y=ufc_fights['result'].iloc[0:40*55]\n",
    "winPredictionModel.fit(X,y)\n",
    "winPredictionModel.score(X,y)"
   ]
  },
  {
   "cell_type": "code",
   "execution_count": 93,
   "id": "3671030d",
   "metadata": {},
   "outputs": [
    {
     "name": "stdout",
     "output_type": "stream",
     "text": [
      "['fighter_age_diff'] 0.5803125\n",
      "['fighter_age_diff', '4-fighter_score_diff'] 0.6065625\n",
      "['fighter_age_diff', '4-fighter_score_diff', 'fighter_abs_total_strikes_landed_avg_diff_2'] 0.6190625000000001\n",
      "['fighter_age_diff', '4-fighter_score_diff', 'fighter_abs_total_strikes_landed_avg_diff_2', '6-fight_math'] 0.624375\n",
      "['fighter_age_diff', '4-fighter_score_diff', 'fighter_abs_total_strikes_landed_avg_diff_2', '6-fight_math', 'fighter_L5Y_ko_losses_diff_2'] 0.6268750000000001\n",
      "['fighter_age_diff', '4-fighter_score_diff', 'fighter_abs_total_strikes_landed_avg_diff_2', '6-fight_math', 'fighter_L5Y_ko_losses_diff_2', 'fighter_abs_head_strikes_landed_avg_diff_2'] 0.6284375\n",
      "['fighter_age_diff', '4-fighter_score_diff', 'fighter_abs_total_strikes_landed_avg_diff_2', '6-fight_math', 'fighter_L5Y_ko_losses_diff_2', 'fighter_abs_head_strikes_landed_avg_diff_2', 'fighter_inf_knockdowns_avg_diff_2'] 0.6296875\n",
      "['fighter_age_diff', '4-fighter_score_diff', 'fighter_abs_total_strikes_landed_avg_diff_2', '6-fight_math', 'fighter_L5Y_ko_losses_diff_2', 'fighter_abs_head_strikes_landed_avg_diff_2', 'fighter_inf_knockdowns_avg_diff_2', 'fighter_inf_head_strikes_landed_avg_diff_2'] 0.6303125\n",
      "['fighter_age_diff', '4-fighter_score_diff', 'fighter_abs_total_strikes_landed_avg_diff_2', '6-fight_math', 'fighter_L5Y_ko_losses_diff_2', 'fighter_abs_head_strikes_landed_avg_diff_2', 'fighter_inf_knockdowns_avg_diff_2', 'fighter_inf_head_strikes_landed_avg_diff_2', '9-fighter_score_diff'] 0.6315625\n",
      "['fighter_age_diff', '4-fighter_score_diff', 'fighter_abs_total_strikes_landed_avg_diff_2', '6-fight_math', 'fighter_L5Y_ko_losses_diff_2', 'fighter_abs_head_strikes_landed_avg_diff_2', 'fighter_inf_knockdowns_avg_diff_2', 'fighter_inf_head_strikes_landed_avg_diff_2', '9-fighter_score_diff', '1-fight_math'] 0.6328125\n",
      "['fighter_age_diff', '4-fighter_score_diff', 'fighter_abs_total_strikes_landed_avg_diff_2', '6-fight_math', 'fighter_L5Y_ko_losses_diff_2', 'fighter_abs_head_strikes_landed_avg_diff_2', 'fighter_inf_knockdowns_avg_diff_2', 'fighter_inf_head_strikes_landed_avg_diff_2', '9-fighter_score_diff', '1-fight_math', '15-fighter_score_diff'] 0.6328125\n"
     ]
    },
    {
     "data": {
      "text/plain": [
       "(['fighter_age_diff',\n",
       "  '4-fighter_score_diff',\n",
       "  'fighter_abs_total_strikes_landed_avg_diff_2',\n",
       "  '6-fight_math',\n",
       "  'fighter_L5Y_ko_losses_diff_2',\n",
       "  'fighter_abs_head_strikes_landed_avg_diff_2',\n",
       "  'fighter_inf_knockdowns_avg_diff_2',\n",
       "  'fighter_inf_head_strikes_landed_avg_diff_2',\n",
       "  '9-fighter_score_diff',\n",
       "  '1-fight_math'],\n",
       " 0.6328125)"
      ]
     },
     "execution_count": 93,
     "metadata": {},
     "output_type": "execute_result"
    }
   ],
   "source": [
    "greedy(ufc_fights,best_smallest_set,1)"
   ]
  },
  {
   "cell_type": "code",
   "execution_count": 94,
   "id": "3851237f",
   "metadata": {},
   "outputs": [
    {
     "name": "stdout",
     "output_type": "stream",
     "text": [
      "['fighter_age_diff', '4-fighter_score_diff'] 0.6065625\n",
      "['fighter_age_diff', '4-fighter_score_diff', 'fighter_abs_total_strikes_landed_avg_diff_2', '6-fight_math'] 0.624375\n",
      "['fighter_age_diff', '4-fighter_score_diff', 'fighter_abs_total_strikes_landed_avg_diff_2', '6-fight_math', 'fighter_L5Y_sub_wins_diff_2', 'fighter_inf_takedowns_attempts_avg_diff_2'] 0.630625\n",
      "['fighter_age_diff', '4-fighter_score_diff', 'fighter_abs_total_strikes_landed_avg_diff_2', '6-fight_math', 'fighter_L5Y_sub_wins_diff_2', 'fighter_inf_takedowns_attempts_avg_diff_2', 'fighter_inf_head_strikes_landed_avg_diff_2', 'fighter_L5Y_ko_losses_diff_2'] 0.6331249999999999\n",
      "['fighter_age_diff', '4-fighter_score_diff', 'fighter_abs_total_strikes_landed_avg_diff_2', '6-fight_math', 'fighter_L5Y_sub_wins_diff_2', 'fighter_inf_takedowns_attempts_avg_diff_2', 'fighter_inf_head_strikes_landed_avg_diff_2', 'fighter_L5Y_ko_losses_diff_2', 'fighter_inf_ground_strikes_landed_avg_diff_2', '1-fight_math'] 0.6359374999999999\n",
      "['fighter_age_diff', '4-fighter_score_diff', 'fighter_abs_total_strikes_landed_avg_diff_2', '6-fight_math', 'fighter_L5Y_sub_wins_diff_2', 'fighter_inf_takedowns_attempts_avg_diff_2', 'fighter_inf_head_strikes_landed_avg_diff_2', 'fighter_L5Y_ko_losses_diff_2', 'fighter_inf_ground_strikes_landed_avg_diff_2', '1-fight_math', 'fighter_abs_head_strikes_landed_avg_diff_2', 'fighter_inf_knockdowns_avg_diff_2'] 0.6375\n",
      "['fighter_age_diff', '4-fighter_score_diff', 'fighter_abs_total_strikes_landed_avg_diff_2', '6-fight_math', 'fighter_L5Y_sub_wins_diff_2', 'fighter_inf_takedowns_attempts_avg_diff_2', 'fighter_inf_head_strikes_landed_avg_diff_2', 'fighter_L5Y_ko_losses_diff_2', 'fighter_inf_ground_strikes_landed_avg_diff_2', '1-fight_math', 'fighter_abs_head_strikes_landed_avg_diff_2', 'fighter_inf_knockdowns_avg_diff_2', 'fighter_L5Y_sub_wins_diff_2', '9-fighter_score_diff'] 0.6378125\n",
      "['fighter_age_diff', '4-fighter_score_diff', 'fighter_abs_total_strikes_landed_avg_diff_2', '6-fight_math', 'fighter_L5Y_sub_wins_diff_2', 'fighter_inf_takedowns_attempts_avg_diff_2', 'fighter_inf_head_strikes_landed_avg_diff_2', 'fighter_L5Y_ko_losses_diff_2', 'fighter_inf_ground_strikes_landed_avg_diff_2', '1-fight_math', 'fighter_abs_head_strikes_landed_avg_diff_2', 'fighter_inf_knockdowns_avg_diff_2', 'fighter_L5Y_sub_wins_diff_2', '9-fighter_score_diff', 'fighter_L5Y_sub_wins_diff_2', 'fighter_inf_ground_strikes_landed_avg_diff_2'] 0.6378125\n"
     ]
    },
    {
     "data": {
      "text/plain": [
       "(['fighter_age_diff',\n",
       "  '4-fighter_score_diff',\n",
       "  'fighter_abs_total_strikes_landed_avg_diff_2',\n",
       "  '6-fight_math',\n",
       "  'fighter_L5Y_sub_wins_diff_2',\n",
       "  'fighter_inf_takedowns_attempts_avg_diff_2',\n",
       "  'fighter_inf_head_strikes_landed_avg_diff_2',\n",
       "  'fighter_L5Y_ko_losses_diff_2',\n",
       "  'fighter_inf_ground_strikes_landed_avg_diff_2',\n",
       "  '1-fight_math',\n",
       "  'fighter_abs_head_strikes_landed_avg_diff_2',\n",
       "  'fighter_inf_knockdowns_avg_diff_2',\n",
       "  'fighter_L5Y_sub_wins_diff_2',\n",
       "  '9-fighter_score_diff'],\n",
       " 0.6378125)"
      ]
     },
     "execution_count": 94,
     "metadata": {},
     "output_type": "execute_result"
    }
   ],
   "source": [
    "greedy(ufc_fights,best_smallest_set,2)"
   ]
  },
  {
   "cell_type": "code",
   "execution_count": 95,
   "id": "473461d9",
   "metadata": {},
   "outputs": [
    {
     "name": "stdout",
     "output_type": "stream",
     "text": [
      "['fighter_abs_total_strikes_landed_avg_diff_2', 'fighter_age_diff', '4-fighter_score_diff'] 0.6190625000000001\n",
      "['fighter_abs_total_strikes_landed_avg_diff_2', 'fighter_age_diff', '4-fighter_score_diff', 'fighter_L5Y_sub_wins_diff_2', '6-fight_math', 'fighter_inf_takedowns_attempts_avg_diff_2'] 0.630625\n",
      "['fighter_abs_total_strikes_landed_avg_diff_2', 'fighter_age_diff', '4-fighter_score_diff', 'fighter_L5Y_sub_wins_diff_2', '6-fight_math', 'fighter_inf_takedowns_attempts_avg_diff_2', 'fighter_abs_head_strikes_landed_avg_diff_2', 'fighter_L5Y_losses_diff_2', '1-fight_math'] 0.6353125\n",
      "['fighter_abs_total_strikes_landed_avg_diff_2', 'fighter_age_diff', '4-fighter_score_diff', 'fighter_L5Y_sub_wins_diff_2', '6-fight_math', 'fighter_inf_takedowns_attempts_avg_diff_2', 'fighter_abs_head_strikes_landed_avg_diff_2', 'fighter_L5Y_losses_diff_2', '1-fight_math', 'fighter_inf_head_strikes_landed_avg_diff_2', 'fighter_L5Y_ko_losses_diff_2', '17-fighter_score_diff'] 0.6368750000000001\n",
      "['fighter_abs_total_strikes_landed_avg_diff_2', 'fighter_age_diff', '4-fighter_score_diff', 'fighter_L5Y_sub_wins_diff_2', '6-fight_math', 'fighter_inf_takedowns_attempts_avg_diff_2', 'fighter_abs_head_strikes_landed_avg_diff_2', 'fighter_L5Y_losses_diff_2', '1-fight_math', 'fighter_inf_head_strikes_landed_avg_diff_2', 'fighter_L5Y_ko_losses_diff_2', '17-fighter_score_diff', 'fighter_inf_ground_strikes_landed_avg_diff_2', '15-fighter_score_diff', '9-fighter_score_diff'] 0.6371875\n",
      "['fighter_abs_total_strikes_landed_avg_diff_2', 'fighter_age_diff', '4-fighter_score_diff', 'fighter_L5Y_sub_wins_diff_2', '6-fight_math', 'fighter_inf_takedowns_attempts_avg_diff_2', 'fighter_abs_head_strikes_landed_avg_diff_2', 'fighter_L5Y_losses_diff_2', '1-fight_math', 'fighter_inf_head_strikes_landed_avg_diff_2', 'fighter_L5Y_ko_losses_diff_2', '17-fighter_score_diff', 'fighter_inf_ground_strikes_landed_avg_diff_2', '15-fighter_score_diff', '9-fighter_score_diff', 'fighter_L5Y_sub_wins_diff_2', 'fighter_inf_ground_strikes_landed_avg_diff_2', '1-fight_math'] 0.6371875\n"
     ]
    },
    {
     "data": {
      "text/plain": [
       "(['fighter_abs_total_strikes_landed_avg_diff_2',\n",
       "  'fighter_age_diff',\n",
       "  '4-fighter_score_diff',\n",
       "  'fighter_L5Y_sub_wins_diff_2',\n",
       "  '6-fight_math',\n",
       "  'fighter_inf_takedowns_attempts_avg_diff_2',\n",
       "  'fighter_abs_head_strikes_landed_avg_diff_2',\n",
       "  'fighter_L5Y_losses_diff_2',\n",
       "  '1-fight_math',\n",
       "  'fighter_inf_head_strikes_landed_avg_diff_2',\n",
       "  'fighter_L5Y_ko_losses_diff_2',\n",
       "  '17-fighter_score_diff',\n",
       "  'fighter_inf_ground_strikes_landed_avg_diff_2',\n",
       "  '15-fighter_score_diff',\n",
       "  '9-fighter_score_diff'],\n",
       " 0.6371875)"
      ]
     },
     "execution_count": 95,
     "metadata": {},
     "output_type": "execute_result"
    }
   ],
   "source": [
    "greedy(ufc_fights,best_smallest_set,3)"
   ]
  },
  {
   "cell_type": "code",
   "execution_count": 97,
   "id": "dcfc81cb",
   "metadata": {},
   "outputs": [],
   "source": [
    "refined_smallest = ['fighter_abs_total_strikes_landed_avg_diff_2', 'fighter_age_diff', '4-fighter_score_diff', 'fighter_L5Y_sub_wins_diff_2', '6-fight_math', 'fighter_inf_takedowns_attempts_avg_diff_2', 'fighter_abs_head_strikes_landed_avg_diff_2', 'fighter_L5Y_losses_diff_2', '1-fight_math', 'fighter_inf_head_strikes_landed_avg_diff_2', 'fighter_L5Y_ko_losses_diff_2', '17-fighter_score_diff', 'fighter_inf_ground_strikes_landed_avg_diff_2', '15-fighter_score_diff', '9-fighter_score_diff']"
   ]
  },
  {
   "cell_type": "code",
   "execution_count": 98,
   "id": "f0177550",
   "metadata": {},
   "outputs": [
    {
     "name": "stdout",
     "output_type": "stream",
     "text": [
      "['fighter_abs_total_strikes_landed_avg_diff_2', 'fighter_age_diff', '6-fight_math', '4-fighter_score_diff'] 0.624375\n",
      "['fighter_abs_total_strikes_landed_avg_diff_2', 'fighter_age_diff', '6-fight_math', '4-fighter_score_diff', 'fighter_inf_head_strikes_landed_avg_diff_2', 'fighter_L5Y_sub_wins_diff_2', 'fighter_inf_takedowns_attempts_avg_diff_2', 'fighter_L5Y_ko_losses_diff_2'] 0.6331249999999999\n",
      "['fighter_abs_total_strikes_landed_avg_diff_2', 'fighter_age_diff', '6-fight_math', '4-fighter_score_diff', 'fighter_inf_head_strikes_landed_avg_diff_2', 'fighter_L5Y_sub_wins_diff_2', 'fighter_inf_takedowns_attempts_avg_diff_2', 'fighter_L5Y_ko_losses_diff_2', '17-fighter_score_diff', 'fighter_abs_head_strikes_landed_avg_diff_2', 'fighter_L5Y_losses_diff_2', '1-fight_math'] 0.6368750000000001\n",
      "['fighter_abs_total_strikes_landed_avg_diff_2', 'fighter_age_diff', '6-fight_math', '4-fighter_score_diff', 'fighter_inf_head_strikes_landed_avg_diff_2', 'fighter_L5Y_sub_wins_diff_2', 'fighter_inf_takedowns_attempts_avg_diff_2', 'fighter_L5Y_ko_losses_diff_2', '17-fighter_score_diff', 'fighter_abs_head_strikes_landed_avg_diff_2', 'fighter_L5Y_losses_diff_2', '1-fight_math', 'fighter_age_diff', 'fighter_inf_ground_strikes_landed_avg_diff_2', '15-fighter_score_diff', '9-fighter_score_diff'] 0.6371875\n",
      "['fighter_abs_total_strikes_landed_avg_diff_2', 'fighter_age_diff', '6-fight_math', '4-fighter_score_diff', 'fighter_inf_head_strikes_landed_avg_diff_2', 'fighter_L5Y_sub_wins_diff_2', 'fighter_inf_takedowns_attempts_avg_diff_2', 'fighter_L5Y_ko_losses_diff_2', '17-fighter_score_diff', 'fighter_abs_head_strikes_landed_avg_diff_2', 'fighter_L5Y_losses_diff_2', '1-fight_math', 'fighter_age_diff', 'fighter_inf_ground_strikes_landed_avg_diff_2', '15-fighter_score_diff', '9-fighter_score_diff', 'fighter_abs_total_strikes_landed_avg_diff_2', 'fighter_age_diff', 'fighter_inf_ground_strikes_landed_avg_diff_2', 'fighter_inf_takedowns_attempts_avg_diff_2'] 0.6371875\n"
     ]
    },
    {
     "data": {
      "text/plain": [
       "(['fighter_abs_total_strikes_landed_avg_diff_2',\n",
       "  'fighter_age_diff',\n",
       "  '6-fight_math',\n",
       "  '4-fighter_score_diff',\n",
       "  'fighter_inf_head_strikes_landed_avg_diff_2',\n",
       "  'fighter_L5Y_sub_wins_diff_2',\n",
       "  'fighter_inf_takedowns_attempts_avg_diff_2',\n",
       "  'fighter_L5Y_ko_losses_diff_2',\n",
       "  '17-fighter_score_diff',\n",
       "  'fighter_abs_head_strikes_landed_avg_diff_2',\n",
       "  'fighter_L5Y_losses_diff_2',\n",
       "  '1-fight_math',\n",
       "  'fighter_age_diff',\n",
       "  'fighter_inf_ground_strikes_landed_avg_diff_2',\n",
       "  '15-fighter_score_diff',\n",
       "  '9-fighter_score_diff'],\n",
       " 0.6371875)"
      ]
     },
     "execution_count": 98,
     "metadata": {},
     "output_type": "execute_result"
    }
   ],
   "source": [
    "greedy(ufc_fights,refined_smallest,4)"
   ]
  },
  {
   "cell_type": "code",
   "execution_count": 99,
   "id": "af9cd7c8",
   "metadata": {},
   "outputs": [
    {
     "data": {
      "text/plain": [
       "['17-fighter_score_diff',\n",
       " 'fighter_age_diff',\n",
       " 'fighter_abs_total_strikes_landed_avg_diff_2',\n",
       " 'fighter_L5Y_sub_wins_diff_2',\n",
       " 'fighter_L5Y_losses_diff_2',\n",
       " '6-fight_math',\n",
       " 'fighter_L5Y_ko_losses_diff_2',\n",
       " 'fighter_inf_ground_strikes_landed_avg_diff_2',\n",
       " '15-fighter_score_diff',\n",
       " '9-fighter_score_diff',\n",
       " 'fighter_abs_head_strikes_landed_avg_diff_2',\n",
       " 'fighter_inf_takedowns_attempts_avg_diff_2',\n",
       " '1-fight_math',\n",
       " 'fighter_inf_head_strikes_landed_avg_diff_2',\n",
       " '4-fighter_score_diff']"
      ]
     },
     "execution_count": 99,
     "metadata": {},
     "output_type": "execute_result"
    }
   ],
   "source": [
    "list(set(['fighter_abs_total_strikes_landed_avg_diff_2',\n",
    "  'fighter_age_diff',\n",
    "  '6-fight_math',\n",
    "  '4-fighter_score_diff',\n",
    "  'fighter_inf_head_strikes_landed_avg_diff_2',\n",
    "  'fighter_L5Y_sub_wins_diff_2',\n",
    "  'fighter_inf_takedowns_attempts_avg_diff_2',\n",
    "  'fighter_L5Y_ko_losses_diff_2',\n",
    "  '17-fighter_score_diff',\n",
    "  'fighter_abs_head_strikes_landed_avg_diff_2',\n",
    "  'fighter_L5Y_losses_diff_2',\n",
    "  '1-fight_math',\n",
    "  'fighter_age_diff',\n",
    "  'fighter_inf_ground_strikes_landed_avg_diff_2',\n",
    "  '15-fighter_score_diff',\n",
    "  '9-fighter_score_diff']))"
   ]
  },
  {
   "cell_type": "code",
   "execution_count": 108,
   "id": "668899b6",
   "metadata": {},
   "outputs": [
    {
     "name": "stdout",
     "output_type": "stream",
     "text": [
      "2 0.55\n",
      "3 0.5916666666666666\n",
      "4 0.65625\n",
      "5 0.68\n",
      "6 0.6041666666666666\n",
      "7 0.6285714285714286\n",
      "8 0.58125\n",
      "9 0.5805555555555556\n",
      "10 0.5775\n",
      "11 0.5954545454545455\n",
      "12 0.5541666666666666\n",
      "13 0.5846153846153845\n",
      "14 0.5928571428571429\n",
      "15 0.5850000000000001\n",
      "16 0.596875\n",
      "17 0.5852941176470587\n",
      "18 0.5916666666666667\n",
      "19 0.606578947368421\n",
      "20 0.5900000000000001\n",
      "21 0.6083333333333333\n",
      "22 0.6022727272727273\n",
      "23 0.6000000000000001\n",
      "24 0.5947916666666667\n",
      "25 0.604\n",
      "26 0.5990384615384615\n",
      "27 0.6083333333333334\n",
      "28 0.6071428571428572\n",
      "29 0.6077586206896552\n",
      "30 0.6133333333333333\n",
      "31 0.6169354838709677\n",
      "32 0.6203125\n",
      "33 0.6189393939393939\n",
      "34 0.6272058823529412\n",
      "35 0.6235714285714286\n",
      "36 0.6222222222222222\n",
      "37 0.6141891891891892\n",
      "38 0.6236842105263157\n",
      "39 0.617948717948718\n",
      "40 0.6199999999999999\n",
      "41 0.6195121951219512\n",
      "42 0.6178571428571429\n",
      "43 0.6232558139534884\n",
      "44 0.625\n",
      "45 0.6238888888888888\n",
      "46 0.6233695652173913\n",
      "47 0.6276595744680851\n",
      "48 0.6286458333333333\n",
      "49 0.6290816326530613\n",
      "50 0.6295\n",
      "51 0.6318627450980392\n",
      "52 0.6389423076923076\n",
      "53 0.6344339622641508\n",
      "54 0.6356481481481482\n",
      "55 0.6345454545454545\n",
      "56 0.6294642857142857\n",
      "57 0.6364035087719299\n",
      "58 0.6392241379310345\n",
      "59 0.6343220338983051\n",
      "60 0.64\n",
      "61 0.6356557377049181\n",
      "62 0.6338709677419355\n",
      "63 0.6333333333333333\n",
      "64 0.630859375\n",
      "65 0.635\n",
      "66 0.6371212121212121\n",
      "67 0.6380597014925372\n",
      "68 0.6363970588235294\n",
      "69 0.6369565217391304\n",
      "70 0.6396428571428572\n",
      "71 0.6376760563380282\n",
      "72 0.6354166666666667\n",
      "73 0.635958904109589\n",
      "74 0.6361486486486486\n",
      "75 0.637\n",
      "76 0.6345394736842105\n",
      "77 0.6373376623376624\n",
      "78 0.6342948717948718\n",
      "79 0.6348101265822785\n",
      "80 0.6371875\n",
      "81 0.6345679012345679\n",
      "82 0.6381097560975609\n",
      "83 0.6358433734939759\n",
      "84 0.637797619047619\n",
      "85 0.6335294117647059\n",
      "86 0.6334302325581396\n",
      "87 0.6330459770114942\n",
      "88 0.6352272727272728\n",
      "89 0.6337078651685393\n",
      "90 0.6333333333333333\n",
      "91 0.6346153846153846\n",
      "92 0.6338641954865875\n",
      "93 0.6338641954865875\n",
      "94 0.6338641954865875\n",
      "95 0.6338641954865875\n",
      "96 0.6338641954865875\n",
      "97 0.6338641954865875\n",
      "98 0.6338641954865875\n",
      "99 0.6338641954865875\n",
      "100 0.6338641954865875\n",
      "101 0.6338641954865875\n",
      "102 0.6338641954865875\n",
      "103 0.6338641954865875\n",
      "104 0.6338641954865875\n",
      "105 0.6338641954865875\n",
      "106 0.6338641954865875\n",
      "107 0.6338641954865875\n",
      "108 0.6338641954865875\n",
      "109 0.6338641954865875\n",
      "110 0.6338641954865875\n",
      "111 0.6338641954865875\n",
      "112 0.6338641954865875\n",
      "113 0.6338641954865875\n",
      "114 0.6338641954865875\n",
      "115 0.6338641954865875\n",
      "116 0.6338641954865875\n",
      "117 0.6338641954865875\n",
      "118 0.6338641954865875\n",
      "119 0.6338641954865875\n",
      "120 0.6338641954865875\n",
      "121 0.6338641954865875\n",
      "122 0.6338641954865875\n",
      "123 0.6338641954865875\n",
      "124 0.6338641954865875\n",
      "125 0.6338641954865875\n",
      "126 0.6338641954865875\n",
      "127 0.6338641954865875\n",
      "128 0.6338641954865875\n",
      "129 0.6338641954865875\n",
      "130 0.6338641954865875\n",
      "131 0.6338641954865875\n",
      "132 0.6338641954865875\n",
      "133 0.6338641954865875\n",
      "134 0.6338641954865875\n",
      "135 0.6338641954865875\n",
      "136 0.6338641954865875\n",
      "137 0.6338641954865875\n",
      "138 0.6338641954865875\n",
      "139 0.6338641954865875\n",
      "140 0.6338641954865875\n",
      "141 0.6338641954865875\n",
      "142 0.6338641954865875\n",
      "143 0.6338641954865875\n",
      "144 0.6338641954865875\n",
      "145 0.6338641954865875\n",
      "146 0.6338641954865875\n",
      "147 0.6338641954865875\n",
      "148 0.6338641954865875\n",
      "149 0.6338641954865875\n",
      "150 0.6338641954865875\n",
      "151 0.6338641954865875\n",
      "152 0.6338641954865875\n",
      "153 0.6338641954865875\n",
      "154 0.6338641954865875\n",
      "155 0.6338641954865875\n",
      "156 0.6338641954865875\n",
      "157 0.6338641954865875\n",
      "158 0.6338641954865875\n",
      "159 0.6338641954865875\n"
     ]
    }
   ],
   "source": [
    "#max at 52 so iloc = 40*52 = 2080\n",
    "for i in range(2,160):\n",
    "    print(i,model_score(ufc_fights,current_best,40*i))"
   ]
  },
  {
   "cell_type": "code",
   "execution_count": 118,
   "id": "9a731cb4",
   "metadata": {},
   "outputs": [
    {
     "data": {
      "text/plain": [
       "0.6389423076923076"
      ]
     },
     "execution_count": 118,
     "metadata": {},
     "output_type": "execute_result"
    }
   ],
   "source": [
    "#apparently 30 is enough iterations\n",
    "{‘l1’, ‘l2’, ‘elasticnet’, ‘none’}\n",
    "model_score(ufc_fights,current_best,2080,30)"
   ]
  },
  {
   "cell_type": "code",
   "execution_count": 122,
   "id": "91d6f8fa",
   "metadata": {},
   "outputs": [
    {
     "data": {
      "text/plain": [
       "0.6389423076923076"
      ]
     },
     "execution_count": 122,
     "metadata": {},
     "output_type": "execute_result"
    }
   ],
   "source": [
    "#apparently 30 is enough iterations\n",
    "#{‘l1’, ‘l2’, ‘elasticnet’, ‘none’}\n",
    "model_score(ufc_fights,best_smallest_set,2080,500)"
   ]
  },
  {
   "cell_type": "code",
   "execution_count": 129,
   "id": "6343afb6",
   "metadata": {},
   "outputs": [
    {
     "name": "stdout",
     "output_type": "stream",
     "text": [
      "model score: 0.6567307692307692\n",
      "cross val score: 0.6389423076923076\n"
     ]
    }
   ],
   "source": [
    "#getting very close to 64% now... big improvement but not really enough to \n",
    "best_smallest_set=list(set(['fighter_age_diff', \n",
    "                            'reach_diff', \n",
    "                            'fighter_L5Y_ko_losses_diff_2', \n",
    "                            'fighter_L5Y_losses_diff_2', \n",
    "                            'fighter_L2Y_wins_diff_2', \n",
    "                            'fighter_L5Y_wins_diff_2', \n",
    "                            'fighter_L5Y_sub_wins_diff_2', \n",
    "                            'fighter_abs_total_strikes_landed_avg_diff_2', \n",
    "                            'fighter_inf_head_strikes_landed_avg_diff_2', \n",
    "                            'fighter_inf_leg_strikes_landed_avg_diff_2', \n",
    "                            'fighter_abs_head_strikes_landed_avg_diff_2', \n",
    "                            'fighter_inf_knockdowns_avg_diff_2', \n",
    "                            'fighter_inf_clinch_strikes_attempts_avg_diff_2', \n",
    "                            'fighter_inf_takedowns_attempts_avg_diff_2', \n",
    "                            'fighter_inf_ground_strikes_landed_avg_diff_2', \n",
    "                            'fighter_inf_sig_strikes_landed_avg_diff_2',\n",
    "                              '6-fight_math',\n",
    "                              '15-fighter_score_diff',\n",
    "                              '4-fighter_score_diff',\n",
    "                              '17-fighter_score_diff',\n",
    "                              '1-fight_math',\n",
    "                              '9-fighter_score_diff',\n",
    "                              '1-fighter_score_diff',\n",
    "                              '5-fight_math',\n",
    "                              '13-fighter_score_diff',\n",
    "                              '1-fighter_score_diff',\n",
    "                              '5-fight_math',\n",
    "                              '4-fighter_score_diff'\n",
    "]))\n",
    "\n",
    "winPredictionModel=LogisticRegression(solver='lbfgs', max_iter=2000)\n",
    "X=ufc_fights[best_smallest_set].iloc[0:2080]\n",
    "y=ufc_fights['result'].iloc[0:2080]\n",
    "winPredictionModel.fit(X,y)\n",
    "\n",
    "print('model score: '+str(winPredictionModel.score(X,y)))\n",
    "print('cross val score: '+str(model_score(ufc_fights,best_smallest_set,2080,500)))"
   ]
  },
  {
   "cell_type": "code",
   "execution_count": 130,
   "id": "240a4161",
   "metadata": {},
   "outputs": [
    {
     "name": "stdout",
     "output_type": "stream",
     "text": [
      "model score: 0.6432692307692308\n",
      "cross val score: 0.6389423076923076\n"
     ]
    }
   ],
   "source": [
    "current_best = ['4-fighter_score_diff',\n",
    " '9-fighter_score_diff',\n",
    " '15-fighter_score_diff',\n",
    " '17-fighter_score_diff',\n",
    " '1-fight_math',\n",
    " '6-fight_math',\n",
    " 'fighter_L5Y_sub_wins_diff_2',\n",
    " 'fighter_L5Y_losses_diff_2',\n",
    " 'fighter_L5Y_ko_losses_diff_2',\n",
    " 'fighter_age_diff',\n",
    " 'fighter_abs_total_strikes_landed_avg_diff_2',\n",
    " 'fighter_abs_head_strikes_landed_avg_diff_2',\n",
    " 'fighter_inf_ground_strikes_landed_avg_diff_2',\n",
    " 'fighter_inf_takedowns_attempts_avg_diff_2',\n",
    " 'fighter_inf_head_strikes_landed_avg_diff_2',\n",
    " ]\n",
    "\n",
    "winPredictionModel=LogisticRegression(solver='lbfgs', max_iter=2000)\n",
    "X=ufc_fights[current_best].iloc[0:2080]\n",
    "y=ufc_fights['result'].iloc[0:2080]\n",
    "winPredictionModel.fit(X,y)\n",
    "\n",
    "print('model score: '+str(winPredictionModel.score(X,y)))\n",
    "print('cross val score: '+str(model_score(ufc_fights,current_best,2080,500)))"
   ]
  },
  {
   "cell_type": "code",
   "execution_count": 14,
   "id": "ab2d4d59",
   "metadata": {},
   "outputs": [],
   "source": [
    "ufc_fights_graph = pd.read_csv('ufc_fights_crap.csv',low_memory=False)\n",
    "odd_indices = range(1,len(ufc_fights_graph.index),2)\n",
    "ufc_fights_graph = ufc_fights_graph.drop(odd_indices)\n",
    "ufc_fights_graph = ufc_fights_graph[['fighter', 'opponent', 'method', 'date', 'division']]\n",
    "ufc_fights_graph = ufc_fights_graph.reset_index(drop=True);\n",
    "ufc_wins_list=[]\n",
    "\n",
    "for i in ufc_fights_graph.index:\n",
    "    temp_list = []\n",
    "    temp_list.append(ufc_fights_graph['fighter'][i])\n",
    "    temp_list.append(ufc_fights_graph['opponent'][i])\n",
    "    temp_list.append(ufc_fights_graph['date'][i])\n",
    "    temp_list.append(ufc_fights_graph['division'][i])\n",
    "    ufc_wins_list.append(temp_list)"
   ]
  },
  {
   "cell_type": "code",
   "execution_count": 15,
   "id": "13e553c7",
   "metadata": {},
   "outputs": [],
   "source": [
    "#need to define variable \"years\" before calling this function\n",
    "def generate_rankings(weight_class, date):\n",
    "    weight_mask = ufc_fights['division']==weight_class\n",
    "    relevant_wins = [fight for fight in ufc_wins_list if \n",
    "                     (0<time_diff(fight[2],date)<years*365 and fight[3]==weight_class)]\n",
    "    winners = {}\n",
    "    for fight in relevant_wins:\n",
    "        winners[fight[0]]=fighter_score(fight[0],date)\n",
    "    winners_sorted = {k: v for k, v in sorted(winners.items(), key=lambda item: -item[1])}\n",
    "    return winners_sorted\n",
    "    "
   ]
  },
  {
   "cell_type": "code",
   "execution_count": 19,
   "id": "208c833a",
   "metadata": {},
   "outputs": [
    {
     "data": {
      "text/plain": [
       "{'Kamaru Usman': 30,\n",
       " 'Leon Edwards': 29,\n",
       " 'Vicente Luque': 25,\n",
       " 'Belal Muhammad': 19,\n",
       " 'Anthony Pettis': 18,\n",
       " 'Elizeu Zaleski dos Santos': 17,\n",
       " 'Sean Strickland': 17,\n",
       " 'Geoff Neal': 16,\n",
       " 'Jingliang Li': 16,\n",
       " 'Muslim Salikhov': 15,\n",
       " 'Khaos Williams': 14,\n",
       " 'Gilbert Burns': 14,\n",
       " 'Santiago Ponzinibbio': 14,\n",
       " 'Anthony Rocco Martin': 14,\n",
       " 'Colby Covington': 13,\n",
       " 'Stephen Thompson': 13,\n",
       " 'Neil Magny': 12,\n",
       " 'Michel Prazeres': 12,\n",
       " 'Shavkat Rakhmonov': 11,\n",
       " 'Francisco Trinaldo': 11,\n",
       " 'Daniel Rodriguez': 11,\n",
       " 'Khamzat Chimaev': 10,\n",
       " 'Sean Brady': 9,\n",
       " 'Niko Price': 9,\n",
       " 'Rafael Dos Anjos': 9,\n",
       " 'Kevin Holland': 8,\n",
       " 'Michel Pereira': 8,\n",
       " 'Michael Chiesa': 7,\n",
       " 'James Krause': 7,\n",
       " 'Rustam Khabilov': 7,\n",
       " 'Lorenz Larkin': 7,\n",
       " 'Ismail Naurdiev': 6,\n",
       " 'Jordan Mein': 6,\n",
       " 'Alan Jouban': 5,\n",
       " 'Jake Matthews': 5,\n",
       " 'Mike Perry': 5,\n",
       " 'Demian Maia': 5,\n",
       " 'Alex Morono': 4,\n",
       " 'Conor McGregor': 4,\n",
       " 'Tyron Woodley': 4,\n",
       " 'Omari Akhmedov': 4,\n",
       " 'Michael Graves': 4,\n",
       " 'Gunnar Nelson': 3,\n",
       " 'Randy Brown': 3,\n",
       " 'Warlley Alves': 3,\n",
       " 'Nicolas Dalby': 3,\n",
       " 'Diego Sanchez': 3,\n",
       " 'Tristan Connelly': 3,\n",
       " 'Keita Nakamura': 3,\n",
       " 'Michael Morales': 2,\n",
       " 'Sergio Moraes': 2,\n",
       " 'Matthew Semelsberger': 1,\n",
       " 'Jeremiah Wells': 1,\n",
       " 'Carlston Harris': 1,\n",
       " 'Gabe Green': 1,\n",
       " 'Darren Till': 1,\n",
       " 'Drew Dober': 1,\n",
       " 'Alex Garcia': 1,\n",
       " 'Phil Rowe': 0,\n",
       " 'Jack Della Maddalena': 0,\n",
       " 'Max Griffin': 0,\n",
       " 'Dwight Grant': 0,\n",
       " 'Claudio Silva': 0,\n",
       " 'Sultan Aliev': 0,\n",
       " 'Curtis Millender': 0,\n",
       " 'Sage Northcutt': 0,\n",
       " 'Ryan LaFlare': 0,\n",
       " 'Shinsho Anzai': 0,\n",
       " 'Jesse Taylor': 0,\n",
       " 'Zak Cummings': 0,\n",
       " 'Donald Cerrone': -1,\n",
       " 'Alex Oliveira': -1,\n",
       " 'Jesse Ronson': -1,\n",
       " 'Mounir Lazzez': -1,\n",
       " 'Dhiego Lima': -1,\n",
       " 'Chance Rencountre': -1,\n",
       " 'Nordine Taleb': -1,\n",
       " 'Mike Jackson': -1,\n",
       " 'Jonathan Meunier': -1,\n",
       " 'Roan Carneiro': -1,\n",
       " 'Ramiz Brahimaj': -2,\n",
       " 'Court McGee': -2,\n",
       " 'Ian Garry': -2,\n",
       " 'Danny Roberts': -2,\n",
       " 'Jason Witt': -2,\n",
       " 'Mickey Gall': -2,\n",
       " 'Abubakar Nurmagomedov': -2,\n",
       " 'Sasha Palatnikov': -2,\n",
       " 'Nate Diaz': -2,\n",
       " 'Sergey Khandozhko': -2,\n",
       " 'Carlo Pedersoli Jr.': -2,\n",
       " 'Yushin Okami': -2,\n",
       " 'Yancy Medeiros': -2,\n",
       " 'Galore Bofando': -2,\n",
       " 'Emil Meek': -2,\n",
       " 'Bryan Barberena': -3,\n",
       " 'Ramazan Emeev': -3,\n",
       " 'Christian Aguilera': -3,\n",
       " 'David Zawada': -3,\n",
       " 'Lyman Good': -3,\n",
       " 'Erik Koch': -3,\n",
       " 'Thiago Alves': -3,\n",
       " 'Aleksei Kunchenko': -3,\n",
       " 'Abdul Razak Alhassan': -3,\n",
       " 'Siyar Bahadurzada': -3,\n",
       " 'Luke Jumeau': -3,\n",
       " 'Chad Laprise': -3,\n",
       " 'Daichi Abe': -3,\n",
       " 'Dong Hyun Kim': -3,\n",
       " 'Erick Silva': -3,\n",
       " 'Kelvin Gastelum': -3,\n",
       " 'Alberto Mina': -3,\n",
       " 'Rick Story': -3,\n",
       " 'Jared Gooden': -4,\n",
       " 'Impa Kasanganay': -4,\n",
       " 'Miguel Baeza': -4,\n",
       " 'Kenan Song': -4,\n",
       " 'Jorge Masvidal': -4,\n",
       " 'Ben Askren': -4,\n",
       " 'Bartosz Fabinski': -4,\n",
       " 'Robbie Lawler': -4,\n",
       " 'Luan Chagas': -4,\n",
       " 'Bojan Velickovic': -4,\n",
       " 'Jessin Ayari': -4,\n",
       " 'Tim Means': -5,\n",
       " 'Carlos Condit': -5,\n",
       " 'Takashi Sato': -5,\n",
       " 'Callan Potter': -5,\n",
       " 'Zak Ottow': -5,\n",
       " 'Peter Sobotta': -5,\n",
       " 'Jake Ellenberger': -5,\n",
       " 'Laureano Staropoli': -6,\n",
       " 'Matt Brown': -7,\n",
       " 'Ben Saunders': -8}"
      ]
     },
     "execution_count": 19,
     "metadata": {},
     "output_type": "execute_result"
    }
   ],
   "source": [
    "years = 6\n",
    "generate_rankings('Welterweight','March 25, 2022')"
   ]
  },
  {
   "cell_type": "code",
   "execution_count": null,
   "id": "11ba806a",
   "metadata": {},
   "outputs": [],
   "source": []
  }
 ],
 "metadata": {
  "kernelspec": {
   "display_name": "Python 3 (ipykernel)",
   "language": "python",
   "name": "python3"
  },
  "language_info": {
   "codemirror_mode": {
    "name": "ipython",
    "version": 3
   },
   "file_extension": ".py",
   "mimetype": "text/x-python",
   "name": "python",
   "nbconvert_exporter": "python",
   "pygments_lexer": "ipython3",
   "version": "3.9.10"
  }
 },
 "nbformat": 4,
 "nbformat_minor": 5
}
