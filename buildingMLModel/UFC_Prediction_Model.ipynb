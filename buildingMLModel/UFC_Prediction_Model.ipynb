{
 "cells": [
  {
   "cell_type": "code",
   "execution_count": 1,
   "id": "665a1a6e",
   "metadata": {},
   "outputs": [],
   "source": [
    "#NEW IDEA. PERHAPS FOR EACH FIGHT, WE LOOK AT THE CORRESPONDING POINT IN THE SPACE OF ALL FEATURES, AND THEN\n",
    "#BUILD A MODEL WHERE THE TRAINING SET ONLY INVOLVES POINTS NEAR THAT POINT.\n",
    "#THIS MIGHT BE MORE EFFECTIVE BECAUSE THE MOST RELEVANT FEATURES IS LIKELY TO DEPEND ON THE LOCATION\n",
    "#IN THE PARAMETER SPACE."
   ]
  },
  {
   "cell_type": "code",
   "execution_count": 2,
   "id": "570a2e72",
   "metadata": {},
   "outputs": [],
   "source": [
    "#getting dependencies\n",
    "import pandas as pd\n",
    "pd.options.mode.chained_assignment = None  # default='warn' (disables SettingWithCopyWarning)\n",
    "\n",
    "import numpy as npy\n",
    "from datetime import datetime\n",
    "from datetime import date\n",
    "import matplotlib.pyplot as plt\n",
    "import random\n",
    "import sklearn\n",
    "import scipy\n",
    "from sklearn.linear_model import LogisticRegression\n",
    "from sklearn.ensemble import RandomForestClassifier\n",
    "from sklearn.neural_network import MLPClassifier\n",
    "from sklearn.model_selection import train_test_split, KFold, cross_val_score\n",
    "from sklearn import preprocessing\n",
    "from sklearn.preprocessing import PolynomialFeatures\n",
    "from sklearn.feature_selection import VarianceThreshold\n",
    "import itertools\n",
    "#this imports all of the functions from the file functions.py\n",
    "from functions import *"
   ]
  },
  {
   "cell_type": "code",
   "execution_count": 3,
   "id": "c232dabf",
   "metadata": {},
   "outputs": [],
   "source": [
    "ufc_fights = pd.read_csv('ufc_fights.csv',low_memory=False)"
   ]
  },
  {
   "cell_type": "code",
   "execution_count": 4,
   "id": "95a388bc",
   "metadata": {},
   "outputs": [],
   "source": [
    "#importing csv fight data and saving as dataframes\n",
    "ufc_fights_winner = pd.read_csv('ufc_fights.csv',low_memory=False)\n",
    "ufc_fights_method = pd.read_csv('ufc_fights.csv',low_memory=False)\n",
    "ufcfighterscrap =pd.read_csv('fighter_stats.csv',sep=',',low_memory=False)"
   ]
  },
  {
   "cell_type": "code",
   "execution_count": 5,
   "id": "9f9fbdd9",
   "metadata": {},
   "outputs": [
    {
     "data": {
      "text/plain": [
       "'29.0'"
      ]
     },
     "execution_count": 5,
     "metadata": {},
     "output_type": "execute_result"
    }
   ],
   "source": [
    "#ages are saved as strings?? Does this affect the model? Lets fix it and see\n",
    "ufc_fights_winner['fighter_age'][0]"
   ]
  },
  {
   "cell_type": "code",
   "execution_count": 6,
   "id": "e64d3b89",
   "metadata": {},
   "outputs": [],
   "source": [
    "for i in range(len(ufcfighterscrap['name'])):\n",
    "    if ufcfighterscrap['name'][i]=='Xiaonan Yan':\n",
    "        ufcfighterscrap['name'][i]='Yan Xiaonan'\n",
    "        \n",
    "for i in range(len(ufcfightscrap['fighter'])):\n",
    "    if ufcfightscrap['fighter'][i]=='Xiaonan Yan':\n",
    "        ufcfightscrap['fighter'][i]='Yan Xiaonan'\n",
    "        \n",
    "for i in range(len(ufcfightscrap['opponent'])):\n",
    "    if ufcfightscrap['opponent'][i]=='Xiaonan Yan':\n",
    "        ufcfightscrap['opponent'][i]='Yan Xiaonan'\n",
    "    \n",
    "#it gets saved as Joanne Wood for some reason\n",
    "for i in range(len(ufc_fights_winner['fighter'])):\n",
    "    if ufc_fights_winner['fighter'][i]=='Joanne Wood':\n",
    "        ufc_fights_winner['fighter'][i]='Joanne Calderwood'\n",
    "    if ufc_fights_winner['opponent'][i]=='Joanne Wood':\n",
    "        ufc_fights_winner['opponent'][i]='Joanne Calderwood'\n",
    "        \n",
    "#it gets saved as Joanne Wood for some reason\n",
    "for i in range(len(ufc_fights_winner['fighter'])):\n",
    "    if ufc_fights_method['fighter'][i]=='Joanne Wood':\n",
    "        ufc_fights_method['fighter'][i]='Joanne Calderwood'\n",
    "    if ufc_fights_method['opponent'][i]=='Joanne Wood':\n",
    "        ufc_fights_method['opponent'][i]='Joanne Calderwood'\n",
    "        \n",
    "#it gets saved as Joanne Wood for some reason\n",
    "for i in range(len(ufc_fights['fighter'])):\n",
    "    if ufc_fights['fighter'][i]=='Joanne Wood':\n",
    "        ufc_fights['fighter'][i]='Joanne Calderwood'\n",
    "    if ufc_fights['opponent'][i]=='Joanne Wood':\n",
    "        ufc_fights['opponent'][i]='Joanne Calderwood'"
   ]
  },
  {
   "cell_type": "code",
   "execution_count": 7,
   "id": "f54d09a6",
   "metadata": {},
   "outputs": [],
   "source": [
    "#there are two lists of names which sometimes get scraped differently... this causes some problems which are being\n",
    "#addressed in this cell. \n",
    "\n",
    "names_list = list(set((list(ufcfightscrap['fighter'])+list(ufcfightscrap['opponent']))))\n",
    "names_list.sort()\n",
    "\n",
    "names_list2 = list(set(ufcfighterscrap['name']))\n",
    "names_list2.sort()\n",
    "\n",
    "#Use the following two lines of code to examine names if necessary...\n",
    "\n",
    "#for name in names_list:\n",
    "    #print(name)\n",
    "    \n",
    "#for name in names_list2:\n",
    "    #print(name)"
   ]
  },
  {
   "cell_type": "code",
   "execution_count": 8,
   "id": "2ef2d0ff",
   "metadata": {},
   "outputs": [
    {
     "data": {
      "text/plain": [
       "array(['DEC', 'KO/TKO', 'SUB', 'bullshit'], dtype=object)"
      ]
     },
     "execution_count": 8,
     "metadata": {},
     "output_type": "execute_result"
    }
   ],
   "source": [
    "#cleaning the methods column for winner prediction \n",
    "#changing anything other than 'U-DEC','M-DEC', 'KO/TKO', 'SUB', to 'bullshit'\n",
    "#changing 'U-DEC','M-DEC', to 'DEC'\n",
    "#(counting split decisions as bullshit)\n",
    "ufc_fights_winner['method'] = clean_method_for_winner_vect(ufc_fights_winner['method'])\n",
    "ufc_fights_winner['method'].unique()"
   ]
  },
  {
   "cell_type": "code",
   "execution_count": 9,
   "id": "33119001",
   "metadata": {},
   "outputs": [
    {
     "data": {
      "text/plain": [
       "array(['DEC', 'KO/TKO', 'SUB', 'bullshit'], dtype=object)"
      ]
     },
     "execution_count": 9,
     "metadata": {},
     "output_type": "execute_result"
    }
   ],
   "source": [
    "#cleaning the methods column for method prediction \n",
    "#changing anything other than 'U-DEC','M-DEC', 'S-DEC', 'KO/TKO', 'SUB', to 'bullshit'\n",
    "#changing 'U-DEC','M-DEC', 'S-DEC', to 'DEC'\n",
    "#(counting split decisions as decisions)\n",
    "ufc_fights_method['method'] = clean_method_vect(ufc_fights_method['method'])\n",
    "ufc_fights_method['method'].unique()"
   ]
  },
  {
   "cell_type": "code",
   "execution_count": 10,
   "id": "73ce89e2",
   "metadata": {},
   "outputs": [],
   "source": [
    "#getting rid of rows with incomplete or useless data\n",
    "#fights with outcome \"Win\" or \"Loss\" (no \"Draw\")\n",
    "draw_mask=ufc_fights_winner['result'] != 'D' \n",
    "#fights where the method of victory is TKO/SUB/DEC (no split decision or DQ or Overturned or anything else like that)\n",
    "method_mask_winner=(ufc_fights_winner['method']!='bullshit')\n",
    "method_mask_method=(ufc_fights_method['method']!='bullshit')\n",
    "#fights where age is known\n",
    "age_mask=(ufc_fights_winner['fighter_age']!='unknown')&(ufc_fights_winner['opponent_age']!='unknown')\n",
    "#fights where height reach is known\n",
    "height_mask=(ufc_fights_winner['fighter_height']!='unknown')&(ufc_fights_winner['opponent_height']!='unknown')\n",
    "reach_mask=(ufc_fights_winner['fighter_reach']!='unknown')&(ufc_fights_winner['opponent_reach']!='unknown')\n",
    "#fights where number of wins is known\n",
    "wins_mask=(ufc_fights_winner['fighter_wins'] != 'unknown' )& (ufc_fights_winner['opponent_wins'] != 'unknown')\n",
    "#fights where both fighters have strike statistics (gets rid of UFC debuts)\n",
    "strikes_mask=(ufc_fights_winner['fighter_inf_sig_strikes_attempts_avg'] != 0)&(ufc_fights_winner['opponent_inf_sig_strikes_attempts_avg'] != 0)\n",
    "#includes only the fights satisfying these conditions\n",
    "ufc_fights_winner=ufc_fights_winner[draw_mask&method_mask_winner&age_mask&height_mask&reach_mask&wins_mask&strikes_mask]\n",
    "ufc_fights_method=ufc_fights_method[draw_mask&method_mask_method&age_mask&height_mask&reach_mask&wins_mask&strikes_mask]\n",
    "ufc_fights=ufc_fights[draw_mask&method_mask_winner&age_mask&height_mask&reach_mask&wins_mask&strikes_mask]\n",
    "\n",
    "#listing all stats and making some new stats from them (differences often score higher in the learning models)\n",
    "record_statistics=[u'fighter_wins', \n",
    "                   u'fighter_losses',\n",
    "                   u'fighter_L5Y_wins',\n",
    "                   u'fighter_L5Y_losses', \n",
    "                   u'fighter_L2Y_wins', \n",
    "                   u'fighter_L2Y_losses',\n",
    "                    u'fighter_ko_wins',\n",
    "                   u'fighter_ko_losses',\n",
    "                   u'fighter_L5Y_ko_wins',\n",
    "                   u'fighter_L5Y_ko_losses',\n",
    "                   u'fighter_L2Y_ko_wins',\n",
    "                    u'fighter_L2Y_ko_losses',\n",
    "                   u'fighter_sub_wins',\n",
    "                   u'fighter_sub_losses',\n",
    "                   u'fighter_L5Y_sub_wins',\n",
    "                    u'fighter_L5Y_sub_losses', \n",
    "                   u'fighter_L2Y_sub_wins', \n",
    "                   u'fighter_L2Y_sub_losses',\n",
    "                   u'opponent_wins', \n",
    "                   u'opponent_losses',\n",
    "                   u'opponent_L5Y_wins', \n",
    "                   u'opponent_L5Y_losses', \n",
    "                   u'opponent_L2Y_wins', \n",
    "                   u'opponent_L2Y_losses', \n",
    "                    u'opponent_ko_wins', \n",
    "                   u'opponent_ko_losses', \n",
    "                   u'opponent_L5Y_ko_wins', \n",
    "                   u'opponent_L5Y_ko_losses', \n",
    "                   u'opponent_L2Y_ko_wins',\n",
    "                    u'opponent_L2Y_ko_losses', \n",
    "                   u'opponent_sub_wins', \n",
    "                   u'opponent_sub_losses',\n",
    "                   u'opponent_L5Y_sub_wins', \n",
    "                    u'opponent_L5Y_sub_losses', \n",
    "                   u'opponent_L2Y_sub_wins', \n",
    "                   u'opponent_L2Y_sub_losses']\n",
    "\n",
    "physical_stats=[ u'fighter_age',\n",
    "                u'fighter_height',\n",
    "                    u'fighter_reach',  \n",
    "                u'opponent_age',  \n",
    "                u'opponent_height',\n",
    "                    u'opponent_reach']\n",
    "\n",
    "#THERE MAY BE A PROBLEM IN AGE HEIGHT REACH TO DO WITH STRING VS FLOAT. MAKE SURE THESE ARE ALL THE CORRECT TYPE\n",
    "#MAYBE WE ARE LOSING PREDICTABILITY HERE\n",
    "\n",
    "#here is the list of all stats available (besides stance), does not include names or result\n",
    "punch_statistics=[    u'fighter_inf_knockdowns_avg',\n",
    "                    u'fighter_inf_pass_avg',\n",
    "                    u'fighter_inf_reversals_avg',\n",
    "                    u'fighter_inf_sub_attempts_avg',\n",
    "                    u'fighter_inf_takedowns_landed_avg',\n",
    "                    u'fighter_inf_takedowns_attempts_avg',\n",
    "                    u'fighter_inf_sig_strikes_landed_avg',\n",
    "                    u'fighter_inf_sig_strikes_attempts_avg',\n",
    "                    u'fighter_inf_total_strikes_landed_avg',\n",
    "                    u'fighter_inf_total_strikes_attempts_avg',\n",
    "                    u'fighter_inf_head_strikes_landed_avg',\n",
    "                    u'fighter_inf_head_strikes_attempts_avg',\n",
    "                    u'fighter_inf_body_strikes_landed_avg',\n",
    "                    u'fighter_inf_body_strikes_attempts_avg',\n",
    "                    u'fighter_inf_leg_strikes_landed_avg',\n",
    "                    u'fighter_inf_leg_strikes_attempts_avg',\n",
    "                    u'fighter_inf_distance_strikes_landed_avg',\n",
    "                    u'fighter_inf_distance_strikes_attempts_avg',\n",
    "                    u'fighter_inf_clinch_strikes_landed_avg',\n",
    "                    u'fighter_inf_clinch_strikes_attempts_avg',\n",
    "                    u'fighter_inf_ground_strikes_landed_avg',\n",
    "                    u'fighter_inf_ground_strikes_attempts_avg',\n",
    "                \n",
    "                    u'fighter_abs_knockdowns_avg',\n",
    "                    u'fighter_abs_pass_avg',\n",
    "                    u'fighter_abs_reversals_avg',\n",
    "                    u'fighter_abs_sub_attempts_avg',\n",
    "                    u'fighter_abs_takedowns_landed_avg',\n",
    "                    u'fighter_abs_takedowns_attempts_avg',\n",
    "                    u'fighter_abs_sig_strikes_landed_avg',\n",
    "                    u'fighter_abs_sig_strikes_attempts_avg',\n",
    "                    u'fighter_abs_total_strikes_landed_avg',\n",
    "                    u'fighter_abs_total_strikes_attempts_avg',\n",
    "                    u'fighter_abs_head_strikes_landed_avg',\n",
    "                    u'fighter_abs_head_strikes_attempts_avg',\n",
    "                    u'fighter_abs_body_strikes_landed_avg',\n",
    "                    u'fighter_abs_body_strikes_attempts_avg',\n",
    "                    u'fighter_abs_leg_strikes_landed_avg',\n",
    "                    u'fighter_abs_leg_strikes_attempts_avg',\n",
    "                    u'fighter_abs_distance_strikes_landed_avg',\n",
    "                    u'fighter_abs_distance_strikes_attempts_avg',\n",
    "                    u'fighter_abs_clinch_strikes_landed_avg',\n",
    "                    u'fighter_abs_clinch_strikes_attempts_avg',\n",
    "                    u'fighter_abs_ground_strikes_landed_avg',\n",
    "                    u'fighter_abs_ground_strikes_attempts_avg',\n",
    "                    \n",
    "                    u'opponent_inf_knockdowns_avg',\n",
    "                    u'opponent_inf_pass_avg',\n",
    "                    u'opponent_inf_reversals_avg',\n",
    "                    u'opponent_inf_sub_attempts_avg',\n",
    "                    u'opponent_inf_takedowns_landed_avg',\n",
    "                    u'opponent_inf_takedowns_attempts_avg',\n",
    "                    u'opponent_inf_sig_strikes_landed_avg',\n",
    "                    u'opponent_inf_sig_strikes_attempts_avg',\n",
    "                    u'opponent_inf_total_strikes_landed_avg',\n",
    "                    u'opponent_inf_total_strikes_attempts_avg',\n",
    "                    u'opponent_inf_head_strikes_landed_avg',\n",
    "                    u'opponent_inf_head_strikes_attempts_avg',\n",
    "                    u'opponent_inf_body_strikes_landed_avg',\n",
    "                    u'opponent_inf_body_strikes_attempts_avg',\n",
    "                    u'opponent_inf_leg_strikes_landed_avg',\n",
    "                    u'opponent_inf_leg_strikes_attempts_avg',\n",
    "                    u'opponent_inf_distance_strikes_landed_avg',\n",
    "                    u'opponent_inf_distance_strikes_attempts_avg',\n",
    "                    u'opponent_inf_clinch_strikes_landed_avg',\n",
    "                    u'opponent_inf_clinch_strikes_attempts_avg',\n",
    "                    u'opponent_inf_ground_strikes_landed_avg',\n",
    "                    u'opponent_inf_ground_strikes_attempts_avg',\n",
    "                \n",
    "                    u'opponent_abs_knockdowns_avg',\n",
    "                    u'opponent_abs_pass_avg',\n",
    "                    u'opponent_abs_reversals_avg',\n",
    "                    u'opponent_abs_sub_attempts_avg',\n",
    "                    u'opponent_abs_takedowns_landed_avg',\n",
    "                    u'opponent_abs_takedowns_attempts_avg',\n",
    "                    u'opponent_abs_sig_strikes_landed_avg',\n",
    "                    u'opponent_abs_sig_strikes_attempts_avg',\n",
    "                    u'opponent_abs_total_strikes_landed_avg',\n",
    "                    u'opponent_abs_total_strikes_attempts_avg',\n",
    "                    u'opponent_abs_head_strikes_landed_avg',\n",
    "                    u'opponent_abs_head_strikes_attempts_avg',\n",
    "                    u'opponent_abs_body_strikes_landed_avg',\n",
    "                    u'opponent_abs_body_strikes_attempts_avg',\n",
    "                    u'opponent_abs_leg_strikes_landed_avg',\n",
    "                    u'opponent_abs_leg_strikes_attempts_avg',\n",
    "                    u'opponent_abs_distance_strikes_landed_avg',\n",
    "                    u'opponent_abs_distance_strikes_attempts_avg',\n",
    "                    u'opponent_abs_clinch_strikes_landed_avg',\n",
    "                    u'opponent_abs_clinch_strikes_attempts_avg',\n",
    "                    u'opponent_abs_ground_strikes_landed_avg',\n",
    "                    u'opponent_abs_ground_strikes_attempts_avg']\n",
    "\n",
    "#here is the version of punch stats geared for comparing fighter_inf to opponent_abs\n",
    "punch_statistics_alt=[    u'fighter_inf_knockdowns_avg',\n",
    "                    u'fighter_inf_pass_avg',\n",
    "                    u'fighter_inf_reversals_avg',\n",
    "                    u'fighter_inf_sub_attempts_avg',\n",
    "                    u'fighter_inf_takedowns_landed_avg',\n",
    "                    u'fighter_inf_takedowns_attempts_avg',\n",
    "                    u'fighter_inf_sig_strikes_landed_avg',\n",
    "                    u'fighter_inf_sig_strikes_attempts_avg',\n",
    "                    u'fighter_inf_total_strikes_landed_avg',\n",
    "                    u'fighter_inf_total_strikes_attempts_avg',\n",
    "                    u'fighter_inf_head_strikes_landed_avg',\n",
    "                    u'fighter_inf_head_strikes_attempts_avg',\n",
    "                    u'fighter_inf_body_strikes_landed_avg',\n",
    "                    u'fighter_inf_body_strikes_attempts_avg',\n",
    "                    u'fighter_inf_leg_strikes_landed_avg',\n",
    "                    u'fighter_inf_leg_strikes_attempts_avg',\n",
    "                    u'fighter_inf_distance_strikes_landed_avg',\n",
    "                    u'fighter_inf_distance_strikes_attempts_avg',\n",
    "                    u'fighter_inf_clinch_strikes_landed_avg',\n",
    "                    u'fighter_inf_clinch_strikes_attempts_avg',\n",
    "                    u'fighter_inf_ground_strikes_landed_avg',\n",
    "                    u'fighter_inf_ground_strikes_attempts_avg',\n",
    "                \n",
    "                    u'fighter_abs_knockdowns_avg',\n",
    "                    u'fighter_abs_pass_avg',\n",
    "                    u'fighter_abs_reversals_avg',\n",
    "                    u'fighter_abs_sub_attempts_avg',\n",
    "                    u'fighter_abs_takedowns_landed_avg',\n",
    "                    u'fighter_abs_takedowns_attempts_avg',\n",
    "                    u'fighter_abs_sig_strikes_landed_avg',\n",
    "                    u'fighter_abs_sig_strikes_attempts_avg',\n",
    "                    u'fighter_abs_total_strikes_landed_avg',\n",
    "                    u'fighter_abs_total_strikes_attempts_avg',\n",
    "                    u'fighter_abs_head_strikes_landed_avg',\n",
    "                    u'fighter_abs_head_strikes_attempts_avg',\n",
    "                    u'fighter_abs_body_strikes_landed_avg',\n",
    "                    u'fighter_abs_body_strikes_attempts_avg',\n",
    "                    u'fighter_abs_leg_strikes_landed_avg',\n",
    "                    u'fighter_abs_leg_strikes_attempts_avg',\n",
    "                    u'fighter_abs_distance_strikes_landed_avg',\n",
    "                    u'fighter_abs_distance_strikes_attempts_avg',\n",
    "                    u'fighter_abs_clinch_strikes_landed_avg',\n",
    "                    u'fighter_abs_clinch_strikes_attempts_avg',\n",
    "                    u'fighter_abs_ground_strikes_landed_avg',\n",
    "                    u'fighter_abs_ground_strikes_attempts_avg',\n",
    "                \n",
    "                    u'opponent_abs_knockdowns_avg',\n",
    "                    u'opponent_abs_pass_avg',\n",
    "                    u'opponent_abs_reversals_avg',\n",
    "                    u'opponent_abs_sub_attempts_avg',\n",
    "                    u'opponent_abs_takedowns_landed_avg',\n",
    "                    u'opponent_abs_takedowns_attempts_avg',\n",
    "                    u'opponent_abs_sig_strikes_landed_avg',\n",
    "                    u'opponent_abs_sig_strikes_attempts_avg',\n",
    "                    u'opponent_abs_total_strikes_landed_avg',\n",
    "                    u'opponent_abs_total_strikes_attempts_avg',\n",
    "                    u'opponent_abs_head_strikes_landed_avg',\n",
    "                    u'opponent_abs_head_strikes_attempts_avg',\n",
    "                    u'opponent_abs_body_strikes_landed_avg',\n",
    "                    u'opponent_abs_body_strikes_attempts_avg',\n",
    "                    u'opponent_abs_leg_strikes_landed_avg',\n",
    "                    u'opponent_abs_leg_strikes_attempts_avg',\n",
    "                    u'opponent_abs_distance_strikes_landed_avg',\n",
    "                    u'opponent_abs_distance_strikes_attempts_avg',\n",
    "                    u'opponent_abs_clinch_strikes_landed_avg',\n",
    "                    u'opponent_abs_clinch_strikes_attempts_avg',\n",
    "                    u'opponent_abs_ground_strikes_landed_avg',\n",
    "                    u'opponent_abs_ground_strikes_attempts_avg',\n",
    "                     \n",
    "                     u'opponent_inf_knockdowns_avg',\n",
    "                    u'opponent_inf_pass_avg',\n",
    "                    u'opponent_inf_reversals_avg',\n",
    "                    u'opponent_inf_sub_attempts_avg',\n",
    "                    u'opponent_inf_takedowns_landed_avg',\n",
    "                    u'opponent_inf_takedowns_attempts_avg',\n",
    "                    u'opponent_inf_sig_strikes_landed_avg',\n",
    "                    u'opponent_inf_sig_strikes_attempts_avg',\n",
    "                    u'opponent_inf_total_strikes_landed_avg',\n",
    "                    u'opponent_inf_total_strikes_attempts_avg',\n",
    "                    u'opponent_inf_head_strikes_landed_avg',\n",
    "                    u'opponent_inf_head_strikes_attempts_avg',\n",
    "                    u'opponent_inf_body_strikes_landed_avg',\n",
    "                    u'opponent_inf_body_strikes_attempts_avg',\n",
    "                    u'opponent_inf_leg_strikes_landed_avg',\n",
    "                    u'opponent_inf_leg_strikes_attempts_avg',\n",
    "                    u'opponent_inf_distance_strikes_landed_avg',\n",
    "                    u'opponent_inf_distance_strikes_attempts_avg',\n",
    "                    u'opponent_inf_clinch_strikes_landed_avg',\n",
    "                    u'opponent_inf_clinch_strikes_attempts_avg',\n",
    "                    u'opponent_inf_ground_strikes_landed_avg',\n",
    "                    u'opponent_inf_ground_strikes_attempts_avg']\n",
    "\n",
    "#adding record differences to ufc_fights\n",
    "record_statistics_diff = []\n",
    "half_length=int(len(record_statistics)/2)\n",
    "for i in range(half_length):\n",
    "    ufc_fights_winner[record_statistics[i]+'_diff_2']=ufc_fights_winner[record_statistics[i]]-ufc_fights_winner[record_statistics[i+half_length]]\n",
    "    ufc_fights_method[record_statistics[i]+'_diff_2']=ufc_fights_method[record_statistics[i]]-ufc_fights_method[record_statistics[i+half_length]]\n",
    "    record_statistics_diff.append(record_statistics[i]+'_diff_2')\n",
    "    \n",
    "#lets try and improve the greedy algorithm by considering differences. Lets start by replacing height and reach by their differences\n",
    "ufc_fights_winner['height_diff']=ufc_fights_winner['fighter_height'].apply(float)-ufc_fights_winner['opponent_height'].apply(float)\n",
    "ufc_fights_winner['reach_diff']=ufc_fights_winner['fighter_reach'].apply(float)-ufc_fights_winner['opponent_reach'].apply(float)\n",
    "ufc_fights_method['height_diff']=ufc_fights_method['fighter_height'].apply(float)-ufc_fights_method['opponent_height'].apply(float)\n",
    "ufc_fights_method['reach_diff']=ufc_fights_method['fighter_reach'].apply(float)-ufc_fights_method['opponent_reach'].apply(float)\n",
    "\n",
    "\n",
    "physical_stats_diff = ['fighter_age','opponent_age', 'height_diff', 'reach_diff']\n",
    "\n",
    "#adding punch differences to ufc_fights\n",
    "punch_statistics_diff = []\n",
    "half_length=int(len(punch_statistics)/2)\n",
    "for i in range(half_length):\n",
    "    ufc_fights_method[punch_statistics[i]+'_diff_2']=ufc_fights_method[punch_statistics[i]]-ufc_fights_method[punch_statistics[i+half_length]]\n",
    "    ufc_fights_winner[punch_statistics[i]+'_diff_2']=ufc_fights_winner[punch_statistics[i]]-ufc_fights_winner[punch_statistics[i+half_length]]\n",
    "    punch_statistics_diff.append(punch_statistics[i]+'_diff_2')\n",
    "    \n",
    "possible_stats =record_statistics_diff+physical_stats_diff+punch_statistics_diff\n",
    "\n"
   ]
  },
  {
   "cell_type": "code",
   "execution_count": 11,
   "id": "e625f05f",
   "metadata": {},
   "outputs": [
    {
     "data": {
      "text/plain": [
       "array(['DEC', 'KO/TKO', 'SUB'], dtype=object)"
      ]
     },
     "execution_count": 11,
     "metadata": {},
     "output_type": "execute_result"
    }
   ],
   "source": [
    "ufc_fights_method['method'].unique()"
   ]
  },
  {
   "cell_type": "code",
   "execution_count": 12,
   "id": "1aa61846",
   "metadata": {},
   "outputs": [
    {
     "data": {
      "text/plain": [
       "array(['W', 'L'], dtype=object)"
      ]
     },
     "execution_count": 12,
     "metadata": {},
     "output_type": "execute_result"
    }
   ],
   "source": [
    "ufc_fights_method['result'].unique()"
   ]
  },
  {
   "cell_type": "code",
   "execution_count": 13,
   "id": "d8bcafe4",
   "metadata": {},
   "outputs": [
    {
     "data": {
      "text/plain": [
       "array(['DEC', 'KO/TKO', 'SUB'], dtype=object)"
      ]
     },
     "execution_count": 13,
     "metadata": {},
     "output_type": "execute_result"
    }
   ],
   "source": [
    "ufc_fights_winner['method'].unique()"
   ]
  },
  {
   "cell_type": "code",
   "execution_count": 14,
   "id": "e506f876",
   "metadata": {},
   "outputs": [
    {
     "data": {
      "text/plain": [
       "array(['W', 'L'], dtype=object)"
      ]
     },
     "execution_count": 14,
     "metadata": {},
     "output_type": "execute_result"
    }
   ],
   "source": [
    "ufc_fights_winner['result'].unique()"
   ]
  },
  {
   "cell_type": "code",
   "execution_count": 15,
   "id": "e735845b",
   "metadata": {},
   "outputs": [
    {
     "data": {
      "text/plain": [
       "array(['W', 'L'], dtype=object)"
      ]
     },
     "execution_count": 15,
     "metadata": {},
     "output_type": "execute_result"
    }
   ],
   "source": [
    "ufc_fights['result'].unique()"
   ]
  },
  {
   "cell_type": "code",
   "execution_count": 16,
   "id": "afdbbca1",
   "metadata": {},
   "outputs": [
    {
     "data": {
      "text/plain": [
       "array(['19', '20', '21', '21.0', '22', '22.0', '23', '23.0', '24', '24.0',\n",
       "       '25', '25.0', '26', '26.0', '27', '27.0', '28', '28.0', '29',\n",
       "       '29.0', '30', '30.0', '31', '31.0', '32', '32.0', '33', '33.0',\n",
       "       '34', '34.0', '35', '35.0', '36', '36.0', '37', '37.0', '38',\n",
       "       '38.0', '39', '39.0', '40', '40.0', '41', '41.0', '42', '42.0',\n",
       "       '43', '43.0', '44', '45', '46'], dtype=object)"
      ]
     },
     "execution_count": 16,
     "metadata": {},
     "output_type": "execute_result"
    }
   ],
   "source": [
    "ages = ufc_fights_winner['fighter_age'].unique()\n",
    "ages.sort()\n",
    "ages"
   ]
  },
  {
   "cell_type": "code",
   "execution_count": 17,
   "id": "f18f1a09",
   "metadata": {},
   "outputs": [],
   "source": [
    "ufc_fights_winner['fighter_age'] = ufc_fights_winner['fighter_age'].apply(float)\n",
    "ufc_fights_winner['opponent_age'] = ufc_fights_winner['fighter_age'].apply(float)\n",
    "ufc_fights_method['fighter_age'] = ufc_fights_method['fighter_age'].apply(float)\n",
    "ufc_fights_method['opponent_age'] = ufc_fights_method['fighter_age'].apply(float)\n",
    "ufc_fights['fighter_age'] = ufc_fights['fighter_age'].apply(float)\n",
    "ufc_fights['opponent_age'] = ufc_fights['fighter_age'].apply(float)"
   ]
  },
  {
   "cell_type": "code",
   "execution_count": 18,
   "id": "d4277184",
   "metadata": {},
   "outputs": [
    {
     "data": {
      "text/plain": [
       "array([19., 20., 21., 22., 23., 24., 25., 26., 27., 28., 29., 30., 31.,\n",
       "       32., 33., 34., 35., 36., 37., 38., 39., 40., 41., 42., 43., 44.,\n",
       "       45., 46.])"
      ]
     },
     "execution_count": 18,
     "metadata": {},
     "output_type": "execute_result"
    }
   ],
   "source": [
    "ages = ufc_fights_winner['fighter_age'].unique()\n",
    "ages.sort()\n",
    "ages"
   ]
  },
  {
   "cell_type": "code",
   "execution_count": 19,
   "id": "b495d916",
   "metadata": {},
   "outputs": [
    {
     "data": {
      "text/plain": [
       "0.6177272727272727"
      ]
     },
     "execution_count": 19,
     "metadata": {},
     "output_type": "execute_result"
    }
   ],
   "source": [
    "#this is currently the highest scoring subset of stats to choose. It scores around .637. \n",
    "#dropped to ,.617 after I changed the age columns to be floats instead of strings... this is VERY strange...\n",
    "#actually, after I changed method mask to coincide with the method prediction notebook, it dropped a whole percentage\n",
    "#to .626... Why would this be?\n",
    "#FIGURED IT OUT. Including split decisions in the example set drops predictions by a whole percentage. I changed the\n",
    "#clean_method function to count split decisions as 'bullshit'\n",
    "#This is the score to beat.\n",
    "\n",
    "best_smallest_set=list(set(['fighter_age', \n",
    "                            'opponent_age', \n",
    "                            'reach_diff',\n",
    "                            'fighter_L5Y_ko_losses_diff_2', \n",
    "                            'fighter_L5Y_wins_diff_2',\n",
    "                            'fighter_L5Y_losses_diff_2', \n",
    "                            'fighter_abs_total_strikes_landed_avg_diff_2', \n",
    "                            'fighter_inf_takedowns_attempts_avg_diff_2', \n",
    "                            'fighter_abs_ground_strikes_landed_avg_diff_2'\n",
    "]))\n",
    "\n",
    "ufc_fights_df = ufc_fights_winner[['fighter_age', \n",
    "                            'opponent_age', \n",
    "                            'reach_diff',\n",
    "                            'fighter_L5Y_ko_losses_diff_2', \n",
    "                            'fighter_L5Y_wins_diff_2',\n",
    "                            'fighter_L5Y_losses_diff_2', \n",
    "                            'fighter_abs_total_strikes_landed_avg_diff_2', \n",
    "                            'fighter_inf_takedowns_attempts_avg_diff_2', \n",
    "                            'fighter_abs_ground_strikes_landed_avg_diff_2',]]\n",
    "\n",
    "winPredictionModel=LogisticRegression(solver='lbfgs', max_iter=2000)\n",
    "X=ufc_fights_df.iloc[0:40*55].to_numpy()\n",
    "y=ufc_fights_winner['result'].iloc[0:40*55]\n",
    "winPredictionModel.fit(X,y)\n",
    "winPredictionModel.score(X,y)"
   ]
  },
  {
   "cell_type": "code",
   "execution_count": 20,
   "id": "d4599d54",
   "metadata": {},
   "outputs": [
    {
     "name": "stdout",
     "output_type": "stream",
     "text": [
      "Accuracy: 0.5152204229515377 F1 score: 0.20674041586422628\n"
     ]
    }
   ],
   "source": [
    "#random forest does way better for picking the method!\n",
    "best_stats=['fighter_ko_losses_diff_2', 'fighter_L2Y_sub_losses_diff_2']\n",
    "rfc=RandomForestClassifier()\n",
    "Xr=ufc_fights_method[best_stats].iloc[0:2300]\n",
    "yr=ufc_fights_method['method'].iloc[0:2300]\n",
    "\n",
    "rfc.fit(Xr,yr)\n",
    "accuracy = cross_val_score(rfc,Xr,yr,cv=3).mean()\n",
    "precision = cross_val_score(rfc,Xr,yr,cv=3, scoring='precision_micro').mean()\n",
    "recall = cross_val_score(rfc, Xr, yr, cv=3, scoring='recall_macro').mean()\n",
    "print('Accuracy: '+str(accuracy),'F1 score: '+str(precision*recall/(precision+recall)))"
   ]
  },
  {
   "cell_type": "code",
   "execution_count": 21,
   "id": "777a2b88",
   "metadata": {},
   "outputs": [
    {
     "name": "stdout",
     "output_type": "stream",
     "text": [
      "coefficients[[-0.03429425 -0.03429425  0.0186947  -0.10857499  0.10907987 -0.04910427\n",
      "  -0.07615219  0.48450442 -0.00705265]]\n",
      "intercept[2.06996272]\n"
     ]
    }
   ],
   "source": [
    "#I've defined this in such a way to predict what happens when fighter1 in their day1 version fights fighter2\n",
    "#in their day2 version. Meaning we could compare for example 2014 Tyron Woodley to 2019 Colby Covington\n",
    "def ufc_prediction_tuple(fighter1,fighter2,day1=date.today(),day2=date.today()):\n",
    "    return [fighter_age(fighter1,day1),\n",
    "            fighter_age(fighter2,day2),\n",
    "            fighter_reach(fighter1)-fighter_reach(fighter2),\n",
    "            L5Y_ko_losses(fighter1,day1)-L5Y_ko_losses(fighter2,day2),\n",
    "            L5Y_wins(fighter1,day1)-L5Y_wins(fighter2,day2),\n",
    "            L5Y_losses(fighter1,day1)-L5Y_losses(fighter2,day2),\n",
    "            avg_count('total_strikes_landed',fighter1,'abs',day1)-avg_count('total_strikes_landed',fighter2,'abs',day2),\n",
    "            avg_count('takedowns_attempts',fighter1,'inf',day1)-avg_count('takedowns_attempts',fighter2,'inf',day2),\n",
    "            avg_count('ground_strikes_landed',fighter1,'abs',day1)-avg_count('ground_strikes_landed',fighter2,'abs',day2)\n",
    "        ]\n",
    "\n",
    "def ufc_method_prediction_tuple(fighter1,fighter2,day1=date.today(),day2=date.today()):\n",
    "    return [ko_losses(fighter1,day1)-ko_losses(fighter2,day2),\n",
    "            sub_losses(fighter1,day1)-sub_losses(fighter2,day2)]\n",
    "\n",
    "winPredictionModel=LogisticRegression(solver='lbfgs', max_iter=2000)\n",
    "X=ufc_fights_df.iloc[0:40*55].to_numpy()\n",
    "y=ufc_fights_winner['result'].iloc[0:40*55]\n",
    "winPredictionModel.fit(X,y)\n",
    "print('coefficients'+str(winPredictionModel.coef_))\n",
    "print('intercept'+str(winPredictionModel.intercept_))\n",
    "\n",
    "best_stats=['fighter_ko_losses_diff_2', 'fighter_sub_losses_diff_2']\n",
    "rfc=RandomForestClassifier()\n",
    "Xr=ufc_fights_method[best_stats].iloc[0:2300].to_numpy()\n",
    "yr=ufc_fights_method['method'].iloc[0:2300]\n",
    "rfc.fit(Xr,yr)\n",
    "\n",
    "import matplotlib.pyplot as plt\n",
    "import matplotlib.image as mpimg\n",
    "import random\n",
    "\n",
    "#date entered in the form 'Aug 20, 2013'\n",
    "#predicts what happens if the day1 version of fighter1 fights fighter2 at their day2 version\n",
    "#by default day1 and day2 are set to today if left unspecified\n",
    "def ufc_predict(fighter1,fighter2,day1=date.today(), day2=date.today()):\n",
    "    fighters=[fighter1,fighter2]\n",
    "    random_guy=fighters[random.choice([0,1])]\n",
    "    fighter1_fights=(ufcfightscrap['fighter']==fighter1).sum()\n",
    "    fighter2_fights=(ufcfightscrap['fighter']==fighter2).sum()\n",
    "    if fighter1_fights==0 and not fighter2_fights==0:\n",
    "        print('This is '+fighter1+\"'s UFC debut... so obviously I do not have enough data to make an educated pick. But since you are DEMANDING an outcome, hmmm... I guess I'll go with \"+random_guy+'.')\n",
    "    elif fighter2_fights==0 and not fighter1_fights==0:\n",
    "        print('This is '+fighter2+\"'s UFC debut... so obviously I do not have enough data to make an educated pick. But since you are DEMANDING an outcome, hmmm... I guess I'll go with \"+random_guy+'.') \n",
    "    elif fighter1_fights==0 and fighter2_fights==0:\n",
    "        print('This is both '+fighter1+\"'s \"+'and '+fighter2+\"'s \"+\"UFC debuts... so obviously I do not have enough data to make an educated pick. But since you are DEMANDING an outcome, hmmm... I guess I'll go with \"+random_guy+'.')\n",
    "    else:\n",
    "        try:\n",
    "            print('The winner is...')\n",
    "            ufc_tuple=ufc_prediction_tuple(fighter1,fighter2,day1,day2)\n",
    "            ufc_method_tuple=ufc_method_prediction_tuple(fighter1,fighter2,day1,day2)\n",
    "            value=winPredictionModel.predict([ufc_tuple])[0]\n",
    "            result=rfc.predict([ufc_method_tuple])[0]\n",
    "            if fighter1==\"Jon Jones\" and fighter2==\"Jon Jones\":\n",
    "                print('Daniel Cormier')\n",
    "            elif value=='W':\n",
    "                print(fighter1+' by '+result)\n",
    "            else:\n",
    "                print(fighter2+' by '+result)\n",
    "            try:\n",
    "                fighter1stripped = fighter1.replace(\" \",\"\")\n",
    "                fighter2stripped = fighter2.replace(\" \",\"\")\n",
    "                j=random.randrange(1,5)\n",
    "                img1 = mpimg.imread('images/'+str(j)+fighter1stripped+'.jpg')\n",
    "                j=random.randrange(1,5)\n",
    "                img2 = mpimg.imread('images/'+str(j)+fighter2stripped+'.jpg')\n",
    "                fig, ax = plt.subplots(1, 2, figsize=(10,10))\n",
    "                ax[0].set(title=fighter1, aspect=1, xticks=[], yticks=[])                \n",
    "                imgplot = ax[0].imshow(img1)\n",
    "                ax[1].set(title=fighter2, aspect=1, xticks=[], yticks=[])\n",
    "                imgplot = ax[1].imshow(img2)\n",
    "            except FileNotFoundError:\n",
    "                print('That picture is not in the database somehow...')\n",
    "        except ValueError:\n",
    "            print('Fighters have incomplete data on record... or maybe there is an issue with one of the fighters names... I honestly do not know what to do with this.')\n",
    "        except TypeError:\n",
    "            print('Fighters have incomplete data on record... or maybe there is an issue with one of the fighters names... I honestly do not know what to do with this.')\n",
    "\n",
    "                \n",
    "                "
   ]
  },
  {
   "cell_type": "code",
   "execution_count": 36,
   "id": "fa81b3f0",
   "metadata": {},
   "outputs": [],
   "source": [
    "# We want to predict how many times out of 10 the winning fighter would win, so we look at the values\n",
    "# x*theta+b. If the value is >=0 its a win and <=0 its a loss. But how far from zero gives indication of\n",
    "# how likely the outcome is.\n",
    "theta = winPredictionModel.coef_\n",
    "b = winPredictionModel.intercept_[0]\n",
    "\n",
    "def presigmoid_value(fighter1,fighter2,date1,date2):\n",
    "    value = 0\n",
    "    tup = ufc_prediction_tuple(fighter1,fighter2,date1,date2)\n",
    "    for i in range(len(tup)):\n",
    "        value += tup[i]*theta[0][i]\n",
    "    return value + b\n",
    "\n",
    "def manual_prediction(fighter1,fighter2,date1,date2):\n",
    "    value = presigmoid_value(fighter1,fighter2,date1,date2)\n",
    "    value2 = presigmoid_value(fighter2,fighter1,date2,date1)\n",
    "    return value-value2>=0"
   ]
  },
  {
   "cell_type": "code",
   "execution_count": 23,
   "id": "40943e0f",
   "metadata": {},
   "outputs": [],
   "source": [
    "#building the set of presigmoid values for all fights in ufc_fights_df\n",
    "X=ufc_fights_df.iloc[0:40*55].to_numpy()\n",
    "prediction_values=[]\n",
    "for i in range(40*55):\n",
    "    value = 0\n",
    "    tup = X[i]\n",
    "    for i in range(len(tup)):\n",
    "        value += tup[i]*theta[0][i]\n",
    "    prediction_values.append(value + b)"
   ]
  },
  {
   "cell_type": "code",
   "execution_count": 24,
   "id": "bd7cbfeb",
   "metadata": {},
   "outputs": [
    {
     "data": {
      "text/plain": [
       "(array([  6.,  17.,  62., 195., 464., 610., 505., 267.,  61.,  13.]),\n",
       " array([-2.26222532, -1.86521629, -1.46820727, -1.07119824, -0.67418921,\n",
       "        -0.27718018,  0.11982884,  0.51683787,  0.9138469 ,  1.31085592,\n",
       "         1.70786495]),\n",
       " <BarContainer object of 10 artists>)"
      ]
     },
     "execution_count": 24,
     "metadata": {},
     "output_type": "execute_result"
    },
    {
     "data": {
      "image/png": "[encoded data removed]",
      "text/plain": [
       "<Figure size 432x288 with 1 Axes>"
      ]
     },
     "metadata": {
      "needs_background": "light"
     },
     "output_type": "display_data"
    }
   ],
   "source": [
    "#shows the range of \n",
    "plt.hist(prediction_values)"
   ]
  },
  {
   "cell_type": "code",
   "execution_count": null,
   "id": "5a5c73c1",
   "metadata": {},
   "outputs": [],
   "source": [
    "ufc_fights"
   ]
  },
  {
   "cell_type": "code",
   "execution_count": null,
   "id": "3377cb17",
   "metadata": {},
   "outputs": [
    {
     "name": "stdout",
     "output_type": "stream",
     "text": [
      "Bruno Silva Andrew Sanchez W W\n",
      "Marina Rodriguez Mackenzie Dern L W\n",
      "Sabina Mazo Mariya Agapova W L\n",
      "Damon Jackson Charles Rosa L W\n",
      "Johnny Walker Thiago Santos L L\n",
      "Niko Price Alex Oliveira L W\n",
      "Bethe Correia Karol Rosa L L\n",
      "Jamie Mullarkey Devonte Smith L W\n",
      "Johnny Eduardo Alejandro Perez L L\n",
      "Brian Ortega Alexander Volkanovski L L\n",
      "The accuracy of the model is computed as: 0.5 after 10 iterations\n",
      "Lauren Murphy Valentina Shevchenko L L\n",
      "Robbie Lawler Nick Diaz L W\n",
      "Jairzinho Rozenstruik Curtis Blaydes L L\n",
      "Jessica Andrade Cynthia Calvillo L W\n",
      "Marlon Moraes Merab Dvalishvili L L\n",
      "Nasrat Haqparast Dan Hooker L L\n",
      "Chris Daukaus Shamil Abdurakhimov W W\n",
      "Roxanne Modafferi Taila Santos L L\n",
      "Jonathan Pearce Omar Morales L W\n",
      "Anthony Smith Ryan Spann L W\n",
      "The accuracy of the model is computed as: 0.55 after 20 iterations\n",
      "Ion Cutelaba Devin Clark L W\n",
      "Christos Giagos Arman Tsarukyan L L\n",
      "Tony Gravely Nate Maness W L\n",
      "Antonio Arroyo Joaquin Buckley L L\n",
      "Pannie Kianzad Raquel Pennington W L\n",
      "Hannah Goldy Emily Whitmire L W\n",
      "Derek Brunson Darren Till W W\n",
      "Serghei Spivac Tom Aspinall L L\n",
      "David Zawada Alex Morono L L\n",
      "Modestas Bukauskas Khalil Rountree Jr. W L\n",
      "The accuracy of the model is computed as: 0.5333333333333333 after 30 iterations\n",
      "Ji Yeon Kim Molly McCann W L\n",
      "Julian Erosa Charles Jourdain L W\n",
      "Marc-Andre Barriault Dalcha Lungiambula L W\n",
      "Edson Barboza Giga Chikadze L L\n",
      "Daniel Rodriguez Kevin Lee L W\n",
      "Makhmud Muradov Gerald Meerschaert W L\n",
      "Abdul Razak Alhassan Alessio Di Chirico L W\n",
      "Darren Stewart Dustin Jacoby W L\n",
      "Kelvin Gastelum Jared Cannonier L L\n",
      "Chase Sherman Parker Porter W L\n",
      "The accuracy of the model is computed as: 0.45 after 40 iterations\n",
      "Austin Hubbard Vinc Pichel L L\n",
      "Alexandre Pantoja Brandon Royval W W\n",
      "Brian Kelleher Domingo Pilarte L W\n",
      "Ciryl Gane Derrick Lewis W W\n",
      "Pedro Munhoz Jose Aldo W L\n",
      "Michael Chiesa Vicente Luque L L\n",
      "Tecia Torres Angela Hill L W\n",
      "Rafael Fiziev Bobby Green L W\n",
      "Alonzo Menifield Ed Herman L W\n",
      "Jessica Penne Karolina Kowalkiewicz W W\n",
      "The accuracy of the model is computed as: 0.46 after 50 iterations\n",
      "Anderson Dos Santos Miles Johns L L\n",
      "Sean Strickland Uriah Hall W W\n",
      "Bryan Barberena Jason Witt W L\n",
      "Jinh Yu Frey Ashley Yoder L W\n",
      "Zarrukh Adashev Ryan Benoit L W\n",
      "Raulian Paiva Kyler Phillips L W\n",
      "Darrick Minner Darren Elkins L L\n",
      "Punahele Soriano Brendan Allen W L\n",
      "Andre Ewell Julio Arce L L\n",
      "Diana Belbita Hannah Goldy W W\n",
      "The accuracy of the model is computed as: 0.4666666666666667 after 60 iterations\n",
      "Islam Makhachev Thiago Moises W W\n",
      "Miesha Tate Marion Reneau L W\n",
      "Billy Quarantillo Gabriel Benitez W W\n",
      "Conor McGregor Dustin Poirier L L\n",
      "Stephen Thompson Gilbert Burns L L\n",
      "Greg Hardy Tai Tuivasa W L\n",
      "Yana Kunitskaya Irene Aldana W L\n",
      "Carlos Condit Max Griffin L L\n",
      "Michel Pereira Niko Price W W\n",
      "Jessica Eye Jennifer Maia W L\n",
      "The accuracy of the model is computed as: 0.4857142857142857 after 70 iterations\n",
      "Alexander Volkov Ciryl Gane L L\n",
      "Ovince Saint Preux Tanner Boser W L\n",
      "Timur Valiev Raoni Barcelos L W\n",
      "Tim Means Nicolas Dalby W W\n",
      "Jai Herbert Renato Moicano W L\n",
      "Ike Villanueva Marcin Prachnio L L\n",
      "Julija Stoliarenko Julia Avila L L\n",
      "Yancy Medeiros Damir Hadzovic L L\n",
      "Dan Ige Chan Sung Jung W L\n",
      "Serghei Spivac Aleksei Oleinik W W\n",
      "The accuracy of the model is computed as: 0.5 after 80 iterations\n",
      "Marlon Vera Davey Grant W W\n",
      "SeungWoo Choi Julian Erosa W W\n",
      "Wellington Turman Bruno Silva L L\n",
      "Dhiego Lima Matt Brown W L\n",
      "Marvin Vettori Israel Adesanya L L\n",
      "Deiveson Figueiredo Brandon Moreno W L\n",
      "Leon Edwards Nate Diaz W W\n",
      "Belal Muhammad Demian Maia W W\n",
      "Paul Craig Jamahal Hill L W\n",
      "The accuracy of the model is computed as: 0.5168539325842697 after 90 iterations\n",
      "Drew Dober Brad Riddell W L\n",
      "Darren Stewart Eryk Anders W L\n",
      "Hakeem Dawodu Movsar Evloev L L\n",
      "Pannie Kianzad Alexis Davis W W\n",
      "Chase Hooper Steven Peterson W L\n",
      "Jairzinho Rozenstruik Augusto Sakai W W\n",
      "Walt Harris Marcin Tybura L L\n",
      "Roman Dolidze Laureano Staropoli W W\n",
      "Miguel Baeza Santiago Ponzinibbio W L\n",
      "The accuracy of the model is computed as: 0.5204081632653061 after 100 iterations\n",
      "Ariane Lipski Montana De La Rosa L L\n",
      "Francisco Trinaldo Muslim Salikhov W L\n",
      "Cody Garbrandt Rob Font L L\n",
      "Bill Algeo Ricardo Ramos L L\n",
      "Edmen Shahbazyan Jack Hermansson L L\n",
      "Court McGee Claudio Silva L W\n",
      "Beneil Dariush Tony Ferguson W W\n",
      "Viviane Araujo Katlyn Chookagian L L\n",
      "Edson Barboza Shane Burgos L W\n",
      "Jacare Souza Andre Muniz L L\n",
      "The accuracy of the model is computed as: 0.5370370370370371 after 110 iterations\n",
      "Andrea Lee Antonina Shevchenko W W\n",
      "Gina Mazany Priscila Cachoeira W L\n",
      "Michelle Waterson Marina Rodriguez W L\n",
      "Donald Cerrone Alex Morono L L\n",
      "Neil Magny Geoff Neal W W\n",
      "Marcos Rogerio de Lima Maurice Greene W W\n",
      "Gregor Gillespie Diego Ferreira W W\n",
      "Dominick Reyes Jiri Prochazka W L\n",
      "Cub Swanson Giga Chikadze L L\n",
      "The accuracy of the model is computed as: 0.5470085470085471 after 120 iterations\n",
      "Sean Strickland Krzysztof Jotko L W\n",
      "Cody Stamann Merab Dvalishvili L L\n",
      "Felipe Colares Luke Sanders W W\n",
      "Jorge Masvidal Kamaru Usman L L\n",
      "Jessica Andrade Valentina Shevchenko L L\n",
      "Uriah Hall Chris Weidman W W\n",
      "Jimmy Crute Anthony Smith W L\n",
      "Randy Brown Alex Oliveira L W\n",
      "Karl Roberson Brendan Allen W L\n",
      "Robert Whittaker Kelvin Gastelum W W\n",
      "The accuracy of the model is computed as: 0.5511811023622047 after 130 iterations\n",
      "Andrei Arlovski Chase Sherman W W\n",
      "Gerald Meerschaert Bartosz Fabinski L W\n",
      "Anthony Birchak Tony Gravely L L\n",
      "Kevin Holland Marvin Vettori W L\n",
      "Arnold Allen Sodiq Yusuff W W\n",
      "Julian Marquez Sam Alvey W W\n",
      "Mike Perry Daniel Rodriguez W L\n",
      "Jim Miller Joe Solecki L L\n",
      "Yorgan De Castro Jarjis Danho W L\n",
      "Francis Ngannou Stipe Miocic W W\n",
      "The accuracy of the model is computed as: 0.5547445255474452 after 140 iterations\n",
      "Tyron Woodley Vicente Luque L L\n",
      "Thomas Almeida Sean O'Malley L L\n",
      "Khama Worthy Jamie Mullarkey L L\n",
      "Shane Young Omar Morales L L\n",
      "Marc-Andre Barriault Abu Azaitar L W\n",
      "Derek Brunson Kevin Holland L W\n",
      "Macy Chiasson Marion Reneau W W\n",
      "Leonardo Santos Grant Dawson L L\n",
      "Trevin Giles Roman Dolidze L W\n",
      "Ryan Spann Misha Cirkunov W W\n",
      "The accuracy of the model is computed as: 0.564625850340136 after 150 iterations\n",
      "Gavin Tucker Dan Ige L L\n",
      "Davey Grant Jonathan Martinez L W\n",
      "Angela Hill Ashley Yoder L W\n",
      "Ray Rodriguez Rani Yahya W L\n",
      "Israel Adesanya Jan Blachowicz W L\n",
      "Amanda Nunes Megan Anderson W W\n",
      "Islam Makhachev Drew Dober W W\n",
      "Thiago Santos Aleksandar Rakic L L\n",
      "Song Yadong Kyler Phillips L L\n",
      "The accuracy of the model is computed as: 0.5641025641025641 after 160 iterations\n",
      "Askar Askarov Joseph Benavidez W W\n",
      "Kai Kara-France Rogerio Bontorin W W\n",
      "Tim Elliott Jordan Espinosa W W\n",
      "Sean Brady Jake Matthews L W\n",
      "Amanda Lemos Livinha Souza L W\n",
      "Mario Bautista Trevin Jones W L\n",
      "Ciryl Gane Jairzinho Rozenstruik W W\n",
      "Magomed Ankalaev Nikita Krylov W W\n",
      "Jimmie Rivera Pedro Munhoz L L\n",
      "Alexander Hernandez Thiago Moises W L\n",
      "The accuracy of the model is computed as: 0.5662650602409639 after 170 iterations\n",
      "Alexis Davis Sabina Mazo L W\n",
      "Dustin Jacoby Maxim Grishin L W\n",
      "Derrick Lewis Curtis Blaydes L W\n",
      "Ketlen Vieira Yana Kunitskaya W L\n",
      "Darrick Minner Charles Rosa L W\n",
      "Aleksei Oleinik Chris Daukaus L L\n",
      "Tom Aspinall Andrei Arlovski W W\n",
      "Danny Chavez Jared Gordon W L\n",
      "Eddie Wineland John Castaneda W L\n",
      "Julian Erosa Nate Landwehr L W\n",
      "The accuracy of the model is computed as: 0.5454545454545454 after 180 iterations\n",
      "Kamaru Usman Gilbert Burns W W\n",
      "Maycee Barber Alexa Grasso L L\n",
      "Kelvin Gastelum Ian Heinisch L W\n",
      "Brian Kelleher Ricky Simon L L\n",
      "Maki Pitolo Julian Marquez L L\n",
      "Rodolfo Vieira Anthony Hernandez W L\n",
      "Belal Muhammad Dhiego Lima W W\n",
      "Mallory Martin Polyana Viana L L\n",
      "Chris Gutierrez Andre Ewell L W\n",
      "Alistair Overeem Alexander Volkov L L\n",
      "The accuracy of the model is computed as: 0.553763440860215 after 190 iterations\n",
      "Frankie Edgar Cory Sandhagen L L\n",
      "Michael Johnson Clay Guida L L\n",
      "Justin Jaynes Devonte Smith L L\n",
      "Molly McCann Lara Procopio W L\n",
      "Youssef Zalal SeungWoo Choi W L\n",
      "Timur Valiev Martin Day L W\n",
      "Dustin Poirier Conor McGregor W W\n",
      "Makhmud Muradov Andrew Sanchez W W\n",
      "Marina Rodriguez Amanda Ribas L W\n",
      "Matt Frevola Arman Tsarukyan L L\n",
      "The accuracy of the model is computed as: 0.5561224489795918 after 200 iterations\n",
      "Brad Tavares Antonio Carlos Junior L W\n",
      "Julianna Pena Sara McMann W W\n",
      "Marcin Prachnio Khalil Rountree Jr. L W\n",
      "Zhalgas Zhumagulov Amir Albazi L L\n",
      "Neil Magny Michael Chiesa W L\n",
      "Mounir Lazzez Warlley Alves W L\n"
     ]
    },
    {
     "name": "stdout",
     "output_type": "stream",
     "text": [
      "Ike Villanueva Vinicius Moreira L W\n",
      "Viviane Araujo Roxanne Modafferi L W\n",
      "Lerone Murphy Douglas Silva de Andrade W W\n",
      "Tom Breese Omari Akhmedov L L\n",
      "The accuracy of the model is computed as: 0.5485436893203883 after 210 iterations\n",
      "Dalcha Lungiambula Markus Perez W W\n",
      "Max Holloway Calvin Kattar L W\n",
      "Matt Brown Carlos Condit L L\n",
      "Joaquin Buckley Alessio Di Chirico L L\n",
      "Sarah Moras Vanessa Melo W L\n",
      "Jacob Kilburn Austin Lingo L L\n",
      "Stephen Thompson Geoff Neal L W\n",
      "Jose Aldo Marlon Vera L W\n",
      "Khaos Williams Michel Pereira W L\n",
      "Rob Font Marlon Moraes W W\n",
      "The accuracy of the model is computed as: 0.5462962962962963 after 220 iterations\n",
      "Marcin Tybura Greg Hardy L W\n",
      "Anthony Pettis Alex Morono L W\n",
      "Sijara Eubanks Pannie Kianzad W L\n",
      "Deron Winn Antonio Arroyo W W\n",
      "Taila Santos Gillian Robertson L W\n",
      "Christos Giagos Carlton Minus W W\n",
      "Charles Oliveira Tony Ferguson W W\n",
      "Virna Jandiroba Mackenzie Dern L L\n",
      "Jacare Souza Kevin Holland L L\n",
      "Junior Dos Santos Ciryl Gane L L\n",
      "The accuracy of the model is computed as: 0.5486725663716814 after 230 iterations\n",
      "Cub Swanson Daniel Pineda W W\n",
      "Renato Moicano Rafael Fiziev W L\n",
      "Gavin Tucker Billy Quarantillo L W\n",
      "Peter Barrett Chase Hooper L L\n",
      "Marvin Vettori Jack Hermansson L W\n",
      "Jamahal Hill Ovince Saint Preux L W\n",
      "Justin Jaynes Gabriel Benitez L L\n",
      "Jose Quinonez Louis Smolka W L\n",
      "Jake Collier Gian Villante W W\n",
      "Devin Clark Anthony Smith W L\n",
      "The accuracy of the model is computed as: 0.5423728813559322 after 240 iterations\n",
      "Takashi Sato Miguel Baeza L L\n",
      "Bill Algeo Spike Carlyle L W\n",
      "Ashlee Evans-Smith Norma Dumont W L\n",
      "Jonathan Pearce Kai Kamaka L W\n",
      "Anderson Dos Santos Martin Day W W\n",
      "Gina Mazany Rachael Ostovich W W\n",
      "Luke Sanders Nate Maness W L\n",
      "Alex Perez Deiveson Figueiredo L L\n",
      "Valentina Shevchenko Jennifer Maia W W\n",
      "Tim Means Mike Perry W W\n",
      "The accuracy of the model is computed as: 0.5447154471544715 after 250 iterations\n",
      "Katlyn Chookagian Cynthia Calvillo L W\n",
      "Mauricio Rua Paul Craig W L\n",
      "Brandon Royval Brandon Moreno L L\n",
      "Jordan Wright Joaquin Buckley L L\n",
      "Ariane Lipski Antonina Shevchenko W L\n",
      "Daniel Rodriguez Nicolas Dalby W L\n",
      "Abdul Razak Alhassan Khaos Williams L L\n",
      "Ashley Yoder Miranda Granger W W\n",
      "Brendan Allen Sean Strickland L L\n",
      "Glover Teixeira Thiago Santos L W\n",
      "The accuracy of the model is computed as: 0.54296875 after 260 iterations\n",
      "Andrei Arlovski Tanner Boser L W\n",
      "Raoni Barcelos Khalid Taha W W\n",
      "Trevin Giles Bevon Lewis W W\n",
      "Eduardo Garagorri Darren Elkins L L\n",
      "Gustavo Lopez Anthony Birchak L W\n",
      "Uriah Hall Anderson Silva W W\n",
      "Andre Fili Bryce Mitchell W L\n",
      "Greg Hardy Maurice Greene W W\n",
      "Bobby Green Thiago Moises W L\n",
      "Chris Gruetzemacher Alexander Hernandez L L\n",
      "The accuracy of the model is computed as: 0.5451127819548872 after 270 iterations\n",
      "Sean Strickland Jack Marshman W W\n",
      "Cole Williams Jason Witt W L\n",
      "Justin Ledet Dustin Jacoby W L\n",
      "Justin Gaethje Khabib Nurmagomedov L L\n",
      "Jared Cannonier Robert Whittaker L L\n",
      "Walt Harris Alexander Volkov L L\n",
      "Ion Cutelaba Magomed Ankalaev L L\n",
      "Tai Tuivasa Stefan Struve L W\n",
      "Casey Kenney Nathaniel Wood W W\n",
      "Joel Alvarez Alexander Yakovlev W W\n",
      "The accuracy of the model is computed as: 0.5507246376811594 after 280 iterations\n",
      "Brian Ortega Chan Sung Jung L W\n",
      "Jessica Andrade Katlyn Chookagian L W\n",
      "Modestas Bukauskas Jimmy Crute L L\n",
      "Claudio Silva James Krause W L\n",
      "Jonathan Martinez Thomas Almeida W W\n",
      "Gillian Robertson Poliana Botelho W W\n",
      "John Phillips Junyong Park L L\n",
      "Jamie Mullarkey Fares Ziam W L\n",
      "Maxim Grishin Gadzhimurad Antigulov L W\n",
      "Marlon Moraes Cory Sandhagen L L\n",
      "The accuracy of the model is computed as: 0.548951048951049 after 290 iterations\n",
      "Makwan Amirkhani Edson Barboza W L\n",
      "Marcin Tybura Ben Rothwell W W\n",
      "Rodrigo Nascimento Chris Daukaus W L\n",
      "Joaquin Buckley Impa Kasanganay L W\n",
      "Tony Kelley Ali AlQaisi L W\n",
      "Omar Morales Giga Chikadze L L\n",
      "Irene Aldana Holly Holm W L\n",
      "Carlos Felipe Yorgan De Castro L W\n",
      "Julianna Pena Germaine de Randamie L L\n",
      "Carlos Condit Court McGee L W\n",
      "The accuracy of the model is computed as: 0.5405405405405406 after 300 iterations\n",
      "Jinh Yu Frey Loma Lookboonmee W L\n",
      "Paulo Costa Israel Adesanya L L\n",
      "Jan Blachowicz Dominick Reyes L W\n",
      "Kai Kara-France Brandon Royval W L\n",
      "Ketlen Vieira Sijara Eubanks L W\n",
      "Alex Da Silva Brad Riddell L L\n",
      "Diego Sanchez Jake Matthews L L\n",
      "Jeff Hughes Juan Espino L L\n",
      "Colby Covington Tyron Woodley W W\n",
      "The accuracy of the model is computed as: 0.5409836065573771 after 310 iterations\n",
      "Gerald Meerschaert Khamzat Chimaev L L\n",
      "Ryan Spann Johnny Walker W L\n",
      "Randa Markos Mackenzie Dern L L\n",
      "David Dvorak Jordan Espinosa L W\n",
      "Mirsad Bektic Damon Jackson W L\n",
      "Mara Romero Borella Mayra Bueno Silva W L\n",
      "Journey Newson Randy Costa L L\n",
      "Khama Worthy Ottman Azaitar W L\n",
      "Andrea Lee Roxanne Modafferi W L\n",
      "Mike Rodriguez Ed Herman L L\n",
      "The accuracy of the model is computed as: 0.5365079365079365 after 320 iterations\n",
      "Bobby Green Alan Patrick L W\n",
      "Billy Quarantillo Kyle Nelson W W\n",
      "Julia Avila Sijara Eubanks W L\n",
      "Jalin Turner Brok Weaver W W\n",
      "Anthony Ivy Bryan Barberena L L\n",
      "Justine Kish Sabina Mazo L L\n",
      "Augusto Sakai Alistair Overeem W L\n",
      "Ovince Saint Preux Alonzo Menifield W W\n",
      "Michel Pereira Zelim Imadaev W W\n",
      "Andre Muniz Bartosz Fabinski W W\n",
      "The accuracy of the model is computed as: 0.5415384615384615 after 330 iterations\n",
      "Montana De La Rosa Viviane Araujo W L\n",
      "Cole Smith Hunter Azure W L\n",
      "Aleksandar Rakic Anthony Smith W W\n",
      "Neil Magny Robbie Lawler W W\n",
      "Alexa Grasso Ji Yeon Kim L W\n",
      "Zak Cummings Alessio Di Chirico W W\n",
      "Sean Brady Christian Aguilera W W\n",
      "Polyana Viana Emily Whitmire W W\n",
      "Hannah Cifers Mallory Martin L L\n",
      "Mike Rodriguez Marcin Prachnio W W\n",
      "The accuracy of the model is computed as: 0.5462686567164179 after 340 iterations\n",
      "Joe Solecki Austin Hubbard W W\n",
      "Shana Dobson Mariya Agapova L W\n",
      "Dwight Grant Daniel Rodriguez W L\n",
      "Amanda Lemos Mizuki Inoue L W\n",
      "Stipe Miocic Daniel Cormier W W\n",
      "Sean O'Malley Marlon Vera W L\n",
      "Junior Dos Santos Jairzinho Rozenstruik L L\n",
      "Herbert Burns Daniel Pineda W L\n",
      "Merab Dvalishvili John Dodson W W\n",
      "Jim Miller Vinc Pichel L L\n",
      "The accuracy of the model is computed as: 0.5449275362318841 after 350 iterations\n",
      "Felice Herrig Virna Jandiroba W L\n",
      "Ashley Yoder Livinha Souza W L\n",
      "Aleksei Oleinik Derrick Lewis L L\n",
      "Chris Weidman Omari Akhmedov L W\n",
      "Maki Pitolo Darren Stewart L L\n",
      "Julija Stoliarenko Yana Kunitskaya L L\n",
      "Beneil Dariush Scott Holtzman W W\n",
      "Tim Means Laureano Staropoli W W\n",
      "Andrew Sanchez Wellington Turman L W\n",
      "Gavin Tucker Justin Jaynes W W\n",
      "The accuracy of the model is computed as: 0.5464788732394367 after 360 iterations\n",
      "Edmen Shahbazyan Derek Brunson W L\n",
      "Joanne Calderwood Jennifer Maia W L\n",
      "Randy Brown Vicente Luque L L\n",
      "Lando Vannata Bobby Green W L\n",
      "Frankie Saenz Jonathan Martinez L L\n",
      "Darren Till Robert Whittaker L L\n",
      "Alexander Gustafsson Fabricio Werdum W L\n",
      "Paul Craig Gadzhimurad Antigulov W W\n",
      "Alex Oliveira Peter Sobotta W W\n",
      "Jesse Ronson Nicolas Dalby L W\n",
      "The accuracy of the model is computed as: 0.5452054794520548 after 370 iterations\n",
      "Movsar Evloev Mike Grundy W W\n",
      "Raphael Pessoa Tanner Boser W L\n",
      "Bethe Correia Pannie Kianzad L L\n",
      "Deiveson Figueiredo Joseph Benavidez W W\n",
      "Kelvin Gastelum Jack Hermansson L L\n",
      "Marc Diakiese Rafael Fiziev W L\n",
      "Ariane Lipski Luana Carolina L W\n",
      "Askar Askarov Alexandre Pantoja L W\n",
      "Nad Narimani Grant Dawson L L\n",
      "Joel Alvarez Joe Duffy W W\n",
      "The accuracy of the model is computed as: 0.5466666666666666 after 380 iterations\n",
      "Montel Jackson Brett Johns W L\n",
      "Davi Ramos Arman Tsarukyan L L\n",
      "Calvin Kattar Dan Ige L W\n",
      "Ryan Benoit Tim Elliott L L\n",
      "Jimmie Rivera Cody Stamann W W\n",
      "Taila Santos Molly McCann L W\n",
      "Lerone Murphy Ricardo Ramos L W\n",
      "Jared Gordon Chris Fishgold L W\n",
      "Liana Jojua Diana Belbita L W\n",
      "Aaron Phillips Jack Shore L L\n",
      "The accuracy of the model is computed as: 0.5428571428571428 after 390 iterations\n",
      "Kamaru Usman Jorge Masvidal W W\n",
      "Petr Yan Jose Aldo W W\n",
      "Paige VanZant Amanda Ribas L L\n",
      "Makwan Amirkhani Danny Henry W W\n",
      "Karol Rosa Vanessa Melo W W\n",
      "Davey Grant Martin Day W W\n",
      "Dustin Poirier Dan Hooker L W\n",
      "Mike Perry Mickey Gall L W\n",
      "Gian Villante Maurice Greene L L\n",
      "Julian Erosa Sean Woodson L W\n",
      "The accuracy of the model is computed as: 0.5468354430379747 after 400 iterations\n",
      "Khama Worthy Luis Pena L W\n",
      "Tanner Boser Philipe Lins L W\n",
      "Jordan Griffin Youssef Zalal L L\n",
      "Curtis Blaydes Alexander Volkov W W\n",
      "Shane Burgos Josh Emmett W L\n",
      "Raquel Pennington Marion Reneau W W\n",
      "Belal Muhammad Lyman Good W W\n",
      "Jim Miller Roosevelt Roberts L W\n"
     ]
    },
    {
     "name": "stdout",
     "output_type": "stream",
     "text": [
      "Clay Guida Bobby Green W L\n",
      "Brianna Van Buren Tecia Torres W L\n",
      "The accuracy of the model is computed as: 0.5432098765432098 after 410 iterations\n",
      "Marc-Andre Barriault Oskar Piechota L W\n",
      "Cortney Casey Gillian Robertson L L\n",
      "Lauren Murphy Roxanne Modafferi W W\n",
      "Jessica Eye Cynthia Calvillo L L\n",
      "Karl Roberson Marvin Vettori W L\n",
      "Jordan Espinosa Mark De La Rosa W W\n",
      "Julia Avila Gina Mazany W W\n",
      "Felicia Spencer Amanda Nunes L L\n",
      "Cody Garbrandt Raphael Assuncao L W\n",
      "Aljamain Sterling Cory Sandhagen W W\n",
      "The accuracy of the model is computed as: 0.5469879518072289 after 420 iterations\n",
      "Anthony Rocco Martin Neil Magny L L\n",
      "Sean O'Malley Eddie Wineland W W\n",
      "Alex Caceres Chase Hooper L W\n",
      "Gerald Meerschaert Ian Heinisch W L\n",
      "Brian Kelleher Cody Stamann L L\n",
      "Maki Pitolo Charles Byrd L W\n",
      "Jussier Formiga Alex Perez L L\n",
      "Devin Clark Alonzo Menifield W W\n",
      "Herbert Burns Evan Dunham W W\n",
      "Tyron Woodley Gilbert Burns L L\n",
      "The accuracy of the model is computed as: 0.5505882352941176 after 430 iterations\n",
      "Spike Carlyle Billy Quarantillo L L\n",
      "Roosevelt Roberts Brok Weaver W W\n",
      "Hannah Cifers Mackenzie Dern L L\n",
      "Katlyn Chookagian Antonina Shevchenko W W\n",
      "Klidson Abreu Jamahal Hill L L\n",
      "Casey Kenney Louis Smolka L W\n",
      "Vince Morales Chris Gutierrez L L\n",
      "Walt Harris Alistair Overeem W L\n",
      "Eryk Anders Krzysztof Jotko L L\n",
      "Song Yadong Marlon Vera L W\n",
      "The accuracy of the model is computed as: 0.5540229885057472 after 440 iterations\n",
      "Miguel Baeza Matt Brown W W\n",
      "Anthony Hernandez Kevin Holland L L\n",
      "Nate Landwehr Darren Elkins L W\n",
      "Cortney Casey Mara Romero Borella L W\n",
      "Anthony Smith Glover Teixeira L L\n",
      "Drew Dober Alexander Hernandez W W\n",
      "Michael Johnson Thiago Moises L L\n",
      "Sarah Moras Sijara Eubanks L L\n",
      "Gabriel Benitez Omar Morales L L\n",
      "Brian Kelleher Hunter Azure L W\n",
      "The accuracy of the model is computed as: 0.5573033707865168 after 450 iterations\n",
      "Tony Ferguson Justin Gaethje W L\n",
      "Dominick Cruz Henry Cejudo L L\n",
      "Jairzinho Rozenstruik Francis Ngannou L L\n",
      "Calvin Kattar Jeremy Stephens W W\n",
      "Greg Hardy Yorgan De Castro W W\n",
      "Anthony Pettis Donald Cerrone L W\n",
      "Niko Price Vicente Luque L L\n",
      "Charles Rosa Bryce Mitchell L L\n",
      "Kevin Lee Charles Oliveira W L\n",
      "Demian Maia Gilbert Burns W L\n",
      "The accuracy of the model is computed as: 0.5582417582417583 after 460 iterations\n",
      "Damir Hadzovic Renato Moicano L L\n",
      "Nikita Krylov Johnny Walker W W\n",
      "Francisco Trinaldo John Makdessi W W\n",
      "Jussier Formiga Brandon Moreno L L\n",
      "Amanda Ribas Randa Markos W W\n",
      "Aleksei Kunchenko Elizeu Zaleski dos Santos L L\n",
      "Maryna Moroz Mayra Bueno Silva W W\n",
      "Veronica Macedo Bea Malecki L L\n",
      "Israel Adesanya Yoel Romero W W\n",
      "Beneil Dariush Drakkar Klose W W\n",
      "The accuracy of the model is computed as: 0.567741935483871 after 470 iterations\n",
      "Neil Magny Jingliang Li W W\n",
      "Sean O'Malley Jose Quinonez L W\n",
      "Mark Madsen Austin Hubbard W W\n",
      "Rodolfo Vieira Saparbeg Safarov W W\n",
      "Deron Winn Gerald Meerschaert L L\n",
      "Guido Cannetti Danaa Batgerel W L\n",
      "Joseph Benavidez Deiveson Figueiredo W L\n",
      "Felicia Spencer Zarah Fairn W W\n",
      "Magomed Ankalaev Ion Cutelaba W W\n",
      "Brendan Allen Tom Breese L W\n",
      "The accuracy of the model is computed as: 0.5684210526315789 after 480 iterations\n",
      "Serghei Spivac Marcin Tybura W L\n",
      "Ismail Naurdiev Sean Brady W L\n",
      "Jimmy Crute Michal Oleksiejczuk W W\n",
      "Karolina Kowalkiewicz Xiaonan Yan L L\n",
      "Ben Sosoli Marcos Rogerio de Lima L L\n",
      "Kevin Aguilar Zubaira Tukhugov W L\n",
      "Jake Matthews Emil Meek W W\n",
      "Kenan Song Callan Potter W W\n",
      "Kai Kara-France Tyson Nam W W\n",
      "Loma Lookboonmee Angela Hill W L\n",
      "The accuracy of the model is computed as: 0.5690721649484536 after 490 iterations\n",
      "Shana Dobson Priscila Cachoeira W L\n",
      "Jan Blachowicz Corey Anderson L W\n",
      "Mara Romero Borella Montana De La Rosa L L\n",
      "Rogerio Bontorin Ray Borg W L\n",
      "Yancy Medeiros Lando Vannata L L\n",
      "Nathaniel Wood John Dodson W L\n",
      "Jim Miller Scott Holtzman L L\n",
      "Dequan Townsend Devin Clark L L\n",
      "Merab Dvalishvili Casey Kenney W W\n",
      "Mark De La Rosa Raulian Paiva L L\n",
      "The accuracy of the model is computed as: 0.5696969696969697 after 500 iterations\n",
      "Jon Jones Dominick Reyes W W\n",
      "Valentina Shevchenko Katlyn Chookagian W W\n",
      "Juan Adams Justin Tafa W L\n",
      "Derrick Lewis Ilir Latifi W W\n",
      "Miles Johns Mario Bautista W L\n",
      "Junior Dos Santos Curtis Blaydes L L\n",
      "Rafael Dos Anjos Michael Chiesa L L\n",
      "Jordan Espinosa Alex Perez W L\n",
      "Angela Hill Hannah Cifers W W\n",
      "Dequan Townsend Bevon Lewis L L\n",
      "The accuracy of the model is computed as: 0.5722772277227722 after 510 iterations\n",
      "Arnold Allen Nik Lentz W W\n",
      "Lucie Pudilova Justine Kish W L\n",
      "Felipe Colares Montel Jackson L L\n",
      "Sara McMann Lina Lansberg W W\n",
      "Donald Cerrone Conor McGregor L L\n",
      "Holly Holm Raquel Pennington L W\n",
      "Maurice Greene Aleksei Oleinik W L\n",
      "Diego Ferreira Anthony Pettis W W\n",
      "Roxanne Modafferi Maycee Barber L W\n",
      "Andre Fili Sodiq Yusuff W L\n",
      "The accuracy of the model is computed as: 0.570873786407767 after 520 iterations\n",
      "Tim Elliott Askar Askarov L L\n",
      "Drew Dober Nasrat Haqparast W W\n",
      "Frankie Edgar Chan Sung Jung W L\n",
      "Charles Jourdain Dooho Choi L W\n",
      "Da-Un Jung Mike Rodriguez L W\n",
      "Junyong Park Marc-Andre Barriault L W\n",
      "Tanner Boser Ciryl Gane L L\n",
      "Suman Mokhtarian SeungWoo Choi L L\n",
      "Matt Schnell Alexandre Pantoja L L\n",
      "Raoni Barcelos Said Nurmagomedov L W\n",
      "The accuracy of the model is computed as: 0.5695238095238095 after 530 iterations\n",
      "Miranda Granger Amanda Lemos W L\n",
      "Colby Covington Kamaru Usman L L\n",
      "Max Holloway Alexander Volkanovski L L\n",
      "Germaine de Randamie Amanda Nunes L L\n",
      "Petr Yan Urijah Faber W W\n",
      "Mike Perry Geoff Neal L L\n",
      "Ketlen Vieira Irene Aldana W L\n",
      "Omari Akhmedov Ian Heinisch W W\n",
      "Ben Saunders Matt Brown L L\n",
      "Brandon Moreno Kai Kara-France W W\n",
      "The accuracy of the model is computed as: 0.5738317757009346 after 540 iterations\n",
      "Viviane Araujo Jessica Eye W L\n",
      "Jairzinho Rozenstruik Alistair Overeem L W\n",
      "Stefan Struve Ben Rothwell W L\n",
      "Yana Kunitskaya Aspen Ladd W L\n",
      "Ricky Simon Rob Font L L\n",
      "Tim Means Thiago Alves W W\n",
      "Matt Sayles Bryce Mitchell L L\n",
      "Makhmud Muradov Trevor Smith W W\n",
      "Charles Oliveira Jared Gordon W W\n",
      "Wellington Turman Markus Perez L W\n",
      "The accuracy of the model is computed as: 0.5724770642201835 after 550 iterations\n",
      "Sergio Moraes James Krause L L\n",
      "Eduardo Garagorri Ricardo Ramos L L\n",
      "Bobby Green Francisco Trinaldo L L\n",
      "Randy Brown Warlley Alves W W\n",
      "Renan Barao Douglas Silva de Andrade L L\n",
      "Calvin Kattar Zabit Magomedsharipov L L\n",
      "Greg Hardy Alexander Volkov L L\n",
      "Zelim Imadaev Danny Roberts L L\n",
      "Ed Herman Khadis Ibragimov L W\n",
      "Anthony Rocco Martin Ramazan Emeev L W\n",
      "The accuracy of the model is computed as: 0.5765765765765766 after 560 iterations\n",
      "Magomed Ankalaev Dalcha Lungiambula L W\n",
      "Rustam Khabilov Sergey Khandozhko W W\n",
      "Alexander Yakovlev Roosevelt Roberts W L\n",
      "Pannie Kianzad Jessica-Rose Clark L W\n",
      "Jorge Masvidal Nate Diaz W W\n",
      "Vicente Luque Stephen Thompson W L\n",
      "Kevin Lee Gregor Gillespie L W\n",
      "Johnny Walker Corey Anderson L L\n",
      "Makwan Amirkhani Shane Burgos W L\n",
      "Edmen Shahbazyan Brad Tavares W W\n",
      "The accuracy of the model is computed as: 0.5734513274336284 after 570 iterations\n",
      "Jairzinho Rozenstruik Andrei Arlovski W W\n",
      "Jennifer Maia Katlyn Chookagian L L\n",
      "Chance Rencountre Lyman Good W L\n",
      "Demian Maia Ben Askren W W\n",
      "Stevie Ray Michael Johnson W W\n",
      "Frank Camacho Beneil Dariush L L\n",
      "Muslim Salikhov Laureano Staropoli W W\n",
      "Alex White Rafael Fiziev W L\n",
      "Movsar Evloev Enrique Barzola L W\n",
      "Sergei Pavlovich Maurice Greene L W\n",
      "The accuracy of the model is computed as: 0.5739130434782609 after 580 iterations\n",
      "Raphael Pessoa Jeff Hughes W W\n",
      "Dominick Reyes Chris Weidman W W\n",
      "Yair Rodriguez Jeremy Stephens W W\n",
      "Maycee Barber Gillian Robertson L W\n",
      "Manny Bermudez Charles Rosa W L\n",
      "Michelle Waterson Joanna Jedrzejczyk L L\n",
      "Cub Swanson Kron Gracie L W\n",
      "Niko Price James Vick L W\n",
      "Amanda Ribas Mackenzie Dern W W\n",
      "Devin Clark Ryan Spann L L\n",
      "The accuracy of the model is computed as: 0.5743589743589743 after 590 iterations\n",
      "Mike Davis Thomas Gifford L W\n",
      "Alex Morono Max Griffin W W\n",
      "Deiveson Figueiredo Tim Elliott W W\n",
      "Andre Ewell Marlon Vera L L\n",
      "Marvin Vettori Andrew Sanchez W W\n",
      "Lauren Mueller JJ Aldrich L L\n",
      "Robert Whittaker Israel Adesanya L L\n",
      "Al Iaquinta Dan Hooker L L\n",
      "Tai Tuivasa Serghei Spivac W L\n",
      "Rostem Akman Jake Matthews L L\n",
      "The accuracy of the model is computed as: 0.5781512605042017 after 600 iterations\n",
      "Ji Yeon Kim Nadia Kassem W W\n",
      "Jack Hermansson Jared Cannonier W L\n",
      "Gilbert Burns Gunnar Nelson W W\n",
      "Khalil Rountree Jr. Ion Cutelaba L L\n",
      "Michal Oleksiejczuk Ovince Saint Preux L L\n",
      "Alex Oliveira Nicolas Dalby W L\n"
     ]
    },
    {
     "name": "stdout",
     "output_type": "stream",
     "text": [
      "Alen Amedovski John Phillips W L\n",
      "Ismail Naurdiev Siyar Bahadurzada W W\n",
      "Lina Lansberg Macy Chiasson L W\n",
      "Marc Diakiese Lando Vannata W W\n",
      "The accuracy of the model is computed as: 0.5785123966942148 after 610 iterations\n",
      "Alexa Grasso Carla Esparza L L\n",
      "Martin Bravo Steven Peterson W L\n",
      "Carlos Huachin Jose Quinonez L L\n",
      "Marco Polo Reyes Kyle Nelson W L\n",
      "Paul Craig Vinicius Moreira L W\n",
      "Sijara Eubanks Bethe Correia W L\n",
      "Marcos Mariano Claudio Puelles L L\n",
      "Donald Cerrone Justin Gaethje W L\n",
      "Jimmy Crute Misha Cirkunov L L\n",
      "Marcin Tybura Augusto Sakai W L\n",
      "The accuracy of the model is computed as: 0.5756097560975609 after 620 iterations\n",
      "Jordan Griffin Chas Skelly L L\n",
      "Louis Smolka Ryan MacDonald W W\n",
      "Austin Hubbard Kyle Prepolec W W\n",
      "Dustin Poirier Khabib Nurmagomedov L L\n",
      "Islam Makhachev Davi Ramos W W\n",
      "Curtis Blaydes Shamil Abdurakhimov W W\n",
      "Mairbek Taisumov Diego Ferreira W L\n",
      "Belal Muhammad Takashi Sato W W\n",
      "Muslim Salikhov Nordine Taleb L W\n",
      "Zak Cummings Omari Akhmedov W L\n",
      "The accuracy of the model is computed as: 0.5776 after 630 iterations\n",
      "Jessica Andrade Weili Zhang W L\n",
      "Jingliang Li Elizeu Zaleski dos Santos L W\n",
      "Kai Kara-France Mark De La Rosa W W\n",
      "Derrick Krantz Kenan Song W L\n",
      "Andre Soukhamthath Su Mudaerji W L\n",
      "Damir Ismagulov Thiago Moises W W\n",
      "Daniel Cormier Stipe Miocic L L\n",
      "Anthony Pettis Nate Diaz L L\n",
      "Paulo Costa Yoel Romero L W\n",
      "Sodiq Yusuff Gabriel Benitez L W\n",
      "The accuracy of the model is computed as: 0.5748031496062992 after 640 iterations\n",
      "Ian Heinisch Derek Brunson L L\n",
      "Cory Sandhagen Raphael Assuncao W W\n",
      "Christos Giagos Drakkar Klose W L\n",
      "Casey Kenney Manny Bermudez L W\n",
      "Jodie Esquibel Hannah Cifers W L\n",
      "Sabina Mazo Shana Dobson L W\n",
      "Liz Carmouche Valentina Shevchenko L L\n",
      "Ilir Latifi Volkan Oezdemir W L\n",
      "Aleksei Kunchenko Gilbert Burns L L\n",
      "Tecia Torres Marina Rodriguez W L\n",
      "The accuracy of the model is computed as: 0.5720930232558139 after 650 iterations\n",
      "Raulian Paiva Rogerio Bontorin W L\n",
      "Veronica Macedo Polyana Viana L W\n",
      "Colby Covington Robbie Lawler W W\n",
      "Jim Miller Clay Guida L W\n",
      "Joaquim Silva Nasrat Haqparast L L\n",
      "Gerald Meerschaert Trevin Giles W W\n",
      "Dong Hyun Ma Scott Holtzman L L\n",
      "Kennedy Nzechukwu Darko Stosic W W\n",
      "Salim Touahri Mickey Gall L L\n",
      "Antonina Shevchenko Lucie Pudilova L W\n",
      "The accuracy of the model is computed as: 0.5725190839694656 after 660 iterations\n",
      "Matt Schnell Jordan Espinosa L W\n",
      "Mara Romero Borella Lauren Murphy W L\n",
      "Max Holloway Frankie Edgar W W\n",
      "Cristiane Justino Felicia Spencer L W\n",
      "Geoff Neal Niko Price L W\n",
      "Olivier Aubin-Mercier Arman Tsarukyan W L\n",
      "Viviane Araujo Alexis Davis W W\n",
      "SeungWoo Choi Gavin Tucker W L\n",
      "Alexandre Pantoja Deiveson Figueiredo L L\n",
      "Gillian Robertson Sarah Frota W W\n",
      "The accuracy of the model is computed as: 0.5699248120300752 after 670 iterations\n",
      "Kyle Stewart Erik Koch W L\n",
      "Leon Edwards Rafael Dos Anjos W W\n",
      "Aleksei Oleinik Walt Harris W L\n",
      "Greg Hardy Juan Adams W W\n",
      "James Vick Dan Hooker W L\n",
      "Francisco Trinaldo Alexander Hernandez W L\n",
      "Andrei Arlovski Ben Rothwell L W\n",
      "Steven Peterson Alex Caceres L L\n",
      "Sam Alvey Klidson Abreu W L\n",
      "Jennifer Maia Roxanne Modafferi L W\n",
      "The accuracy of the model is computed as: 0.5659259259259259 after 680 iterations\n",
      "Jin Soo Son Mario Bautista L L\n",
      "Aspen Ladd Germaine de Randamie L L\n",
      "Ricky Simon Urijah Faber W L\n",
      "Josh Emmett Mirsad Bektic L W\n",
      "Marvin Vettori Cezar Ferreira L W\n",
      "Sheymon Moraes Andre Fili L L\n",
      "Julianna Pena Nicco Montano W W\n",
      "Darren Elkins Ryan Hall W L\n",
      "Liu Pingyuan Jonathan Martinez W L\n",
      "Vince Morales Benito Lopez W L\n",
      "The accuracy of the model is computed as: 0.5635036496350365 after 690 iterations\n",
      "Jorge Masvidal Ben Askren W W\n",
      "Diego Sanchez Michael Chiesa L L\n",
      "Gilbert Melendez Arnold Allen L L\n",
      "Claudia Gadelha Randa Markos L W\n",
      "Alejandro Perez Song Yadong W L\n"
     ]
    }
   ],
   "source": [
    "#checking by hand that the accuracy of the manual predictions are the same as the accuracy \n",
    "#getting .61 after 100 iterations but .56 after 200 iterations (need longer run)\n",
    "#.53 after 400 iterations (need longer run)\n",
    "#.545 for 100 iterations (starting at number 400 so [400:500])\n",
    "#.62 for 500 iterations (starting at number 500 so [500:1000])\n",
    "#.607 for 1000 iterations (starting at number 1000 so [1000:2000])\n",
    "# .58 for 1000 iterations (starting at number 2000 so [2000:3000])\n",
    "\n",
    "\n",
    "#given by python's model score (around .61 at time of writing... Mar 18 2022)\n",
    "#takes forever... about 3 seconds per computation\n",
    "real_values = ufc_fights['result']\n",
    "is_model_correct=[]\n",
    "index=0\n",
    "for i in ufc_fights.index[100:1000]:\n",
    "    try:\n",
    "        index+=1\n",
    "        f1 = ufc_fights['fighter'][i]\n",
    "        f2 = ufc_fights['opponent'][i]\n",
    "        date = ufc_fights['date'][i]\n",
    "        if (manual_prediction(f1,f2,date,date)):\n",
    "            my_pred = 'W'\n",
    "        else:\n",
    "            my_pred = 'L'\n",
    "        print(f1,f2,my_pred,str(real_values[i]))\n",
    "        if (my_pred==real_values[i]):\n",
    "            is_model_correct.append(1)\n",
    "        else:\n",
    "            is_model_correct.append(0)\n",
    "    except:\n",
    "        continue\n",
    "    if index>0 and index%10==0:\n",
    "        manual_accuracy = sum(is_model_correct)/len(is_model_correct)\n",
    "        print('The accuracy of the model is computed as: '+str(manual_accuracy)+' after '+str(index)+' iterations')"
   ]
  },
  {
   "cell_type": "code",
   "execution_count": null,
   "id": "64f98a7d",
   "metadata": {},
   "outputs": [],
   "source": [
    "#making sure the manual model predictions are as expected\n",
    "#takes forever... about 3 seconds per computation\n",
    "real_values = ufc_fights['result']\n",
    "is_model_correct=[]\n",
    "\n",
    "for i in ufc_fights.index[:10]:\n",
    "    try:\n",
    "        f1 = ufc_fights['fighter'][i]\n",
    "        f2 = ufc_fights['opponent'][i]\n",
    "        date = ufc_fights['date'][i]\n",
    "        ufc_predict(f1,f2,date,date)\n",
    "    except:\n",
    "        print('this fight didnt compute right')"
   ]
  },
  {
   "cell_type": "code",
   "execution_count": null,
   "id": "b88ba068",
   "metadata": {},
   "outputs": [],
   "source": [
    "#checking the distribution of the average absolute values of presigmoid values\n",
    "#this tells us the thresholds for approximating odds (wins out of 10)\n",
    "#this takes super long... about 3 seconds per computation\n",
    "#found best bins to be 0, .2, .4, .6, .8, 1, etc going as 5 6 7 8 9 10 times out of 10\n",
    "prediction_average_absolute_values=[]\n",
    "for i in ufc_fights_winner.index[:10]:\n",
    "    try:\n",
    "        f1 = ufc_fights['fighter'][i]\n",
    "        f2 = ufc_fights['opponent'][i]\n",
    "        date = ufc_fights['date'][i]\n",
    "        value1 = presigmoid_value(f1,f2,date,date)\n",
    "        value2 = presigmoid_value(f2,f1,date,date)\n",
    "        prediction_average_absolute_values.append((abs(value1)+abs(value2))/2)\n",
    "    except:\n",
    "        continue"
   ]
  },
  {
   "cell_type": "code",
   "execution_count": null,
   "id": "eb26326d",
   "metadata": {},
   "outputs": [],
   "source": [
    "bins_for_absavg=[]\n",
    "for i in range(35):\n",
    "    bins_for_absavg.append(i/25)\n",
    "plt.hist(prediction_average_absolute_values, bins=bins_for_absavg)"
   ]
  },
  {
   "cell_type": "code",
   "execution_count": 25,
   "id": "3538f90f",
   "metadata": {},
   "outputs": [],
   "source": [
    "def give_odds(fighter1,fighter2,date1,date2):\n",
    "    value = presigmoid_value(fighter1,fighter2,date1,date2)\n",
    "    value2 = presigmoid_value(fighter2,fighter1,date2,date1)\n",
    "    if value-value2>=0:\n",
    "        winner=fighter1\n",
    "    else:\n",
    "        winner=fighter2\n",
    "    value2 = presigmoid_value(fighter2,fighter1,date2,date1)\n",
    "    abs_value = (abs(value)+abs(value2))/2\n",
    "    if abs_value >=0 and abs_value <=.2:\n",
    "        print(winner+\" wins a little over 5 times out of 10 times.\")\n",
    "    elif abs_value >=.2 and abs_value <=.4:\n",
    "        print(winner+\" wins 6 out of 10 times.\")\n",
    "    elif abs_value >=.4 and abs_value <=.6:\n",
    "        print(winner+\" wins 7 out of 10 times.\")\n",
    "    elif abs_value >=.6 and abs_value <=.8:\n",
    "        print(winner+\" wins 9 out of 10 times.\")\n",
    "    elif abs_value >=.8:\n",
    "        print(winner+\" wins 10 out of 10 times.\")"
   ]
  },
  {
   "cell_type": "code",
   "execution_count": 26,
   "id": "39f2a150",
   "metadata": {},
   "outputs": [
    {
     "data": {
      "text/plain": [
       "-0.8559055177652279"
      ]
     },
     "execution_count": 26,
     "metadata": {},
     "output_type": "execute_result"
    }
   ],
   "source": [
    "#example of finding pre sigmoid value for a fight\n",
    "b = winPredictionModel.intercept_[0]\n",
    "value = 0\n",
    "tup = ufc_prediction_tuple('Jorge Masvidal','Colby Covington', 'March 5, 2022', 'March 5, 2022')\n",
    "for i in range(len(tup)):\n",
    "    value += tup[i]*theta[0][i]\n",
    "value+b"
   ]
  },
  {
   "cell_type": "code",
   "execution_count": 27,
   "id": "589b5c35",
   "metadata": {},
   "outputs": [
    {
     "name": "stdout",
     "output_type": "stream",
     "text": [
      "Colby Covington wins 7 out of 10 times.\n"
     ]
    }
   ],
   "source": [
    "give_odds('Colby Covington', 'Jorge Masvidal', 'March 5, 2022', 'March 5, 2022')"
   ]
  },
  {
   "cell_type": "code",
   "execution_count": 28,
   "id": "641d2b0d",
   "metadata": {},
   "outputs": [
    {
     "name": "stdout",
     "output_type": "stream",
     "text": [
      "0.12604757663789878\n",
      "-0.8559055177652279\n",
      "0.5540003355205128\n"
     ]
    }
   ],
   "source": [
    "#something is serisouly wrong with the model if colby vs jorge gets .126 and jorge vs colby gets -.855\n",
    "#this needs to be fixed...\n",
    "v1=presigmoid_value('Colby Covington','Jorge Masvidal', 'March 5, 2022', 'March 5, 2022')\n",
    "v2=presigmoid_value('Jorge Masvidal','Colby Covington', 'March 5, 2022', 'March 5, 2022')\n",
    "print(v1)\n",
    "print(v2)\n",
    "print(abs(v1)+abs(v2)/2)"
   ]
  },
  {
   "cell_type": "code",
   "execution_count": null,
   "id": "1198e86a",
   "metadata": {},
   "outputs": [],
   "source": []
  },
  {
   "cell_type": "code",
   "execution_count": null,
   "id": "b62dc68e",
   "metadata": {},
   "outputs": [],
   "source": [
    "presigmoid_value('Jorge Masvidal','Colby Covington', 'March 5, 2022', 'March 5, 2022')"
   ]
  },
  {
   "cell_type": "code",
   "execution_count": null,
   "id": "1a5973e1",
   "metadata": {},
   "outputs": [],
   "source": [
    "ufc_predict('Colby Covington','Jorge Masvidal', 'March 5, 2022', 'March 5, 2022')"
   ]
  },
  {
   "cell_type": "code",
   "execution_count": null,
   "id": "18de37f0",
   "metadata": {},
   "outputs": [],
   "source": [
    "ufc_predict('Rafael Dos Anjos','Renato Moicano', 'March 5, 2022', 'March 5, 2022',)"
   ]
  },
  {
   "cell_type": "code",
   "execution_count": null,
   "id": "6f5c9253",
   "metadata": {},
   "outputs": [],
   "source": [
    "presigmoid_value('Rafael Dos Anjos','Renato Moicano', 'March 5, 2022', 'March 5, 2022',)"
   ]
  },
  {
   "cell_type": "code",
   "execution_count": null,
   "id": "dd5f0f93",
   "metadata": {},
   "outputs": [],
   "source": [
    "presigmoid_value('Renato Moicano','Rafael Dos Anjos', 'March 5, 2022', 'March 5, 2022',)"
   ]
  },
  {
   "cell_type": "code",
   "execution_count": null,
   "id": "1f271974",
   "metadata": {},
   "outputs": [],
   "source": [
    "ufc_predict('Edson Barboza','Bryce Mitchell', 'March 5, 2022', 'March 5, 2022')"
   ]
  },
  {
   "cell_type": "code",
   "execution_count": null,
   "id": "41bd1c1f",
   "metadata": {},
   "outputs": [],
   "source": [
    "presigmoid_value('Edson Barboza','Bryce Mitchell', 'March 5, 2022', 'March 5, 2022')"
   ]
  },
  {
   "cell_type": "code",
   "execution_count": null,
   "id": "e6fe83bc",
   "metadata": {},
   "outputs": [],
   "source": [
    "presigmoid_value('Bryce Mitchell', 'Edson Barboza', 'March 5, 2022', 'March 5, 2022')"
   ]
  },
  {
   "cell_type": "code",
   "execution_count": null,
   "id": "a686f47b",
   "metadata": {},
   "outputs": [],
   "source": [
    "ufc_predict('Kevin Holland','Alex Oliveira', 'March 5, 2022', 'March 5, 2022',)"
   ]
  },
  {
   "cell_type": "code",
   "execution_count": null,
   "id": "ed7eca3e",
   "metadata": {},
   "outputs": [],
   "source": [
    "presigmoid_value('Kevin Holland','Alex Oliveira', 'March 5, 2022', 'March 5, 2022',)"
   ]
  },
  {
   "cell_type": "code",
   "execution_count": null,
   "id": "1dfa3ef2",
   "metadata": {},
   "outputs": [],
   "source": [
    "presigmoid_value('Alex Oliveira', 'Kevin Holland','March 5, 2022', 'March 5, 2022',)"
   ]
  },
  {
   "cell_type": "code",
   "execution_count": null,
   "id": "42aac1e2",
   "metadata": {},
   "outputs": [],
   "source": [
    "#there must be an issue with the say Spivak's name is scraped. look into this... fix needed\n",
    "ufc_predict('Sergey Spivak','Greg Hardy', 'March 5, 2022', 'March 5, 2022',)"
   ]
  },
  {
   "cell_type": "code",
   "execution_count": null,
   "id": "b33645f9",
   "metadata": {},
   "outputs": [],
   "source": [
    "ufc_predict('Jalin Turner','Jamie Mullarkey', 'March 5, 2022', 'March 5, 2022',)"
   ]
  },
  {
   "cell_type": "code",
   "execution_count": null,
   "id": "3757e7ff",
   "metadata": {},
   "outputs": [],
   "source": [
    "fighter_height('Yan Xiaonan')"
   ]
  },
  {
   "cell_type": "code",
   "execution_count": null,
   "id": "1985fd9a",
   "metadata": {},
   "outputs": [],
   "source": [
    "#issue with unknown reach/height... fix needed\n",
    "ufc_predict('Marina Rodriguez','Yan Xiaonan', 'March 5, 2022', 'March 5, 2022',)"
   ]
  },
  {
   "cell_type": "code",
   "execution_count": null,
   "id": "9f179007",
   "metadata": {},
   "outputs": [],
   "source": [
    "ufc_predict('Nicolae Negumereanu','Kennedy Nzechukwu', 'March 5, 2022', 'March 5, 2022',)"
   ]
  },
  {
   "cell_type": "code",
   "execution_count": null,
   "id": "e92332c1",
   "metadata": {},
   "outputs": [],
   "source": [
    "ufc_predict('Maryna Moroz','Mariya Agapova', 'March 5, 2022', 'March 5, 2022',)"
   ]
  },
  {
   "cell_type": "code",
   "execution_count": null,
   "id": "0e93bbde",
   "metadata": {},
   "outputs": [],
   "source": [
    "ufc_predict('Umar Nurmagomedov','Brian Kelleher', 'March 5, 2022', 'March 5, 2022',)"
   ]
  },
  {
   "cell_type": "code",
   "execution_count": null,
   "id": "9af459dc",
   "metadata": {},
   "outputs": [],
   "source": [
    "ufc_predict('Tim Elliott','Tagir Ulanbekov', 'March 5, 2022', 'March 5, 2022',)"
   ]
  },
  {
   "cell_type": "code",
   "execution_count": null,
   "id": "c7818e37",
   "metadata": {},
   "outputs": [],
   "source": [
    "#Must be an issue with michal's name in scraping\n",
    "ufc_predict('Dustin Jacoby','Michał Oleksiejczuk', 'March 5, 2022', 'March 5, 2022',)"
   ]
  },
  {
   "cell_type": "code",
   "execution_count": null,
   "id": "5b5659ab",
   "metadata": {},
   "outputs": [],
   "source": [
    "ufc_predict('Thiago Santos','Magomed Ankalaev', 'March 12, 2022', 'March 12, 2022',)"
   ]
  },
  {
   "cell_type": "code",
   "execution_count": null,
   "id": "33b443d1",
   "metadata": {},
   "outputs": [],
   "source": [
    "ufc_predict('Marlon Moraes','Song Yadong', 'March 12, 2022', 'March 12, 2022',)"
   ]
  },
  {
   "cell_type": "code",
   "execution_count": null,
   "id": "747b4f1d",
   "metadata": {},
   "outputs": [],
   "source": [
    "ufc_predict('Sodiq Yusuff','Alex Caceres', 'March 12, 2022', 'March 12, 2022',)"
   ]
  },
  {
   "cell_type": "code",
   "execution_count": null,
   "id": "9e7b9f37",
   "metadata": {},
   "outputs": [],
   "source": [
    "ufc_predict('Khalil Rountree Jr.','Karl Roberson', 'March 12, 2022', 'March 12, 2022',)"
   ]
  },
  {
   "cell_type": "code",
   "execution_count": null,
   "id": "94d353dd",
   "metadata": {},
   "outputs": [],
   "source": [
    "ufc_predict('Drew Dober','Terrance McKinney', 'March 12, 2022', 'March 12, 2022',)"
   ]
  },
  {
   "cell_type": "code",
   "execution_count": null,
   "id": "7d3cfa05",
   "metadata": {},
   "outputs": [],
   "source": [
    "ufc_predict('Alex Pereira','Bruno Silva', 'March 12, 2022', 'March 12, 2022',)"
   ]
  },
  {
   "cell_type": "code",
   "execution_count": null,
   "id": "18bf3040",
   "metadata": {},
   "outputs": [],
   "source": [
    "ufc_predict('Matthew Semelsberger','AJ Fletcher', 'March 12, 2022', 'March 12, 2022',)"
   ]
  },
  {
   "cell_type": "code",
   "execution_count": null,
   "id": "953f6c7d",
   "metadata": {},
   "outputs": [],
   "source": [
    "ufc_predict('JJ Aldrich','Gillian Robertson', 'March 12, 2022', 'March 12, 2022',)"
   ]
  },
  {
   "cell_type": "code",
   "execution_count": null,
   "id": "6d3bd63b",
   "metadata": {},
   "outputs": [],
   "source": [
    "ufc_predict('Trevin Jones','Javid Basharat', 'March 12, 2022', 'March 12, 2022',)"
   ]
  },
  {
   "cell_type": "code",
   "execution_count": null,
   "id": "64ef6b10",
   "metadata": {},
   "outputs": [],
   "source": [
    "ufc_predict('Damon Jackson','Kamuela Kirk', 'March 12, 2022', 'March 12, 2022',)"
   ]
  },
  {
   "cell_type": "code",
   "execution_count": null,
   "id": "a5838755",
   "metadata": {},
   "outputs": [],
   "source": [
    "ufc_predict('Sabina Mazo','Miranda Maverick', 'March 12, 2022', 'March 12, 2022',)"
   ]
  },
  {
   "cell_type": "code",
   "execution_count": null,
   "id": "aef35017",
   "metadata": {},
   "outputs": [],
   "source": [
    "ufc_predict('Dalcha Lungiambula','Cody Brundage', 'March 12, 2022', 'March 12, 2022',)"
   ]
  },
  {
   "cell_type": "code",
   "execution_count": null,
   "id": "a22c24d5",
   "metadata": {},
   "outputs": [],
   "source": [
    "ufc_predict('Kris Moutinho','Guido Cannetti', 'March 12, 2022', 'March 12, 2022',)"
   ]
  },
  {
   "cell_type": "code",
   "execution_count": null,
   "id": "4e751d2c",
   "metadata": {},
   "outputs": [],
   "source": [
    "ufc_predict('Tafon Nchukwi','Azamat Murzakanov', 'March 12, 2022', 'March 12, 2022',)"
   ]
  },
  {
   "cell_type": "code",
   "execution_count": null,
   "id": "71859ccd",
   "metadata": {},
   "outputs": [],
   "source": [
    "ufc_predict(ufc_fights['fighter'][i],ufc_fights['opponent'][i],ufc_fights['date'][i],ufc_fights['date'][i])"
   ]
  },
  {
   "cell_type": "code",
   "execution_count": null,
   "id": "fef4d8cf",
   "metadata": {},
   "outputs": [],
   "source": [
    "ufc_predict('Alexander Volkov','Tom Aspinall','March 19, 2022','March 19, 2022')"
   ]
  },
  {
   "cell_type": "code",
   "execution_count": null,
   "id": "014b1169",
   "metadata": {},
   "outputs": [],
   "source": [
    "ufc_predict('Arnold Allen','Dan Hooker','March 19, 2022','March 19, 2022')"
   ]
  },
  {
   "cell_type": "code",
   "execution_count": null,
   "id": "dc16e630",
   "metadata": {},
   "outputs": [],
   "source": [
    "ufc_predict('Paddy Pimblett','Rodrigo Vargas','March 19, 2022','March 19, 2022')"
   ]
  },
  {
   "cell_type": "code",
   "execution_count": null,
   "id": "27022046",
   "metadata": {},
   "outputs": [],
   "source": [
    "ufc_predict('Gunnar Nelson','Takashi Sato','March 19, 2022','March 19, 2022')"
   ]
  },
  {
   "cell_type": "code",
   "execution_count": null,
   "id": "a37b2d68",
   "metadata": {},
   "outputs": [],
   "source": [
    "ufc_predict('Molly McCann','Luana Carolina','March 19, 2022','March 19, 2022')"
   ]
  },
  {
   "cell_type": "code",
   "execution_count": null,
   "id": "66f548c2",
   "metadata": {},
   "outputs": [],
   "source": [
    "ufc_predict('Jai Herbert','Ilia Topuria','March 19, 2022','March 19, 2022')"
   ]
  },
  {
   "cell_type": "code",
   "execution_count": null,
   "id": "6ac0e9f1",
   "metadata": {},
   "outputs": [],
   "source": [
    "ufc_predict('Mike Grundy', 'Makwan Amirkhani', 'March 19, 2022', 'March 19, 2022')"
   ]
  },
  {
   "cell_type": "code",
   "execution_count": null,
   "id": "9137c31c",
   "metadata": {},
   "outputs": [],
   "source": [
    "ufc_predict('Shamil Abdurakhimov', 'Sergei Pavlovich', 'March 19, 2022', 'March 19, 2022')"
   ]
  },
  {
   "cell_type": "code",
   "execution_count": null,
   "id": "e89b5a74",
   "metadata": {},
   "outputs": [],
   "source": [
    "ufc_predict('Nikita Krylov', 'Paul Craig', 'March 19, 2022', 'March 19, 2022')"
   ]
  },
  {
   "cell_type": "code",
   "execution_count": null,
   "id": "f03fee07",
   "metadata": {},
   "outputs": [],
   "source": [
    "ufc_predict('Jack Shore', 'Timur Valiev', 'March 19, 2022', 'March 19, 2022')"
   ]
  },
  {
   "cell_type": "code",
   "execution_count": null,
   "id": "915998de",
   "metadata": {},
   "outputs": [],
   "source": [
    "ufc_predict('Cory McKenna', 'Elise Reed', 'March 19, 2022', 'March 19, 2022')"
   ]
  },
  {
   "cell_type": "code",
   "execution_count": null,
   "id": "b4a3239f",
   "metadata": {},
   "outputs": [],
   "source": [
    "ufc_predict('Nathaniel Wood', 'Vince Morales', 'March 19, 2022', 'March 19, 2022')"
   ]
  },
  {
   "cell_type": "code",
   "execution_count": null,
   "id": "cce92a2d",
   "metadata": {},
   "outputs": [],
   "source": [
    "ufc_predict('Muhammad Mokaev', 'Cody Durden', 'March 19, 2022', 'March 19, 2022')"
   ]
  },
  {
   "cell_type": "code",
   "execution_count": null,
   "id": "63f7df3c",
   "metadata": {},
   "outputs": [],
   "source": [
    "ufc_predict('Cody Garbrandt','Raphael Assuncao', 'March 5, 2022', 'March 5, 2022')"
   ]
  },
  {
   "cell_type": "code",
   "execution_count": null,
   "id": "22c73a38",
   "metadata": {},
   "outputs": [],
   "source": [
    "ufc_predict('Jon Jones','Jon Jones', 'March 5, 2022', 'March 5, 2022')"
   ]
  },
  {
   "cell_type": "code",
   "execution_count": null,
   "id": "71eef91a",
   "metadata": {},
   "outputs": [],
   "source": [
    "ufc_predict('Francis Ngannou','Francis Ngannou', 'March 5, 2022', 'March 5, 2022')"
   ]
  },
  {
   "cell_type": "code",
   "execution_count": null,
   "id": "43309afa",
   "metadata": {},
   "outputs": [],
   "source": [
    "ufc_predict('Randy Couture','Francis Ngannou', 'March 5, 2012', 'March 5, 2022')"
   ]
  },
  {
   "cell_type": "code",
   "execution_count": null,
   "id": "761e3065",
   "metadata": {},
   "outputs": [],
   "source": [
    "ufc_predict('Roy Nelson','Anthony Johnson', 'March 5, 2012', 'March 5, 2022')"
   ]
  },
  {
   "cell_type": "code",
   "execution_count": null,
   "id": "117a155e",
   "metadata": {},
   "outputs": [],
   "source": [
    "ufc_prediction_tuple('Khabib Nurmagomedov','Colby Covington', 'March 1, 2022', 'March 1, 2022')"
   ]
  },
  {
   "cell_type": "code",
   "execution_count": null,
   "id": "12e19ddf",
   "metadata": {},
   "outputs": [],
   "source": [
    "fighter_reach('Conor McGregor')"
   ]
  },
  {
   "cell_type": "code",
   "execution_count": null,
   "id": "04a7048c",
   "metadata": {},
   "outputs": [],
   "source": [
    "fighter_reach('Colby Covington')"
   ]
  },
  {
   "cell_type": "code",
   "execution_count": 29,
   "id": "375096cf",
   "metadata": {},
   "outputs": [
    {
     "name": "stdout",
     "output_type": "stream",
     "text": [
      "The winner is...\n",
      "Khabib Nurmagomedov by DEC\n"
     ]
    },
    {
     "data": {
      "image/png": "[encoded data removed]",
      "text/plain": [
       "<Figure size 720x720 with 2 Axes>"
      ]
     },
     "metadata": {},
     "output_type": "display_data"
    }
   ],
   "source": [
    "ufc_predict('Colby Covington','Khabib Nurmagomedov', 'March 5, 2022', 'March 5, 2022')"
   ]
  },
  {
   "cell_type": "code",
   "execution_count": 30,
   "id": "973d2fc9",
   "metadata": {},
   "outputs": [
    {
     "name": "stdout",
     "output_type": "stream",
     "text": [
      "The winner is...\n",
      "Khabib Nurmagomedov by DEC\n"
     ]
    },
    {
     "data": {
      "image/png": "[encoded data removed]",
      "text/plain": [
       "<Figure size 720x720 with 2 Axes>"
      ]
     },
     "metadata": {},
     "output_type": "display_data"
    }
   ],
   "source": [
    "ufc_predict('Khabib Nurmagomedov','Colby Covington', 'March 5, 2022', 'March 5, 2022')"
   ]
  },
  {
   "cell_type": "code",
   "execution_count": 31,
   "id": "f5b505e5",
   "metadata": {},
   "outputs": [
    {
     "name": "stdout",
     "output_type": "stream",
     "text": [
      "Khabib Nurmagomedov wins 6 out of 10 times.\n"
     ]
    }
   ],
   "source": [
    "give_odds('Khabib Nurmagomedov','Colby Covington', 'March 5, 2022', 'March 5, 2022')"
   ]
  },
  {
   "cell_type": "code",
   "execution_count": 32,
   "id": "b7fe6e60",
   "metadata": {},
   "outputs": [
    {
     "name": "stdout",
     "output_type": "stream",
     "text": [
      "Khabib Nurmagomedov wins 6 out of 10 times.\n"
     ]
    }
   ],
   "source": [
    "give_odds('Colby Covington','Khabib Nurmagomedov', 'March 5, 2022', 'March 5, 2022')"
   ]
  },
  {
   "cell_type": "code",
   "execution_count": 33,
   "id": "877574f8",
   "metadata": {},
   "outputs": [
    {
     "data": {
      "text/plain": [
       "0.08831087363304846"
      ]
     },
     "execution_count": 33,
     "metadata": {},
     "output_type": "execute_result"
    }
   ],
   "source": [
    "presigmoid_value('Khabib Nurmagomedov','Colby Covington', 'March 5, 2022', 'March 5, 2022')"
   ]
  },
  {
   "cell_type": "code",
   "execution_count": 34,
   "id": "c06c9c16",
   "metadata": {},
   "outputs": [
    {
     "data": {
      "text/plain": [
       "-0.5438148213445064"
      ]
     },
     "execution_count": 34,
     "metadata": {},
     "output_type": "execute_result"
    }
   ],
   "source": [
    "presigmoid_value('Colby Covington','Khabib Nurmagomedov', 'March 5, 2022', 'March 5, 2022')"
   ]
  },
  {
   "cell_type": "code",
   "execution_count": null,
   "id": "da3b1d87",
   "metadata": {},
   "outputs": [],
   "source": []
  }
 ],
 "metadata": {
  "kernelspec": {
   "display_name": "Python 3 (ipykernel)",
   "language": "python",
   "name": "python3"
  },
  "language_info": {
   "codemirror_mode": {
    "name": "ipython",
    "version": 3
   },
   "file_extension": ".py",
   "mimetype": "text/x-python",
   "name": "python",
   "nbconvert_exporter": "python",
   "pygments_lexer": "ipython3",
   "version": "3.9.10"
  }
 },
 "nbformat": 4,
 "nbformat_minor": 5
}
