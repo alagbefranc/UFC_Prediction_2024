{
 "cells": [
  {
   "cell_type": "code",
   "execution_count": 1,
   "id": "665a1a6e",
   "metadata": {},
   "outputs": [],
   "source": [
    "#NEW IDEA. PERHAPS FOR EACH FIGHT, WE LOOK AT THE CORRESPONDING POINT IN THE SPACE OF ALL FEATURES, AND THEN\n",
    "#BUILD A MODEL WHERE THE TRAINING SET ONLY INVOLVES POINTS NEAR THAT POINT.\n",
    "#THIS MIGHT BE MORE EFFECTIVE BECAUSE THE MOST RELEVANT FEATURES IS LIKELY TO DEPEND ON THE LOCATION\n",
    "#IN THE PARAMETER SPACE."
   ]
  },
  {
   "cell_type": "code",
   "execution_count": 33,
   "id": "570a2e72",
   "metadata": {},
   "outputs": [],
   "source": [
    "#getting dependencies\n",
    "import pandas as pd\n",
    "pd.options.mode.chained_assignment = None  # default='warn' (disables SettingWithCopyWarning)\n",
    "\n",
    "import numpy as npy\n",
    "from datetime import datetime\n",
    "from datetime import date\n",
    "import matplotlib.pyplot as plt\n",
    "import random\n",
    "import sklearn\n",
    "import scipy\n",
    "from sklearn.linear_model import LogisticRegression\n",
    "from sklearn.ensemble import RandomForestClassifier\n",
    "from sklearn.neural_network import MLPClassifier\n",
    "from sklearn.model_selection import train_test_split, KFold, cross_val_score\n",
    "from sklearn import preprocessing\n",
    "from sklearn.preprocessing import PolynomialFeatures\n",
    "from sklearn.feature_selection import VarianceThreshold\n",
    "import itertools\n",
    "#this imports all of the functions from the file functions.py\n",
    "from functions import *"
   ]
  },
  {
   "cell_type": "code",
   "execution_count": 34,
   "id": "95a388bc",
   "metadata": {},
   "outputs": [],
   "source": [
    "#importing csv fight data and saving as dataframes\n",
    "ufc_fights_winner = pd.read_csv('ufc_fights.csv',low_memory=False)\n",
    "ufc_fights_method = pd.read_csv('ufc_fights.csv',low_memory=False)\n",
    "ufcfighterscrap =pd.read_csv('fighter_stats.csv',sep=',',low_memory=False)"
   ]
  },
  {
   "cell_type": "code",
   "execution_count": 35,
   "id": "9f9fbdd9",
   "metadata": {},
   "outputs": [
    {
     "data": {
      "text/plain": [
       "'31'"
      ]
     },
     "execution_count": 35,
     "metadata": {},
     "output_type": "execute_result"
    }
   ],
   "source": [
    "#ages are saved as strings?? Does this affect the model? Lets fix it and see\n",
    "ufc_fights_winner['fighter_age'][0]"
   ]
  },
  {
   "cell_type": "code",
   "execution_count": 36,
   "id": "e64d3b89",
   "metadata": {},
   "outputs": [],
   "source": [
    "#there are some issues with how names are saved\n",
    "#it gets saved as Joanne Wood for some reason\n",
    "for i in range(len(ufc_fights_winner['fighter'])):\n",
    "    if ufc_fights_winner['fighter'][i]=='Joanne Wood':\n",
    "        ufc_fights_winner['fighter'][i]='Joanne Calderwood'\n",
    "    if ufc_fights_winner['opponent'][i]=='Joanne Wood':\n",
    "        ufc_fights_winner['opponent'][i]='Joanne Calderwood'"
   ]
  },
  {
   "cell_type": "code",
   "execution_count": 37,
   "id": "f54d09a6",
   "metadata": {},
   "outputs": [],
   "source": [
    "#there are two lists of names which sometimes get scraped differently... this causes some problems which are being\n",
    "#addressed in this cell. \n",
    "\n",
    "names_list = list(set((list(ufcfightscrap['fighter'])+list(ufcfightscrap['opponent']))))\n",
    "names_list.sort()\n",
    "\n",
    "names_list2 = list(set(ufcfighterscrap['name']))\n",
    "names_list2.sort()\n",
    "\n",
    "#Use the following two lines of code to examine names if necessary...\n",
    "\n",
    "#for name in names_list:\n",
    "    #print(name)\n",
    "    \n",
    "#for name in names_list2:\n",
    "    #print(name)"
   ]
  },
  {
   "cell_type": "code",
   "execution_count": 38,
   "id": "da5a9a2d",
   "metadata": {},
   "outputs": [
    {
     "data": {
      "text/plain": [
       "'Yan Xiaonan'"
      ]
     },
     "execution_count": 38,
     "metadata": {},
     "output_type": "execute_result"
    }
   ],
   "source": [
    "#assumes first and last name\n",
    "def swap_name(name):\n",
    "    first_name=''\n",
    "    last_name=''\n",
    "    for i in range(len(name)):\n",
    "        if name[i]==' ':\n",
    "            first_name += name[0:i]\n",
    "            last_name += name[i+1:]\n",
    "            break\n",
    "    return last_name+' '+first_name\n",
    "\n",
    "swap_name('Xiaonan Yan')"
   ]
  },
  {
   "cell_type": "code",
   "execution_count": 39,
   "id": "f803ed6f",
   "metadata": {},
   "outputs": [
    {
     "data": {
      "text/plain": [
       "[]"
      ]
     },
     "execution_count": 39,
     "metadata": {},
     "output_type": "execute_result"
    }
   ],
   "source": [
    "#this finds all names in ufcfightscrap which are sometimes written in the wrong order \n",
    "#e.g. ('Weili Zhang', 'Zhang Weili')\n",
    "names = [name for name in ufcfightscrap['fighter']]\n",
    "opponent_names = [name for name in ufcfightscrap['opponent']]\n",
    "names.extend(opponent_names)\n",
    "names_swapped = [swap_name(name) for name in names]\n",
    "errors=[name for name in names if name in names_swapped]\n",
    "names_to_fix = list(set(errors))\n",
    "pairs = [[name,swap_name(name)] for name in names_to_fix]\n",
    "sorted_pairs = []\n",
    "for pair in pairs:\n",
    "    pair.sort()\n",
    "    sorted_pairs.append(tuple(pair))\n",
    "error_pairs = list(set(sorted_pairs))\n",
    "error_pairs"
   ]
  },
  {
   "cell_type": "code",
   "execution_count": 40,
   "id": "b5f42d36",
   "metadata": {},
   "outputs": [],
   "source": [
    "#fixing all swapped names\n",
    "#setting name so that first name is before last name in lex order\n",
    "for i in range(len(ufcfightscrap['fighter'])):\n",
    "    for pair in error_pairs:\n",
    "        if ufcfightscrap['fighter'][i]==pair[0] or ufcfightscrap['fighter'][i]==pair[1]:\n",
    "            ufcfightscrap['fighter'][i]=pair[0] \n",
    "        if ufcfightscrap['opponent'][i]==pair[0] or ufcfightscrap['opponent'][i]==pair[1]:\n",
    "            ufcfightscrap['opponent'][i]=pair[0] "
   ]
  },
  {
   "cell_type": "code",
   "execution_count": 41,
   "id": "2ef2d0ff",
   "metadata": {},
   "outputs": [
    {
     "data": {
      "text/plain": [
       "array(['KO/TKO', 'SUB', 'bullshit', 'DEC'], dtype=object)"
      ]
     },
     "execution_count": 41,
     "metadata": {},
     "output_type": "execute_result"
    }
   ],
   "source": [
    "#cleaning the methods column for winner prediction \n",
    "#changing anything other than 'U-DEC','M-DEC', 'KO/TKO', 'SUB', to 'bullshit'\n",
    "#changing 'U-DEC','M-DEC', to 'DEC'\n",
    "#(counting split decisions as bullshit)\n",
    "ufc_fights_winner['method'] = clean_method_for_winner_vect(ufc_fights_winner['method'])\n",
    "ufc_fights_winner['method'].unique()"
   ]
  },
  {
   "cell_type": "code",
   "execution_count": 42,
   "id": "33119001",
   "metadata": {},
   "outputs": [
    {
     "data": {
      "text/plain": [
       "array(['KO/TKO', 'SUB', 'DEC', 'bullshit'], dtype=object)"
      ]
     },
     "execution_count": 42,
     "metadata": {},
     "output_type": "execute_result"
    }
   ],
   "source": [
    "#cleaning the methods column for method prediction \n",
    "#changing anything other than 'U-DEC','M-DEC', 'S-DEC', 'KO/TKO', 'SUB', to 'bullshit'\n",
    "#changing 'U-DEC','M-DEC', 'S-DEC', to 'DEC'\n",
    "#(counting split decisions as decisions)\n",
    "ufc_fights_method['method'] = clean_method_vect(ufc_fights_method['method'])\n",
    "ufc_fights_method['method'].unique()"
   ]
  },
  {
   "cell_type": "code",
   "execution_count": 46,
   "id": "73ce89e2",
   "metadata": {},
   "outputs": [],
   "source": [
    "#getting rid of rows with incomplete or useless data\n",
    "#fights with outcome \"Win\" or \"Loss\" (no \"Draw\")\n",
    "draw_mask=ufc_fights_winner['result'] != 'D' \n",
    "#fights where the method of victory is TKO/SUB/DEC (no split decision or DQ or Overturned or anything else like that)\n",
    "method_mask_winner=(ufc_fights_winner['method']!='bullshit')\n",
    "method_mask_method=(ufc_fights_method['method']!='bullshit')\n",
    "#fights where age is known\n",
    "age_mask=(ufc_fights_winner['fighter_age']!='unknown')&(ufc_fights_winner['opponent_age']!='unknown')\n",
    "#fights where height reach is known\n",
    "height_mask=(ufc_fights_winner['fighter_height']!='unknown')&(ufc_fights_winner['opponent_height']!='unknown')\n",
    "reach_mask=(ufc_fights_winner['fighter_reach']!='unknown')&(ufc_fights_winner['opponent_reach']!='unknown')\n",
    "#fights where number of wins is known\n",
    "wins_mask=(ufc_fights_winner['fighter_wins'] != 'unknown' )& (ufc_fights_winner['opponent_wins'] != 'unknown')\n",
    "#fights where both fighters have strike statistics (gets rid of UFC debuts)\n",
    "strikes_mask=(ufc_fights_winner['fighter_inf_sig_strikes_attempts_avg'] != 0)&(ufc_fights_winner['opponent_inf_sig_strikes_attempts_avg'] != 0)\n",
    "#includes only the fights satisfying these conditions\n",
    "ufc_fights_winner=ufc_fights_winner[draw_mask&method_mask_winner&age_mask&height_mask&reach_mask&wins_mask&strikes_mask]\n",
    "ufc_fights_method=ufc_fights_method[draw_mask&method_mask_method&age_mask&height_mask&reach_mask&wins_mask&strikes_mask]\n",
    "ufc_fights=ufc_fights[draw_mask&method_mask_winner&age_mask&height_mask&reach_mask&wins_mask&strikes_mask]\n",
    "\n",
    "#listing all stats and making some new stats from them (differences often score higher in the learning models)\n",
    "record_statistics=[u'fighter_wins', \n",
    "                   u'fighter_losses',\n",
    "                   u'fighter_L5Y_wins',\n",
    "                   u'fighter_L5Y_losses', \n",
    "                   u'fighter_L2Y_wins', \n",
    "                   u'fighter_L2Y_losses',\n",
    "                    u'fighter_ko_wins',\n",
    "                   u'fighter_ko_losses',\n",
    "                   u'fighter_L5Y_ko_wins',\n",
    "                   u'fighter_L5Y_ko_losses',\n",
    "                   u'fighter_L2Y_ko_wins',\n",
    "                    u'fighter_L2Y_ko_losses',\n",
    "                   u'fighter_sub_wins',\n",
    "                   u'fighter_sub_losses',\n",
    "                   u'fighter_L5Y_sub_wins',\n",
    "                    u'fighter_L5Y_sub_losses', \n",
    "                   u'fighter_L2Y_sub_wins', \n",
    "                   u'fighter_L2Y_sub_losses',\n",
    "                   u'opponent_wins', \n",
    "                   u'opponent_losses',\n",
    "                   u'opponent_L5Y_wins', \n",
    "                   u'opponent_L5Y_losses', \n",
    "                   u'opponent_L2Y_wins', \n",
    "                   u'opponent_L2Y_losses', \n",
    "                    u'opponent_ko_wins', \n",
    "                   u'opponent_ko_losses', \n",
    "                   u'opponent_L5Y_ko_wins', \n",
    "                   u'opponent_L5Y_ko_losses', \n",
    "                   u'opponent_L2Y_ko_wins',\n",
    "                    u'opponent_L2Y_ko_losses', \n",
    "                   u'opponent_sub_wins', \n",
    "                   u'opponent_sub_losses',\n",
    "                   u'opponent_L5Y_sub_wins', \n",
    "                    u'opponent_L5Y_sub_losses', \n",
    "                   u'opponent_L2Y_sub_wins', \n",
    "                   u'opponent_L2Y_sub_losses']\n",
    "\n",
    "physical_stats=[ u'fighter_age',\n",
    "                u'fighter_height',\n",
    "                    u'fighter_reach',  \n",
    "                u'opponent_age',  \n",
    "                u'opponent_height',\n",
    "                    u'opponent_reach']\n",
    "\n",
    "#THERE MAY BE A PROBLEM IN AGE HEIGHT REACH TO DO WITH STRING VS FLOAT. MAKE SURE THESE ARE ALL THE CORRECT TYPE\n",
    "#MAYBE WE ARE LOSING PREDICTABILITY HERE\n",
    "\n",
    "#here is the list of all stats available (besides stance), does not include names or result\n",
    "punch_statistics=[    u'fighter_inf_knockdowns_avg',\n",
    "                    u'fighter_inf_pass_avg',\n",
    "                    u'fighter_inf_reversals_avg',\n",
    "                    u'fighter_inf_sub_attempts_avg',\n",
    "                    u'fighter_inf_takedowns_landed_avg',\n",
    "                    u'fighter_inf_takedowns_attempts_avg',\n",
    "                    u'fighter_inf_sig_strikes_landed_avg',\n",
    "                    u'fighter_inf_sig_strikes_attempts_avg',\n",
    "                    u'fighter_inf_total_strikes_landed_avg',\n",
    "                    u'fighter_inf_total_strikes_attempts_avg',\n",
    "                    u'fighter_inf_head_strikes_landed_avg',\n",
    "                    u'fighter_inf_head_strikes_attempts_avg',\n",
    "                    u'fighter_inf_body_strikes_landed_avg',\n",
    "                    u'fighter_inf_body_strikes_attempts_avg',\n",
    "                    u'fighter_inf_leg_strikes_landed_avg',\n",
    "                    u'fighter_inf_leg_strikes_attempts_avg',\n",
    "                    u'fighter_inf_distance_strikes_landed_avg',\n",
    "                    u'fighter_inf_distance_strikes_attempts_avg',\n",
    "                    u'fighter_inf_clinch_strikes_landed_avg',\n",
    "                    u'fighter_inf_clinch_strikes_attempts_avg',\n",
    "                    u'fighter_inf_ground_strikes_landed_avg',\n",
    "                    u'fighter_inf_ground_strikes_attempts_avg',\n",
    "                \n",
    "                    u'fighter_abs_knockdowns_avg',\n",
    "                    u'fighter_abs_pass_avg',\n",
    "                    u'fighter_abs_reversals_avg',\n",
    "                    u'fighter_abs_sub_attempts_avg',\n",
    "                    u'fighter_abs_takedowns_landed_avg',\n",
    "                    u'fighter_abs_takedowns_attempts_avg',\n",
    "                    u'fighter_abs_sig_strikes_landed_avg',\n",
    "                    u'fighter_abs_sig_strikes_attempts_avg',\n",
    "                    u'fighter_abs_total_strikes_landed_avg',\n",
    "                    u'fighter_abs_total_strikes_attempts_avg',\n",
    "                    u'fighter_abs_head_strikes_landed_avg',\n",
    "                    u'fighter_abs_head_strikes_attempts_avg',\n",
    "                    u'fighter_abs_body_strikes_landed_avg',\n",
    "                    u'fighter_abs_body_strikes_attempts_avg',\n",
    "                    u'fighter_abs_leg_strikes_landed_avg',\n",
    "                    u'fighter_abs_leg_strikes_attempts_avg',\n",
    "                    u'fighter_abs_distance_strikes_landed_avg',\n",
    "                    u'fighter_abs_distance_strikes_attempts_avg',\n",
    "                    u'fighter_abs_clinch_strikes_landed_avg',\n",
    "                    u'fighter_abs_clinch_strikes_attempts_avg',\n",
    "                    u'fighter_abs_ground_strikes_landed_avg',\n",
    "                    u'fighter_abs_ground_strikes_attempts_avg',\n",
    "                    \n",
    "                    u'opponent_inf_knockdowns_avg',\n",
    "                    u'opponent_inf_pass_avg',\n",
    "                    u'opponent_inf_reversals_avg',\n",
    "                    u'opponent_inf_sub_attempts_avg',\n",
    "                    u'opponent_inf_takedowns_landed_avg',\n",
    "                    u'opponent_inf_takedowns_attempts_avg',\n",
    "                    u'opponent_inf_sig_strikes_landed_avg',\n",
    "                    u'opponent_inf_sig_strikes_attempts_avg',\n",
    "                    u'opponent_inf_total_strikes_landed_avg',\n",
    "                    u'opponent_inf_total_strikes_attempts_avg',\n",
    "                    u'opponent_inf_head_strikes_landed_avg',\n",
    "                    u'opponent_inf_head_strikes_attempts_avg',\n",
    "                    u'opponent_inf_body_strikes_landed_avg',\n",
    "                    u'opponent_inf_body_strikes_attempts_avg',\n",
    "                    u'opponent_inf_leg_strikes_landed_avg',\n",
    "                    u'opponent_inf_leg_strikes_attempts_avg',\n",
    "                    u'opponent_inf_distance_strikes_landed_avg',\n",
    "                    u'opponent_inf_distance_strikes_attempts_avg',\n",
    "                    u'opponent_inf_clinch_strikes_landed_avg',\n",
    "                    u'opponent_inf_clinch_strikes_attempts_avg',\n",
    "                    u'opponent_inf_ground_strikes_landed_avg',\n",
    "                    u'opponent_inf_ground_strikes_attempts_avg',\n",
    "                \n",
    "                    u'opponent_abs_knockdowns_avg',\n",
    "                    u'opponent_abs_pass_avg',\n",
    "                    u'opponent_abs_reversals_avg',\n",
    "                    u'opponent_abs_sub_attempts_avg',\n",
    "                    u'opponent_abs_takedowns_landed_avg',\n",
    "                    u'opponent_abs_takedowns_attempts_avg',\n",
    "                    u'opponent_abs_sig_strikes_landed_avg',\n",
    "                    u'opponent_abs_sig_strikes_attempts_avg',\n",
    "                    u'opponent_abs_total_strikes_landed_avg',\n",
    "                    u'opponent_abs_total_strikes_attempts_avg',\n",
    "                    u'opponent_abs_head_strikes_landed_avg',\n",
    "                    u'opponent_abs_head_strikes_attempts_avg',\n",
    "                    u'opponent_abs_body_strikes_landed_avg',\n",
    "                    u'opponent_abs_body_strikes_attempts_avg',\n",
    "                    u'opponent_abs_leg_strikes_landed_avg',\n",
    "                    u'opponent_abs_leg_strikes_attempts_avg',\n",
    "                    u'opponent_abs_distance_strikes_landed_avg',\n",
    "                    u'opponent_abs_distance_strikes_attempts_avg',\n",
    "                    u'opponent_abs_clinch_strikes_landed_avg',\n",
    "                    u'opponent_abs_clinch_strikes_attempts_avg',\n",
    "                    u'opponent_abs_ground_strikes_landed_avg',\n",
    "                    u'opponent_abs_ground_strikes_attempts_avg']\n",
    "\n",
    "#here is the version of punch stats geared for comparing fighter_inf to opponent_abs\n",
    "punch_statistics_alt=[    u'fighter_inf_knockdowns_avg',\n",
    "                    u'fighter_inf_pass_avg',\n",
    "                    u'fighter_inf_reversals_avg',\n",
    "                    u'fighter_inf_sub_attempts_avg',\n",
    "                    u'fighter_inf_takedowns_landed_avg',\n",
    "                    u'fighter_inf_takedowns_attempts_avg',\n",
    "                    u'fighter_inf_sig_strikes_landed_avg',\n",
    "                    u'fighter_inf_sig_strikes_attempts_avg',\n",
    "                    u'fighter_inf_total_strikes_landed_avg',\n",
    "                    u'fighter_inf_total_strikes_attempts_avg',\n",
    "                    u'fighter_inf_head_strikes_landed_avg',\n",
    "                    u'fighter_inf_head_strikes_attempts_avg',\n",
    "                    u'fighter_inf_body_strikes_landed_avg',\n",
    "                    u'fighter_inf_body_strikes_attempts_avg',\n",
    "                    u'fighter_inf_leg_strikes_landed_avg',\n",
    "                    u'fighter_inf_leg_strikes_attempts_avg',\n",
    "                    u'fighter_inf_distance_strikes_landed_avg',\n",
    "                    u'fighter_inf_distance_strikes_attempts_avg',\n",
    "                    u'fighter_inf_clinch_strikes_landed_avg',\n",
    "                    u'fighter_inf_clinch_strikes_attempts_avg',\n",
    "                    u'fighter_inf_ground_strikes_landed_avg',\n",
    "                    u'fighter_inf_ground_strikes_attempts_avg',\n",
    "                \n",
    "                    u'fighter_abs_knockdowns_avg',\n",
    "                    u'fighter_abs_pass_avg',\n",
    "                    u'fighter_abs_reversals_avg',\n",
    "                    u'fighter_abs_sub_attempts_avg',\n",
    "                    u'fighter_abs_takedowns_landed_avg',\n",
    "                    u'fighter_abs_takedowns_attempts_avg',\n",
    "                    u'fighter_abs_sig_strikes_landed_avg',\n",
    "                    u'fighter_abs_sig_strikes_attempts_avg',\n",
    "                    u'fighter_abs_total_strikes_landed_avg',\n",
    "                    u'fighter_abs_total_strikes_attempts_avg',\n",
    "                    u'fighter_abs_head_strikes_landed_avg',\n",
    "                    u'fighter_abs_head_strikes_attempts_avg',\n",
    "                    u'fighter_abs_body_strikes_landed_avg',\n",
    "                    u'fighter_abs_body_strikes_attempts_avg',\n",
    "                    u'fighter_abs_leg_strikes_landed_avg',\n",
    "                    u'fighter_abs_leg_strikes_attempts_avg',\n",
    "                    u'fighter_abs_distance_strikes_landed_avg',\n",
    "                    u'fighter_abs_distance_strikes_attempts_avg',\n",
    "                    u'fighter_abs_clinch_strikes_landed_avg',\n",
    "                    u'fighter_abs_clinch_strikes_attempts_avg',\n",
    "                    u'fighter_abs_ground_strikes_landed_avg',\n",
    "                    u'fighter_abs_ground_strikes_attempts_avg',\n",
    "                \n",
    "                    u'opponent_abs_knockdowns_avg',\n",
    "                    u'opponent_abs_pass_avg',\n",
    "                    u'opponent_abs_reversals_avg',\n",
    "                    u'opponent_abs_sub_attempts_avg',\n",
    "                    u'opponent_abs_takedowns_landed_avg',\n",
    "                    u'opponent_abs_takedowns_attempts_avg',\n",
    "                    u'opponent_abs_sig_strikes_landed_avg',\n",
    "                    u'opponent_abs_sig_strikes_attempts_avg',\n",
    "                    u'opponent_abs_total_strikes_landed_avg',\n",
    "                    u'opponent_abs_total_strikes_attempts_avg',\n",
    "                    u'opponent_abs_head_strikes_landed_avg',\n",
    "                    u'opponent_abs_head_strikes_attempts_avg',\n",
    "                    u'opponent_abs_body_strikes_landed_avg',\n",
    "                    u'opponent_abs_body_strikes_attempts_avg',\n",
    "                    u'opponent_abs_leg_strikes_landed_avg',\n",
    "                    u'opponent_abs_leg_strikes_attempts_avg',\n",
    "                    u'opponent_abs_distance_strikes_landed_avg',\n",
    "                    u'opponent_abs_distance_strikes_attempts_avg',\n",
    "                    u'opponent_abs_clinch_strikes_landed_avg',\n",
    "                    u'opponent_abs_clinch_strikes_attempts_avg',\n",
    "                    u'opponent_abs_ground_strikes_landed_avg',\n",
    "                    u'opponent_abs_ground_strikes_attempts_avg',\n",
    "                     \n",
    "                     u'opponent_inf_knockdowns_avg',\n",
    "                    u'opponent_inf_pass_avg',\n",
    "                    u'opponent_inf_reversals_avg',\n",
    "                    u'opponent_inf_sub_attempts_avg',\n",
    "                    u'opponent_inf_takedowns_landed_avg',\n",
    "                    u'opponent_inf_takedowns_attempts_avg',\n",
    "                    u'opponent_inf_sig_strikes_landed_avg',\n",
    "                    u'opponent_inf_sig_strikes_attempts_avg',\n",
    "                    u'opponent_inf_total_strikes_landed_avg',\n",
    "                    u'opponent_inf_total_strikes_attempts_avg',\n",
    "                    u'opponent_inf_head_strikes_landed_avg',\n",
    "                    u'opponent_inf_head_strikes_attempts_avg',\n",
    "                    u'opponent_inf_body_strikes_landed_avg',\n",
    "                    u'opponent_inf_body_strikes_attempts_avg',\n",
    "                    u'opponent_inf_leg_strikes_landed_avg',\n",
    "                    u'opponent_inf_leg_strikes_attempts_avg',\n",
    "                    u'opponent_inf_distance_strikes_landed_avg',\n",
    "                    u'opponent_inf_distance_strikes_attempts_avg',\n",
    "                    u'opponent_inf_clinch_strikes_landed_avg',\n",
    "                    u'opponent_inf_clinch_strikes_attempts_avg',\n",
    "                    u'opponent_inf_ground_strikes_landed_avg',\n",
    "                    u'opponent_inf_ground_strikes_attempts_avg']\n",
    "\n",
    "#adding record differences to ufc_fights\n",
    "record_statistics_diff = []\n",
    "half_length=int(len(record_statistics)/2)\n",
    "for i in range(half_length):\n",
    "    ufc_fights_winner[record_statistics[i]+'_diff_2']=ufc_fights_winner[record_statistics[i]]-ufc_fights_winner[record_statistics[i+half_length]]\n",
    "    ufc_fights_method[record_statistics[i]+'_diff_2']=ufc_fights_method[record_statistics[i]]-ufc_fights_method[record_statistics[i+half_length]]\n",
    "    record_statistics_diff.append(record_statistics[i]+'_diff_2')\n",
    "    \n",
    "#lets try and improve the greedy algorithm by considering differences. Lets start by replacing height and reach by their differences\n",
    "ufc_fights_winner['height_diff']=ufc_fights_winner['fighter_height'].apply(float)-ufc_fights_winner['opponent_height'].apply(float)\n",
    "ufc_fights_winner['reach_diff']=ufc_fights_winner['fighter_reach'].apply(float)-ufc_fights_winner['opponent_reach'].apply(float)\n",
    "ufc_fights_method['height_diff']=ufc_fights_method['fighter_height'].apply(float)-ufc_fights_method['opponent_height'].apply(float)\n",
    "ufc_fights_method['reach_diff']=ufc_fights_method['fighter_reach'].apply(float)-ufc_fights_method['opponent_reach'].apply(float)\n",
    "\n",
    "\n",
    "physical_stats_diff = ['fighter_age_diff', 'height_diff', 'reach_diff']\n",
    "\n",
    "#adding punch differences to ufc_fights\n",
    "punch_statistics_diff = []\n",
    "half_length=int(len(punch_statistics)/2)\n",
    "for i in range(half_length):\n",
    "    ufc_fights_method[punch_statistics[i]+'_diff_2']=ufc_fights_method[punch_statistics[i]]-ufc_fights_method[punch_statistics[i+half_length]]\n",
    "    ufc_fights_winner[punch_statistics[i]+'_diff_2']=ufc_fights_winner[punch_statistics[i]]-ufc_fights_winner[punch_statistics[i+half_length]]\n",
    "    punch_statistics_diff.append(punch_statistics[i]+'_diff_2')\n",
    "    \n",
    "possible_stats =record_statistics_diff+physical_stats_diff+punch_statistics_diff\n",
    "\n"
   ]
  },
  {
   "cell_type": "code",
   "execution_count": 47,
   "id": "cbac6b45",
   "metadata": {},
   "outputs": [
    {
     "data": {
      "text/plain": [
       "array(['31', '29', '27', '33', '28', '25', '35', '40', '30', '32', '38.0',\n",
       "       '33.0', '32.0', '34.0', '29.0', '24.0', '27.0', '36.0', '30.0',\n",
       "       '26.0', '35.0', '25.0', '31.0', '37.0', '28.0', '39.0', '40.0',\n",
       "       '43.0', '23.0', '41.0', '42.0', '22.0', '21.0', '37', '26', '36',\n",
       "       '43', '24', '22', '34', '39', '42', '23', '38', '41', '21', '44',\n",
       "       '45', '20', '47', '46'], dtype=object)"
      ]
     },
     "execution_count": 47,
     "metadata": {},
     "output_type": "execute_result"
    }
   ],
   "source": [
    "ufc_fights_winner['fighter_age'].unique()"
   ]
  },
  {
   "cell_type": "code",
   "execution_count": 48,
   "id": "e625f05f",
   "metadata": {},
   "outputs": [
    {
     "data": {
      "text/plain": [
       "array(['KO/TKO', 'DEC', 'SUB'], dtype=object)"
      ]
     },
     "execution_count": 48,
     "metadata": {},
     "output_type": "execute_result"
    }
   ],
   "source": [
    "ufc_fights_method['method'].unique()"
   ]
  },
  {
   "cell_type": "code",
   "execution_count": 49,
   "id": "1aa61846",
   "metadata": {},
   "outputs": [
    {
     "data": {
      "text/plain": [
       "array(['W', 'L'], dtype=object)"
      ]
     },
     "execution_count": 49,
     "metadata": {},
     "output_type": "execute_result"
    }
   ],
   "source": [
    "ufc_fights_method['result'].unique()"
   ]
  },
  {
   "cell_type": "code",
   "execution_count": 50,
   "id": "d8bcafe4",
   "metadata": {},
   "outputs": [
    {
     "data": {
      "text/plain": [
       "array(['KO/TKO', 'DEC', 'SUB'], dtype=object)"
      ]
     },
     "execution_count": 50,
     "metadata": {},
     "output_type": "execute_result"
    }
   ],
   "source": [
    "ufc_fights_winner['method'].unique()"
   ]
  },
  {
   "cell_type": "code",
   "execution_count": 51,
   "id": "e506f876",
   "metadata": {},
   "outputs": [
    {
     "data": {
      "text/plain": [
       "array(['W', 'L'], dtype=object)"
      ]
     },
     "execution_count": 51,
     "metadata": {},
     "output_type": "execute_result"
    }
   ],
   "source": [
    "ufc_fights_winner['result'].unique()"
   ]
  },
  {
   "cell_type": "code",
   "execution_count": 52,
   "id": "e735845b",
   "metadata": {},
   "outputs": [
    {
     "data": {
      "text/plain": [
       "array(['W', 'L'], dtype=object)"
      ]
     },
     "execution_count": 52,
     "metadata": {},
     "output_type": "execute_result"
    }
   ],
   "source": [
    "ufc_fights['result'].unique()"
   ]
  },
  {
   "cell_type": "code",
   "execution_count": 53,
   "id": "f18f1a09",
   "metadata": {},
   "outputs": [],
   "source": [
    "#setting \n",
    "ufc_fights_winner['fighter_age'] = ufc_fights_winner['fighter_age'].apply(float)\n",
    "ufc_fights_winner['opponent_age'] = ufc_fights_winner['opponent_age'].apply(float)\n",
    "ufc_fights_method['fighter_age'] = ufc_fights_method['fighter_age'].apply(float)\n",
    "ufc_fights_method['opponent_age'] = ufc_fights_method['opponent_age'].apply(float)\n",
    "ufc_fights_winner['fighter_age_diff'] = ufc_fights_winner['fighter_age']-ufc_fights_winner['opponent_age']\n",
    "\n",
    "ufc_fights_winner['fighter_age'] = ufc_fights_winner['fighter_age'].apply(float)\n",
    "ufc_fights_winner['opponent_age'] = ufc_fights_winner['fighter_age'].apply(float)\n",
    "ufc_fights_winner['fighter_age_diff'] = ufc_fights_winner['fighter_age'].apply(float)-ufc_fights['opponent_age'].apply(float)\n"
   ]
  },
  {
   "cell_type": "code",
   "execution_count": 55,
   "id": "c38a9b4c",
   "metadata": {},
   "outputs": [
    {
     "data": {
      "text/html": [
       "<div>\n",
       "<style scoped>\n",
       "    .dataframe tbody tr th:only-of-type {\n",
       "        vertical-align: middle;\n",
       "    }\n",
       "\n",
       "    .dataframe tbody tr th {\n",
       "        vertical-align: top;\n",
       "    }\n",
       "\n",
       "    .dataframe thead th {\n",
       "        text-align: right;\n",
       "    }\n",
       "</style>\n",
       "<table border=\"1\" class=\"dataframe\">\n",
       "  <thead>\n",
       "    <tr style=\"text-align: right;\">\n",
       "      <th></th>\n",
       "      <th>date</th>\n",
       "      <th>division</th>\n",
       "      <th>fighter</th>\n",
       "      <th>opponent</th>\n",
       "      <th>result</th>\n",
       "      <th>method</th>\n",
       "      <th>fighter_wins</th>\n",
       "      <th>fighter_losses</th>\n",
       "      <th>fighter_age</th>\n",
       "      <th>fighter_height</th>\n",
       "      <th>...</th>\n",
       "      <th>fighter_abs_body_strikes_attempts_avg_diff_2</th>\n",
       "      <th>fighter_abs_leg_strikes_landed_avg_diff_2</th>\n",
       "      <th>fighter_abs_leg_strikes_attempts_avg_diff_2</th>\n",
       "      <th>fighter_abs_distance_strikes_landed_avg_diff_2</th>\n",
       "      <th>fighter_abs_distance_strikes_attempts_avg_diff_2</th>\n",
       "      <th>fighter_abs_clinch_strikes_landed_avg_diff_2</th>\n",
       "      <th>fighter_abs_clinch_strikes_attempts_avg_diff_2</th>\n",
       "      <th>fighter_abs_ground_strikes_landed_avg_diff_2</th>\n",
       "      <th>fighter_abs_ground_strikes_attempts_avg_diff_2</th>\n",
       "      <th>fighter_age_diff</th>\n",
       "    </tr>\n",
       "  </thead>\n",
       "  <tbody>\n",
       "    <tr>\n",
       "      <th>0</th>\n",
       "      <td>March 26, 2022</td>\n",
       "      <td>Heavyweight</td>\n",
       "      <td>Curtis Blaydes</td>\n",
       "      <td>Chris Daukaus</td>\n",
       "      <td>W</td>\n",
       "      <td>KO/TKO</td>\n",
       "      <td>10.0</td>\n",
       "      <td>3.0</td>\n",
       "      <td>31.0</td>\n",
       "      <td>193.04</td>\n",
       "      <td>...</td>\n",
       "      <td>-0.608698</td>\n",
       "      <td>-0.474014</td>\n",
       "      <td>-0.440288</td>\n",
       "      <td>-1.794542</td>\n",
       "      <td>-4.938880</td>\n",
       "      <td>-0.132398</td>\n",
       "      <td>-0.233467</td>\n",
       "      <td>0.074199</td>\n",
       "      <td>0.101180</td>\n",
       "      <td>-2.0</td>\n",
       "    </tr>\n",
       "    <tr>\n",
       "      <th>3</th>\n",
       "      <td>March 26, 2022</td>\n",
       "      <td>Flyweight</td>\n",
       "      <td>Kai Kara-France</td>\n",
       "      <td>Askar Askarov</td>\n",
       "      <td>W</td>\n",
       "      <td>DEC</td>\n",
       "      <td>6.0</td>\n",
       "      <td>2.0</td>\n",
       "      <td>29.0</td>\n",
       "      <td>162.56</td>\n",
       "      <td>...</td>\n",
       "      <td>-0.623204</td>\n",
       "      <td>-0.112824</td>\n",
       "      <td>-0.172655</td>\n",
       "      <td>1.537375</td>\n",
       "      <td>5.483184</td>\n",
       "      <td>-0.204391</td>\n",
       "      <td>-0.247555</td>\n",
       "      <td>-0.188074</td>\n",
       "      <td>-0.315269</td>\n",
       "      <td>-2.0</td>\n",
       "    </tr>\n",
       "    <tr>\n",
       "      <th>5</th>\n",
       "      <td>March 26, 2022</td>\n",
       "      <td>Lightweight</td>\n",
       "      <td>Marc Diakiese</td>\n",
       "      <td>Viacheslav Borshchev</td>\n",
       "      <td>W</td>\n",
       "      <td>DEC</td>\n",
       "      <td>5.0</td>\n",
       "      <td>5.0</td>\n",
       "      <td>29.0</td>\n",
       "      <td>177.8</td>\n",
       "      <td>...</td>\n",
       "      <td>0.218883</td>\n",
       "      <td>0.472369</td>\n",
       "      <td>0.385567</td>\n",
       "      <td>0.139900</td>\n",
       "      <td>-1.917629</td>\n",
       "      <td>-0.244611</td>\n",
       "      <td>-0.093723</td>\n",
       "      <td>-0.006921</td>\n",
       "      <td>0.188346</td>\n",
       "      <td>-4.0</td>\n",
       "    </tr>\n",
       "    <tr>\n",
       "      <th>6</th>\n",
       "      <td>March 26, 2022</td>\n",
       "      <td>Women's Bantamweight</td>\n",
       "      <td>Karol Rosa</td>\n",
       "      <td>Sara McMann</td>\n",
       "      <td>L</td>\n",
       "      <td>DEC</td>\n",
       "      <td>4.0</td>\n",
       "      <td>0.0</td>\n",
       "      <td>27.0</td>\n",
       "      <td>165.1</td>\n",
       "      <td>...</td>\n",
       "      <td>0.942022</td>\n",
       "      <td>0.943702</td>\n",
       "      <td>1.077035</td>\n",
       "      <td>3.934043</td>\n",
       "      <td>7.720477</td>\n",
       "      <td>-0.157978</td>\n",
       "      <td>-0.183252</td>\n",
       "      <td>-0.714823</td>\n",
       "      <td>-0.817678</td>\n",
       "      <td>-6.0</td>\n",
       "    </tr>\n",
       "    <tr>\n",
       "      <th>9</th>\n",
       "      <td>March 26, 2022</td>\n",
       "      <td>Women's Flyweight</td>\n",
       "      <td>Jennifer Maia</td>\n",
       "      <td>Manon Fiorot</td>\n",
       "      <td>L</td>\n",
       "      <td>DEC</td>\n",
       "      <td>4.0</td>\n",
       "      <td>4.0</td>\n",
       "      <td>33.0</td>\n",
       "      <td>162.56</td>\n",
       "      <td>...</td>\n",
       "      <td>-0.364150</td>\n",
       "      <td>-0.053528</td>\n",
       "      <td>-0.431925</td>\n",
       "      <td>1.353450</td>\n",
       "      <td>0.373561</td>\n",
       "      <td>0.015202</td>\n",
       "      <td>-0.023228</td>\n",
       "      <td>0.155363</td>\n",
       "      <td>0.172102</td>\n",
       "      <td>6.0</td>\n",
       "    </tr>\n",
       "    <tr>\n",
       "      <th>...</th>\n",
       "      <td>...</td>\n",
       "      <td>...</td>\n",
       "      <td>...</td>\n",
       "      <td>...</td>\n",
       "      <td>...</td>\n",
       "      <td>...</td>\n",
       "      <td>...</td>\n",
       "      <td>...</td>\n",
       "      <td>...</td>\n",
       "      <td>...</td>\n",
       "      <td>...</td>\n",
       "      <td>...</td>\n",
       "      <td>...</td>\n",
       "      <td>...</td>\n",
       "      <td>...</td>\n",
       "      <td>...</td>\n",
       "      <td>...</td>\n",
       "      <td>...</td>\n",
       "      <td>...</td>\n",
       "      <td>...</td>\n",
       "      <td>...</td>\n",
       "    </tr>\n",
       "    <tr>\n",
       "      <th>6273</th>\n",
       "      <td>February 23, 2001</td>\n",
       "      <td>Middleweight</td>\n",
       "      <td>Tito Ortiz</td>\n",
       "      <td>Evan Tanner</td>\n",
       "      <td>W</td>\n",
       "      <td>KO/TKO</td>\n",
       "      <td>5.0</td>\n",
       "      <td>2.0</td>\n",
       "      <td>26.0</td>\n",
       "      <td>190.5</td>\n",
       "      <td>...</td>\n",
       "      <td>0.132432</td>\n",
       "      <td>0.330661</td>\n",
       "      <td>0.480962</td>\n",
       "      <td>0.430194</td>\n",
       "      <td>0.072816</td>\n",
       "      <td>-0.149465</td>\n",
       "      <td>-0.032063</td>\n",
       "      <td>-0.224615</td>\n",
       "      <td>-0.791247</td>\n",
       "      <td>-4.0</td>\n",
       "    </tr>\n",
       "    <tr>\n",
       "      <th>6287</th>\n",
       "      <td>December 16, 2000</td>\n",
       "      <td>Middleweight</td>\n",
       "      <td>Chuck Liddell</td>\n",
       "      <td>Jeff Monson</td>\n",
       "      <td>W</td>\n",
       "      <td>DEC</td>\n",
       "      <td>2.0</td>\n",
       "      <td>1.0</td>\n",
       "      <td>30.0</td>\n",
       "      <td>187.96</td>\n",
       "      <td>...</td>\n",
       "      <td>0.583333</td>\n",
       "      <td>0.583333</td>\n",
       "      <td>0.583333</td>\n",
       "      <td>0.983333</td>\n",
       "      <td>2.400000</td>\n",
       "      <td>0.666667</td>\n",
       "      <td>1.483333</td>\n",
       "      <td>-0.316667</td>\n",
       "      <td>-0.616667</td>\n",
       "      <td>1.0</td>\n",
       "    </tr>\n",
       "    <tr>\n",
       "      <th>6311</th>\n",
       "      <td>April 14, 2000</td>\n",
       "      <td>Middleweight</td>\n",
       "      <td>Wanderlei Silva</td>\n",
       "      <td>Tito Ortiz</td>\n",
       "      <td>L</td>\n",
       "      <td>DEC</td>\n",
       "      <td>1.0</td>\n",
       "      <td>1.0</td>\n",
       "      <td>23.0</td>\n",
       "      <td>180.34</td>\n",
       "      <td>...</td>\n",
       "      <td>-0.000813</td>\n",
       "      <td>-0.177284</td>\n",
       "      <td>-0.353754</td>\n",
       "      <td>1.204391</td>\n",
       "      <td>1.728924</td>\n",
       "      <td>0.929520</td>\n",
       "      <td>1.004337</td>\n",
       "      <td>-0.151261</td>\n",
       "      <td>-0.151261</td>\n",
       "      <td>-2.0</td>\n",
       "    </tr>\n",
       "    <tr>\n",
       "      <th>6356</th>\n",
       "      <td>March 05, 1999</td>\n",
       "      <td>Middleweight</td>\n",
       "      <td>Jeremy Horn</td>\n",
       "      <td>Chuck Liddell</td>\n",
       "      <td>W</td>\n",
       "      <td>SUB</td>\n",
       "      <td>0.0</td>\n",
       "      <td>2.0</td>\n",
       "      <td>23.0</td>\n",
       "      <td>185.42</td>\n",
       "      <td>...</td>\n",
       "      <td>1.815126</td>\n",
       "      <td>0.420868</td>\n",
       "      <td>0.622549</td>\n",
       "      <td>0.188375</td>\n",
       "      <td>-0.671569</td>\n",
       "      <td>1.060924</td>\n",
       "      <td>0.815126</td>\n",
       "      <td>0.925070</td>\n",
       "      <td>1.126751</td>\n",
       "      <td>-6.0</td>\n",
       "    </tr>\n",
       "    <tr>\n",
       "      <th>6398</th>\n",
       "      <td>October 17, 1997</td>\n",
       "      <td>Heavyweight</td>\n",
       "      <td>Vitor Belfort</td>\n",
       "      <td>Randy Couture</td>\n",
       "      <td>L</td>\n",
       "      <td>KO/TKO</td>\n",
       "      <td>3.0</td>\n",
       "      <td>0.0</td>\n",
       "      <td>20.0</td>\n",
       "      <td>182.88</td>\n",
       "      <td>...</td>\n",
       "      <td>1.046512</td>\n",
       "      <td>0.000000</td>\n",
       "      <td>0.000000</td>\n",
       "      <td>0.000000</td>\n",
       "      <td>1.744186</td>\n",
       "      <td>1.046512</td>\n",
       "      <td>3.139535</td>\n",
       "      <td>0.000000</td>\n",
       "      <td>0.000000</td>\n",
       "      <td>-14.0</td>\n",
       "    </tr>\n",
       "  </tbody>\n",
       "</table>\n",
       "<p>3685 rows × 208 columns</p>\n",
       "</div>"
      ],
      "text/plain": [
       "                   date              division          fighter  \\\n",
       "0        March 26, 2022           Heavyweight   Curtis Blaydes   \n",
       "3        March 26, 2022             Flyweight  Kai Kara-France   \n",
       "5        March 26, 2022           Lightweight    Marc Diakiese   \n",
       "6        March 26, 2022  Women's Bantamweight       Karol Rosa   \n",
       "9        March 26, 2022     Women's Flyweight    Jennifer Maia   \n",
       "...                 ...                   ...              ...   \n",
       "6273  February 23, 2001          Middleweight       Tito Ortiz   \n",
       "6287  December 16, 2000          Middleweight    Chuck Liddell   \n",
       "6311     April 14, 2000          Middleweight  Wanderlei Silva   \n",
       "6356     March 05, 1999          Middleweight      Jeremy Horn   \n",
       "6398   October 17, 1997           Heavyweight    Vitor Belfort   \n",
       "\n",
       "                  opponent result  method  fighter_wins  fighter_losses  \\\n",
       "0            Chris Daukaus      W  KO/TKO          10.0             3.0   \n",
       "3            Askar Askarov      W     DEC           6.0             2.0   \n",
       "5     Viacheslav Borshchev      W     DEC           5.0             5.0   \n",
       "6              Sara McMann      L     DEC           4.0             0.0   \n",
       "9             Manon Fiorot      L     DEC           4.0             4.0   \n",
       "...                    ...    ...     ...           ...             ...   \n",
       "6273           Evan Tanner      W  KO/TKO           5.0             2.0   \n",
       "6287           Jeff Monson      W     DEC           2.0             1.0   \n",
       "6311            Tito Ortiz      L     DEC           1.0             1.0   \n",
       "6356         Chuck Liddell      W     SUB           0.0             2.0   \n",
       "6398         Randy Couture      L  KO/TKO           3.0             0.0   \n",
       "\n",
       "      fighter_age fighter_height  ...  \\\n",
       "0            31.0         193.04  ...   \n",
       "3            29.0         162.56  ...   \n",
       "5            29.0          177.8  ...   \n",
       "6            27.0          165.1  ...   \n",
       "9            33.0         162.56  ...   \n",
       "...           ...            ...  ...   \n",
       "6273         26.0          190.5  ...   \n",
       "6287         30.0         187.96  ...   \n",
       "6311         23.0         180.34  ...   \n",
       "6356         23.0         185.42  ...   \n",
       "6398         20.0         182.88  ...   \n",
       "\n",
       "     fighter_abs_body_strikes_attempts_avg_diff_2  \\\n",
       "0                                       -0.608698   \n",
       "3                                       -0.623204   \n",
       "5                                        0.218883   \n",
       "6                                        0.942022   \n",
       "9                                       -0.364150   \n",
       "...                                           ...   \n",
       "6273                                     0.132432   \n",
       "6287                                     0.583333   \n",
       "6311                                    -0.000813   \n",
       "6356                                     1.815126   \n",
       "6398                                     1.046512   \n",
       "\n",
       "      fighter_abs_leg_strikes_landed_avg_diff_2  \\\n",
       "0                                     -0.474014   \n",
       "3                                     -0.112824   \n",
       "5                                      0.472369   \n",
       "6                                      0.943702   \n",
       "9                                     -0.053528   \n",
       "...                                         ...   \n",
       "6273                                   0.330661   \n",
       "6287                                   0.583333   \n",
       "6311                                  -0.177284   \n",
       "6356                                   0.420868   \n",
       "6398                                   0.000000   \n",
       "\n",
       "      fighter_abs_leg_strikes_attempts_avg_diff_2  \\\n",
       "0                                       -0.440288   \n",
       "3                                       -0.172655   \n",
       "5                                        0.385567   \n",
       "6                                        1.077035   \n",
       "9                                       -0.431925   \n",
       "...                                           ...   \n",
       "6273                                     0.480962   \n",
       "6287                                     0.583333   \n",
       "6311                                    -0.353754   \n",
       "6356                                     0.622549   \n",
       "6398                                     0.000000   \n",
       "\n",
       "      fighter_abs_distance_strikes_landed_avg_diff_2  \\\n",
       "0                                          -1.794542   \n",
       "3                                           1.537375   \n",
       "5                                           0.139900   \n",
       "6                                           3.934043   \n",
       "9                                           1.353450   \n",
       "...                                              ...   \n",
       "6273                                        0.430194   \n",
       "6287                                        0.983333   \n",
       "6311                                        1.204391   \n",
       "6356                                        0.188375   \n",
       "6398                                        0.000000   \n",
       "\n",
       "      fighter_abs_distance_strikes_attempts_avg_diff_2  \\\n",
       "0                                            -4.938880   \n",
       "3                                             5.483184   \n",
       "5                                            -1.917629   \n",
       "6                                             7.720477   \n",
       "9                                             0.373561   \n",
       "...                                                ...   \n",
       "6273                                          0.072816   \n",
       "6287                                          2.400000   \n",
       "6311                                          1.728924   \n",
       "6356                                         -0.671569   \n",
       "6398                                          1.744186   \n",
       "\n",
       "      fighter_abs_clinch_strikes_landed_avg_diff_2  \\\n",
       "0                                        -0.132398   \n",
       "3                                        -0.204391   \n",
       "5                                        -0.244611   \n",
       "6                                        -0.157978   \n",
       "9                                         0.015202   \n",
       "...                                            ...   \n",
       "6273                                     -0.149465   \n",
       "6287                                      0.666667   \n",
       "6311                                      0.929520   \n",
       "6356                                      1.060924   \n",
       "6398                                      1.046512   \n",
       "\n",
       "      fighter_abs_clinch_strikes_attempts_avg_diff_2  \\\n",
       "0                                          -0.233467   \n",
       "3                                          -0.247555   \n",
       "5                                          -0.093723   \n",
       "6                                          -0.183252   \n",
       "9                                          -0.023228   \n",
       "...                                              ...   \n",
       "6273                                       -0.032063   \n",
       "6287                                        1.483333   \n",
       "6311                                        1.004337   \n",
       "6356                                        0.815126   \n",
       "6398                                        3.139535   \n",
       "\n",
       "      fighter_abs_ground_strikes_landed_avg_diff_2  \\\n",
       "0                                         0.074199   \n",
       "3                                        -0.188074   \n",
       "5                                        -0.006921   \n",
       "6                                        -0.714823   \n",
       "9                                         0.155363   \n",
       "...                                            ...   \n",
       "6273                                     -0.224615   \n",
       "6287                                     -0.316667   \n",
       "6311                                     -0.151261   \n",
       "6356                                      0.925070   \n",
       "6398                                      0.000000   \n",
       "\n",
       "      fighter_abs_ground_strikes_attempts_avg_diff_2  fighter_age_diff  \n",
       "0                                           0.101180              -2.0  \n",
       "3                                          -0.315269              -2.0  \n",
       "5                                           0.188346              -4.0  \n",
       "6                                          -0.817678              -6.0  \n",
       "9                                           0.172102               6.0  \n",
       "...                                              ...               ...  \n",
       "6273                                       -0.791247              -4.0  \n",
       "6287                                       -0.616667               1.0  \n",
       "6311                                       -0.151261              -2.0  \n",
       "6356                                        1.126751              -6.0  \n",
       "6398                                        0.000000             -14.0  \n",
       "\n",
       "[3685 rows x 208 columns]"
      ]
     },
     "execution_count": 55,
     "metadata": {},
     "output_type": "execute_result"
    }
   ],
   "source": [
    "ufc_fights_winner"
   ]
  },
  {
   "cell_type": "code",
   "execution_count": 56,
   "id": "df69f3dd",
   "metadata": {},
   "outputs": [],
   "source": [
    "#lets see if data type affects performance \n",
    "ufc_fights_winner['fighter_age_diff'] = ufc_fights_winner['fighter_age_diff'].apply(float)\n"
   ]
  },
  {
   "cell_type": "code",
   "execution_count": 57,
   "id": "d4277184",
   "metadata": {},
   "outputs": [
    {
     "data": {
      "text/plain": [
       "array([20., 21., 22., 23., 24., 25., 26., 27., 28., 29., 30., 31., 32.,\n",
       "       33., 34., 35., 36., 37., 38., 39., 40., 41., 42., 43., 44., 45.,\n",
       "       46., 47.])"
      ]
     },
     "execution_count": 57,
     "metadata": {},
     "output_type": "execute_result"
    }
   ],
   "source": [
    "ages = ufc_fights_winner['fighter_age'].unique()\n",
    "ages.sort()\n",
    "ages"
   ]
  },
  {
   "cell_type": "code",
   "execution_count": 58,
   "id": "b495d916",
   "metadata": {},
   "outputs": [
    {
     "name": "stdout",
     "output_type": "stream",
     "text": [
      "model score: 0.6363636363636364\n",
      "cross val score: 0.6209194667380392\n"
     ]
    }
   ],
   "source": [
    "#this is currently the highest scoring subset of stats to choose. It scores around .637. \n",
    "#dropped to ,.617 after I changed the age columns to be floats instead of strings... this is VERY strange...\n",
    "#actually, after I changed method mask to coincide with the method prediction notebook, it dropped a whole percentage\n",
    "#to .626... Why would this be?\n",
    "#FIGURED IT OUT. Including split decisions in the example set drops predictions by a whole percentage. I changed the\n",
    "#clean_method function to count split decisions as 'bullshit'\n",
    "#This is the score to beat.\n",
    "\n",
    "best_smallest_set=list(set(['fighter_age_diff', \n",
    "                            'reach_diff', \n",
    "                            'fighter_L5Y_ko_losses_diff_2', \n",
    "                            'fighter_L5Y_losses_diff_2', \n",
    "                            'fighter_L2Y_wins_diff_2', \n",
    "                            'fighter_L5Y_wins_diff_2', \n",
    "                            'fighter_L5Y_sub_wins_diff_2', \n",
    "                            'fighter_abs_total_strikes_landed_avg_diff_2', \n",
    "                            'fighter_inf_head_strikes_landed_avg_diff_2', \n",
    "                            'fighter_inf_leg_strikes_landed_avg_diff_2', \n",
    "                            'fighter_abs_head_strikes_landed_avg_diff_2', \n",
    "                            'fighter_inf_knockdowns_avg_diff_2', \n",
    "                            'fighter_inf_clinch_strikes_attempts_avg_diff_2', \n",
    "                            'fighter_inf_takedowns_attempts_avg_diff_2', \n",
    "                            'fighter_inf_ground_strikes_landed_avg_diff_2', \n",
    "                            'fighter_inf_sig_strikes_landed_avg_diff_2'\n",
    "]))\n",
    "\n",
    "ufc_fights_df = ufc_fights_winner[best_smallest_set]\n",
    "\n",
    "winPredictionModel=LogisticRegression(solver='lbfgs', max_iter=2000)\n",
    "X=ufc_fights_df.iloc[0:40*55].to_numpy()\n",
    "y=ufc_fights_winner['result'].iloc[0:40*55]\n",
    "winPredictionModel.fit(X,y)\n",
    "print('model score: '+str(winPredictionModel.score(X,y)))\n",
    "print('cross val score: '+str(cross_val_score(winPredictionModel,X,y,cv=3).mean()))\n",
    "\n"
   ]
  },
  {
   "cell_type": "code",
   "execution_count": 59,
   "id": "7a3d5c13",
   "metadata": {},
   "outputs": [
    {
     "name": "stdout",
     "output_type": "stream",
     "text": [
      "model score: 0.6389423076923076\n",
      "cross val score: 0.631252139897673\n"
     ]
    }
   ],
   "source": [
    "#improvement after adding fight math stats\n",
    "current_best = ['4-fighter_score_diff',\n",
    " '9-fighter_score_diff',\n",
    " '15-fighter_score_diff',\n",
    " '1-fight_math',\n",
    " '6-fight_math',\n",
    " 'fighter_L5Y_sub_wins_diff_2',\n",
    " 'fighter_L5Y_losses_diff_2',\n",
    " 'fighter_L5Y_ko_losses_diff_2',\n",
    " 'fighter_age_diff',\n",
    " 'fighter_abs_total_strikes_landed_avg_diff_2',\n",
    " 'fighter_abs_head_strikes_landed_avg_diff_2',\n",
    " 'fighter_inf_ground_strikes_landed_avg_diff_2',\n",
    " 'fighter_inf_takedowns_attempts_avg_diff_2',\n",
    " 'fighter_inf_head_strikes_landed_avg_diff_2',\n",
    " ]\n",
    "\n",
    "ufc_fights_df = ufc_fights_winner[current_best]\n",
    "winPredictionModel=LogisticRegression(solver='lbfgs', max_iter=2000)\n",
    "X=ufc_fights_df.iloc[0:2080].to_numpy()\n",
    "y=ufc_fights_winner['result'].iloc[0:2080]\n",
    "winPredictionModel.fit(X,y)\n",
    "print('model score: '+str(winPredictionModel.score(X,y)))\n",
    "print('cross val score: '+str(cross_val_score(winPredictionModel,X,y,cv=3).mean()))"
   ]
  },
  {
   "cell_type": "code",
   "execution_count": 32,
   "id": "84b82eb4",
   "metadata": {},
   "outputs": [
    {
     "data": {
      "text/html": [
       "<div>\n",
       "<style scoped>\n",
       "    .dataframe tbody tr th:only-of-type {\n",
       "        vertical-align: middle;\n",
       "    }\n",
       "\n",
       "    .dataframe tbody tr th {\n",
       "        vertical-align: top;\n",
       "    }\n",
       "\n",
       "    .dataframe thead th {\n",
       "        text-align: right;\n",
       "    }\n",
       "</style>\n",
       "<table border=\"1\" class=\"dataframe\">\n",
       "  <thead>\n",
       "    <tr style=\"text-align: right;\">\n",
       "      <th></th>\n",
       "      <th>4-fighter_score_diff</th>\n",
       "      <th>9-fighter_score_diff</th>\n",
       "      <th>15-fighter_score_diff</th>\n",
       "      <th>1-fight_math</th>\n",
       "      <th>6-fight_math</th>\n",
       "      <th>fighter_L5Y_sub_wins_diff_2</th>\n",
       "      <th>fighter_L5Y_losses_diff_2</th>\n",
       "      <th>fighter_L5Y_ko_losses_diff_2</th>\n",
       "      <th>fighter_age_diff</th>\n",
       "      <th>fighter_abs_total_strikes_landed_avg_diff_2</th>\n",
       "      <th>fighter_abs_head_strikes_landed_avg_diff_2</th>\n",
       "      <th>fighter_inf_ground_strikes_landed_avg_diff_2</th>\n",
       "      <th>fighter_inf_takedowns_attempts_avg_diff_2</th>\n",
       "      <th>fighter_inf_head_strikes_landed_avg_diff_2</th>\n",
       "    </tr>\n",
       "  </thead>\n",
       "  <tbody>\n",
       "    <tr>\n",
       "      <th>0</th>\n",
       "      <td>-1</td>\n",
       "      <td>5</td>\n",
       "      <td>15</td>\n",
       "      <td>0</td>\n",
       "      <td>0</td>\n",
       "      <td>0.0</td>\n",
       "      <td>2.0</td>\n",
       "      <td>1.0</td>\n",
       "      <td>4.0</td>\n",
       "      <td>1.255517</td>\n",
       "      <td>0.913653</td>\n",
       "      <td>-1.432805</td>\n",
       "      <td>-0.122676</td>\n",
       "      <td>-1.830660</td>\n",
       "    </tr>\n",
       "    <tr>\n",
       "      <th>1</th>\n",
       "      <td>1</td>\n",
       "      <td>-16</td>\n",
       "      <td>-20</td>\n",
       "      <td>0</td>\n",
       "      <td>1</td>\n",
       "      <td>0.0</td>\n",
       "      <td>-5.0</td>\n",
       "      <td>-4.0</td>\n",
       "      <td>-5.0</td>\n",
       "      <td>-1.633006</td>\n",
       "      <td>-1.981708</td>\n",
       "      <td>-0.037959</td>\n",
       "      <td>0.028578</td>\n",
       "      <td>-0.943456</td>\n",
       "    </tr>\n",
       "    <tr>\n",
       "      <th>2</th>\n",
       "      <td>-1</td>\n",
       "      <td>-1</td>\n",
       "      <td>-1</td>\n",
       "      <td>0</td>\n",
       "      <td>0</td>\n",
       "      <td>0.0</td>\n",
       "      <td>1.0</td>\n",
       "      <td>0.0</td>\n",
       "      <td>8.0</td>\n",
       "      <td>-2.590690</td>\n",
       "      <td>-1.494983</td>\n",
       "      <td>0.323213</td>\n",
       "      <td>-0.335298</td>\n",
       "      <td>-4.450465</td>\n",
       "    </tr>\n",
       "    <tr>\n",
       "      <th>4</th>\n",
       "      <td>4</td>\n",
       "      <td>5</td>\n",
       "      <td>5</td>\n",
       "      <td>0</td>\n",
       "      <td>-1</td>\n",
       "      <td>0.0</td>\n",
       "      <td>-2.0</td>\n",
       "      <td>0.0</td>\n",
       "      <td>-5.0</td>\n",
       "      <td>-1.298534</td>\n",
       "      <td>-1.544311</td>\n",
       "      <td>-0.321334</td>\n",
       "      <td>-0.350215</td>\n",
       "      <td>-1.808985</td>\n",
       "    </tr>\n",
       "    <tr>\n",
       "      <th>5</th>\n",
       "      <td>11</td>\n",
       "      <td>12</td>\n",
       "      <td>12</td>\n",
       "      <td>0</td>\n",
       "      <td>0</td>\n",
       "      <td>0.0</td>\n",
       "      <td>-3.0</td>\n",
       "      <td>0.0</td>\n",
       "      <td>-7.0</td>\n",
       "      <td>-1.492164</td>\n",
       "      <td>-0.863451</td>\n",
       "      <td>0.587968</td>\n",
       "      <td>0.401487</td>\n",
       "      <td>-0.338859</td>\n",
       "    </tr>\n",
       "    <tr>\n",
       "      <th>...</th>\n",
       "      <td>...</td>\n",
       "      <td>...</td>\n",
       "      <td>...</td>\n",
       "      <td>...</td>\n",
       "      <td>...</td>\n",
       "      <td>...</td>\n",
       "      <td>...</td>\n",
       "      <td>...</td>\n",
       "      <td>...</td>\n",
       "      <td>...</td>\n",
       "      <td>...</td>\n",
       "      <td>...</td>\n",
       "      <td>...</td>\n",
       "      <td>...</td>\n",
       "    </tr>\n",
       "    <tr>\n",
       "      <th>3670</th>\n",
       "      <td>3</td>\n",
       "      <td>3</td>\n",
       "      <td>3</td>\n",
       "      <td>0</td>\n",
       "      <td>0</td>\n",
       "      <td>0.0</td>\n",
       "      <td>-1.0</td>\n",
       "      <td>0.0</td>\n",
       "      <td>-4.0</td>\n",
       "      <td>0.601405</td>\n",
       "      <td>-1.436445</td>\n",
       "      <td>2.054434</td>\n",
       "      <td>-0.689933</td>\n",
       "      <td>1.401814</td>\n",
       "    </tr>\n",
       "    <tr>\n",
       "      <th>3673</th>\n",
       "      <td>6</td>\n",
       "      <td>13</td>\n",
       "      <td>13</td>\n",
       "      <td>0</td>\n",
       "      <td>0</td>\n",
       "      <td>0.0</td>\n",
       "      <td>2.0</td>\n",
       "      <td>1.0</td>\n",
       "      <td>-4.0</td>\n",
       "      <td>-3.609390</td>\n",
       "      <td>-0.703569</td>\n",
       "      <td>1.774354</td>\n",
       "      <td>0.477137</td>\n",
       "      <td>2.057654</td>\n",
       "    </tr>\n",
       "    <tr>\n",
       "      <th>3674</th>\n",
       "      <td>-4</td>\n",
       "      <td>-9</td>\n",
       "      <td>-9</td>\n",
       "      <td>0</td>\n",
       "      <td>0</td>\n",
       "      <td>0.0</td>\n",
       "      <td>-2.0</td>\n",
       "      <td>-1.0</td>\n",
       "      <td>4.0</td>\n",
       "      <td>-2.744666</td>\n",
       "      <td>0.346858</td>\n",
       "      <td>0.948723</td>\n",
       "      <td>-0.277055</td>\n",
       "      <td>0.945049</td>\n",
       "    </tr>\n",
       "    <tr>\n",
       "      <th>3677</th>\n",
       "      <td>2</td>\n",
       "      <td>2</td>\n",
       "      <td>2</td>\n",
       "      <td>0</td>\n",
       "      <td>0</td>\n",
       "      <td>0.0</td>\n",
       "      <td>-2.0</td>\n",
       "      <td>0.0</td>\n",
       "      <td>6.0</td>\n",
       "      <td>-12.999300</td>\n",
       "      <td>-0.240896</td>\n",
       "      <td>-0.591737</td>\n",
       "      <td>-0.841737</td>\n",
       "      <td>0.074930</td>\n",
       "    </tr>\n",
       "    <tr>\n",
       "      <th>3678</th>\n",
       "      <td>-2</td>\n",
       "      <td>-2</td>\n",
       "      <td>-2</td>\n",
       "      <td>0</td>\n",
       "      <td>0</td>\n",
       "      <td>1.0</td>\n",
       "      <td>0.0</td>\n",
       "      <td>0.0</td>\n",
       "      <td>14.0</td>\n",
       "      <td>-0.805548</td>\n",
       "      <td>0.000000</td>\n",
       "      <td>-4.275707</td>\n",
       "      <td>0.133091</td>\n",
       "      <td>-9.749229</td>\n",
       "    </tr>\n",
       "  </tbody>\n",
       "</table>\n",
       "<p>2079 rows × 14 columns</p>\n",
       "</div>"
      ],
      "text/plain": [
       "      4-fighter_score_diff  9-fighter_score_diff  15-fighter_score_diff  \\\n",
       "0                       -1                     5                     15   \n",
       "1                        1                   -16                    -20   \n",
       "2                       -1                    -1                     -1   \n",
       "4                        4                     5                      5   \n",
       "5                       11                    12                     12   \n",
       "...                    ...                   ...                    ...   \n",
       "3670                     3                     3                      3   \n",
       "3673                     6                    13                     13   \n",
       "3674                    -4                    -9                     -9   \n",
       "3677                     2                     2                      2   \n",
       "3678                    -2                    -2                     -2   \n",
       "\n",
       "      1-fight_math  6-fight_math  fighter_L5Y_sub_wins_diff_2  \\\n",
       "0                0             0                          0.0   \n",
       "1                0             1                          0.0   \n",
       "2                0             0                          0.0   \n",
       "4                0            -1                          0.0   \n",
       "5                0             0                          0.0   \n",
       "...            ...           ...                          ...   \n",
       "3670             0             0                          0.0   \n",
       "3673             0             0                          0.0   \n",
       "3674             0             0                          0.0   \n",
       "3677             0             0                          0.0   \n",
       "3678             0             0                          1.0   \n",
       "\n",
       "      fighter_L5Y_losses_diff_2  fighter_L5Y_ko_losses_diff_2  \\\n",
       "0                           2.0                           1.0   \n",
       "1                          -5.0                          -4.0   \n",
       "2                           1.0                           0.0   \n",
       "4                          -2.0                           0.0   \n",
       "5                          -3.0                           0.0   \n",
       "...                         ...                           ...   \n",
       "3670                       -1.0                           0.0   \n",
       "3673                        2.0                           1.0   \n",
       "3674                       -2.0                          -1.0   \n",
       "3677                       -2.0                           0.0   \n",
       "3678                        0.0                           0.0   \n",
       "\n",
       "      fighter_age_diff  fighter_abs_total_strikes_landed_avg_diff_2  \\\n",
       "0                  4.0                                     1.255517   \n",
       "1                 -5.0                                    -1.633006   \n",
       "2                  8.0                                    -2.590690   \n",
       "4                 -5.0                                    -1.298534   \n",
       "5                 -7.0                                    -1.492164   \n",
       "...                ...                                          ...   \n",
       "3670              -4.0                                     0.601405   \n",
       "3673              -4.0                                    -3.609390   \n",
       "3674               4.0                                    -2.744666   \n",
       "3677               6.0                                   -12.999300   \n",
       "3678              14.0                                    -0.805548   \n",
       "\n",
       "      fighter_abs_head_strikes_landed_avg_diff_2  \\\n",
       "0                                       0.913653   \n",
       "1                                      -1.981708   \n",
       "2                                      -1.494983   \n",
       "4                                      -1.544311   \n",
       "5                                      -0.863451   \n",
       "...                                          ...   \n",
       "3670                                   -1.436445   \n",
       "3673                                   -0.703569   \n",
       "3674                                    0.346858   \n",
       "3677                                   -0.240896   \n",
       "3678                                    0.000000   \n",
       "\n",
       "      fighter_inf_ground_strikes_landed_avg_diff_2  \\\n",
       "0                                        -1.432805   \n",
       "1                                        -0.037959   \n",
       "2                                         0.323213   \n",
       "4                                        -0.321334   \n",
       "5                                         0.587968   \n",
       "...                                            ...   \n",
       "3670                                      2.054434   \n",
       "3673                                      1.774354   \n",
       "3674                                      0.948723   \n",
       "3677                                     -0.591737   \n",
       "3678                                     -4.275707   \n",
       "\n",
       "      fighter_inf_takedowns_attempts_avg_diff_2  \\\n",
       "0                                     -0.122676   \n",
       "1                                      0.028578   \n",
       "2                                     -0.335298   \n",
       "4                                     -0.350215   \n",
       "5                                      0.401487   \n",
       "...                                         ...   \n",
       "3670                                  -0.689933   \n",
       "3673                                   0.477137   \n",
       "3674                                  -0.277055   \n",
       "3677                                  -0.841737   \n",
       "3678                                   0.133091   \n",
       "\n",
       "      fighter_inf_head_strikes_landed_avg_diff_2  \n",
       "0                                      -1.830660  \n",
       "1                                      -0.943456  \n",
       "2                                      -4.450465  \n",
       "4                                      -1.808985  \n",
       "5                                      -0.338859  \n",
       "...                                          ...  \n",
       "3670                                    1.401814  \n",
       "3673                                    2.057654  \n",
       "3674                                    0.945049  \n",
       "3677                                    0.074930  \n",
       "3678                                   -9.749229  \n",
       "\n",
       "[2079 rows x 14 columns]"
      ]
     },
     "execution_count": 32,
     "metadata": {},
     "output_type": "execute_result"
    }
   ],
   "source": [
    "ufc_fights_df"
   ]
  },
  {
   "cell_type": "code",
   "execution_count": 60,
   "id": "d4599d54",
   "metadata": {},
   "outputs": [
    {
     "name": "stdout",
     "output_type": "stream",
     "text": [
      "Accuracy: 0.5165247712709765 F1 score: 0.20842802140697367\n"
     ]
    }
   ],
   "source": [
    "#random forest does way better for picking the method!\n",
    "best_stats=['fighter_ko_losses_diff_2', 'fighter_L2Y_sub_losses_diff_2']\n",
    "rfc=RandomForestClassifier()\n",
    "Xr=ufc_fights_method[best_stats].iloc[0:2300]\n",
    "yr=ufc_fights_method['method'].iloc[0:2300]\n",
    "\n",
    "rfc.fit(Xr,yr)\n",
    "accuracy = cross_val_score(rfc,Xr,yr,cv=3).mean()\n",
    "precision = cross_val_score(rfc,Xr,yr,cv=3, scoring='precision_micro').mean()\n",
    "recall = cross_val_score(rfc, Xr, yr, cv=3, scoring='recall_macro').mean()\n",
    "print('Accuracy: '+str(accuracy),'F1 score: '+str(precision*recall/(precision+recall)))"
   ]
  },
  {
   "cell_type": "code",
   "execution_count": 29,
   "id": "777a2b88",
   "metadata": {},
   "outputs": [
    {
     "name": "stdout",
     "output_type": "stream",
     "text": [
      "coefficients[[ 0.17859825 -0.35054352  0.12181295 -0.03852547  0.02811983 -0.09544947\n",
      "  -0.17294226 -0.01178212 -0.04884282 -0.06694046 -0.09911792 -0.01679279\n",
      "  -0.05518309  0.63325912  0.0178385  -0.06800284]]\n",
      "intercept[-0.0214338]\n"
     ]
    }
   ],
   "source": [
    "#I've defined this in such a way to predict what happens when fighter1 in their day1 version fights fighter2\n",
    "#in their day2 version. Meaning we could compare for example 2014 Tyron Woodley to 2019 Colby Covington\n",
    "def ufc_prediction_tuple(fighter1,fighter2,day1=date.today(),day2=date.today()):\n",
    "    return [fighter_age(fighter1,day1)-fighter_age(fighter2,day2),\n",
    "            fighter_reach(fighter1)-fighter_reach(fighter2),\n",
    "            L5Y_ko_losses(fighter1,day1)-L5Y_ko_losses(fighter2,day2),\n",
    "            L5Y_losses(fighter1,day1)-L5Y_losses(fighter2,day2),\n",
    "            L2Y_wins(fighter1,day1)-L2Y_wins(fighter2,day2),\n",
    "            L5Y_wins(fighter1,day1)-L5Y_wins(fighter2,day2),\n",
    "            L5Y_sub_wins(fighter1,day1)-L5Y_sub_wins(fighter2,day2),\n",
    "            avg_count('total_strikes_landed',fighter1,'abs',day1)-avg_count('total_strikes_landed',fighter2,'abs',day2),\n",
    "            avg_count('head_strikes_landed',fighter1,'inf',day1)-avg_count('head_strikes_landed',fighter2,'inf',day2),\n",
    "            avg_count('leg_strikes_landed',fighter1,'inf',day1)-avg_count('leg_strikes_landed',fighter2,'inf',day2),\n",
    "            avg_count('head_strikes_landed',fighter1,'abs',day1)-avg_count('head_strikes_landed',fighter2,'abs',day2),\n",
    "            avg_count('knockdowns',fighter1,'inf',day1)-avg_count('knockdowns',fighter2,'inf',day2),\n",
    "            avg_count('clinch_strikes_attempts',fighter1,'inf',day1)-avg_count('clinch_strikes_attempts',fighter2,'inf',day2),\n",
    "            avg_count('takedowns_attempts',fighter1,'inf',day1)-avg_count('takedowns_attempts',fighter2,'inf',day2),\n",
    "            avg_count('ground_strikes_landed',fighter1,'inf',day1)-avg_count('ground_strikes_landed',fighter2,'inf',day2),\n",
    "            avg_count('sig_strikes_landed',fighter1,'inf',day1)-avg_count('sig_strikes_landed',fighter2,'inf',day2)\n",
    "           ]\n",
    "\n",
    "\n",
    "def ufc_method_prediction_tuple(fighter1,fighter2,day1=date.today(),day2=date.today()):\n",
    "    return [ko_losses(fighter1,day1)-ko_losses(fighter2,day2),\n",
    "            sub_losses(fighter1,day1)-sub_losses(fighter2,day2)]\n",
    "\n",
    "winPredictionModel=LogisticRegression(solver='lbfgs', max_iter=2000)\n",
    "X=ufc_fights_df.iloc[0:40*55].to_numpy()\n",
    "y=ufc_fights_winner['result'].iloc[0:40*55]\n",
    "winPredictionModel.fit(X,y)\n",
    "print('coefficients'+str(winPredictionModel.coef_))\n",
    "print('intercept'+str(winPredictionModel.intercept_))\n",
    "\n",
    "best_stats=['fighter_ko_losses_diff_2', 'fighter_sub_losses_diff_2']\n",
    "rfc=RandomForestClassifier()\n",
    "Xr=ufc_fights_method[best_stats].iloc[0:2300].to_numpy()\n",
    "yr=ufc_fights_method['method'].iloc[0:2300]\n",
    "rfc.fit(Xr,yr)\n",
    "\n",
    "import matplotlib.pyplot as plt\n",
    "import matplotlib.image as mpimg\n",
    "import random\n",
    "\n",
    "#date entered in the form 'Aug 20, 2013'\n",
    "#predicts what happens if the day1 version of fighter1 fights fighter2 at their day2 version\n",
    "#by default day1 and day2 are set to today if left unspecified\n",
    "def ufc_predict(fighter1,fighter2,day1=date.today(), day2=date.today()):\n",
    "    fighters=[fighter1,fighter2]\n",
    "    random_guy=fighters[random.choice([0,1])]\n",
    "    fighter1_fights=(ufcfightscrap['fighter']==fighter1).sum()\n",
    "    fighter2_fights=(ufcfightscrap['fighter']==fighter2).sum()\n",
    "    if fighter1_fights==0 and not fighter2_fights==0:\n",
    "        print('This is '+fighter1+\"'s UFC debut... so obviously I do not have enough data to make an educated pick. But since you are DEMANDING an outcome, hmmm... I guess I'll go with \"+random_guy+'.')\n",
    "    elif fighter2_fights==0 and not fighter1_fights==0:\n",
    "        print('This is '+fighter2+\"'s UFC debut... so obviously I do not have enough data to make an educated pick. But since you are DEMANDING an outcome, hmmm... I guess I'll go with \"+random_guy+'.') \n",
    "    elif fighter1_fights==0 and fighter2_fights==0:\n",
    "        print('This is both '+fighter1+\"'s \"+'and '+fighter2+\"'s \"+\"UFC debuts... so obviously I do not have enough data to make an educated pick. But since you are DEMANDING an outcome, hmmm... I guess I'll go with \"+random_guy+'.')\n",
    "    else:\n",
    "        try:\n",
    "            print('The winner is...')\n",
    "            ufc_tuple=ufc_prediction_tuple(fighter1,fighter2,day1,day2)\n",
    "            ufc_method_tuple=ufc_method_prediction_tuple(fighter1,fighter2,day1,day2)\n",
    "            value=winPredictionModel.predict([ufc_tuple])[0]\n",
    "            result=rfc.predict([ufc_method_tuple])[0]\n",
    "            if fighter1==\"Jon Jones\" and fighter2==\"Jon Jones\":\n",
    "                print('Daniel Cormier')\n",
    "            elif value=='W':\n",
    "                print(fighter1+' by '+result)\n",
    "            else:\n",
    "                print(fighter2+' by '+result)\n",
    "            try:\n",
    "                fighter1stripped = fighter1.replace(\" \",\"\")\n",
    "                fighter2stripped = fighter2.replace(\" \",\"\")\n",
    "                j=random.randrange(1,5)\n",
    "                img1 = mpimg.imread('images/'+str(j)+fighter1stripped+'.jpg')\n",
    "                j=random.randrange(1,5)\n",
    "                img2 = mpimg.imread('images/'+str(j)+fighter2stripped+'.jpg')\n",
    "                fig, ax = plt.subplots(1, 2, figsize=(10,10))\n",
    "                ax[0].set(title=fighter1, aspect=1, xticks=[], yticks=[])                \n",
    "                imgplot = ax[0].imshow(img1)\n",
    "                ax[1].set(title=fighter2, aspect=1, xticks=[], yticks=[])\n",
    "                imgplot = ax[1].imshow(img2)\n",
    "            except FileNotFoundError:\n",
    "                print('That picture is not in the database somehow...')\n",
    "        except ValueError:\n",
    "            print('Fighters have incomplete data on record... or maybe there is an issue with one of the fighters names... I honestly do not know what to do with this.')\n",
    "        except TypeError:\n",
    "            print('Fighters have incomplete data on record... or maybe there is an issue with one of the fighters names... I honestly do not know what to do with this.')\n",
    "\n",
    "                \n",
    "                "
   ]
  },
  {
   "cell_type": "code",
   "execution_count": 30,
   "id": "fa81b3f0",
   "metadata": {},
   "outputs": [],
   "source": [
    "# We want to predict how many times out of 10 the winning fighter would win, so we look at the values\n",
    "# x*theta+b. If the value is >=0 its a win and <=0 its a loss. But how far from zero gives indication of\n",
    "# how likely the outcome is.\n",
    "theta = winPredictionModel.coef_\n",
    "b = winPredictionModel.intercept_[0]\n",
    "\n",
    "def presigmoid_value(fighter1,fighter2,date1,date2):\n",
    "    value = 0\n",
    "    tup = ufc_prediction_tuple(fighter1,fighter2,date1,date2)\n",
    "    for i in range(len(tup)):\n",
    "        value += tup[i]*theta[0][i]\n",
    "    return value + b\n",
    "\n",
    "def manual_prediction(fighter1,fighter2,date1,date2):\n",
    "    value = presigmoid_value(fighter1,fighter2,date1,date2)\n",
    "    value2 = presigmoid_value(fighter2,fighter1,date2,date1)\n",
    "    return value-value2>=0"
   ]
  },
  {
   "cell_type": "code",
   "execution_count": 37,
   "id": "40943e0f",
   "metadata": {},
   "outputs": [],
   "source": [
    "#building the set of presigmoid values for all fights in ufc_fights_df\n",
    "X=ufc_fights_df.iloc[0:40*55].to_numpy()\n",
    "prediction_values=[]\n",
    "for i in range(40*55):\n",
    "    value = 0\n",
    "    tup = X[i]\n",
    "    for i in range(len(tup)):\n",
    "        value += tup[i]*theta[0][i]\n",
    "    prediction_values.append(value + b)"
   ]
  },
  {
   "cell_type": "code",
   "execution_count": 38,
   "id": "bd7cbfeb",
   "metadata": {},
   "outputs": [
    {
     "data": {
      "text/plain": [
       "(array([  6.,  28., 104., 344., 589., 567., 376., 158.,  26.,   2.]),\n",
       " array([-2.37009609, -1.91202256, -1.45394903, -0.9958755 , -0.53780197,\n",
       "        -0.07972844,  0.37834509,  0.83641862,  1.29449215,  1.75256568,\n",
       "         2.21063921]),\n",
       " <BarContainer object of 10 artists>)"
      ]
     },
     "execution_count": 38,
     "metadata": {},
     "output_type": "execute_result"
    },
    {
     "data": {
      "image/png": "[encoded data removed]",
      "text/plain": [
       "<Figure size 432x288 with 1 Axes>"
      ]
     },
     "metadata": {
      "needs_background": "light"
     },
     "output_type": "display_data"
    }
   ],
   "source": [
    "#shows the range of \n",
    "plt.hist(prediction_values)"
   ]
  },
  {
   "cell_type": "code",
   "execution_count": null,
   "id": "5a5c73c1",
   "metadata": {},
   "outputs": [],
   "source": [
    "for stat in ufc_fights.columns:\n",
    "    print(stat)"
   ]
  },
  {
   "cell_type": "code",
   "execution_count": null,
   "id": "3377cb17",
   "metadata": {},
   "outputs": [],
   "source": [
    "#checking by hand that the accuracy of the manual predictions are the same as the accuracy \n",
    "#getting .61 after 100 iterations but .56 after 200 iterations (need longer run)\n",
    "#.53 after 400 iterations (need longer run)\n",
    "#.545 for 100 iterations (starting at number 400 so [400:500])\n",
    "#.62 for 500 iterations (starting at number 500 so [500:1000])\n",
    "#.607 for 1000 iterations (starting at number 1000 so [1000:2000])\n",
    "# .58 for 1000 iterations (starting at number 2000 so [2000:3000])\n",
    "\n",
    "\n",
    "#given by python's model score (around .61 at time of writing... Mar 18 2022)\n",
    "#takes forever... about 3 seconds per computation\n",
    "real_values = ufc_fights['result']\n",
    "is_model_correct=[]\n",
    "index=0\n",
    "for i in ufc_fights.index[:10]:\n",
    "    try:\n",
    "        index+=1\n",
    "        f1 = ufc_fights['fighter'][i]\n",
    "        f2 = ufc_fights['opponent'][i]\n",
    "        date = ufc_fights['date'][i]\n",
    "        if (manual_prediction(f1,f2,date,date)):\n",
    "            my_pred = 'W'\n",
    "        else:\n",
    "            my_pred = 'L'\n",
    "        print(f1,f2,my_pred,str(real_values[i]))\n",
    "        if (my_pred==real_values[i]):\n",
    "            is_model_correct.append(1)\n",
    "        else:\n",
    "            is_model_correct.append(0)\n",
    "    except:\n",
    "        continue\n",
    "    if index>0 and index%10==0:\n",
    "        manual_accuracy = sum(is_model_correct)/len(is_model_correct)\n",
    "        print('The accuracy of the model is computed as: '+str(manual_accuracy)+' after '+str(index)+' iterations')\n",
    "        \n",
    "        "
   ]
  },
  {
   "cell_type": "code",
   "execution_count": null,
   "id": "64f98a7d",
   "metadata": {},
   "outputs": [],
   "source": [
    "#making sure the manual model predictions are as expected\n",
    "#takes forever... about 3 seconds per computation\n",
    "real_values = ufc_fights['result']\n",
    "is_model_correct=[]\n",
    "\n",
    "for i in ufc_fights.index[:10]:\n",
    "    try:\n",
    "        f1 = ufc_fights['fighter'][i]\n",
    "        f2 = ufc_fights['opponent'][i]\n",
    "        date = ufc_fights['date'][i]\n",
    "        ufc_predict(f1,f2,date,date)\n",
    "    except:\n",
    "        print('this fight didnt compute right')"
   ]
  },
  {
   "cell_type": "code",
   "execution_count": 31,
   "id": "5b1c4568",
   "metadata": {},
   "outputs": [
    {
     "data": {
      "text/plain": [
       "True"
      ]
     },
     "execution_count": 31,
     "metadata": {},
     "output_type": "execute_result"
    }
   ],
   "source": [
    "manual_prediction('Thiago Santos','Magomed Ankalaev', 'March 12, 2022', 'March 12, 2022')"
   ]
  },
  {
   "cell_type": "code",
   "execution_count": 27,
   "id": "52a7027a",
   "metadata": {},
   "outputs": [
    {
     "name": "stdout",
     "output_type": "stream",
     "text": [
      "The winner is...\n",
      "Fighters have incomplete data on record... or maybe there is an issue with one of the fighters names... I honestly do not know what to do with this.\n"
     ]
    }
   ],
   "source": [
    "ufc_predict('Magomed Ankalaev', 'Thiago Santos','March 12, 2022', 'March 12, 2022')"
   ]
  },
  {
   "cell_type": "code",
   "execution_count": null,
   "id": "b88ba068",
   "metadata": {},
   "outputs": [],
   "source": [
    "#checking the distribution of the average absolute values of presigmoid values\n",
    "#this tells us the thresholds for approximating odds (wins out of 10)\n",
    "#this takes super long... about 3 seconds per computation\n",
    "#found best bins to be 0, .2, .4, .6, .8, 1, etc going as 5 6 7 8 9 10 times out of 10\n",
    "prediction_average_absolute_values=[]\n",
    "for i in ufc_fights_winner.index[:10]:\n",
    "    try:\n",
    "        f1 = ufc_fights['fighter'][i]\n",
    "        f2 = ufc_fights['opponent'][i]\n",
    "        date = ufc_fights['date'][i]\n",
    "        value1 = presigmoid_value(f1,f2,date,date)\n",
    "        value2 = presigmoid_value(f2,f1,date,date)\n",
    "        prediction_average_absolute_values.append((abs(value1)+abs(value2))/2)\n",
    "    except:\n",
    "        continue"
   ]
  },
  {
   "cell_type": "code",
   "execution_count": null,
   "id": "eb26326d",
   "metadata": {},
   "outputs": [],
   "source": [
    "bins_for_absavg=[]\n",
    "for i in range(35):\n",
    "    bins_for_absavg.append(i/25)\n",
    "plt.hist(prediction_average_absolute_values, bins=bins_for_absavg)"
   ]
  },
  {
   "cell_type": "code",
   "execution_count": null,
   "id": "3538f90f",
   "metadata": {},
   "outputs": [],
   "source": [
    "def give_odds(fighter1,fighter2,date1,date2):\n",
    "    value = presigmoid_value(fighter1,fighter2,date1,date2)\n",
    "    value2 = presigmoid_value(fighter2,fighter1,date2,date1)\n",
    "    if value-value2>=0:\n",
    "        winner=fighter1\n",
    "    else:\n",
    "        winner=fighter2\n",
    "    value2 = presigmoid_value(fighter2,fighter1,date2,date1)\n",
    "    abs_value = (abs(value)+abs(value2))/2\n",
    "    if abs_value >=0 and abs_value <=.2:\n",
    "        print(winner+\" wins a little over 5 times out of 10 times.\")\n",
    "    elif abs_value >=.2 and abs_value <=.4:\n",
    "        print(winner+\" wins 6 out of 10 times.\")\n",
    "    elif abs_value >=.4 and abs_value <=.6:\n",
    "        print(winner+\" wins 7 out of 10 times.\")\n",
    "    elif abs_value >=.6 and abs_value <=.8:\n",
    "        print(winner+\" wins 9 out of 10 times.\")\n",
    "    elif abs_value >=.8:\n",
    "        print(winner+\" wins 10 out of 10 times.\")"
   ]
  },
  {
   "cell_type": "code",
   "execution_count": 39,
   "id": "aad7fed8",
   "metadata": {},
   "outputs": [
    {
     "data": {
      "text/plain": [
       "-0.02143379915277674"
      ]
     },
     "execution_count": 39,
     "metadata": {},
     "output_type": "execute_result"
    }
   ],
   "source": [
    "winPredictionModel.intercept_[0]"
   ]
  },
  {
   "cell_type": "code",
   "execution_count": null,
   "id": "39f2a150",
   "metadata": {},
   "outputs": [],
   "source": [
    "#example of finding pre sigmoid value for a fight\n",
    "b = winPredictionModel.intercept_[0]\n",
    "value = 0\n",
    "tup = ufc_prediction_tuple('Jorge Masvidal','Colby Covington', 'March 5, 2022', 'March 5, 2022')\n",
    "for i in range(len(tup)):\n",
    "    value += tup[i]*theta[0][i]\n",
    "value+b"
   ]
  },
  {
   "cell_type": "code",
   "execution_count": null,
   "id": "589b5c35",
   "metadata": {},
   "outputs": [],
   "source": [
    "give_odds('Colby Covington', 'Jorge Masvidal', 'March 5, 2022', 'March 5, 2022')"
   ]
  },
  {
   "cell_type": "code",
   "execution_count": null,
   "id": "641d2b0d",
   "metadata": {},
   "outputs": [],
   "source": [
    "#something is serisouly wrong with the model if colby vs jorge gets .126 and jorge vs colby gets -.855\n",
    "#this needs to be fixed...\n",
    "v1=presigmoid_value('Colby Covington','Jorge Masvidal', 'March 5, 2022', 'March 5, 2022')\n",
    "v2=presigmoid_value('Jorge Masvidal','Colby Covington', 'March 5, 2022', 'March 5, 2022')\n",
    "print(v1)\n",
    "print(v2)\n",
    "print(abs(v1)+abs(v2)/2)"
   ]
  },
  {
   "cell_type": "code",
   "execution_count": null,
   "id": "1198e86a",
   "metadata": {},
   "outputs": [],
   "source": []
  },
  {
   "cell_type": "code",
   "execution_count": 32,
   "id": "b62dc68e",
   "metadata": {},
   "outputs": [
    {
     "data": {
      "text/plain": [
       "-1.4442878614529782"
      ]
     },
     "execution_count": 32,
     "metadata": {},
     "output_type": "execute_result"
    }
   ],
   "source": [
    "presigmoid_value('Jorge Masvidal','Colby Covington', 'March 5, 2022', 'March 5, 2022')"
   ]
  },
  {
   "cell_type": "code",
   "execution_count": 34,
   "id": "f7af1dd6",
   "metadata": {},
   "outputs": [
    {
     "data": {
      "text/plain": [
       "1.4014202631474248"
      ]
     },
     "execution_count": 34,
     "metadata": {},
     "output_type": "execute_result"
    }
   ],
   "source": [
    "presigmoid_value('Colby Covington', 'Jorge Masvidal', 'March 5, 2022', 'March 5, 2022')"
   ]
  },
  {
   "cell_type": "code",
   "execution_count": null,
   "id": "af4ed3a7",
   "metadata": {},
   "outputs": [],
   "source": [
    "presigmoid_value('Conor McGregor','Khabib Nurmagomedov', 'March 5, 2022', 'March 5, 2022')"
   ]
  },
  {
   "cell_type": "code",
   "execution_count": 35,
   "id": "6b4d8354",
   "metadata": {},
   "outputs": [
    {
     "data": {
      "text/plain": [
       "4.5341081039449715"
      ]
     },
     "execution_count": 35,
     "metadata": {},
     "output_type": "execute_result"
    }
   ],
   "source": [
    "presigmoid_value('Khabib Nurmagomedov','Conor McGregor', 'March 5, 2017', 'March 5, 2017')"
   ]
  },
  {
   "cell_type": "code",
   "execution_count": 36,
   "id": "930b2b50",
   "metadata": {},
   "outputs": [
    {
     "data": {
      "text/plain": [
       "-4.576975702250525"
      ]
     },
     "execution_count": 36,
     "metadata": {},
     "output_type": "execute_result"
    }
   ],
   "source": [
    "presigmoid_value('Conor McGregor', 'Khabib Nurmagomedov','March 5, 2017', 'March 5, 2017')"
   ]
  },
  {
   "cell_type": "code",
   "execution_count": null,
   "id": "1a5973e1",
   "metadata": {},
   "outputs": [],
   "source": [
    "ufc_predict('Colby Covington','Jorge Masvidal', 'March 5, 2022', 'March 5, 2022')"
   ]
  },
  {
   "cell_type": "code",
   "execution_count": null,
   "id": "18de37f0",
   "metadata": {},
   "outputs": [],
   "source": [
    "ufc_predict('Rafael Dos Anjos','Renato Moicano', 'March 5, 2022', 'March 5, 2022',)"
   ]
  },
  {
   "cell_type": "code",
   "execution_count": 33,
   "id": "6f5c9253",
   "metadata": {},
   "outputs": [
    {
     "data": {
      "text/plain": [
       "2.9035219854370364"
      ]
     },
     "execution_count": 33,
     "metadata": {},
     "output_type": "execute_result"
    }
   ],
   "source": [
    "presigmoid_value('Rafael Dos Anjos','Renato Moicano', 'March 5, 2022', 'March 5, 2022',)"
   ]
  },
  {
   "cell_type": "code",
   "execution_count": null,
   "id": "dd5f0f93",
   "metadata": {},
   "outputs": [],
   "source": [
    "presigmoid_value('Renato Moicano','Rafael Dos Anjos', 'March 5, 2022', 'March 5, 2022',)"
   ]
  },
  {
   "cell_type": "code",
   "execution_count": null,
   "id": "1f271974",
   "metadata": {},
   "outputs": [],
   "source": [
    "ufc_predict('Edson Barboza','Bryce Mitchell', 'March 5, 2022', 'March 5, 2022')"
   ]
  },
  {
   "cell_type": "code",
   "execution_count": null,
   "id": "41bd1c1f",
   "metadata": {},
   "outputs": [],
   "source": [
    "presigmoid_value('Edson Barboza','Bryce Mitchell', 'March 5, 2022', 'March 5, 2022')"
   ]
  },
  {
   "cell_type": "code",
   "execution_count": null,
   "id": "e6fe83bc",
   "metadata": {},
   "outputs": [],
   "source": [
    "presigmoid_value('Bryce Mitchell', 'Edson Barboza', 'March 5, 2022', 'March 5, 2022')"
   ]
  },
  {
   "cell_type": "code",
   "execution_count": null,
   "id": "a686f47b",
   "metadata": {},
   "outputs": [],
   "source": [
    "ufc_predict('Kevin Holland','Alex Oliveira', 'March 5, 2022', 'March 5, 2022',)"
   ]
  },
  {
   "cell_type": "code",
   "execution_count": null,
   "id": "ed7eca3e",
   "metadata": {},
   "outputs": [],
   "source": [
    "presigmoid_value('Kevin Holland','Alex Oliveira', 'March 5, 2022', 'March 5, 2022',)"
   ]
  },
  {
   "cell_type": "code",
   "execution_count": null,
   "id": "1dfa3ef2",
   "metadata": {},
   "outputs": [],
   "source": [
    "presigmoid_value('Alex Oliveira', 'Kevin Holland','March 5, 2022', 'March 5, 2022',)"
   ]
  },
  {
   "cell_type": "code",
   "execution_count": null,
   "id": "42aac1e2",
   "metadata": {},
   "outputs": [],
   "source": [
    "#there must be an issue with the say Spivak's name is scraped. look into this... fix needed\n",
    "ufc_predict('Sergey Spivak','Greg Hardy', 'March 5, 2022', 'March 5, 2022',)"
   ]
  },
  {
   "cell_type": "code",
   "execution_count": null,
   "id": "b33645f9",
   "metadata": {},
   "outputs": [],
   "source": [
    "ufc_predict('Jalin Turner','Jamie Mullarkey', 'March 5, 2022', 'March 5, 2022',)"
   ]
  },
  {
   "cell_type": "code",
   "execution_count": null,
   "id": "3757e7ff",
   "metadata": {},
   "outputs": [],
   "source": [
    "fighter_height('Yan Xiaonan')"
   ]
  },
  {
   "cell_type": "code",
   "execution_count": null,
   "id": "1985fd9a",
   "metadata": {},
   "outputs": [],
   "source": [
    "#issue with unknown reach/height... fix needed\n",
    "ufc_predict('Marina Rodriguez','Yan Xiaonan', 'March 5, 2022', 'March 5, 2022',)"
   ]
  },
  {
   "cell_type": "code",
   "execution_count": null,
   "id": "9f179007",
   "metadata": {},
   "outputs": [],
   "source": [
    "ufc_predict('Nicolae Negumereanu','Kennedy Nzechukwu', 'March 5, 2022', 'March 5, 2022',)"
   ]
  },
  {
   "cell_type": "code",
   "execution_count": null,
   "id": "e92332c1",
   "metadata": {},
   "outputs": [],
   "source": [
    "ufc_predict('Maryna Moroz','Mariya Agapova', 'March 5, 2022', 'March 5, 2022',)"
   ]
  },
  {
   "cell_type": "code",
   "execution_count": null,
   "id": "0e93bbde",
   "metadata": {},
   "outputs": [],
   "source": [
    "ufc_predict('Umar Nurmagomedov','Brian Kelleher', 'March 5, 2022', 'March 5, 2022',)"
   ]
  },
  {
   "cell_type": "code",
   "execution_count": null,
   "id": "9af459dc",
   "metadata": {},
   "outputs": [],
   "source": [
    "ufc_predict('Tim Elliott','Tagir Ulanbekov', 'March 5, 2022', 'March 5, 2022',)"
   ]
  },
  {
   "cell_type": "code",
   "execution_count": null,
   "id": "c7818e37",
   "metadata": {},
   "outputs": [],
   "source": [
    "#Must be an issue with michal's name in scraping\n",
    "ufc_predict('Dustin Jacoby','Michał Oleksiejczuk', 'March 5, 2022', 'March 5, 2022',)"
   ]
  },
  {
   "cell_type": "code",
   "execution_count": null,
   "id": "5b5659ab",
   "metadata": {},
   "outputs": [],
   "source": [
    "ufc_predict('Thiago Santos','Magomed Ankalaev', 'March 12, 2022', 'March 12, 2022',)"
   ]
  },
  {
   "cell_type": "code",
   "execution_count": null,
   "id": "33b443d1",
   "metadata": {},
   "outputs": [],
   "source": [
    "ufc_predict('Marlon Moraes','Song Yadong', 'March 12, 2022', 'March 12, 2022',)"
   ]
  },
  {
   "cell_type": "code",
   "execution_count": null,
   "id": "747b4f1d",
   "metadata": {},
   "outputs": [],
   "source": [
    "ufc_predict('Sodiq Yusuff','Alex Caceres', 'March 12, 2022', 'March 12, 2022',)"
   ]
  },
  {
   "cell_type": "code",
   "execution_count": null,
   "id": "9e7b9f37",
   "metadata": {},
   "outputs": [],
   "source": [
    "ufc_predict('Khalil Rountree Jr.','Karl Roberson', 'March 12, 2022', 'March 12, 2022',)"
   ]
  },
  {
   "cell_type": "code",
   "execution_count": null,
   "id": "94d353dd",
   "metadata": {},
   "outputs": [],
   "source": [
    "ufc_predict('Drew Dober','Terrance McKinney', 'March 12, 2022', 'March 12, 2022',)"
   ]
  },
  {
   "cell_type": "code",
   "execution_count": null,
   "id": "7d3cfa05",
   "metadata": {},
   "outputs": [],
   "source": [
    "ufc_predict('Alex Pereira','Bruno Silva', 'March 12, 2022', 'March 12, 2022',)"
   ]
  },
  {
   "cell_type": "code",
   "execution_count": null,
   "id": "18bf3040",
   "metadata": {},
   "outputs": [],
   "source": [
    "ufc_predict('Matthew Semelsberger','AJ Fletcher', 'March 12, 2022', 'March 12, 2022',)"
   ]
  },
  {
   "cell_type": "code",
   "execution_count": null,
   "id": "953f6c7d",
   "metadata": {},
   "outputs": [],
   "source": [
    "ufc_predict('JJ Aldrich','Gillian Robertson', 'March 12, 2022', 'March 12, 2022',)"
   ]
  },
  {
   "cell_type": "code",
   "execution_count": null,
   "id": "6d3bd63b",
   "metadata": {},
   "outputs": [],
   "source": [
    "ufc_predict('Trevin Jones','Javid Basharat', 'March 12, 2022', 'March 12, 2022',)"
   ]
  },
  {
   "cell_type": "code",
   "execution_count": null,
   "id": "64ef6b10",
   "metadata": {},
   "outputs": [],
   "source": [
    "ufc_predict('Damon Jackson','Kamuela Kirk', 'March 12, 2022', 'March 12, 2022',)"
   ]
  },
  {
   "cell_type": "code",
   "execution_count": null,
   "id": "a5838755",
   "metadata": {},
   "outputs": [],
   "source": [
    "ufc_predict('Sabina Mazo','Miranda Maverick', 'March 12, 2022', 'March 12, 2022',)"
   ]
  },
  {
   "cell_type": "code",
   "execution_count": null,
   "id": "aef35017",
   "metadata": {},
   "outputs": [],
   "source": [
    "ufc_predict('Dalcha Lungiambula','Cody Brundage', 'March 12, 2022', 'March 12, 2022',)"
   ]
  },
  {
   "cell_type": "code",
   "execution_count": null,
   "id": "a22c24d5",
   "metadata": {},
   "outputs": [],
   "source": [
    "ufc_predict('Kris Moutinho','Guido Cannetti', 'March 12, 2022', 'March 12, 2022',)"
   ]
  },
  {
   "cell_type": "code",
   "execution_count": null,
   "id": "4e751d2c",
   "metadata": {},
   "outputs": [],
   "source": [
    "ufc_predict('Tafon Nchukwi','Azamat Murzakanov', 'March 12, 2022', 'March 12, 2022',)"
   ]
  },
  {
   "cell_type": "code",
   "execution_count": null,
   "id": "71859ccd",
   "metadata": {},
   "outputs": [],
   "source": [
    "ufc_predict(ufc_fights['fighter'][i],ufc_fights['opponent'][i],ufc_fights['date'][i],ufc_fights['date'][i])"
   ]
  },
  {
   "cell_type": "code",
   "execution_count": null,
   "id": "fef4d8cf",
   "metadata": {},
   "outputs": [],
   "source": [
    "ufc_predict('Alexander Volkov','Tom Aspinall','March 19, 2022','March 19, 2022')"
   ]
  },
  {
   "cell_type": "code",
   "execution_count": null,
   "id": "014b1169",
   "metadata": {},
   "outputs": [],
   "source": [
    "ufc_predict('Arnold Allen','Dan Hooker','March 19, 2022','March 19, 2022')"
   ]
  },
  {
   "cell_type": "code",
   "execution_count": null,
   "id": "dc16e630",
   "metadata": {},
   "outputs": [],
   "source": [
    "ufc_predict('Paddy Pimblett','Rodrigo Vargas','March 19, 2022','March 19, 2022')"
   ]
  },
  {
   "cell_type": "code",
   "execution_count": null,
   "id": "27022046",
   "metadata": {},
   "outputs": [],
   "source": [
    "ufc_predict('Gunnar Nelson','Takashi Sato','March 19, 2022','March 19, 2022')"
   ]
  },
  {
   "cell_type": "code",
   "execution_count": null,
   "id": "a37b2d68",
   "metadata": {},
   "outputs": [],
   "source": [
    "ufc_predict('Molly McCann','Luana Carolina','March 19, 2022','March 19, 2022')"
   ]
  },
  {
   "cell_type": "code",
   "execution_count": null,
   "id": "66f548c2",
   "metadata": {},
   "outputs": [],
   "source": [
    "ufc_predict('Jai Herbert','Ilia Topuria','March 19, 2022','March 19, 2022')"
   ]
  },
  {
   "cell_type": "code",
   "execution_count": null,
   "id": "6ac0e9f1",
   "metadata": {},
   "outputs": [],
   "source": [
    "ufc_predict('Mike Grundy', 'Makwan Amirkhani', 'March 19, 2022', 'March 19, 2022')"
   ]
  },
  {
   "cell_type": "code",
   "execution_count": null,
   "id": "9137c31c",
   "metadata": {},
   "outputs": [],
   "source": [
    "ufc_predict('Shamil Abdurakhimov', 'Sergei Pavlovich', 'March 19, 2022', 'March 19, 2022')"
   ]
  },
  {
   "cell_type": "code",
   "execution_count": null,
   "id": "e89b5a74",
   "metadata": {},
   "outputs": [],
   "source": [
    "ufc_predict('Nikita Krylov', 'Paul Craig', 'March 19, 2022', 'March 19, 2022')"
   ]
  },
  {
   "cell_type": "code",
   "execution_count": null,
   "id": "f03fee07",
   "metadata": {},
   "outputs": [],
   "source": [
    "ufc_predict('Jack Shore', 'Timur Valiev', 'March 19, 2022', 'March 19, 2022')"
   ]
  },
  {
   "cell_type": "code",
   "execution_count": null,
   "id": "915998de",
   "metadata": {},
   "outputs": [],
   "source": [
    "ufc_predict('Cory McKenna', 'Elise Reed', 'March 19, 2022', 'March 19, 2022')"
   ]
  },
  {
   "cell_type": "code",
   "execution_count": null,
   "id": "b4a3239f",
   "metadata": {},
   "outputs": [],
   "source": [
    "ufc_predict('Nathaniel Wood', 'Vince Morales', 'March 19, 2022', 'March 19, 2022')"
   ]
  },
  {
   "cell_type": "code",
   "execution_count": null,
   "id": "cce92a2d",
   "metadata": {},
   "outputs": [],
   "source": [
    "ufc_predict('Muhammad Mokaev', 'Cody Durden', 'March 19, 2022', 'March 19, 2022')"
   ]
  },
  {
   "cell_type": "code",
   "execution_count": null,
   "id": "63f7df3c",
   "metadata": {},
   "outputs": [],
   "source": [
    "ufc_predict('Cody Garbrandt','Raphael Assuncao', 'March 5, 2022', 'March 5, 2022')"
   ]
  },
  {
   "cell_type": "code",
   "execution_count": null,
   "id": "22c73a38",
   "metadata": {},
   "outputs": [],
   "source": [
    "ufc_predict('Jon Jones','Jon Jones', 'March 5, 2022', 'March 5, 2022')"
   ]
  },
  {
   "cell_type": "code",
   "execution_count": null,
   "id": "71eef91a",
   "metadata": {},
   "outputs": [],
   "source": [
    "ufc_predict('Francis Ngannou','Francis Ngannou', 'March 5, 2022', 'March 5, 2022')"
   ]
  },
  {
   "cell_type": "code",
   "execution_count": null,
   "id": "43309afa",
   "metadata": {},
   "outputs": [],
   "source": [
    "ufc_predict('Randy Couture','Francis Ngannou', 'March 5, 2012', 'March 5, 2022')"
   ]
  },
  {
   "cell_type": "code",
   "execution_count": null,
   "id": "761e3065",
   "metadata": {},
   "outputs": [],
   "source": [
    "ufc_predict('Roy Nelson','Anthony Johnson', 'March 5, 2012', 'March 5, 2022')"
   ]
  },
  {
   "cell_type": "code",
   "execution_count": null,
   "id": "117a155e",
   "metadata": {},
   "outputs": [],
   "source": [
    "ufc_prediction_tuple('Khabib Nurmagomedov','Colby Covington', 'March 1, 2022', 'March 1, 2022')"
   ]
  },
  {
   "cell_type": "code",
   "execution_count": null,
   "id": "12e19ddf",
   "metadata": {},
   "outputs": [],
   "source": [
    "fighter_reach('Conor McGregor')"
   ]
  },
  {
   "cell_type": "code",
   "execution_count": null,
   "id": "04a7048c",
   "metadata": {},
   "outputs": [],
   "source": [
    "fighter_reach('Colby Covington')"
   ]
  },
  {
   "cell_type": "code",
   "execution_count": null,
   "id": "375096cf",
   "metadata": {},
   "outputs": [],
   "source": [
    "ufc_predict('Colby Covington','Khabib Nurmagomedov', 'March 5, 2022', 'March 5, 2022')"
   ]
  },
  {
   "cell_type": "code",
   "execution_count": null,
   "id": "973d2fc9",
   "metadata": {},
   "outputs": [],
   "source": [
    "ufc_predict('Khabib Nurmagomedov','Colby Covington', 'March 5, 2022', 'March 5, 2022')"
   ]
  },
  {
   "cell_type": "code",
   "execution_count": null,
   "id": "f5b505e5",
   "metadata": {},
   "outputs": [],
   "source": [
    "give_odds('Khabib Nurmagomedov','Colby Covington', 'March 5, 2022', 'March 5, 2022')"
   ]
  },
  {
   "cell_type": "code",
   "execution_count": null,
   "id": "b7fe6e60",
   "metadata": {},
   "outputs": [],
   "source": [
    "give_odds('Colby Covington','Khabib Nurmagomedov', 'March 5, 2022', 'March 5, 2022')"
   ]
  },
  {
   "cell_type": "code",
   "execution_count": null,
   "id": "877574f8",
   "metadata": {},
   "outputs": [],
   "source": [
    "presigmoid_value('Khabib Nurmagomedov','Colby Covington', 'March 5, 2022', 'March 5, 2022')"
   ]
  },
  {
   "cell_type": "code",
   "execution_count": null,
   "id": "c06c9c16",
   "metadata": {},
   "outputs": [],
   "source": [
    "presigmoid_value('Colby Covington','Khabib Nurmagomedov', 'March 5, 2022', 'March 5, 2022')"
   ]
  },
  {
   "cell_type": "code",
   "execution_count": 44,
   "id": "0c35c78b",
   "metadata": {},
   "outputs": [
    {
     "data": {
      "text/plain": [
       "array([ 0.17859825, -0.35054352,  0.12181295, -0.03852547,  0.02811983,\n",
       "       -0.09544947, -0.17294226, -0.01178212, -0.04884282, -0.06694046,\n",
       "       -0.09911792, -0.01679279, -0.05518309,  0.63325912,  0.0178385 ,\n",
       "       -0.06800284])"
      ]
     },
     "execution_count": 44,
     "metadata": {},
     "output_type": "execute_result"
    }
   ],
   "source": [
    "theta[0]"
   ]
  },
  {
   "cell_type": "code",
   "execution_count": 49,
   "id": "03a68dd0",
   "metadata": {},
   "outputs": [
    {
     "name": "stdout",
     "output_type": "stream",
     "text": [
      "[0.17859825116398007, -0.3505435198180958, 0.12181294852382875, -0.03852546618119, 0.028119831866447478, -0.0954494690106995, -0.17294225897067542, -0.01178211879983269, -0.04884281549938634, -0.06694046241210015, -0.09911791574536293, -0.016792785997147376, -0.05518309320558962, 0.6332591192366879, 0.01783849788772189, -0.06800283810451697]\n"
     ]
    }
   ],
   "source": [
    "import json\n",
    "\n",
    "theta_values = list(theta[0])\n",
    "jsonStr = json.dumps(theta_values)\n",
    "print(jsonStr)"
   ]
  },
  {
   "cell_type": "code",
   "execution_count": 58,
   "id": "2b531a10",
   "metadata": {},
   "outputs": [],
   "source": [
    "import json\n",
    "with open('theta.json', 'w') as outfile:\n",
    "    json.dump(list(theta[0]), outfile)"
   ]
  },
  {
   "cell_type": "code",
   "execution_count": 55,
   "id": "16fd4239",
   "metadata": {},
   "outputs": [
    {
     "data": {
      "text/plain": [
       "-0.02143379915277674"
      ]
     },
     "execution_count": 55,
     "metadata": {},
     "output_type": "execute_result"
    }
   ],
   "source": [
    "b"
   ]
  },
  {
   "cell_type": "code",
   "execution_count": 59,
   "id": "d4208967",
   "metadata": {},
   "outputs": [],
   "source": [
    "import json\n",
    "with open('intercept.json', 'w') as outfile:\n",
    "    json.dump(b, outfile)"
   ]
  },
  {
   "cell_type": "code",
   "execution_count": 61,
   "id": "afaabf5e",
   "metadata": {},
   "outputs": [],
   "source": [
    "nums=[1,2,3,4]"
   ]
  },
  {
   "cell_type": "code",
   "execution_count": 62,
   "id": "0def2c5d",
   "metadata": {},
   "outputs": [
    {
     "ename": "TypeError",
     "evalue": "cannot unpack non-iterable int object",
     "output_type": "error",
     "traceback": [
      "\u001b[0;31m---------------------------------------------------------------------------\u001b[0m",
      "\u001b[0;31mTypeError\u001b[0m                                 Traceback (most recent call last)",
      "Input \u001b[0;32mIn [62]\u001b[0m, in \u001b[0;36m<module>\u001b[0;34m\u001b[0m\n\u001b[0;32m----> 1\u001b[0m [[n,k,l] \u001b[38;5;28;01mfor\u001b[39;00m n,k,l \u001b[38;5;129;01min\u001b[39;00m nums]\n",
      "Input \u001b[0;32mIn [62]\u001b[0m, in \u001b[0;36m<listcomp>\u001b[0;34m(.0)\u001b[0m\n\u001b[0;32m----> 1\u001b[0m [[n,k,l] \u001b[38;5;28;01mfor\u001b[39;00m n,k,l \u001b[38;5;129;01min\u001b[39;00m nums]\n",
      "\u001b[0;31mTypeError\u001b[0m: cannot unpack non-iterable int object"
     ]
    }
   ],
   "source": [
    "[[n,k,l] for n,k,l in nums]"
   ]
  },
  {
   "cell_type": "code",
   "execution_count": 67,
   "id": "c4de73f1",
   "metadata": {},
   "outputs": [
    {
     "data": {
      "text/plain": [
       "False"
      ]
     },
     "execution_count": 67,
     "metadata": {},
     "output_type": "execute_result"
    }
   ],
   "source": [
    "not (1 in [1,2])"
   ]
  },
  {
   "cell_type": "code",
   "execution_count": 69,
   "id": "36993ee7",
   "metadata": {},
   "outputs": [],
   "source": [
    "def threeSum(nums):\n",
    "    from itertools import combinations\n",
    "    triples = [trip for trip in list(combinations(range(len(nums)), 3)) if trip[0]<trip[1]<trip[2]]\n",
    "    overcount = [[nums[trip[0]],nums[trip[1]],nums[trip[2]]] for trip in triples if (nums[trip[0]]+nums[trip[1]]+nums[trip[2]]==0)]\n",
    "    finalcount = [overcount[i] for i in range(len(overcount)) if not (set(overcount[i]) in [set(overcount[j]) for j in range(i)])]\n",
    "    return finalcount"
   ]
  },
  {
   "cell_type": "code",
   "execution_count": 70,
   "id": "1bac75f6",
   "metadata": {},
   "outputs": [
    {
     "data": {
      "text/plain": [
       "[[-1, 0, 1], [-1, 2, -1]]"
      ]
     },
     "execution_count": 70,
     "metadata": {},
     "output_type": "execute_result"
    }
   ],
   "source": [
    "threeSum([-1,0,1,2,-1,-4])"
   ]
  },
  {
   "cell_type": "code",
   "execution_count": 71,
   "id": "6acda423",
   "metadata": {},
   "outputs": [
    {
     "data": {
      "text/plain": [
       "[[0, 7, -7],\n",
       " [0, -4, 4],\n",
       " [0, 0, 0],\n",
       " [0, 14, -14],\n",
       " [0, -6, 6],\n",
       " [0, -12, 12],\n",
       " [0, 11, -11],\n",
       " [0, 9, -9],\n",
       " [0, -10, 10],\n",
       " [0, 8, -8],\n",
       " [0, 1, -1],\n",
       " [0, 2, -2],\n",
       " [0, 13, -13],\n",
       " [0, -3, 3],\n",
       " [7, -4, -3],\n",
       " [7, -6, -1],\n",
       " [7, -12, 5],\n",
       " [7, 4, -11],\n",
       " [7, 7, -14],\n",
       " [7, -10, 3],\n",
       " [7, 8, -15],\n",
       " [7, 6, -13],\n",
       " [7, -9, 2],\n",
       " [7, 1, -8],\n",
       " [-4, -7, 11],\n",
       " [-4, 14, -10],\n",
       " [-4, -6, 10],\n",
       " [-4, -4, 8],\n",
       " [-4, 5, -1],\n",
       " [-4, 6, -2],\n",
       " [-4, -9, 13],\n",
       " [-4, 1, 3],\n",
       " [-4, -8, 12],\n",
       " [-4, 2, 2],\n",
       " [-7, 14, -7],\n",
       " [-7, -6, 13],\n",
       " [-7, 4, 3],\n",
       " [-7, 9, -2],\n",
       " [-7, 8, -1],\n",
       " [-7, 10, -3],\n",
       " [-7, 5, 2],\n",
       " [-7, 6, 1],\n",
       " [14, -6, -8],\n",
       " [14, -12, -2],\n",
       " [14, -11, -3],\n",
       " [14, 1, -15],\n",
       " [14, -1, -13],\n",
       " [-6, 4, 2],\n",
       " [-6, 9, -3],\n",
       " [-6, 8, -2],\n",
       " [-6, 5, 1],\n",
       " [-6, -6, 12],\n",
       " [-12, 11, 1],\n",
       " [-12, 4, 8],\n",
       " [-12, 9, 3],\n",
       " [-12, 10, 2],\n",
       " [-12, 6, 6],\n",
       " [-12, -1, 13],\n",
       " [11, 4, -15],\n",
       " [11, -10, -1],\n",
       " [11, -9, -2],\n",
       " [11, -8, -3],\n",
       " [11, 2, -13],\n",
       " [11, 3, -14],\n",
       " [4, 9, -13],\n",
       " [4, 4, -8],\n",
       " [4, -10, 6],\n",
       " [4, 10, -14],\n",
       " [4, 5, -9],\n",
       " [4, -1, -3],\n",
       " [4, -2, -2],\n",
       " [9, -10, 1],\n",
       " [9, 5, -14],\n",
       " [9, 6, -15],\n",
       " [9, -11, 2],\n",
       " [9, -8, -1],\n",
       " [-10, 8, 2],\n",
       " [-10, 5, 5],\n",
       " [-10, 13, -3],\n",
       " [-10, -2, 12],\n",
       " [8, 5, -13],\n",
       " [8, 6, -14],\n",
       " [8, -9, 1],\n",
       " [8, -11, 3],\n",
       " [10, 5, -15],\n",
       " [10, -9, -1],\n",
       " [10, -11, 1],\n",
       " [10, -8, -2],\n",
       " [10, -13, 3],\n",
       " [5, 6, -11],\n",
       " [5, -8, 3],\n",
       " [5, -2, -3],\n",
       " [6, -9, 3],\n",
       " [6, -8, 2],\n",
       " [6, -3, -3],\n",
       " [-9, -3, 12],\n",
       " [-11, -1, 12],\n",
       " [-11, 13, -2],\n",
       " [1, 2, -3],\n",
       " [1, 13, -14],\n",
       " [1, -2, 1],\n",
       " [1, -13, 12],\n",
       " [-1, 2, -1],\n",
       " [-1, -2, 3],\n",
       " [2, 13, -15],\n",
       " [2, -14, 12],\n",
       " [-15, 3, 12]]"
      ]
     },
     "execution_count": 71,
     "metadata": {},
     "output_type": "execute_result"
    }
   ],
   "source": [
    "threeSum([0,7,-4,-7,0,14,-6,-4,-12,11,4,9,7,4,-10,8,10,5,4,14,6,0,-9,5,6,6,-11,1,-8,-1,2,-1,13,5,-1,-2,4,9,9,-1,-3,-1,-7,11,10,-2,-4,5,10,-15,-4,-6,-8,2,14,13,-7,11,-9,-8,-13,0,-1,-15,-10,13,-2,1,-1,-15,7,3,-9,7,-1,-14,-10,2,6,8,-6,-12,-13,1,-3,8,-9,-2,4,-2,-3,6,5,11,6,11,10,12,-11,-14])"
   ]
  },
  {
   "cell_type": "code",
   "execution_count": 72,
   "id": "a137da07",
   "metadata": {},
   "outputs": [
    {
     "data": {
      "text/plain": [
       "[-5, -2, 0, 2, 3, 5]"
      ]
     },
     "execution_count": 72,
     "metadata": {},
     "output_type": "execute_result"
    }
   ],
   "source": [
    "nums=[2,0,5,-2,3,-5]\n",
    "nums.sort()\n",
    "nums"
   ]
  },
  {
   "cell_type": "code",
   "execution_count": 74,
   "id": "774224da",
   "metadata": {},
   "outputs": [
    {
     "data": {
      "text/plain": [
       "[(0, 1, 2),\n",
       " (0, 1, 3),\n",
       " (0, 1, 4),\n",
       " (0, 1, 5),\n",
       " (0, 2, 3),\n",
       " (0, 2, 4),\n",
       " (0, 2, 5),\n",
       " (0, 3, 4),\n",
       " (0, 3, 5),\n",
       " (0, 4, 5),\n",
       " (1, 2, 3),\n",
       " (1, 2, 4),\n",
       " (1, 2, 5),\n",
       " (1, 3, 4),\n",
       " (1, 3, 5),\n",
       " (1, 4, 5)]"
      ]
     },
     "execution_count": 74,
     "metadata": {},
     "output_type": "execute_result"
    }
   ],
   "source": [
    "from itertools import combinations\n",
    "triples = [trip for trip in list(combinations(range(len(nums)), 3)) if trip[0]<trip[1]<trip[2] and nums[trip[0]]<0]\n",
    "triples"
   ]
  },
  {
   "cell_type": "code",
   "execution_count": 75,
   "id": "dc454344",
   "metadata": {},
   "outputs": [],
   "source": [
    "bin_num = '{:032b}'.format(100)"
   ]
  },
  {
   "cell_type": "code",
   "execution_count": 76,
   "id": "a2bb90e4",
   "metadata": {},
   "outputs": [
    {
     "data": {
      "text/plain": [
       "'00000000000000000000000001100100'"
      ]
     },
     "execution_count": 76,
     "metadata": {},
     "output_type": "execute_result"
    }
   ],
   "source": [
    "bin_num"
   ]
  },
  {
   "cell_type": "code",
   "execution_count": 79,
   "id": "4f184c54",
   "metadata": {},
   "outputs": [
    {
     "data": {
      "text/plain": [
       "3"
      ]
     },
     "execution_count": 79,
     "metadata": {},
     "output_type": "execute_result"
    }
   ],
   "source": [
    "sum([int(bin_num[i]) for i in range(len(bin_num))])"
   ]
  },
  {
   "cell_type": "code",
   "execution_count": 81,
   "id": "56b00b23",
   "metadata": {},
   "outputs": [
    {
     "data": {
      "text/plain": [
       "2"
      ]
     },
     "execution_count": 81,
     "metadata": {},
     "output_type": "execute_result"
    }
   ],
   "source": [
    "range(2,5)[0]"
   ]
  },
  {
   "cell_type": "code",
   "execution_count": 87,
   "id": "47a18a17",
   "metadata": {},
   "outputs": [
    {
     "data": {
      "text/plain": [
       "6"
      ]
     },
     "execution_count": 87,
     "metadata": {},
     "output_type": "execute_result"
    }
   ],
   "source": [
    "range(6,2,-1)[0]"
   ]
  },
  {
   "cell_type": "code",
   "execution_count": 90,
   "id": "483d43fb",
   "metadata": {},
   "outputs": [
    {
     "data": {
      "text/plain": [
       "0"
      ]
     },
     "execution_count": 90,
     "metadata": {},
     "output_type": "execute_result"
    }
   ],
   "source": [
    "range(6,-1,-1)[-1]"
   ]
  },
  {
   "cell_type": "code",
   "execution_count": 101,
   "id": "62eefb37",
   "metadata": {},
   "outputs": [
    {
     "name": "stdout",
     "output_type": "stream",
     "text": [
      "0 1 2\n",
      "1 1 2\n"
     ]
    }
   ],
   "source": [
    "nums=[1,2,1]\n",
    "nums.sort()\n",
    "for k in range(len(nums)-1,1,-1):\n",
    "    for i in range(k-2,-1,-1):\n",
    "        for j in range(k-1,i,-1):\n",
    "            print(i,j,k)\n",
    "            print(nums[i],nums[j],nums[k])\n",
    "            if nums[i]+nums[j]>nums[k]:\n",
    "                print(nums[i]+nums[j]>nums[k])\n"
   ]
  },
  {
   "cell_type": "code",
   "execution_count": 102,
   "id": "03b23a65",
   "metadata": {},
   "outputs": [
    {
     "data": {
      "text/plain": [
       "[1, 3]"
      ]
     },
     "execution_count": 102,
     "metadata": {},
     "output_type": "execute_result"
    }
   ],
   "source": [
    "pt=[1,2]\n",
    "pt[1]+=1\n",
    "pt"
   ]
  },
  {
   "cell_type": "code",
   "execution_count": 103,
   "id": "21798565",
   "metadata": {},
   "outputs": [
    {
     "data": {
      "text/plain": [
       "['a', 'b', 'c']"
      ]
     },
     "execution_count": 103,
     "metadata": {},
     "output_type": "execute_result"
    }
   ],
   "source": [
    "list('abc')"
   ]
  },
  {
   "cell_type": "code",
   "execution_count": 105,
   "id": "4e6199e5",
   "metadata": {},
   "outputs": [
    {
     "data": {
      "text/plain": [
       "[2, 3, 4, 5]"
      ]
     },
     "execution_count": 105,
     "metadata": {},
     "output_type": "execute_result"
    }
   ],
   "source": [
    "nums=[1,2,3,4,5,6,7,8]\n",
    "nums[1:1+3+1]"
   ]
  },
  {
   "cell_type": "code",
   "execution_count": 110,
   "id": "c8f41d14",
   "metadata": {},
   "outputs": [
    {
     "data": {
      "text/plain": [
       "2"
      ]
     },
     "execution_count": 110,
     "metadata": {},
     "output_type": "execute_result"
    }
   ],
   "source": [
    "range(2,2+3+1)[0]"
   ]
  },
  {
   "cell_type": "code",
   "execution_count": 112,
   "id": "14d74a00",
   "metadata": {},
   "outputs": [
    {
     "ename": "IndexError",
     "evalue": "range object index out of range",
     "output_type": "error",
     "traceback": [
      "\u001b[0;31m---------------------------------------------------------------------------\u001b[0m",
      "\u001b[0;31mIndexError\u001b[0m                                Traceback (most recent call last)",
      "Input \u001b[0;32mIn [112]\u001b[0m, in \u001b[0;36m<module>\u001b[0;34m\u001b[0m\n\u001b[0;32m----> 1\u001b[0m \u001b[38;5;28;43mrange\u001b[39;49m\u001b[43m(\u001b[49m\u001b[38;5;241;43m0\u001b[39;49m\u001b[43m)\u001b[49m\u001b[43m[\u001b[49m\u001b[38;5;241;43m0\u001b[39;49m\u001b[43m]\u001b[49m\n",
      "\u001b[0;31mIndexError\u001b[0m: range object index out of range"
     ]
    }
   ],
   "source": [
    "range(0)[0]"
   ]
  },
  {
   "cell_type": "code",
   "execution_count": 132,
   "id": "e95cd6de",
   "metadata": {},
   "outputs": [
    {
     "name": "stdout",
     "output_type": "stream",
     "text": [
      "0 5\n",
      "1 4\n",
      "2 3\n",
      "3 2\n",
      "4 1\n"
     ]
    }
   ],
   "source": [
    "for i,x in enumerate([5,4,3,2,1]):\n",
    "    print(i,x)"
   ]
  },
  {
   "cell_type": "code",
   "execution_count": 120,
   "id": "23fae022",
   "metadata": {},
   "outputs": [],
   "source": [
    "def containsNearbyDuplicate(nums,k):\n",
    "    hash_map = {}\n",
    "    for i, num in enumerate(nums):\n",
    "        if num in hash_map and i - hash_map[num] <= k:\n",
    "            return True\n",
    "        else:\n",
    "            hash_map[num] = i\n",
    "    return False"
   ]
  },
  {
   "cell_type": "code",
   "execution_count": 130,
   "id": "a29c898c",
   "metadata": {},
   "outputs": [
    {
     "data": {
      "text/plain": [
       "False"
      ]
     },
     "execution_count": 130,
     "metadata": {},
     "output_type": "execute_result"
    }
   ],
   "source": [
    "nums=[9,8,7,6,5]\n",
    "k=4\n",
    "containsNearbyDuplicate(nums,k)"
   ]
  },
  {
   "cell_type": "code",
   "execution_count": 126,
   "id": "dc28add8",
   "metadata": {},
   "outputs": [],
   "source": [
    "def containsNearbyDuplicate(nums,k):\n",
    "    d = {}\n",
    "    for i in nums:\n",
    "        if i in d and i - d[i] <= k:\n",
    "            return True\n",
    "        else:\n",
    "            d[i] = i\n",
    "    return False"
   ]
  },
  {
   "cell_type": "code",
   "execution_count": 129,
   "id": "ffbdfc07",
   "metadata": {},
   "outputs": [
    {
     "data": {
      "text/plain": [
       "True"
      ]
     },
     "execution_count": 129,
     "metadata": {},
     "output_type": "execute_result"
    }
   ],
   "source": [
    "nums=[1,2,3,4,5,6,7,8,5,4]\n",
    "k=2\n",
    "containsNearbyDuplicate(nums,k)"
   ]
  },
  {
   "cell_type": "code",
   "execution_count": 137,
   "id": "7897bc0c",
   "metadata": {},
   "outputs": [
    {
     "data": {
      "text/plain": [
       "[0, 1]"
      ]
     },
     "execution_count": 137,
     "metadata": {},
     "output_type": "execute_result"
    }
   ],
   "source": [
    "nums=[1]\n",
    "sums=[]\n",
    "for i in range(len(nums)):\n",
    "    for j in range(i,len(nums)+1):\n",
    "        sums.append(sum(nums[i:j]))\n",
    "sums"
   ]
  },
  {
   "cell_type": "code",
   "execution_count": 138,
   "id": "462dd777",
   "metadata": {},
   "outputs": [
    {
     "data": {
      "text/plain": [
       "[1]"
      ]
     },
     "execution_count": 138,
     "metadata": {},
     "output_type": "execute_result"
    }
   ],
   "source": [
    "nums[0:1]"
   ]
  },
  {
   "cell_type": "code",
   "execution_count": 140,
   "id": "85cd128b",
   "metadata": {},
   "outputs": [
    {
     "ename": "AttributeError",
     "evalue": "'str' object has no attribute 'append'",
     "output_type": "error",
     "traceback": [
      "\u001b[0;31m---------------------------------------------------------------------------\u001b[0m",
      "\u001b[0;31mAttributeError\u001b[0m                            Traceback (most recent call last)",
      "Input \u001b[0;32mIn [140]\u001b[0m, in \u001b[0;36m<module>\u001b[0;34m\u001b[0m\n\u001b[1;32m      1\u001b[0m string\u001b[38;5;241m=\u001b[39m\u001b[38;5;124m'\u001b[39m\u001b[38;5;124m'\u001b[39m\n\u001b[0;32m----> 2\u001b[0m \u001b[43mstring\u001b[49m\u001b[38;5;241;43m.\u001b[39;49m\u001b[43mappend\u001b[49m(\u001b[38;5;124m'\u001b[39m\u001b[38;5;124ma\u001b[39m\u001b[38;5;124m'\u001b[39m)\n\u001b[1;32m      3\u001b[0m string\n",
      "\u001b[0;31mAttributeError\u001b[0m: 'str' object has no attribute 'append'"
     ]
    }
   ],
   "source": [
    "string=''\n",
    "string.\n",
    "string"
   ]
  },
  {
   "cell_type": "code",
   "execution_count": 143,
   "id": "7e8aeb37",
   "metadata": {},
   "outputs": [
    {
     "name": "stdout",
     "output_type": "stream",
     "text": [
      "f\n",
      "l\n",
      "o\n"
     ]
    },
    {
     "data": {
      "text/plain": [
       "'flo'"
      ]
     },
     "execution_count": 143,
     "metadata": {},
     "output_type": "execute_result"
    }
   ],
   "source": [
    "strs=['flower','flow','flour']\n",
    "common=''\n",
    "while True:\n",
    "    if len(set([s[0] for s in strs]))==1:\n",
    "        common+=strs[0][0]\n",
    "        print(strs[0][0])\n",
    "        strs=[string[1:] for string in strs]\n",
    "    else:\n",
    "        break\n",
    "common"
   ]
  },
  {
   "cell_type": "code",
   "execution_count": null,
   "id": "39a98215",
   "metadata": {},
   "outputs": [],
   "source": []
  }
 ],
 "metadata": {
  "kernelspec": {
   "display_name": "Python 3 (ipykernel)",
   "language": "python",
   "name": "python3"
  },
  "language_info": {
   "codemirror_mode": {
    "name": "ipython",
    "version": 3
   },
   "file_extension": ".py",
   "mimetype": "text/x-python",
   "name": "python",
   "nbconvert_exporter": "python",
   "pygments_lexer": "ipython3",
   "version": "3.9.10"
  }
 },
 "nbformat": 4,
 "nbformat_minor": 5
}
