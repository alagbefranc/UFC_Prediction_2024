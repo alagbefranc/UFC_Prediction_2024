{
 "cells": [
  {
   "cell_type": "code",
   "execution_count": 1,
   "id": "11d6c236",
   "metadata": {},
   "outputs": [],
   "source": [
    "from graph import Graph, Graph3D\n",
    "from functions import *\n",
    "import pandas as pd\n",
    "import numpy as np\n",
    "ufc_fights = pd.read_csv('ufc_fights.csv',low_memory=False)\n",
    "ufc_fights_graph = pd.read_csv('ufc_fights_crap.csv',low_memory=False)\n",
    "odd_indices = range(1,len(ufc_fights_graph.index),2)\n",
    "ufc_fights_graph = ufc_fights_graph.drop(odd_indices)\n",
    "ufc_fights_graph = ufc_fights_graph[['fighter', 'opponent', 'method', 'date']]\n",
    "ufc_fights_graph = ufc_fights_graph.reset_index(drop=True);\n",
    "ufc_wins_list=[]\n",
    "\n",
    "for i in ufc_fights_graph.index:\n",
    "    temp_list = []\n",
    "    temp_list.append(ufc_fights_graph['fighter'][i])\n",
    "    temp_list.append(ufc_fights_graph['opponent'][i])\n",
    "    temp_list.append(ufc_fights_graph['date'][i])\n",
    "    ufc_wins_list.append(temp_list)\n",
    "    \n",
    "def fight_math(fighter,opponent,date):\n",
    "    fighter_advantage = 0\n",
    "    ufc_wins_list_l5y = [fight for fight in ufc_wins_list if 0<time_diff(fight[2],date)<years*365]\n",
    "    fighter_wins = [fight[1] for fight in ufc_wins_list_l5y if fight[0]==fighter]\n",
    "    fighter_wins.append(fighter)\n",
    "    fighter_wins_wins = [fight[1] for fight in ufc_wins_list_l5y if fight[0] in fighter_wins]\n",
    "    relevant_wins = list(set(fighter_wins+fighter_wins_wins))\n",
    "    fight_math_wins = [fight for fight in ufc_wins_list_l5y if (fight[0] in relevant_wins and fight[1]==opponent)]\n",
    "    fighter_advantage+=len(fight_math_wins)\n",
    "    return fighter_advantage\n",
    "\n",
    "def fight_math_diff(fighter,opponent,date):\n",
    "    return fight_math(fighter,opponent,date)-fight_math(opponent,fighter,date)\n",
    "fight_math_diff_vect = np.vectorize(fight_math_diff)"
   ]
  },
  {
   "cell_type": "code",
   "execution_count": null,
   "id": "4088b03f",
   "metadata": {},
   "outputs": [
    {
     "name": "stdout",
     "output_type": "stream",
     "text": [
      "1-year fight math accuracy: 0.7156862745098039\n",
      "1-percentage of the time fight math is nonzero: 0.015636976851142112\n"
     ]
    }
   ],
   "source": [
    "for i in range(1,10):    \n",
    "    years=1\n",
    "    ufc_fights[str(years)+'-fight_math'] = fight_math_diff_vect(ufc_fights['fighter'],\n",
    "                                               ufc_fights['opponent'],\n",
    "                                               ufc_fights['date'])\n",
    "    #gives all indices when fight math guesses correct\n",
    "    fight_math_correct = [i for i in ufc_fights.index if \n",
    "                          ((ufc_fights[str(years)+'-fight_math'][i]>0 and ufc_fights['result'][i]=='W') or \n",
    "                          (ufc_fights[str(years)+'-fight_math'][i]<0 and ufc_fights['result'][i]=='L'))]\n",
    "    #gives all indices when fight math is nonzero\n",
    "    fight_math_relevant = [i for i in ufc_fights.index if ufc_fights[str(years)+'-fight_math'][i]!=0]\n",
    "\n",
    "    # years = 5 ----------> .578\n",
    "    #percentage of the time that fight math guesses the correct fighter when nonzero\n",
    "    print(str(years)+'-year fight math accuracy: '+str(len(fight_math_correct)/len(fight_math_relevant)))\n",
    "\n",
    "    # years = 5 ----------> .154\n",
    "    #percentage of the time fight math is nonzero\n",
    "    print(str(years)+'-percentage of the time fight math is nonzero: '\n",
    "          +str(len(fight_math_relevant)/len(ufc_fights.index)))\n",
    "    \n",
    "    "
   ]
  },
  {
   "cell_type": "code",
   "execution_count": null,
   "id": "2501c5c2",
   "metadata": {},
   "outputs": [],
   "source": [
    "#see if these new columns perform better together than apart"
   ]
  },
  {
   "cell_type": "code",
   "execution_count": null,
   "id": "d5e15992",
   "metadata": {},
   "outputs": [],
   "source": []
  },
  {
   "cell_type": "code",
   "execution_count": null,
   "id": "ff5730b4",
   "metadata": {},
   "outputs": [],
   "source": []
  }
 ],
 "metadata": {
  "kernelspec": {
   "display_name": "Python 3 (ipykernel)",
   "language": "python",
   "name": "python3"
  },
  "language_info": {
   "codemirror_mode": {
    "name": "ipython",
    "version": 3
   },
   "file_extension": ".py",
   "mimetype": "text/x-python",
   "name": "python",
   "nbconvert_exporter": "python",
   "pygments_lexer": "ipython3",
   "version": "3.9.10"
  }
 },
 "nbformat": 4,
 "nbformat_minor": 5
}
