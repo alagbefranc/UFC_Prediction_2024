{
 "cells": [
  {
   "cell_type": "code",
   "execution_count": 1,
   "metadata": {},
   "outputs": [
    {
     "data": {
      "text/plain": [
       "'/Users/alexchandler/UFC_Prediction_2022'"
      ]
     },
     "execution_count": 1,
     "metadata": {},
     "output_type": "execute_result"
    }
   ],
   "source": [
    "#needed after restructuring of directory\n",
    "import os\n",
    "os.chdir('/Users/alexchandler/UFC_Prediction_2022')\n",
    "os.getcwd()"
   ]
  },
  {
   "cell_type": "code",
   "execution_count": 2,
   "metadata": {},
   "outputs": [],
   "source": [
    "#getting dependencies\n",
    "import pandas as pd\n",
    "pd.options.mode.chained_assignment = None  # default='warn' (disables SettingWithCopyWarning)\n",
    "pd.set_option('display.max_rows', None)\n",
    "pd.set_option('display.max_columns', None)\n",
    "import numpy as np\n",
    "from datetime import datetime\n",
    "from datetime import date\n",
    "import matplotlib.pyplot as plt\n",
    "import random\n",
    "import sklearn\n",
    "import scipy\n",
    "from sklearn.linear_model import LogisticRegression\n",
    "from sklearn.ensemble import RandomForestClassifier\n",
    "from sklearn.neural_network import MLPClassifier\n",
    "from sklearn.model_selection import train_test_split, KFold, cross_val_score\n",
    "from sklearn import preprocessing\n",
    "from sklearn.preprocessing import PolynomialFeatures\n",
    "from sklearn.feature_selection import VarianceThreshold\n",
    "import itertools\n",
    "#this imports all of the functions from the file functions.py\n",
    "os.chdir('/Users/alexchandler/UFC_Prediction_2022/src')\n",
    "from functions import *\n",
    "os.chdir('/Users/alexchandler/UFC_Prediction_2022')#importing csv fight data and saving as dataframes\n",
    "ufc_fights_winner = pd.read_csv('src/models/buildingMLModel/data/processed/ufc_fights.csv',low_memory=False)"
   ]
  },
  {
   "cell_type": "code",
   "execution_count": 3,
   "metadata": {},
   "outputs": [],
   "source": [
    "#there are some issues with how names are saved\n",
    "#it gets saved as Joanne Wood for some reason\n",
    "for i in range(len(ufc_fights_winner['fighter'])):\n",
    "    if ufc_fights_winner['fighter'][i]=='Joanne Wood':\n",
    "        ufc_fights_winner['fighter'][i]='Joanne Calderwood'\n",
    "    if ufc_fights_winner['opponent'][i]=='Joanne Wood':\n",
    "        ufc_fights_winner['opponent'][i]='Joanne Calderwood'"
   ]
  },
  {
   "cell_type": "code",
   "execution_count": 4,
   "metadata": {},
   "outputs": [
    {
     "data": {
      "text/plain": [
       "'Yan Xiaonan'"
      ]
     },
     "execution_count": 4,
     "metadata": {},
     "output_type": "execute_result"
    }
   ],
   "source": [
    "#assumes first and last name\n",
    "def swap_name(name):\n",
    "    first_name=''\n",
    "    last_name=''\n",
    "    for i in range(len(name)):\n",
    "        if name[i]==' ':\n",
    "            first_name += name[0:i]\n",
    "            last_name += name[i+1:]\n",
    "            break\n",
    "    return last_name+' '+first_name\n",
    "\n",
    "swap_name('Xiaonan Yan')"
   ]
  },
  {
   "cell_type": "code",
   "execution_count": 5,
   "metadata": {},
   "outputs": [
    {
     "data": {
      "text/plain": [
       "[]"
      ]
     },
     "execution_count": 5,
     "metadata": {},
     "output_type": "execute_result"
    }
   ],
   "source": [
    "#this finds all names in ufcfightscrap which are sometimes written in the wrong order \n",
    "#e.g. ('Weili Zhang', 'Zhang Weili')\n",
    "names = [name for name in ufcfightscrap['fighter']]\n",
    "opponent_names = [name for name in ufcfightscrap['opponent']]\n",
    "names.extend(opponent_names)\n",
    "names_swapped = [swap_name(name) for name in names]\n",
    "errors=[name for name in names if name in names_swapped]\n",
    "names_to_fix = list(set(errors))\n",
    "pairs = [[name,swap_name(name)] for name in names_to_fix]\n",
    "sorted_pairs = []\n",
    "for pair in pairs:\n",
    "    pair.sort()\n",
    "    sorted_pairs.append(tuple(pair))\n",
    "error_pairs = list(set(sorted_pairs))\n",
    "error_pairs"
   ]
  },
  {
   "cell_type": "code",
   "execution_count": 6,
   "metadata": {},
   "outputs": [],
   "source": [
    "#fixing all swapped names\n",
    "#setting name so that first name is before last name in lex order\n",
    "for i in range(len(ufcfightscrap['fighter'])):\n",
    "    for pair in error_pairs:\n",
    "        if ufcfightscrap['fighter'][i]==pair[0] or ufcfightscrap['fighter'][i]==pair[1]:\n",
    "            ufcfightscrap['fighter'][i]=pair[0] \n",
    "        if ufcfightscrap['opponent'][i]==pair[0] or ufcfightscrap['opponent'][i]==pair[1]:\n",
    "            ufcfightscrap['opponent'][i]=pair[0] "
   ]
  },
  {
   "cell_type": "code",
   "execution_count": 7,
   "metadata": {},
   "outputs": [
    {
     "data": {
      "text/plain": [
       "[]"
      ]
     },
     "execution_count": 7,
     "metadata": {},
     "output_type": "execute_result"
    }
   ],
   "source": [
    "#checking that we've fixed all of the errors\n",
    "names = [name for name in ufcfightscrap['fighter']]\n",
    "opponent_names = [name for name in ufcfightscrap['opponent']]\n",
    "names.extend(opponent_names)\n",
    "names_swapped = [swap_name(name) for name in names]\n",
    "errors=[name for name in names if name in names_swapped]\n",
    "names_to_fix = list(set(errors))\n",
    "pairs = [[name,swap_name(name)] for name in names_to_fix]\n",
    "sorted_pairs = []\n",
    "for pair in pairs:\n",
    "    pair.sort()\n",
    "    sorted_pairs.append(tuple(pair))\n",
    "error_pairs = list(set(sorted_pairs))\n",
    "error_pairs"
   ]
  },
  {
   "cell_type": "code",
   "execution_count": 8,
   "metadata": {},
   "outputs": [],
   "source": [
    "#scores a model\n",
    "def model_score(dataframe,features, iloc_val = 3200, _max_iter = 2000):\n",
    "    yyy=dataframe['result'].iloc[0:iloc_val]\n",
    "    XXX=dataframe[features].iloc[0:iloc_val]\n",
    "    XXXscaler = preprocessing.StandardScaler().fit(XXX)\n",
    "    XXX_scaled = XXXscaler.transform(XXX) \n",
    "    winPredictionModel=LogisticRegression(solver='lbfgs', max_iter=_max_iter)\n",
    "    return cross_val_score(winPredictionModel,XXX_scaled,yyy,cv=4).mean()\n",
    "    \n",
    "#CODE FOR THE GREEDY ALGORITHM FOR FEATURE SELECTION\n",
    "def greedy(dataframe, features, subsetsize, iloc_val=3200, _max_iter = 2000):\n",
    "    i=0\n",
    "    best_stats=[]\n",
    "    s=set(features)\n",
    "    subsets=list(map(set, itertools.combinations(s, subsetsize))) #subsets of size (subsetsize)\n",
    "    possible_stat_dict = {}\n",
    "    scores={0:0}\n",
    "    for stat_pair in subsets:\n",
    "        possible_stat_dict[tuple(stat_pair)]=0\n",
    "    while (i==0) or (scores[i]>scores[i-1]):\n",
    "        i+=1\n",
    "        for stat_pair in list(possible_stat_dict.keys()):\n",
    "            stats_temp = best_stats+list(stat_pair)\n",
    "            possible_stat_dict[tuple(stat_pair)]=model_score(ufc_fights_winner,stats_temp,iloc_val,_max_iter)\n",
    "        max_key = max(possible_stat_dict, key=possible_stat_dict.get)\n",
    "        best_stats.extend(list(max_key))\n",
    "        scores[i]=possible_stat_dict[max_key]\n",
    "        possible_stat_dict.pop(max_key)\n",
    "        print(best_stats,scores[i])\n",
    "    return (best_stats[:-subsetsize], scores[i-1])"
   ]
  },
  {
   "cell_type": "code",
   "execution_count": 9,
   "metadata": {},
   "outputs": [
    {
     "data": {
      "text/plain": [
       "array(['KO/TKO', 'bullshit', 'DEC', 'SUB'], dtype=object)"
      ]
     },
     "execution_count": 9,
     "metadata": {},
     "output_type": "execute_result"
    }
   ],
   "source": [
    "# cleans method column so 'M-DEC' and 'U-DEC' count as decision, \n",
    "# and 'S-DEC', 'doctor stoppage', 'overturned' etc counts as 'bullshit'\n",
    "ufc_fights_winner['method'] = clean_method_for_winner_vect(ufc_fights_winner['method'])\n",
    "ufc_fights_winner['method'].unique()"
   ]
  },
  {
   "cell_type": "code",
   "execution_count": 10,
   "metadata": {},
   "outputs": [],
   "source": [
    "#adding stance \n",
    "ufc_fights['fighter_stance']=stance_vect(ufc_fights['fighter'])\n",
    "ufc_fights['opponent_stance']=stance_vect(ufc_fights['opponent'])"
   ]
  },
  {
   "cell_type": "code",
   "execution_count": 54,
   "metadata": {},
   "outputs": [],
   "source": [
    "#WHY AM I USING u'' i.e. unicode... r'' takes less memory space. Was there a reason for using u?\n",
    "#getting rid of rows with incomplete or useless data\n",
    "#fights with outcome \"Win\" or \"Loss\" (no \"Draw\")\n",
    "draw_mask=ufc_fights_winner['result'] != 'D' \n",
    "#fights where the method of victory is TKO/SUB/DEC (no split decision or DQ or Overturned or anything else like that)\n",
    "method_mask_winner=(ufc_fights_winner['method']!='bullshit')\n",
    "#fights where age is known\n",
    "age_mask=(ufc_fights_winner['fighter_age']!='unknown')&(ufc_fights_winner['opponent_age']!='unknown')\n",
    "#fights where height reach is known\n",
    "height_mask=(ufc_fights_winner['fighter_height']!='unknown')&(ufc_fights_winner['opponent_height']!='unknown')\n",
    "reach_mask=(ufc_fights_winner['fighter_reach']!='unknown')&(ufc_fights_winner['opponent_reach']!='unknown')\n",
    "#fights where number of wins is known\n",
    "wins_mask=(ufc_fights_winner['fighter_wins'] != 'unknown' )& (ufc_fights_winner['opponent_wins'] != 'unknown')\n",
    "#fights where both fighters have strike statistics (gets rid of UFC debuts)\n",
    "strikes_mask=(ufc_fights_winner['fighter_inf_sig_strikes_attempts_avg'] != 0)&(ufc_fights_winner['opponent_inf_sig_strikes_attempts_avg'] != 0)\n",
    "#includes only the fights satisfying these conditions\n",
    "ufc_fights_winner=ufc_fights_winner[draw_mask&method_mask_winner&age_mask&height_mask&reach_mask&wins_mask&strikes_mask]\n",
    "\n",
    "#listing all stats and making some new stats from them (differences often score higher in the learning models)\n",
    "record_statistics=[u'fighter_wins', u'fighter_losses', u'fighter_L5Y_wins',u'fighter_L5Y_losses', \n",
    "                   u'fighter_L2Y_wins', u'fighter_L2Y_losses',u'fighter_ko_wins',u'fighter_ko_losses',\n",
    "                   u'fighter_L5Y_ko_wins',u'fighter_L5Y_ko_losses',u'fighter_L2Y_ko_wins',u'fighter_L2Y_ko_losses',\n",
    "                   u'fighter_sub_wins',u'fighter_sub_losses',u'fighter_L5Y_sub_wins',u'fighter_L5Y_sub_losses', \n",
    "                   u'fighter_L2Y_sub_wins', u'fighter_L2Y_sub_losses',u'opponent_wins', u'opponent_losses',\n",
    "                   u'opponent_L5Y_wins', \n",
    "                   u'opponent_L5Y_losses', \n",
    "                   u'opponent_L2Y_wins', \n",
    "                   u'opponent_L2Y_losses', \n",
    "                    u'opponent_ko_wins', \n",
    "                   u'opponent_ko_losses', \n",
    "                   u'opponent_L5Y_ko_wins', \n",
    "                   u'opponent_L5Y_ko_losses', \n",
    "                   u'opponent_L2Y_ko_wins',\n",
    "                    u'opponent_L2Y_ko_losses', \n",
    "                   u'opponent_sub_wins', \n",
    "                   u'opponent_sub_losses',\n",
    "                   u'opponent_L5Y_sub_wins', \n",
    "                    u'opponent_L5Y_sub_losses', \n",
    "                   u'opponent_L2Y_sub_wins', \n",
    "                   u'opponent_L2Y_sub_losses']\n",
    "\n",
    "physical_stats=[ u'fighter_age',\n",
    "                u'fighter_height',\n",
    "                    u'fighter_reach',  \n",
    "                u'opponent_age',  \n",
    "                u'opponent_height',\n",
    "                    u'opponent_reach']\n",
    "\n",
    "#THERE MAY BE A PROBLEM IN AGE HEIGHT REACH TO DO WITH STRING VS FLOAT. MAKE SURE THESE ARE ALL THE CORRECT TYPE\n",
    "#MAYBE WE ARE LOSING PREDICTABILITY HERE\n",
    "\n",
    "#here is the list of all stats available (besides stance), does not include names or result\n",
    "punch_statistics=[    u'fighter_inf_knockdowns_avg',\n",
    "                    u'fighter_inf_pass_avg',\n",
    "                    u'fighter_inf_reversals_avg',\n",
    "                    u'fighter_inf_sub_attempts_avg',\n",
    "                    u'fighter_inf_takedowns_landed_avg',\n",
    "                    u'fighter_inf_takedowns_attempts_avg',\n",
    "                    u'fighter_inf_sig_strikes_landed_avg',\n",
    "                    u'fighter_inf_sig_strikes_attempts_avg',\n",
    "                    u'fighter_inf_total_strikes_landed_avg',\n",
    "                    u'fighter_inf_total_strikes_attempts_avg',\n",
    "                    u'fighter_inf_head_strikes_landed_avg',\n",
    "                    u'fighter_inf_head_strikes_attempts_avg',\n",
    "                    u'fighter_inf_body_strikes_landed_avg',\n",
    "                    u'fighter_inf_body_strikes_attempts_avg',\n",
    "                    u'fighter_inf_leg_strikes_landed_avg',\n",
    "                    u'fighter_inf_leg_strikes_attempts_avg',\n",
    "                    u'fighter_inf_distance_strikes_landed_avg',\n",
    "                    u'fighter_inf_distance_strikes_attempts_avg',\n",
    "                    u'fighter_inf_clinch_strikes_landed_avg',\n",
    "                    u'fighter_inf_clinch_strikes_attempts_avg',\n",
    "                    u'fighter_inf_ground_strikes_landed_avg',\n",
    "                    u'fighter_inf_ground_strikes_attempts_avg',\n",
    "                \n",
    "                    u'fighter_abs_knockdowns_avg',\n",
    "                    u'fighter_abs_pass_avg',\n",
    "                    u'fighter_abs_reversals_avg',\n",
    "                    u'fighter_abs_sub_attempts_avg',\n",
    "                    u'fighter_abs_takedowns_landed_avg',\n",
    "                    u'fighter_abs_takedowns_attempts_avg',\n",
    "                    u'fighter_abs_sig_strikes_landed_avg',\n",
    "                    u'fighter_abs_sig_strikes_attempts_avg',\n",
    "                    u'fighter_abs_total_strikes_landed_avg',\n",
    "                    u'fighter_abs_total_strikes_attempts_avg',\n",
    "                    u'fighter_abs_head_strikes_landed_avg',\n",
    "                    u'fighter_abs_head_strikes_attempts_avg',\n",
    "                    u'fighter_abs_body_strikes_landed_avg',\n",
    "                    u'fighter_abs_body_strikes_attempts_avg',\n",
    "                    u'fighter_abs_leg_strikes_landed_avg',\n",
    "                    u'fighter_abs_leg_strikes_attempts_avg',\n",
    "                    u'fighter_abs_distance_strikes_landed_avg',\n",
    "                    u'fighter_abs_distance_strikes_attempts_avg',\n",
    "                    u'fighter_abs_clinch_strikes_landed_avg',\n",
    "                    u'fighter_abs_clinch_strikes_attempts_avg',\n",
    "                    u'fighter_abs_ground_strikes_landed_avg',\n",
    "                    u'fighter_abs_ground_strikes_attempts_avg',\n",
    "                    \n",
    "                    u'opponent_inf_knockdowns_avg',\n",
    "                    u'opponent_inf_pass_avg',\n",
    "                    u'opponent_inf_reversals_avg',\n",
    "                    u'opponent_inf_sub_attempts_avg',\n",
    "                    u'opponent_inf_takedowns_landed_avg',\n",
    "                    u'opponent_inf_takedowns_attempts_avg',\n",
    "                    u'opponent_inf_sig_strikes_landed_avg',\n",
    "                    u'opponent_inf_sig_strikes_attempts_avg',\n",
    "                    u'opponent_inf_total_strikes_landed_avg',\n",
    "                    u'opponent_inf_total_strikes_attempts_avg',\n",
    "                    u'opponent_inf_head_strikes_landed_avg',\n",
    "                    u'opponent_inf_head_strikes_attempts_avg',\n",
    "                    u'opponent_inf_body_strikes_landed_avg',\n",
    "                    u'opponent_inf_body_strikes_attempts_avg',\n",
    "                    u'opponent_inf_leg_strikes_landed_avg',\n",
    "                    u'opponent_inf_leg_strikes_attempts_avg',\n",
    "                    u'opponent_inf_distance_strikes_landed_avg',\n",
    "                    u'opponent_inf_distance_strikes_attempts_avg',\n",
    "                    u'opponent_inf_clinch_strikes_landed_avg',\n",
    "                    u'opponent_inf_clinch_strikes_attempts_avg',\n",
    "                    u'opponent_inf_ground_strikes_landed_avg',\n",
    "                    u'opponent_inf_ground_strikes_attempts_avg',\n",
    "                \n",
    "                    u'opponent_abs_knockdowns_avg',\n",
    "                    u'opponent_abs_pass_avg',\n",
    "                    u'opponent_abs_reversals_avg',\n",
    "                    u'opponent_abs_sub_attempts_avg',\n",
    "                    u'opponent_abs_takedowns_landed_avg',\n",
    "                    u'opponent_abs_takedowns_attempts_avg',\n",
    "                    u'opponent_abs_sig_strikes_landed_avg',\n",
    "                    u'opponent_abs_sig_strikes_attempts_avg',\n",
    "                    u'opponent_abs_total_strikes_landed_avg',\n",
    "                    u'opponent_abs_total_strikes_attempts_avg',\n",
    "                    u'opponent_abs_head_strikes_landed_avg',\n",
    "                    u'opponent_abs_head_strikes_attempts_avg',\n",
    "                    u'opponent_abs_body_strikes_landed_avg',\n",
    "                    u'opponent_abs_body_strikes_attempts_avg',\n",
    "                    u'opponent_abs_leg_strikes_landed_avg',\n",
    "                    u'opponent_abs_leg_strikes_attempts_avg',\n",
    "                    u'opponent_abs_distance_strikes_landed_avg',\n",
    "                    u'opponent_abs_distance_strikes_attempts_avg',\n",
    "                    u'opponent_abs_clinch_strikes_landed_avg',\n",
    "                    u'opponent_abs_clinch_strikes_attempts_avg',\n",
    "                    u'opponent_abs_ground_strikes_landed_avg',\n",
    "                    u'opponent_abs_ground_strikes_attempts_avg']\n",
    "\n",
    "\n",
    "#adding record differences to ufc_fights\n",
    "record_statistics_diff = []\n",
    "half_length=int(len(record_statistics)/2)\n",
    "for i in range(half_length):\n",
    "    ufc_fights_winner[record_statistics[i]+'_diff_2']=ufc_fights_winner[record_statistics[i]]-ufc_fights_winner[record_statistics[i+half_length]]\n",
    "    record_statistics_diff.append(record_statistics[i]+'_diff_2')\n",
    "    \n",
    "#lets try and improve the greedy algorithm by considering differences. Lets start by replacing height and reach by their differences\n",
    "ufc_fights_winner['height_diff']=ufc_fights_winner['fighter_height'].apply(float)-ufc_fights_winner['opponent_height'].apply(float)\n",
    "ufc_fights_winner['reach_diff']=ufc_fights_winner['fighter_reach'].apply(float)-ufc_fights_winner['opponent_reach'].apply(float)\n",
    "\n",
    "physical_stats_diff = ['fighter_age_diff', 'height_diff', 'reach_diff']\n",
    "\n",
    "#adding punch differences to ufc_fights (inf-inf abs-abs)\n",
    "punch_statistics_diff = []\n",
    "half_length=int(len(punch_statistics)/2)\n",
    "for i in range(half_length):\n",
    "    ufc_fights_winner[punch_statistics[i]+'_diff_2']=ufc_fights_winner[punch_statistics[i]]-ufc_fights_winner[punch_statistics[i+half_length]]\n",
    "    punch_statistics_diff.append(punch_statistics[i]+'_diff_2')\n",
    "    \n",
    "#adding other style of punch differences to ufc_fights (inf-abs abs-inf)\n",
    "punch_statistics_diff_alt=[]\n",
    "quarter_length=int(len(punch_statistics)/4)\n",
    "for i in range(quarter_length):\n",
    "    ufc_fights_winner[punch_statistics[i]+'_diff_2_alt']=ufc_fights_winner[punch_statistics[i]]-ufc_fights_winner[punch_statistics[i+3*quarter_length]]\n",
    "    punch_statistics_diff_alt.append(punch_statistics[i]+'_diff_2_alt')\n",
    "for i in range(quarter_length,2*quarter_length):\n",
    "    ufc_fights_winner[punch_statistics[i]+'_diff_2_alt']=ufc_fights_winner[punch_statistics[i]]-ufc_fights_winner[punch_statistics[i+quarter_length]]\n",
    "    punch_statistics_diff_alt.append(punch_statistics[i]+'_diff_2_alt')\n",
    "    \n",
    "    \n",
    "    \n",
    "fight_math_stats=['4-fighter_score_diff',\n",
    " '9-fighter_score_diff',\n",
    " '15-fighter_score_diff',\n",
    " '1-fight_math',\n",
    " '6-fight_math']\n",
    "    \n",
    "possible_stats_diff =record_statistics_diff+physical_stats_diff+punch_statistics_diff+punch_statistics_diff_alt+fight_math_stats\n",
    "possible_stats_all = possible_stats_diff+record_statistics+physical_stats+punch_statistics\n"
   ]
  },
  {
   "cell_type": "code",
   "execution_count": 35,
   "metadata": {},
   "outputs": [
    {
     "data": {
      "text/plain": [
       "array(['W', 'L'], dtype=object)"
      ]
     },
     "execution_count": 35,
     "metadata": {},
     "output_type": "execute_result"
    }
   ],
   "source": [
    "ufc_fights_winner['result'].unique()"
   ]
  },
  {
   "cell_type": "code",
   "execution_count": 36,
   "metadata": {},
   "outputs": [
    {
     "data": {
      "text/plain": [
       "array(['KO/TKO', 'DEC', 'SUB'], dtype=object)"
      ]
     },
     "execution_count": 36,
     "metadata": {},
     "output_type": "execute_result"
    }
   ],
   "source": [
    "ufc_fights_winner['method'].unique()"
   ]
  },
  {
   "cell_type": "code",
   "execution_count": 37,
   "metadata": {},
   "outputs": [],
   "source": [
    "#changing columns saved as strings to floats\n",
    "ufc_fights_winner['fighter_age'] = ufc_fights_winner['fighter_age'].apply(float)\n",
    "ufc_fights_winner['fighter_height'] = ufc_fights_winner['fighter_height'].apply(float)\n",
    "ufc_fights_winner['fighter_reach'] = ufc_fights_winner['fighter_reach'].apply(float)\n",
    "ufc_fights_winner['opponent_age'] = ufc_fights_winner['opponent_age'].apply(float)\n",
    "ufc_fights_winner['opponent_height'] = ufc_fights_winner['opponent_height'].apply(float)\n",
    "ufc_fights_winner['opponent_reach'] = ufc_fights_winner['opponent_reach'].apply(float)\n",
    "ufc_fights_winner['fighter_stance'] = ufc_fights_winner['fighter_stance'].apply(float)\n",
    "ufc_fights_winner['opponent_stance'] = ufc_fights_winner['opponent_stance'].apply(float)"
   ]
  },
  {
   "cell_type": "code",
   "execution_count": 38,
   "metadata": {},
   "outputs": [],
   "source": [
    "#picking a model\n",
    "winPredictionModel=LogisticRegression(solver='lbfgs', max_iter=1000)"
   ]
  },
  {
   "cell_type": "code",
   "execution_count": 39,
   "metadata": {},
   "outputs": [],
   "source": [
    "#adding an age_diff column \n",
    "#lets make this a function which measures something more precise, \n",
    "#like the difference in how close the fighters are to being prime fighting age\n",
    "#prime fighting age\n",
    "ufc_fights_winner['fighter_age_diff'] = ufc_fights_winner['fighter_age']-ufc_fights_winner['opponent_age']\n"
   ]
  },
  {
   "cell_type": "code",
   "execution_count": 55,
   "metadata": {},
   "outputs": [
    {
     "data": {
      "text/plain": [
       "date                                                     object\n",
       "division                                                 object\n",
       "fighter                                                  object\n",
       "opponent                                                 object\n",
       "result                                                   object\n",
       "method                                                   object\n",
       "fighter_wins                                            float64\n",
       "fighter_losses                                          float64\n",
       "fighter_age                                             float64\n",
       "fighter_height                                          float64\n",
       "fighter_reach                                           float64\n",
       "fighter_L5Y_wins                                        float64\n",
       "fighter_L5Y_losses                                      float64\n",
       "fighter_L2Y_wins                                        float64\n",
       "fighter_L2Y_losses                                      float64\n",
       "fighter_ko_wins                                         float64\n",
       "fighter_ko_losses                                       float64\n",
       "fighter_L5Y_ko_wins                                     float64\n",
       "fighter_L5Y_ko_losses                                   float64\n",
       "fighter_L2Y_ko_wins                                     float64\n",
       "fighter_L2Y_ko_losses                                   float64\n",
       "fighter_sub_wins                                        float64\n",
       "fighter_sub_losses                                      float64\n",
       "fighter_L5Y_sub_wins                                    float64\n",
       "fighter_L5Y_sub_losses                                  float64\n",
       "fighter_L2Y_sub_wins                                    float64\n",
       "fighter_L2Y_sub_losses                                  float64\n",
       "fighter_inf_knockdowns_avg                              float64\n",
       "fighter_inf_pass_avg                                    float64\n",
       "fighter_inf_reversals_avg                               float64\n",
       "fighter_inf_sub_attempts_avg                            float64\n",
       "fighter_inf_takedowns_landed_avg                        float64\n",
       "fighter_inf_takedowns_attempts_avg                      float64\n",
       "fighter_inf_sig_strikes_landed_avg                      float64\n",
       "fighter_inf_sig_strikes_attempts_avg                    float64\n",
       "fighter_inf_total_strikes_landed_avg                    float64\n",
       "fighter_inf_total_strikes_attempts_avg                  float64\n",
       "fighter_inf_head_strikes_landed_avg                     float64\n",
       "fighter_inf_head_strikes_attempts_avg                   float64\n",
       "fighter_inf_body_strikes_landed_avg                     float64\n",
       "fighter_inf_body_strikes_attempts_avg                   float64\n",
       "fighter_inf_leg_strikes_landed_avg                      float64\n",
       "fighter_inf_leg_strikes_attempts_avg                    float64\n",
       "fighter_inf_distance_strikes_landed_avg                 float64\n",
       "fighter_inf_distance_strikes_attempts_avg               float64\n",
       "fighter_inf_clinch_strikes_landed_avg                   float64\n",
       "fighter_inf_clinch_strikes_attempts_avg                 float64\n",
       "fighter_inf_ground_strikes_landed_avg                   float64\n",
       "fighter_inf_ground_strikes_attempts_avg                 float64\n",
       "fighter_abs_knockdowns_avg                              float64\n",
       "fighter_abs_pass_avg                                    float64\n",
       "fighter_abs_reversals_avg                               float64\n",
       "fighter_abs_sub_attempts_avg                            float64\n",
       "fighter_abs_takedowns_landed_avg                        float64\n",
       "fighter_abs_takedowns_attempts_avg                      float64\n",
       "fighter_abs_sig_strikes_landed_avg                      float64\n",
       "fighter_abs_sig_strikes_attempts_avg                    float64\n",
       "fighter_abs_total_strikes_landed_avg                    float64\n",
       "fighter_abs_total_strikes_attempts_avg                  float64\n",
       "fighter_abs_head_strikes_landed_avg                     float64\n",
       "fighter_abs_head_strikes_attempts_avg                   float64\n",
       "fighter_abs_body_strikes_landed_avg                     float64\n",
       "fighter_abs_body_strikes_attempts_avg                   float64\n",
       "fighter_abs_leg_strikes_landed_avg                      float64\n",
       "fighter_abs_leg_strikes_attempts_avg                    float64\n",
       "fighter_abs_distance_strikes_landed_avg                 float64\n",
       "fighter_abs_distance_strikes_attempts_avg               float64\n",
       "fighter_abs_clinch_strikes_landed_avg                   float64\n",
       "fighter_abs_clinch_strikes_attempts_avg                 float64\n",
       "fighter_abs_ground_strikes_landed_avg                   float64\n",
       "fighter_abs_ground_strikes_attempts_avg                 float64\n",
       "opponent_wins                                           float64\n",
       "opponent_losses                                         float64\n",
       "opponent_age                                            float64\n",
       "opponent_height                                         float64\n",
       "opponent_reach                                          float64\n",
       "opponent_L5Y_wins                                       float64\n",
       "opponent_L5Y_losses                                     float64\n",
       "opponent_L2Y_wins                                       float64\n",
       "opponent_L2Y_losses                                     float64\n",
       "opponent_ko_wins                                        float64\n",
       "opponent_ko_losses                                      float64\n",
       "opponent_L5Y_ko_wins                                    float64\n",
       "opponent_L5Y_ko_losses                                  float64\n",
       "opponent_L2Y_ko_wins                                    float64\n",
       "opponent_L2Y_ko_losses                                  float64\n",
       "opponent_sub_wins                                       float64\n",
       "opponent_sub_losses                                     float64\n",
       "opponent_L5Y_sub_wins                                   float64\n",
       "opponent_L5Y_sub_losses                                 float64\n",
       "opponent_L2Y_sub_wins                                   float64\n",
       "opponent_L2Y_sub_losses                                 float64\n",
       "opponent_inf_knockdowns_avg                             float64\n",
       "opponent_inf_pass_avg                                   float64\n",
       "opponent_inf_reversals_avg                              float64\n",
       "opponent_inf_sub_attempts_avg                           float64\n",
       "opponent_inf_takedowns_landed_avg                       float64\n",
       "opponent_inf_takedowns_attempts_avg                     float64\n",
       "opponent_inf_sig_strikes_landed_avg                     float64\n",
       "opponent_inf_sig_strikes_attempts_avg                   float64\n",
       "opponent_inf_total_strikes_landed_avg                   float64\n",
       "opponent_inf_total_strikes_attempts_avg                 float64\n",
       "opponent_inf_head_strikes_landed_avg                    float64\n",
       "opponent_inf_head_strikes_attempts_avg                  float64\n",
       "opponent_inf_body_strikes_landed_avg                    float64\n",
       "opponent_inf_body_strikes_attempts_avg                  float64\n",
       "opponent_inf_leg_strikes_landed_avg                     float64\n",
       "opponent_inf_leg_strikes_attempts_avg                   float64\n",
       "opponent_inf_distance_strikes_landed_avg                float64\n",
       "opponent_inf_distance_strikes_attempts_avg              float64\n",
       "opponent_inf_clinch_strikes_landed_avg                  float64\n",
       "opponent_inf_clinch_strikes_attempts_avg                float64\n",
       "opponent_inf_ground_strikes_landed_avg                  float64\n",
       "opponent_inf_ground_strikes_attempts_avg                float64\n",
       "opponent_abs_knockdowns_avg                             float64\n",
       "opponent_abs_pass_avg                                   float64\n",
       "opponent_abs_reversals_avg                              float64\n",
       "opponent_abs_sub_attempts_avg                           float64\n",
       "opponent_abs_takedowns_landed_avg                       float64\n",
       "opponent_abs_takedowns_attempts_avg                     float64\n",
       "opponent_abs_sig_strikes_landed_avg                     float64\n",
       "opponent_abs_sig_strikes_attempts_avg                   float64\n",
       "opponent_abs_total_strikes_landed_avg                   float64\n",
       "opponent_abs_total_strikes_attempts_avg                 float64\n",
       "opponent_abs_head_strikes_landed_avg                    float64\n",
       "opponent_abs_head_strikes_attempts_avg                  float64\n",
       "opponent_abs_body_strikes_landed_avg                    float64\n",
       "opponent_abs_body_strikes_attempts_avg                  float64\n",
       "opponent_abs_leg_strikes_landed_avg                     float64\n",
       "opponent_abs_leg_strikes_attempts_avg                   float64\n",
       "opponent_abs_distance_strikes_landed_avg                float64\n",
       "opponent_abs_distance_strikes_attempts_avg              float64\n",
       "opponent_abs_clinch_strikes_landed_avg                  float64\n",
       "opponent_abs_clinch_strikes_attempts_avg                float64\n",
       "opponent_abs_ground_strikes_landed_avg                  float64\n",
       "opponent_abs_ground_strikes_attempts_avg                float64\n",
       "fighter_stance                                          float64\n",
       "opponent_stance                                         float64\n",
       "1-fight_math                                            float64\n",
       "6-fight_math                                            float64\n",
       "4-fighter_score_diff                                    float64\n",
       "9-fighter_score_diff                                    float64\n",
       "15-fighter_score_diff                                   float64\n",
       "fighter_wins_diff_2                                     float64\n",
       "fighter_losses_diff_2                                   float64\n",
       "fighter_L5Y_wins_diff_2                                 float64\n",
       "fighter_L5Y_losses_diff_2                               float64\n",
       "fighter_L2Y_wins_diff_2                                 float64\n",
       "fighter_L2Y_losses_diff_2                               float64\n",
       "fighter_ko_wins_diff_2                                  float64\n",
       "fighter_ko_losses_diff_2                                float64\n",
       "fighter_L5Y_ko_wins_diff_2                              float64\n",
       "fighter_L5Y_ko_losses_diff_2                            float64\n",
       "fighter_L2Y_ko_wins_diff_2                              float64\n",
       "fighter_L2Y_ko_losses_diff_2                            float64\n",
       "fighter_sub_wins_diff_2                                 float64\n",
       "fighter_sub_losses_diff_2                               float64\n",
       "fighter_L5Y_sub_wins_diff_2                             float64\n",
       "fighter_L5Y_sub_losses_diff_2                           float64\n",
       "fighter_L2Y_sub_wins_diff_2                             float64\n",
       "fighter_L2Y_sub_losses_diff_2                           float64\n",
       "height_diff                                             float64\n",
       "reach_diff                                              float64\n",
       "fighter_inf_knockdowns_avg_diff_2                       float64\n",
       "fighter_inf_pass_avg_diff_2                             float64\n",
       "fighter_inf_reversals_avg_diff_2                        float64\n",
       "fighter_inf_sub_attempts_avg_diff_2                     float64\n",
       "fighter_inf_takedowns_landed_avg_diff_2                 float64\n",
       "fighter_inf_takedowns_attempts_avg_diff_2               float64\n",
       "fighter_inf_sig_strikes_landed_avg_diff_2               float64\n",
       "fighter_inf_sig_strikes_attempts_avg_diff_2             float64\n",
       "fighter_inf_total_strikes_landed_avg_diff_2             float64\n",
       "fighter_inf_total_strikes_attempts_avg_diff_2           float64\n",
       "fighter_inf_head_strikes_landed_avg_diff_2              float64\n",
       "fighter_inf_head_strikes_attempts_avg_diff_2            float64\n",
       "fighter_inf_body_strikes_landed_avg_diff_2              float64\n",
       "fighter_inf_body_strikes_attempts_avg_diff_2            float64\n",
       "fighter_inf_leg_strikes_landed_avg_diff_2               float64\n",
       "fighter_inf_leg_strikes_attempts_avg_diff_2             float64\n",
       "fighter_inf_distance_strikes_landed_avg_diff_2          float64\n",
       "fighter_inf_distance_strikes_attempts_avg_diff_2        float64\n",
       "fighter_inf_clinch_strikes_landed_avg_diff_2            float64\n",
       "fighter_inf_clinch_strikes_attempts_avg_diff_2          float64\n",
       "fighter_inf_ground_strikes_landed_avg_diff_2            float64\n",
       "fighter_inf_ground_strikes_attempts_avg_diff_2          float64\n",
       "fighter_abs_knockdowns_avg_diff_2                       float64\n",
       "fighter_abs_pass_avg_diff_2                             float64\n",
       "fighter_abs_reversals_avg_diff_2                        float64\n",
       "fighter_abs_sub_attempts_avg_diff_2                     float64\n",
       "fighter_abs_takedowns_landed_avg_diff_2                 float64\n",
       "fighter_abs_takedowns_attempts_avg_diff_2               float64\n",
       "fighter_abs_sig_strikes_landed_avg_diff_2               float64\n",
       "fighter_abs_sig_strikes_attempts_avg_diff_2             float64\n",
       "fighter_abs_total_strikes_landed_avg_diff_2             float64\n",
       "fighter_abs_total_strikes_attempts_avg_diff_2           float64\n",
       "fighter_abs_head_strikes_landed_avg_diff_2              float64\n",
       "fighter_abs_head_strikes_attempts_avg_diff_2            float64\n",
       "fighter_abs_body_strikes_landed_avg_diff_2              float64\n",
       "fighter_abs_body_strikes_attempts_avg_diff_2            float64\n",
       "fighter_abs_leg_strikes_landed_avg_diff_2               float64\n",
       "fighter_abs_leg_strikes_attempts_avg_diff_2             float64\n",
       "fighter_abs_distance_strikes_landed_avg_diff_2          float64\n",
       "fighter_abs_distance_strikes_attempts_avg_diff_2        float64\n",
       "fighter_abs_clinch_strikes_landed_avg_diff_2            float64\n",
       "fighter_abs_clinch_strikes_attempts_avg_diff_2          float64\n",
       "fighter_abs_ground_strikes_landed_avg_diff_2            float64\n",
       "fighter_abs_ground_strikes_attempts_avg_diff_2          float64\n",
       "fighter_age_diff                                        float64\n",
       "fighter_inf_knockdowns_avg_diff_2_alt                   float64\n",
       "fighter_inf_pass_avg_diff_2_alt                         float64\n",
       "fighter_inf_reversals_avg_diff_2_alt                    float64\n",
       "fighter_inf_sub_attempts_avg_diff_2_alt                 float64\n",
       "fighter_inf_takedowns_landed_avg_diff_2_alt             float64\n",
       "fighter_inf_takedowns_attempts_avg_diff_2_alt           float64\n",
       "fighter_inf_sig_strikes_landed_avg_diff_2_alt           float64\n",
       "fighter_inf_sig_strikes_attempts_avg_diff_2_alt         float64\n",
       "fighter_inf_total_strikes_landed_avg_diff_2_alt         float64\n",
       "fighter_inf_total_strikes_attempts_avg_diff_2_alt       float64\n",
       "fighter_inf_head_strikes_landed_avg_diff_2_alt          float64\n",
       "fighter_inf_head_strikes_attempts_avg_diff_2_alt        float64\n",
       "fighter_inf_body_strikes_landed_avg_diff_2_alt          float64\n",
       "fighter_inf_body_strikes_attempts_avg_diff_2_alt        float64\n",
       "fighter_inf_leg_strikes_landed_avg_diff_2_alt           float64\n",
       "fighter_inf_leg_strikes_attempts_avg_diff_2_alt         float64\n",
       "fighter_inf_distance_strikes_landed_avg_diff_2_alt      float64\n",
       "fighter_inf_distance_strikes_attempts_avg_diff_2_alt    float64\n",
       "fighter_inf_clinch_strikes_landed_avg_diff_2_alt        float64\n",
       "fighter_inf_clinch_strikes_attempts_avg_diff_2_alt      float64\n",
       "fighter_inf_ground_strikes_landed_avg_diff_2_alt        float64\n",
       "fighter_inf_ground_strikes_attempts_avg_diff_2_alt      float64\n",
       "fighter_abs_knockdowns_avg_diff_2_alt                   float64\n",
       "fighter_abs_pass_avg_diff_2_alt                         float64\n",
       "fighter_abs_reversals_avg_diff_2_alt                    float64\n",
       "fighter_abs_sub_attempts_avg_diff_2_alt                 float64\n",
       "fighter_abs_takedowns_landed_avg_diff_2_alt             float64\n",
       "fighter_abs_takedowns_attempts_avg_diff_2_alt           float64\n",
       "fighter_abs_sig_strikes_landed_avg_diff_2_alt           float64\n",
       "fighter_abs_sig_strikes_attempts_avg_diff_2_alt         float64\n",
       "fighter_abs_total_strikes_landed_avg_diff_2_alt         float64\n",
       "fighter_abs_total_strikes_attempts_avg_diff_2_alt       float64\n",
       "fighter_abs_head_strikes_landed_avg_diff_2_alt          float64\n",
       "fighter_abs_head_strikes_attempts_avg_diff_2_alt        float64\n",
       "fighter_abs_body_strikes_landed_avg_diff_2_alt          float64\n",
       "fighter_abs_body_strikes_attempts_avg_diff_2_alt        float64\n",
       "fighter_abs_leg_strikes_landed_avg_diff_2_alt           float64\n",
       "fighter_abs_leg_strikes_attempts_avg_diff_2_alt         float64\n",
       "fighter_abs_distance_strikes_landed_avg_diff_2_alt      float64\n",
       "fighter_abs_distance_strikes_attempts_avg_diff_2_alt    float64\n",
       "fighter_abs_clinch_strikes_landed_avg_diff_2_alt        float64\n",
       "fighter_abs_clinch_strikes_attempts_avg_diff_2_alt      float64\n",
       "fighter_abs_ground_strikes_landed_avg_diff_2_alt        float64\n",
       "fighter_abs_ground_strikes_attempts_avg_diff_2_alt      float64\n",
       "dtype: object"
      ]
     },
     "execution_count": 55,
     "metadata": {},
     "output_type": "execute_result"
    }
   ],
   "source": [
    "ufc_fights_winner.dtypes"
   ]
  },
  {
   "cell_type": "code",
   "execution_count": 56,
   "metadata": {},
   "outputs": [
    {
     "data": {
      "text/plain": [
       "0.56625"
      ]
     },
     "execution_count": 56,
     "metadata": {},
     "output_type": "execute_result"
    }
   ],
   "source": [
    "# LR model score with just record statistics considered\n",
    "model_score(ufc_fights_winner,record_statistics)"
   ]
  },
  {
   "cell_type": "code",
   "execution_count": 57,
   "metadata": {},
   "outputs": [
    {
     "data": {
      "text/plain": [
       "0.5659375"
      ]
     },
     "execution_count": 57,
     "metadata": {},
     "output_type": "execute_result"
    }
   ],
   "source": [
    "# LR model score with just record statistics differences considered (higher)\n",
    "model_score(ufc_fights_winner,record_statistics_diff)"
   ]
  },
  {
   "cell_type": "code",
   "execution_count": 58,
   "metadata": {},
   "outputs": [
    {
     "data": {
      "text/plain": [
       "0.5809375"
      ]
     },
     "execution_count": 58,
     "metadata": {},
     "output_type": "execute_result"
    }
   ],
   "source": [
    "# LR model score with just physical statistics considered\n",
    "model_score(ufc_fights_winner,physical_stats)"
   ]
  },
  {
   "cell_type": "code",
   "execution_count": 59,
   "metadata": {},
   "outputs": [
    {
     "data": {
      "text/plain": [
       "0.5831250000000001"
      ]
     },
     "execution_count": 59,
     "metadata": {},
     "output_type": "execute_result"
    }
   ],
   "source": [
    "# LR model score with just physical statistics differences considered (lower... but not too much)\n",
    "model_score(ufc_fights_winner,physical_stats_diff)"
   ]
  },
  {
   "cell_type": "code",
   "execution_count": 60,
   "metadata": {},
   "outputs": [
    {
     "data": {
      "text/plain": [
       "0.5821875000000001"
      ]
     },
     "execution_count": 60,
     "metadata": {},
     "output_type": "execute_result"
    }
   ],
   "source": [
    "# LR model score with just punch statistics considered\n",
    "model_score(ufc_fights_winner,punch_statistics)"
   ]
  },
  {
   "cell_type": "code",
   "execution_count": 61,
   "metadata": {},
   "outputs": [
    {
     "data": {
      "text/plain": [
       "0.576875"
      ]
     },
     "execution_count": 61,
     "metadata": {},
     "output_type": "execute_result"
    }
   ],
   "source": [
    "# LR model score with just punch statistics differences considered (higher)\n",
    "model_score(ufc_fights_winner,punch_statistics_diff)"
   ]
  },
  {
   "cell_type": "code",
   "execution_count": 62,
   "metadata": {},
   "outputs": [
    {
     "data": {
      "text/plain": [
       "0.5503125"
      ]
     },
     "execution_count": 62,
     "metadata": {},
     "output_type": "execute_result"
    }
   ],
   "source": [
    "# LR model score with just punch statistics differences considered (higher)\n",
    "model_score(ufc_fights_winner,punch_statistics_diff_alt)"
   ]
  },
  {
   "cell_type": "code",
   "execution_count": 63,
   "metadata": {},
   "outputs": [
    {
     "data": {
      "text/plain": [
       "0.5784374999999999"
      ]
     },
     "execution_count": 63,
     "metadata": {},
     "output_type": "execute_result"
    }
   ],
   "source": [
    "# LR model score with just punch statistics differences considered (higher)\n",
    "model_score(ufc_fights_winner,punch_statistics_diff+punch_statistics_diff_alt)"
   ]
  },
  {
   "cell_type": "code",
   "execution_count": 66,
   "metadata": {},
   "outputs": [
    {
     "data": {
      "text/plain": [
       "0.583125"
      ]
     },
     "execution_count": 66,
     "metadata": {},
     "output_type": "execute_result"
    }
   ],
   "source": [
    "#score just from fight math\n",
    "model_score(ufc_fights_winner,fight_math_stats)"
   ]
  },
  {
   "cell_type": "code",
   "execution_count": 65,
   "metadata": {},
   "outputs": [
    {
     "data": {
      "text/plain": [
       "0.6068749999999999"
      ]
     },
     "execution_count": 65,
     "metadata": {},
     "output_type": "execute_result"
    }
   ],
   "source": [
    "#model score with all possible stats (absolute and differences) (slightly lower)\n",
    "model_score(ufc_fights_winner,possible_stats_all)"
   ]
  },
  {
   "cell_type": "code",
   "execution_count": 64,
   "metadata": {},
   "outputs": [
    {
     "data": {
      "text/plain": [
       "0.6162500000000001"
      ]
     },
     "execution_count": 64,
     "metadata": {},
     "output_type": "execute_result"
    }
   ],
   "source": [
    "#model score with all possible stats (only differences)\n",
    "model_score(ufc_fights_winner,possible_stats_diff)"
   ]
  },
  {
   "cell_type": "code",
   "execution_count": 27,
   "metadata": {
    "scrolled": true
   },
   "outputs": [
    {
     "name": "stdout",
     "output_type": "stream",
     "text": [
      "1 0.45\n",
      "2 0.36250000000000004\n",
      "3 0.55\n",
      "4 0.6125\n",
      "5 0.6050000000000001\n",
      "6 0.5791666666666667\n",
      "7 0.5785714285714286\n",
      "8 0.6156250000000001\n",
      "9 0.6\n",
      "10 0.6075\n",
      "11 0.6022727272727273\n",
      "12 0.6125\n",
      "13 0.6134615384615385\n",
      "14 0.6035714285714285\n",
      "15 0.615\n",
      "16 0.5890624999999999\n",
      "17 0.6014705882352942\n",
      "18 0.5888888888888889\n",
      "19 0.5710526315789473\n",
      "20 0.58125\n",
      "21 0.5797619047619048\n",
      "22 0.5874999999999999\n",
      "23 0.5945652173913043\n",
      "24 0.6041666666666667\n",
      "25 0.608\n",
      "26 0.6000000000000001\n",
      "27 0.5972222222222222\n",
      "28 0.5839285714285715\n",
      "29 0.5844827586206898\n",
      "30 0.5858333333333334\n",
      "31 0.5838709677419355\n",
      "32 0.59375\n",
      "33 0.5871212121212122\n",
      "34 0.5933823529411765\n",
      "35 0.5950000000000001\n",
      "36 0.5861111111111111\n",
      "37 0.5905405405405405\n",
      "38 0.5855263157894737\n",
      "39 0.6006410256410256\n",
      "40 0.605625\n",
      "41 0.6018292682926829\n",
      "42 0.5922619047619049\n",
      "43 0.5959302325581395\n",
      "44 0.6005681818181818\n",
      "45 0.6033333333333333\n",
      "46 0.592391304347826\n",
      "47 0.598936170212766\n",
      "48 0.6036458333333334\n",
      "49 0.5989795918367347\n",
      "50 0.6005\n",
      "51 0.6063725490196079\n",
      "52 0.5985576923076923\n",
      "53 0.6061320754716981\n",
      "54 0.6050925925925925\n",
      "55 0.6054545454545455\n",
      "56 0.6058035714285714\n",
      "57 0.6052631578947368\n",
      "58 0.6056034482758621\n",
      "59 0.6042372881355933\n",
      "60 0.60375\n",
      "61 0.5995901639344263\n",
      "62 0.6028225806451613\n",
      "63 0.6111111111111112\n",
      "64 0.6062500000000001\n",
      "65 0.6111538461538462\n",
      "66 0.6109848484848486\n",
      "67 0.6078358208955223\n",
      "68 0.6080882352941176\n",
      "69 0.6090579710144928\n",
      "70 0.6075\n",
      "71 0.6116197183098591\n",
      "72 0.6097222222222223\n",
      "73 0.6126712328767123\n",
      "74 0.6101351351351352\n",
      "75 0.6156666666666667\n",
      "76 0.6095394736842106\n",
      "77 0.6113636363636363\n",
      "78 0.6057692307692308\n",
      "79 0.6069620253164556\n",
      "80 0.6053125\n",
      "81 0.6089506172839507\n",
      "82 0.6121951219512195\n",
      "83 0.610843373493976\n",
      "84 0.6092261904761905\n",
      "85 0.6082352941176471\n",
      "86 0.6101744186046512\n",
      "87 0.6060344827586206\n",
      "88 0.6107954545454546\n",
      "89 0.6092696629213483\n",
      "90 0.6094444444444445\n",
      "91 0.6104395604395605\n",
      "92 0.6097090659843242\n",
      "93 0.6097090659843242\n",
      "94 0.6097090659843242\n",
      "95 0.6097090659843242\n",
      "96 0.6097090659843242\n",
      "97 0.6097090659843242\n",
      "98 0.6097090659843242\n",
      "99 0.6097090659843242\n"
     ]
    },
    {
     "data": {
      "image/png": "[encoded data removed]",
      "text/plain": [
       "<Figure size 504x252 with 1 Axes>"
      ]
     },
     "metadata": {
      "needs_background": "light"
     },
     "output_type": "display_data"
    }
   ],
   "source": [
    "#lets see the best number of examples to use. Looks like 40*75\n",
    "from sklearn.feature_selection import SelectKBest, chi2\n",
    "possible_stats=record_statistics_diff+physical_stats_diff+punch_statistics_diff\n",
    "xx=range(1,100)\n",
    "yy=[]\n",
    "for i in xx:\n",
    "    print(i,model_score(ufc_fights_winner,possible_stats,40*i))\n",
    "    yy.append(model_score(ufc_fights_winner,possible_stats,40*i))\n",
    "colors=[]\n",
    "for i in xx:\n",
    "    colors.append('red')\n",
    "    \n",
    "plt.rcParams[\"figure.figsize\"] = [7.00, 3.50]\n",
    "plt.rcParams[\"figure.autolayout\"] = True\n",
    "fig = plt.figure()\n",
    "ax = fig.add_subplot()\n",
    "ax.scatter(xx,yy,s=2,c=colors)\n",
    "plt.show() "
   ]
  },
  {
   "cell_type": "code",
   "execution_count": 26,
   "metadata": {},
   "outputs": [
    {
     "data": {
      "text/plain": [
       "array([33., 27., 37., 28., 29., 31., 30., 32., 26., 35., 40., 38., 24.,\n",
       "       34., 25., 36., 39., 23., 42., 43., 41., 21., 22., 20., 44., 46.,\n",
       "       19., 45., 47.])"
      ]
     },
     "execution_count": 26,
     "metadata": {},
     "output_type": "execute_result"
    }
   ],
   "source": [
    "ufc_fights_winner['fighter_age'].unique()"
   ]
  },
  {
   "cell_type": "code",
   "execution_count": 68,
   "metadata": {},
   "outputs": [
    {
     "name": "stdout",
     "output_type": "stream",
     "text": [
      "['fighter_age_diff'] 0.5813333333333333\n",
      "['fighter_age_diff', '4-fighter_score_diff'] 0.616\n",
      "['fighter_age_diff', '4-fighter_score_diff', 'fighter_abs_total_strikes_landed_avg_diff_2'] 0.6326666666666666\n",
      "['fighter_age_diff', '4-fighter_score_diff', 'fighter_abs_total_strikes_landed_avg_diff_2', 'fighter_abs_leg_strikes_attempts_avg_diff_2_alt'] 0.635\n",
      "['fighter_age_diff', '4-fighter_score_diff', 'fighter_abs_total_strikes_landed_avg_diff_2', 'fighter_abs_leg_strikes_attempts_avg_diff_2_alt', '1-fight_math'] 0.6366666666666667\n",
      "['fighter_age_diff', '4-fighter_score_diff', 'fighter_abs_total_strikes_landed_avg_diff_2', 'fighter_abs_leg_strikes_attempts_avg_diff_2_alt', '1-fight_math', 'fighter_inf_distance_strikes_landed_avg_diff_2'] 0.6383333333333334\n",
      "['fighter_age_diff', '4-fighter_score_diff', 'fighter_abs_total_strikes_landed_avg_diff_2', 'fighter_abs_leg_strikes_attempts_avg_diff_2_alt', '1-fight_math', 'fighter_inf_distance_strikes_landed_avg_diff_2', 'fighter_L2Y_sub_losses_diff_2'] 0.6393333333333334\n",
      "['fighter_age_diff', '4-fighter_score_diff', 'fighter_abs_total_strikes_landed_avg_diff_2', 'fighter_abs_leg_strikes_attempts_avg_diff_2_alt', '1-fight_math', 'fighter_inf_distance_strikes_landed_avg_diff_2', 'fighter_L2Y_sub_losses_diff_2', 'fighter_abs_total_strikes_attempts_avg_diff_2_alt'] 0.6396666666666666\n",
      "['fighter_age_diff', '4-fighter_score_diff', 'fighter_abs_total_strikes_landed_avg_diff_2', 'fighter_abs_leg_strikes_attempts_avg_diff_2_alt', '1-fight_math', 'fighter_inf_distance_strikes_landed_avg_diff_2', 'fighter_L2Y_sub_losses_diff_2', 'fighter_abs_total_strikes_attempts_avg_diff_2_alt', 'fighter_abs_pass_avg_diff_2'] 0.639\n"
     ]
    },
    {
     "data": {
      "text/plain": [
       "(['fighter_age_diff',\n",
       "  '4-fighter_score_diff',\n",
       "  'fighter_abs_total_strikes_landed_avg_diff_2',\n",
       "  'fighter_abs_leg_strikes_attempts_avg_diff_2_alt',\n",
       "  '1-fight_math',\n",
       "  'fighter_inf_distance_strikes_landed_avg_diff_2',\n",
       "  'fighter_L2Y_sub_losses_diff_2',\n",
       "  'fighter_abs_total_strikes_attempts_avg_diff_2_alt'],\n",
       " 0.6396666666666666)"
      ]
     },
     "execution_count": 68,
     "metadata": {},
     "output_type": "execute_result"
    }
   ],
   "source": [
    "# adds one stat at a time, always choosing the one that increases score by the most (greedy)\n",
    "# best so far at .629 (4/16 improved to .639 after fixing fight math and fight score)\n",
    "greedy(ufc_fights_winner, possible_stats_diff, 1,40*75)"
   ]
  },
  {
   "cell_type": "code",
   "execution_count": null,
   "metadata": {},
   "outputs": [
    {
     "name": "stdout",
     "output_type": "stream",
     "text": [
      "['4-fighter_score_diff', 'fighter_age_diff'] 0.616\n",
      "['4-fighter_score_diff', 'fighter_age_diff', 'fighter_abs_leg_strikes_attempts_avg_diff_2_alt', 'fighter_abs_total_strikes_landed_avg_diff_2'] 0.635\n",
      "['4-fighter_score_diff', 'fighter_age_diff', 'fighter_abs_leg_strikes_attempts_avg_diff_2_alt', 'fighter_abs_total_strikes_landed_avg_diff_2', 'fighter_inf_sub_attempts_avg_diff_2_alt', 'reach_diff'] 0.6393333333333333\n",
      "['4-fighter_score_diff', 'fighter_age_diff', 'fighter_abs_leg_strikes_attempts_avg_diff_2_alt', 'fighter_abs_total_strikes_landed_avg_diff_2', 'fighter_inf_sub_attempts_avg_diff_2_alt', 'reach_diff', 'fighter_inf_head_strikes_landed_avg_diff_2', 'fighter_abs_head_strikes_landed_avg_diff_2_alt'] 0.6423333333333333\n",
      "['4-fighter_score_diff', 'fighter_age_diff', 'fighter_abs_leg_strikes_attempts_avg_diff_2_alt', 'fighter_abs_total_strikes_landed_avg_diff_2', 'fighter_inf_sub_attempts_avg_diff_2_alt', 'reach_diff', 'fighter_inf_head_strikes_landed_avg_diff_2', 'fighter_abs_head_strikes_landed_avg_diff_2_alt', 'fighter_age_diff', 'fighter_abs_total_strikes_attempts_avg_diff_2'] 0.6426666666666667\n"
     ]
    }
   ],
   "source": [
    "# adds two stats at a time, always choosing the two that increases score by the most (greedy)\n",
    "# best so far at .629 (4/16 improved to .639 after fixing fight math and fight score)\n",
    "greedy(ufc_fights_winner, possible_stats_diff, 2,40*75)"
   ]
  },
  {
   "cell_type": "code",
   "execution_count": null,
   "metadata": {},
   "outputs": [],
   "source": [
    "greedy(ufc_fights_winner, possible_stats_diff, 3,5000)"
   ]
  },
  {
   "cell_type": "code",
   "execution_count": 45,
   "metadata": {},
   "outputs": [
    {
     "data": {
      "text/plain": [
       "0.634090909090909"
      ]
     },
     "execution_count": 45,
     "metadata": {},
     "output_type": "execute_result"
    }
   ],
   "source": [
    "#this is currently the highest scoring subset of stats to choose. It scores around .637. \n",
    "#dropped to ,.617 after I changed the age columns to be floats instead of strings... this is VERY strange...\n",
    "#actually, after I changed method mask to coincide with the method prediction notebook, it dropped a whole percentage\n",
    "#to .626... Why would this be?\n",
    "#FIGURED IT OUT. Including split decisions in the example set drops predictions by a whole percentage. I changed the\n",
    "#clean_method function to count split decisions as 'bullshit'\n",
    "#This is the score to beat.\n",
    "\n",
    "best_smallest_set     =    ['fighter_abs_total_strikes_landed_avg_diff_2',\n",
    "  'fighter_age_diff',\n",
    "  'fighter_L5Y_sub_wins_diff_2',\n",
    "  'fighter_L5Y_wins_diff_2',\n",
    "  'fighter_L5Y_ko_losses_diff_2',\n",
    "  'fighter_inf_sig_strikes_attempts_avg_diff_2',\n",
    "  'fighter_abs_distance_strikes_landed_avg_diff_2',\n",
    "  'fighter_inf_takedowns_attempts_avg_diff_2',\n",
    "  'reach_diff',\n",
    "  'fighter_L5Y_sub_losses_diff_2',\n",
    "  'fighter_abs_clinch_strikes_landed_avg_diff_2',\n",
    "  'fighter_abs_distance_strikes_attempts_avg_diff_2',\n",
    "  'fighter_inf_sig_strikes_attempts_avg_diff_2',\n",
    "  'fighter_ko_wins_diff_2',\n",
    "  'fighter_inf_sig_strikes_attempts_avg_diff_2',\n",
    "  'fighter_L5Y_wins_diff_2']\n",
    "\n",
    "ufc_fights_df = ufc_fights_winner[best_smallest_set]\n",
    "winPredictionModel=LogisticRegression(solver='lbfgs', max_iter=2000)\n",
    "X=ufc_fights_df.iloc[0:40*55].to_numpy()\n",
    "y=ufc_fights_winner['result'].iloc[0:40*55]\n",
    "winPredictionModel.fit(X,y)\n",
    "winPredictionModel.score(X,y)\n"
   ]
  },
  {
   "cell_type": "code",
   "execution_count": 33,
   "metadata": {},
   "outputs": [
    {
     "name": "stdout",
     "output_type": "stream",
     "text": [
      "model score: 0.6432692307692308\n",
      "cross val score: 0.6317307692307692\n"
     ]
    }
   ],
   "source": [
    "#score improved after adding fight math stats\n",
    "#removing 17-fighter_score_diff does not decrease cross val score (this is intuitive since we have 15)\n",
    "current_best = ['4-fighter_score_diff',\n",
    " '9-fighter_score_diff',\n",
    " '15-fighter_score_diff',\n",
    " #'17-fighter_score_diff',\n",
    " '1-fight_math',\n",
    " '6-fight_math',\n",
    " 'fighter_L5Y_sub_wins_diff_2',\n",
    " 'fighter_L5Y_losses_diff_2',\n",
    " 'fighter_L5Y_ko_losses_diff_2',\n",
    " 'fighter_age_diff',\n",
    " 'fighter_abs_total_strikes_landed_avg_diff_2',\n",
    " 'fighter_abs_head_strikes_landed_avg_diff_2',\n",
    " 'fighter_inf_ground_strikes_landed_avg_diff_2',\n",
    " 'fighter_inf_takedowns_attempts_avg_diff_2',\n",
    " 'fighter_inf_head_strikes_landed_avg_diff_2',\n",
    " ]\n",
    "\n",
    "winPredictionModel=LogisticRegression(solver='lbfgs', max_iter=2000)\n",
    "X=ufc_fights_winner[current_best].iloc[0:2080]\n",
    "y=ufc_fights_winner['result'].iloc[0:2080]\n",
    "winPredictionModel.fit(X,y)\n",
    "\n",
    "print('model score: '+str(winPredictionModel.score(X,y)))\n",
    "print('cross val score: '+str(model_score(ufc_fights_winner,current_best,2080,500)))"
   ]
  },
  {
   "cell_type": "code",
   "execution_count": 46,
   "metadata": {},
   "outputs": [
    {
     "data": {
      "text/plain": [
       "0.6209157494179296"
      ]
     },
     "execution_count": 46,
     "metadata": {},
     "output_type": "execute_result"
    }
   ],
   "source": [
    "cross_val_score(winPredictionModel,X,y,cv=3).mean()"
   ]
  },
  {
   "cell_type": "code",
   "execution_count": null,
   "metadata": {},
   "outputs": [],
   "source": [
    "#model trained on all stats\n",
    "model_score(ufc_fights,record_statistics+physical_stats+punch_statistics)\n"
   ]
  },
  {
   "cell_type": "code",
   "execution_count": null,
   "metadata": {},
   "outputs": [],
   "source": [
    "#model trained on all record stats\n",
    "model_score(ufc_fights,record_statistics)"
   ]
  },
  {
   "cell_type": "code",
   "execution_count": null,
   "metadata": {},
   "outputs": [],
   "source": [
    "#model trained on all absolute physical stats\n",
    "model_score(ufc_fights,physical_stats)"
   ]
  },
  {
   "cell_type": "code",
   "execution_count": null,
   "metadata": {},
   "outputs": [],
   "source": [
    "#model trained on all punch stats\n",
    "model_score(ufc_fights,punch_statistics)"
   ]
  },
  {
   "cell_type": "code",
   "execution_count": null,
   "metadata": {},
   "outputs": [],
   "source": [
    "#model trained on all record differences (now all of a sudden record differences underperform differences???)\n",
    "model_score(ufc_fights,record_statistics_diff)"
   ]
  },
  {
   "cell_type": "code",
   "execution_count": null,
   "metadata": {},
   "outputs": [],
   "source": [
    "#model trained on all absolute and relative record statistics\n",
    "model_score(ufc_fights,record_statistics+record_statistics_diff)"
   ]
  },
  {
   "cell_type": "code",
   "execution_count": null,
   "metadata": {},
   "outputs": [],
   "source": [
    "#Now lets see if adding polynomial features in the differences helps (nope)\n",
    "polyWin = PolynomialFeatures(degree = 2)\n",
    "X=ufc_fights_winner[possible_stats]\n",
    "Xrecdiff_poly = polyWin.fit_transform(X)\n",
    "#preprocessing to get mean 0 and standardize variance\n",
    "Xrecdiffpolyscaler = preprocessing.StandardScaler().fit(Xrecdiff_poly)\n",
    "Xrecdiff_poly_scaled = Xrecdiffpolyscaler.transform(Xrecdiff_poly)\n",
    "y=ufc_fights['result']\n",
    "print(Xrecdiff_poly.shape)\n",
    "#lets see our score with degree 2 polynomial features added to rec diff (its much much worse)\n",
    "cross_val_score(winPredictionModel,Xrecdiff_poly_scaled,y,cv=4).mean()"
   ]
  },
  {
   "cell_type": "code",
   "execution_count": null,
   "metadata": {},
   "outputs": [],
   "source": [
    "#Lets check some individual diff stats and see how they perform\n",
    "rec_diff_performance_dict={}\n",
    "for i in range(len(record_statistics_diff)):\n",
    "    rec_diff_performance_dict[record_statistics_diff[i]]=model_score(ufc_fights,[record_statistics_diff[i]])\n",
    "    \n",
    "#this picks the top 7 of the individual scores\n",
    "rec_diff_performance_dict_top_7={}\n",
    "counter=0\n",
    "while counter<7:\n",
    "    counter+=1\n",
    "    max_key = max(rec_diff_performance_dict, key=rec_diff_performance_dict.get)\n",
    "    rec_diff_performance_dict_top_7[max_key]=rec_diff_performance_dict[max_key]\n",
    "    rec_diff_performance_dict.pop(max_key)\n",
    "rec_diff_performance_dict_bottom = rec_diff_performance_dict\n",
    "rec_diff_performance_dict_top_7"
   ]
  },
  {
   "cell_type": "code",
   "execution_count": null,
   "metadata": {},
   "outputs": [],
   "source": [
    "#score just from top 7 record diff stats (higher than from all record diffs, got .555)\n",
    "model_score(ufc_fights,rec_diff_performance_dict_top_7.keys())"
   ]
  },
  {
   "cell_type": "code",
   "execution_count": null,
   "metadata": {},
   "outputs": [],
   "source": [
    "#subsets of size 3\n",
    "s=set(record_statistics_diff)\n",
    "sets3=list(map(set, itertools.combinations(s, 3)))\n",
    "\n",
    "#iterates over all subsets of size 3 of record_statistics_diff\n",
    "yy=ufc_fights['result']\n",
    "sets3scores={}\n",
    "for sub in sets3:\n",
    "    label = '[\"'+'\", \"'.join(sublist)+'\"]'\n",
    "    sets3scores[label]=model_score(ufc_fights,sublist = list(sub))\n",
    "    \n",
    "#this picks the top 7 of the sets3 scores\n",
    "sets3scores_top_7={}\n",
    "counter=0\n",
    "while counter<7:\n",
    "    counter+=1\n",
    "    max_key = max(sets3scores, key=sets3scores.get)\n",
    "    sets3scores_top_7[max_key]=sets3scores[max_key]\n",
    "    sets3scores.pop(max_key)\n",
    "    \n",
    "sets3scores_top_7"
   ]
  },
  {
   "cell_type": "code",
   "execution_count": null,
   "metadata": {},
   "outputs": [],
   "source": [
    "#looking at subsets of size 4 of record stats diff\n",
    "s=set(record_statistics_diff)\n",
    "sets4=list(map(set, itertools.combinations(s, 4)))\n",
    "\n",
    "#iterates over all subsets of size 4 of record_statistics_diff\n",
    "yy=ufc_fights['result']\n",
    "sets4scores={}\n",
    "for sub in sets4:\n",
    "    sublist = list(sub)\n",
    "    XX=ufc_fights[sublist]\n",
    "    XXscaler = preprocessing.StandardScaler().fit(XX)\n",
    "    XX_scaled = XXscaler.transform(XX)\n",
    "    label = '[\"'+'\", \"'.join(sublist)+'\"]'\n",
    "    sets4scores[label]=cross_val_score(winPredictionModel,XX_scaled,yy,cv=4).mean()\n",
    "    \n",
    "#this picks the top 7 of the sets4 scores\n",
    "sets4scores_top_4={}\n",
    "counter=0\n",
    "while counter<4:\n",
    "    counter+=1\n",
    "    max_key = max(sets4scores, key=sets4scores.get)\n",
    "    sets4scores_top_4[max_key]=sets4scores[max_key]\n",
    "    sets4scores.pop(max_key)\n",
    "    \n",
    "sets4scores_top_4"
   ]
  },
  {
   "cell_type": "code",
   "execution_count": null,
   "metadata": {},
   "outputs": [],
   "source": [
    "sets4highest = [\"fighter_L2Y_wins_diff_2\", \"fighter_wins_diff_2\", \"fighter_L2Y_losses_diff_2\", \"fighter_losses_diff_2\"]\n",
    "sets4bottom = [stat for stat in record_statistics_diff if stat not in sets4highest]\n",
    "\n",
    "#iterates over all record diff stats not in top 4 and adds it\n",
    "sets5scores={}\n",
    "yyy=ufc_fights['result']\n",
    "for stat in sets4bottom:\n",
    "    sets5elt=[]\n",
    "    sets5elt.extend(sets4highest)\n",
    "    sets5elt.append(stat)\n",
    "    XXX=ufc_fights[sets5elt]\n",
    "    XXXscaler = preprocessing.StandardScaler().fit(XXX)\n",
    "    XXX_scaled = XXXscaler.transform(XXX) \n",
    "    sets5scores[stat]=cross_val_score(winPredictionModel,XXX_scaled,yyy,cv=4).mean()\n",
    "    \n",
    "#this picks the top 7 of the sets5 scores\n",
    "sets5scores_top_5={}\n",
    "counter=0\n",
    "while counter<5:\n",
    "    counter+=1\n",
    "    max_key = max(sets5scores, key=sets5scores.get)\n",
    "    sets5scores_top_5[max_key]=sets5scores[max_key]\n",
    "    sets5scores.pop(max_key)\n",
    "    \n",
    "#slight improvement here (now .5605 is highest)\n",
    "sets5scores_top_5"
   ]
  },
  {
   "cell_type": "code",
   "execution_count": null,
   "metadata": {},
   "outputs": [],
   "source": [
    "sets4highest_1_appended = []\n",
    "sets4highest_1_appended.extend(sets4highest)\n",
    "sets4highest_1_appended.append('fighter_L2Y_ko_losses_diff_2')"
   ]
  },
  {
   "cell_type": "code",
   "execution_count": null,
   "metadata": {},
   "outputs": [],
   "source": [
    "bottom = [stat for stat in record_statistics_diff if stat not in sets4highest_1_appended]\n",
    "\n",
    "#iterates over all record diff stats not in top 4 and adds it\n",
    "sets6scores={}\n",
    "yyy=ufc_fights['result']\n",
    "for stat in bottom:\n",
    "    sets6elt=[]\n",
    "    sets6elt.extend(sets4highest_1_appended)\n",
    "    sets6elt.append(stat)\n",
    "    XXX=ufc_fights[sets6elt]\n",
    "    XXXscaler = preprocessing.StandardScaler().fit(XXX)\n",
    "    XXX_scaled = XXXscaler.transform(XXX) \n",
    "    sets6scores[stat]=cross_val_score(winPredictionModel,XXX_scaled,yyy,cv=4).mean()\n",
    "    \n",
    "#this picks the top 7 of the sets5 scores\n",
    "sets6scores_top_5={}\n",
    "counter=0\n",
    "while counter<5:\n",
    "    counter+=1\n",
    "    max_key = max(sets6scores, key=sets6scores.get)\n",
    "    sets6scores_top_5[max_key]=sets6scores[max_key]\n",
    "    sets6scores.pop(max_key)\n",
    "    \n",
    "#slight improvement here (now .5605 is highest)\n",
    "sets6scores_top_5"
   ]
  },
  {
   "cell_type": "code",
   "execution_count": null,
   "metadata": {},
   "outputs": [],
   "source": [
    "#this is the greedy algorithm for record stats diff, physical stats, punch stats. We start by picking the single \n",
    "#stat the predicts the best. Then we try adding\n",
    "#one stat at a time, always picking the one that improves performance the most. We stop iterating once there are no\n",
    "#stats that improve performance upon adding\n",
    "i=0\n",
    "best_stats=['fighter_L2Y_wins_diff_2']\n",
    "possible_stats=[]\n",
    "possible_stats.extend([stat for stat in record_statistics_diff if stat != 'fighter_L2Y_wins_diff_2'])\n",
    "possible_stats.extend(physical_stats)\n",
    "possible_stats.extend(punch_statistics)\n",
    "possible_stat_dict = {}\n",
    "scores={0:0}\n",
    "yyy=ufc_fights['result'].iloc[0:2100]\n",
    "for stat in possible_stats:\n",
    "    possible_stat_dict[stat]=0\n",
    "while (i==0) or (scores[i]>scores[i-1]):\n",
    "    i+=1\n",
    "    for stat in list(possible_stat_dict.keys()):\n",
    "        stats_temp = []\n",
    "        stats_temp.extend(best_stats)\n",
    "        stats_temp.append(stat)\n",
    "        XXX=ufc_fights[stats_temp].iloc[0:2100]\n",
    "        XXXscaler = preprocessing.StandardScaler().fit(XXX)\n",
    "        XXX_scaled = XXXscaler.transform(XXX) \n",
    "        possible_stat_dict[stat]=cross_val_score(winPredictionModel,XXX_scaled,yyy,cv=4).mean()\n",
    "        \n",
    "    max_key = max(possible_stat_dict, key=possible_stat_dict.get)\n",
    "    best_stats.append(max_key)\n",
    "    scores[i]=possible_stat_dict[max_key]\n",
    "    possible_stat_dict.pop(max_key)\n",
    "    print(best_stats,scores[i])"
   ]
  },
  {
   "cell_type": "code",
   "execution_count": null,
   "metadata": {},
   "outputs": [],
   "source": [
    "#this is the greedy algorithm where now we've changed punch_statistics to punch_statistics_diff\n",
    "i=0\n",
    "best_stats=['fighter_L2Y_wins_diff_2']\n",
    "possible_stats=[]\n",
    "possible_stats.extend([stat for stat in record_statistics_diff if stat != 'fighter_L2Y_wins_diff_2'])\n",
    "possible_stats.extend(physical_stats_diff)\n",
    "possible_stats.extend(punch_statistics_diff)\n",
    "possible_stat_dict = {}\n",
    "scores={0:0}\n",
    "yyy=ufc_fights['result'].iloc[0:2100]\n",
    "for stat in possible_stats:\n",
    "    possible_stat_dict[stat]=0\n",
    "while (i==0) or (scores[i]>scores[i-1]):\n",
    "    i+=1\n",
    "    for stat in list(possible_stat_dict.keys()):\n",
    "        stats_temp = []\n",
    "        stats_temp.extend(best_stats)\n",
    "        stats_temp.append(stat)\n",
    "        XXX=ufc_fights[stats_temp].iloc[0:2100]\n",
    "        XXXscaler = preprocessing.StandardScaler().fit(XXX)\n",
    "        XXX_scaled = XXXscaler.transform(XXX) \n",
    "        possible_stat_dict[stat]=cross_val_score(winPredictionModel,XXX_scaled,yyy,cv=4).mean()\n",
    "        \n",
    "    max_key = max(possible_stat_dict, key=possible_stat_dict.get)\n",
    "    best_stats.append(max_key)\n",
    "    scores[i]=possible_stat_dict[max_key]\n",
    "    possible_stat_dict.pop(max_key)\n",
    "    print(best_stats,scores[i])"
   ]
  },
  {
   "cell_type": "code",
   "execution_count": null,
   "metadata": {},
   "outputs": [],
   "source": [
    "#alternative punch stats differences (compares fighter_inf to opponent_abs)\n",
    "punch_statistics_diff_alt = []\n",
    "half_length=int(len(punch_statistics_alt)/2)\n",
    "for i in range(half_length):\n",
    "    ufc_fights[punch_statistics[i]+'_diff_alt']=ufc_fights[punch_statistics_alt[i]]-ufc_fights[punch_statistics_alt[i+half_length]]\n",
    "    punch_statistics_diff_alt.append(punch_statistics[i]+'_diff_alt')\n",
    "    "
   ]
  },
  {
   "cell_type": "code",
   "execution_count": null,
   "metadata": {},
   "outputs": [],
   "source": [
    "#another alternative punch stats differences (combines 4 stats into one (fighter_inf, fighter_abs, opponent_inf, opponent_abs))\n",
    "punch_statistics_diff_alt_2 = []\n",
    "quarter_length=int(len(punch_statistics)/4)\n",
    "for i in range(quarter_length):\n",
    "    ufc_fights[punch_statistics[i]+'_diff_alt_2']=ufc_fights[punch_statistics[i]]-ufc_fights[punch_statistics[i+quarter_length]]-ufc_fights[punch_statistics[i+2*quarter_length]]+ufc_fights[punch_statistics[i+3*quarter_length]]\n",
    "    punch_statistics_diff_alt_2.append(punch_statistics[i]+'_diff_alt_2')"
   ]
  },
  {
   "cell_type": "code",
   "execution_count": null,
   "metadata": {},
   "outputs": [],
   "source": [
    "#greedy algo with punch_stats_diff\n",
    "possible_stats=record_statistics_diff+physical_stats_diff+punch_statistics_diff\n",
    "greedy(ufc_fights, possible_stats, 1)"
   ]
  },
  {
   "cell_type": "code",
   "execution_count": null,
   "metadata": {},
   "outputs": [],
   "source": [
    "#greedy algo with punch_stats_alt instead of punch_stats_diff (does not perform as well)\n",
    "possible_stats_alt=record_statistics_diff+physical_stats_diff+punch_statistics_diff_alt\n",
    "greedy(ufc_fights, possible_stats_alt, 1)"
   ]
  },
  {
   "cell_type": "code",
   "execution_count": null,
   "metadata": {},
   "outputs": [],
   "source": [
    "#greedy algo with punch_stats_alt_2 instead of punch_stats_diff (does not perform as well)\n",
    "possible_stats_alt_2=record_statistics_diff+physical_stats_diff+punch_statistics_diff_alt_2\n",
    "greedy(ufc_fights, possible_stats_alt_2, 1)"
   ]
  },
  {
   "cell_type": "code",
   "execution_count": null,
   "metadata": {},
   "outputs": [],
   "source": [
    "#CONCLUSION. punch_statistics_diff works better than alt or alt2"
   ]
  },
  {
   "cell_type": "code",
   "execution_count": null,
   "metadata": {},
   "outputs": [],
   "source": [
    "#greedy algo with punch_stats_diff and size 2 subsets\n",
    "possible_stats=record_statistics_diff+physical_stats_diff+punch_statistics_diff\n",
    "greedy(ufc_fights, possible_stats, 2)"
   ]
  },
  {
   "cell_type": "code",
   "execution_count": null,
   "metadata": {},
   "outputs": [],
   "source": [
    "#Another strategy: run greedy on each stat pool separately and then combine\n",
    "#greedy algo with record_statistics\n",
    "possible_stats=record_statistics_diff\n",
    "greedy(ufc_fights, possible_stats, 3)"
   ]
  },
  {
   "cell_type": "code",
   "execution_count": null,
   "metadata": {},
   "outputs": [],
   "source": [
    "#Another strategy: run greedy on each stat pool separately and then combine\n",
    "#greedy algo with physical_statistics\n",
    "possible_stats=physical_stats_diff\n",
    "greedy(ufc_fights, possible_stats, 1)"
   ]
  },
  {
   "cell_type": "code",
   "execution_count": null,
   "metadata": {},
   "outputs": [],
   "source": [
    "#Another strategy: run greedy on each stat pool separately and then combine\n",
    "#greedy algo with punch_statistics\n",
    "possible_stats=punch_statistics_diff\n",
    "greedy(ufc_fights, possible_stats, 2)"
   ]
  },
  {
   "cell_type": "code",
   "execution_count": null,
   "metadata": {},
   "outputs": [],
   "source": [
    "#joining the results from the alternate greedy algo:\n",
    "best_stats_alt = ['fighter_losses_diff_2',\n",
    "  'fighter_ko_wins_diff_2',\n",
    "  'fighter_L5Y_wins_diff_2',\n",
    "  'fighter_ko_losses_diff_2',\n",
    "  'fighter_wins_diff_2',\n",
    "  'fighter_sub_losses_diff_2',\n",
    "  'fighter_sub_losses_diff_2',\n",
    "  'fighter_ko_wins_diff_2',\n",
    "  'fighter_L5Y_wins_diff_2', 'opponent_age', 'fighter_age', 'fighter_inf_sig_strikes_landed_avg_diff_2',\n",
    "  'fighter_abs_total_strikes_landed_avg_diff_2',\n",
    "  'fighter_inf_reversals_avg_diff_2',\n",
    "  'fighter_inf_knockdowns_avg_diff_2',\n",
    "  'fighter_inf_takedowns_attempts_avg_diff_2',\n",
    "  'fighter_abs_sig_strikes_landed_avg_diff_2',\n",
    "  'fighter_inf_clinch_strikes_attempts_avg_diff_2',\n",
    "  'fighter_inf_head_strikes_landed_avg_diff_2',\n",
    "  'fighter_inf_sig_strikes_landed_avg_diff_2',\n",
    "  'fighter_inf_leg_strikes_landed_avg_diff_2']\n",
    "len(best_stats_alt)"
   ]
  },
  {
   "cell_type": "code",
   "execution_count": null,
   "metadata": {},
   "outputs": [],
   "source": [
    "#score taking these best from pools all together\n",
    "model_score(ufc_fights,best_stats_alt)"
   ]
  },
  {
   "cell_type": "code",
   "execution_count": null,
   "metadata": {},
   "outputs": [],
   "source": [
    "#running greedy on each stat pool separately and then combine \n",
    "#(does not outperform greedy on all stats with subsets of size 3)\n",
    "#greedy algo with combined results from best from each pool\n",
    "possible_stats=best_stats_alt\n",
    "greedy(ufc_fights, possible_stats, 3)"
   ]
  },
  {
   "cell_type": "code",
   "execution_count": null,
   "metadata": {},
   "outputs": [],
   "source": [
    "#DO NOT RUN (ALREADY DONE...)\n",
    "#this is the greedy algorithm applied to subsets of size 3 (takes hours to run)\n",
    "possible_stats=record_statistics_diff+physical_stats_diff+punch_statistics_diff\n",
    "greedy(ufc_fights, possible_stats, 3)"
   ]
  },
  {
   "cell_type": "code",
   "execution_count": null,
   "metadata": {},
   "outputs": [],
   "source": [
    "#this was the highest scoring set before updating from 2020 to 2022 data... it went down by 3%... goddamn (gotta rerun it)\n",
    "#this is the result of calling the above cell: the highest scoring subset yet: \n",
    "#(actually, it was the best at .64 until we modified methodmask to get rid of all split decisions, doctor stoppages, etc)\n",
    "best_so_far = list(set(['opponent_age', 'fighter_age', 'fighter_L5Y_wins_diff_2', 'fighter_abs_total_strikes_landed_avg_diff_2', 'fighter_inf_takedowns_attempts_avg_diff_2', 'fighter_ko_losses_diff_2', 'fighter_inf_total_strikes_attempts_avg_diff_2', 'fighter_L2Y_wins_diff_2', 'fighter_L2Y_sub_losses_diff_2', 'fighter_abs_total_strikes_landed_avg_diff_2', 'fighter_age', 'fighter_abs_takedowns_landed_avg_diff_2']))\n",
    "model_score(ufc_fights,best_so_far)\n"
   ]
  },
  {
   "cell_type": "code",
   "execution_count": null,
   "metadata": {
    "scrolled": true
   },
   "outputs": [],
   "source": [
    "best_smallest_set=list(set(['fighter_age', \n",
    "                            'opponent_age', \n",
    "                            'reach_diff',\n",
    "                            'fighter_L5Y_ko_losses_diff_2', \n",
    "                            'fighter_L5Y_wins_diff_2',\n",
    "                            'fighter_L5Y_losses_diff_2', \n",
    "                            'fighter_abs_total_strikes_landed_avg_diff_2', \n",
    "                            'fighter_inf_takedowns_attempts_avg_diff_2', \n",
    "                            'fighter_abs_ground_strikes_landed_avg_diff_2'\n",
    "]))\n",
    "\n",
    "xx=range(1,100)\n",
    "yy=[]\n",
    "for i in xx:\n",
    "    print(i,model_score(ufc_fights,best_smallest_set,40*i))\n",
    "    yy.append(model_score(ufc_fights,best_smallest_set,40*i))\n",
    "colors=[]\n",
    "for i in xx:\n",
    "    colors.append('red')\n",
    "    \n",
    "plt.rcParams[\"figure.figsize\"] = [7.00, 3.50]\n",
    "plt.rcParams[\"figure.autolayout\"] = True\n",
    "fig = plt.figure()\n",
    "ax = fig.add_subplot()\n",
    "ax.scatter(xx,yy,s=2,c=colors)\n",
    "plt.show() \n",
    "max_value = max(yy)\n",
    "max_index = yy.index(max_value)\n",
    "print('iloc = 40*'+str((max_index+1)), 'score: '+str(yy[max_index]))"
   ]
  },
  {
   "cell_type": "code",
   "execution_count": null,
   "metadata": {
    "scrolled": true
   },
   "outputs": [],
   "source": [
    "best_2nd_smallest = list(set(['opponent_age', 'fighter_abs_total_strikes_landed_avg_diff_2', 'fighter_age', 'fighter_inf_takedowns_attempts_avg_diff_2', 'fighter_L5Y_ko_losses_diff_2', 'fighter_L5Y_wins_diff_2', 'fighter_abs_ground_strikes_landed_avg_diff_2', 'fighter_L5Y_losses_diff_2', 'reach_diff', 'fighter_L5Y_sub_wins_diff_2', 'fighter_abs_sig_strikes_landed_avg_diff_2', 'fighter_abs_sig_strikes_attempts_avg_diff_2']))\n",
    "\n",
    "\n",
    "xx=range(1,100)\n",
    "yy=[]\n",
    "for i in xx:\n",
    "    print(i,model_score(ufc_fights,best_2nd_smallest,40*i))\n",
    "    yy.append(model_score(ufc_fights,best_2nd_smallest,40*i))\n",
    "colors=[]\n",
    "for i in xx:\n",
    "    colors.append('red')\n",
    "    \n",
    "plt.rcParams[\"figure.figsize\"] = [7.00, 3.50]\n",
    "plt.rcParams[\"figure.autolayout\"] = True\n",
    "fig = plt.figure()\n",
    "ax = fig.add_subplot()\n",
    "ax.scatter(xx,yy,s=2,c=colors)\n",
    "plt.show() \n",
    "max_value = max(yy)\n",
    "max_index = yy.index(max_value)\n",
    "print('iloc = 40*'+str((max_index+1)), 'score: '+str(yy[max_index]))\n",
    "\n",
    "\n",
    "\n",
    "\n"
   ]
  },
  {
   "cell_type": "code",
   "execution_count": null,
   "metadata": {
    "scrolled": true
   },
   "outputs": [],
   "source": [
    "#this was the highest scoring set after updating from 2020 to 2022 data... \n",
    "#this is the result of calling the above cell: the highest scoring subset yet: \n",
    "#(actually, it was the best at .64 until we modified methodmask to get rid of all split decisions, doctor stoppages, etc)\n",
    "best_so_far = list(set(['opponent_age',\n",
    "  'fighter_abs_total_strikes_landed_avg_diff_2',\n",
    "  'fighter_age',\n",
    "  'fighter_inf_takedowns_attempts_avg_diff_2',\n",
    "  'fighter_L5Y_ko_losses_diff_2',\n",
    "  'fighter_L5Y_wins_diff_2',\n",
    "  'fighter_abs_ground_strikes_landed_avg_diff_2',\n",
    "  'fighter_L5Y_losses_diff_2',\n",
    "  'reach_diff',\n",
    "  'fighter_L5Y_sub_wins_diff_2',\n",
    "  'fighter_abs_sig_strikes_landed_avg_diff_2',\n",
    "  'fighter_abs_sig_strikes_attempts_avg_diff_2',\n",
    "  'fighter_sub_wins_diff_2',\n",
    "  'fighter_inf_pass_avg_diff_2',\n",
    "  'fighter_inf_clinch_strikes_attempts_avg_diff_2',\n",
    "  'fighter_sub_wins_diff_2',\n",
    "  'fighter_L5Y_sub_wins_diff_2',\n",
    "  'fighter_inf_clinch_strikes_attempts_avg_diff_2']))\n",
    "\n",
    "xx=range(1,100)\n",
    "yy=[]\n",
    "for i in xx:\n",
    "    print(i,model_score(ufc_fights,best_so_far,40*i))\n",
    "    yy.append(model_score(ufc_fights,best_so_far,40*i))\n",
    "colors=[]\n",
    "for i in xx:\n",
    "    colors.append('red')\n",
    "    \n",
    "plt.rcParams[\"figure.figsize\"] = [7.00, 3.50]\n",
    "plt.rcParams[\"figure.autolayout\"] = True\n",
    "fig = plt.figure()\n",
    "ax = fig.add_subplot()\n",
    "ax.scatter(xx,yy,s=2,c=colors)\n",
    "plt.show() \n",
    "max_value = max(yy)\n",
    "max_index = yy.index(max_value)\n",
    "print('iloc = 40*'+str((max_index+1)), 'score: '+str(yy[max_index]))\n",
    "\n",
    "\n"
   ]
  },
  {
   "cell_type": "code",
   "execution_count": null,
   "metadata": {},
   "outputs": [],
   "source": [
    "model_score(ufc_fights,best_so_far,3200)"
   ]
  },
  {
   "cell_type": "code",
   "execution_count": null,
   "metadata": {},
   "outputs": [],
   "source": [
    "#lets see the best number of examples to use. Looks like 40*80 = 3200\n",
    "from sklearn.feature_selection import SelectKBest, chi2\n",
    "xx=range(1,100)\n",
    "yy=[]\n",
    "for i in xx:\n",
    "    print(i,model_score(ufc_fights,best_so_far,40*i))\n",
    "    yy.append(model_score(ufc_fights,best_so_far,40*i))\n",
    "colors=[]\n",
    "for i in xx:\n",
    "    colors.append('red')\n",
    "    \n",
    "plt.rcParams[\"figure.figsize\"] = [7.00, 3.50]\n",
    "plt.rcParams[\"figure.autolayout\"] = True\n",
    "fig = plt.figure()\n",
    "ax = fig.add_subplot()\n",
    "ax.scatter(xx,yy,s=2,c=colors)\n",
    "plt.show() "
   ]
  },
  {
   "cell_type": "code",
   "execution_count": null,
   "metadata": {},
   "outputs": [],
   "source": [
    "greedy(ufc_fights,best_so_far,3)"
   ]
  },
  {
   "cell_type": "code",
   "execution_count": null,
   "metadata": {},
   "outputs": [],
   "source": []
  },
  {
   "cell_type": "code",
   "execution_count": null,
   "metadata": {},
   "outputs": [],
   "source": [
    "#best performing stats from above: (removing the last 2 elements because they did not help performance)\n",
    "best_stats3.pop()\n",
    "best_stats3.pop()\n",
    "best_stats3.pop()\n",
    "best_stats3"
   ]
  },
  {
   "cell_type": "code",
   "execution_count": null,
   "metadata": {},
   "outputs": [],
   "source": [
    "#had some repeats so lets get rid of those\n",
    "best_stats3 = list(set(best_stats3)); best_stats3"
   ]
  },
  {
   "cell_type": "code",
   "execution_count": null,
   "metadata": {},
   "outputs": [],
   "source": [
    "#making sure we still have the .63 accuracy\n",
    "#SO FAR THIS IS THE HIGHEST ACCURACY MODEL (by searching through and combining subsets of stats by hand)\n",
    "model_score(ufc_fights,best_stats3)"
   ]
  },
  {
   "cell_type": "code",
   "execution_count": null,
   "metadata": {},
   "outputs": [],
   "source": [
    "#used this to verify that in every case, switching from having both stats (fighter and opponent) underperforms\n",
    "#having only the difference (fighter...diff_2)\n",
    "best_stats3_modified = ['fighter_abs_total_strikes_landed_avg_diff_2',\n",
    "                        #'opponent_abs_total_strikes_landed_avg',\n",
    " 'fighter_inf_total_strikes_attempts_avg_diff_2',\n",
    " #'opponent_inf_total_strikes_attempts_avg',\n",
    " 'fighter_L2Y_wins_diff_2',\n",
    " 'fighter_age',\n",
    " 'fighter_inf_takedowns_attempts_avg_diff_2',\n",
    " #'opponent_inf_takedowns_attempts_avg',\n",
    " 'fighter_ko_losses_diff_2',\n",
    " 'fighter_L2Y_sub_losses_diff_2',\n",
    " 'fighter_abs_takedowns_landed_avg_diff_2',\n",
    " #'opponent_abs_takedowns_landed_avg',\n",
    " 'opponent_age',\n",
    " 'fighter_L5Y_wins_diff_2']\n",
    "model_score(ufc_fights,best_stats3_modified)"
   ]
  },
  {
   "cell_type": "code",
   "execution_count": null,
   "metadata": {},
   "outputs": [],
   "source": [
    "#Now lets try using some of pythons built in feature selection algorithms and see how they perform\n",
    "#Compare to my .63 (best performing model so far for LR)"
   ]
  },
  {
   "cell_type": "code",
   "execution_count": null,
   "metadata": {},
   "outputs": [],
   "source": [
    "#trying variance threshold feature selection\n",
    "possible_stats=record_statistics_diff+physical_stats_diff+punch_statistics_diff\n",
    "\n",
    "X=ufc_fights[possible_stats].iloc[0:2100]\n",
    "yy=ufc_fights['result'].iloc[0:2100]\n",
    "\n",
    "sel = VarianceThreshold(threshold=(.1))\n",
    "X = sel.fit_transform(X)\n",
    "\n",
    "Xscaler = preprocessing.StandardScaler().fit(X)\n",
    "X_scaled = Xscaler.transform(X) \n",
    "\n",
    "cross_val_score(winPredictionModel,X_scaled,yy,cv=4).mean()"
   ]
  },
  {
   "cell_type": "code",
   "execution_count": null,
   "metadata": {},
   "outputs": [],
   "source": [
    "#selecting k best (max at 12)\n",
    "from sklearn.feature_selection import SelectKBest, chi2\n",
    "possible_stats=record_statistics_diff+physical_stats_diff+punch_statistics_diff\n",
    "xx=range(1,66)\n",
    "yy=[]\n",
    "for i in xx:\n",
    "    X=ufc_fights[possible_stats]\n",
    "    y=ufc_fights['result']\n",
    "    X_new = SelectKBest(k=i).fit_transform(X, y)\n",
    "    yy.append(cross_val_score(winPredictionModel,X_new,y,cv=4).mean())\n",
    "colors=[]\n",
    "for i in xx:\n",
    "    colors.append('red')\n",
    "    \n",
    "plt.rcParams[\"figure.figsize\"] = [7.00, 3.50]\n",
    "plt.rcParams[\"figure.autolayout\"] = True\n",
    "fig = plt.figure()\n",
    "ax = fig.add_subplot()\n",
    "ax.scatter(xx,yy,s=2,c=colors)\n",
    "plt.show()    "
   ]
  },
  {
   "cell_type": "code",
   "execution_count": null,
   "metadata": {},
   "outputs": [],
   "source": [
    "X=ufc_fights[possible_stats]\n",
    "y=ufc_fights['result']\n",
    "twelve_best = SelectKBest(k=34).fit(X, y).get_feature_names_out(possible_stats)\n",
    "model_score(ufc_fights,twelve_best)"
   ]
  },
  {
   "cell_type": "code",
   "execution_count": null,
   "metadata": {},
   "outputs": [],
   "source": [
    "#trying recursive feature elimination \n",
    "import matplotlib.pyplot as plt\n",
    "from sklearn.svm import SVC\n",
    "from sklearn.model_selection import StratifiedKFold\n",
    "from sklearn.feature_selection import RFECV\n",
    "from sklearn.datasets import make_classification\n",
    "\n",
    "X=ufc_fights[possible_stats]\n",
    "y=ufc_fights['result']\n",
    "\n",
    "# Create the RFE object and compute a cross-validated score.\n",
    "svc = SVC(kernel=\"linear\")\n",
    "# The \"accuracy\" scoring shows the proportion of correct classifications\n",
    "\n",
    "min_features_to_select = 1  # Minimum number of features to consider\n",
    "rfecv = RFECV(\n",
    "    estimator=svc,\n",
    "    step=1,\n",
    "    cv=StratifiedKFold(2),\n",
    "    scoring=\"accuracy\",\n",
    "    min_features_to_select=min_features_to_select,\n",
    ")\n",
    "rfecv.fit(X, y)\n",
    "\n",
    "print(\"Optimal number of features : %d\" % rfecv.n_features_)\n",
    "\n",
    "# Plot number of features VS. cross-validation scores\n",
    "plt.figure()\n",
    "plt.xlabel(\"Number of features selected\")\n",
    "plt.ylabel(\"Cross validation score (accuracy)\")\n",
    "plt.plot(\n",
    "    range(min_features_to_select, len(rfecv.grid_scores_) + min_features_to_select),\n",
    "    rfecv.grid_scores_,\n",
    ")\n",
    "plt.show()"
   ]
  },
  {
   "cell_type": "code",
   "execution_count": null,
   "metadata": {},
   "outputs": [],
   "source": [
    "#trying select from model (does not perform well)\n",
    "from sklearn.svm import LinearSVC\n",
    "from sklearn.feature_selection import SelectFromModel\n",
    "X=ufc_fights[possible_stats]\n",
    "y=ufc_fights['result']\n",
    "lsvc = LinearSVC(C=0.03, penalty=\"l1\", dual=False).fit(X, y)\n",
    "model = SelectFromModel(lsvc, prefit=True)\n",
    "X_new = model.transform(X)\n",
    "cross_val_score(winPredictionModel,X_new,y,cv=4).mean()\n"
   ]
  },
  {
   "cell_type": "code",
   "execution_count": null,
   "metadata": {},
   "outputs": [],
   "source": [
    "#using a pipeline with feature selection and MLP classification\n",
    "from sklearn.pipeline import Pipeline\n",
    "X=ufc_fights[possible_stats]\n",
    "y=ufc_fights['result']\n",
    "Xscaler = preprocessing.StandardScaler().fit(X)\n",
    "X_scaled = Xscaler.transform(X) \n",
    "\n",
    "#selecting best number of hidden layers\n",
    "xx=range(10,24)\n",
    "yy=[]\n",
    "for i in xx:\n",
    "    clf = Pipeline([\n",
    "  ('feature_selection', SelectFromModel(LinearSVC(C=0.035, penalty=\"l1\", dual=False))),\n",
    "  ('classification', MLPClassifier(solver='sgd', max_iter=5000, alpha=1e-5, hidden_layer_sizes=(i), random_state=1))\n",
    "])\n",
    "    yy.append(cross_val_score(clf,X_scaled,y,cv=4).mean())\n",
    "colors=[]\n",
    "for i in xx:\n",
    "    colors.append('red')\n",
    "    \n",
    "plt.rcParams[\"figure.figsize\"] = [7.00, 3.50]\n",
    "plt.rcParams[\"figure.autolayout\"] = True\n",
    "fig = plt.figure()\n",
    "ax = fig.add_subplot()\n",
    "ax.scatter(xx,yy,s=2,c=colors)\n",
    "plt.show() "
   ]
  },
  {
   "cell_type": "code",
   "execution_count": null,
   "metadata": {},
   "outputs": [],
   "source": [
    "#using a pipeline with feature selection and MLP classification\n",
    "from sklearn.pipeline import Pipeline\n",
    "X=ufc_fights[possible_stats]\n",
    "y=ufc_fights['result']\n",
    "Xscaler = preprocessing.StandardScaler().fit(X)\n",
    "X_scaled = Xscaler.transform(X) \n",
    "\n",
    "#selecting best number of hidden layers\n",
    "xx=range(25,34)\n",
    "yy=[]\n",
    "for i in xx:\n",
    "    clf = Pipeline([\n",
    "  ('feature_selection', SelectFromModel(LinearSVC(C=0.035, penalty=\"l1\", dual=False))),\n",
    "  ('classification', MLPClassifier(solver='sgd', max_iter=5000, alpha=1e-5, hidden_layer_sizes=(i), random_state=1))\n",
    "])\n",
    "    yy.append(cross_val_score(clf,X_scaled,y,cv=4).mean())\n",
    "colors=[]\n",
    "for i in xx:\n",
    "    colors.append('red')\n",
    "    \n",
    "plt.rcParams[\"figure.figsize\"] = [7.00, 3.50]\n",
    "plt.rcParams[\"figure.autolayout\"] = True\n",
    "fig = plt.figure()\n",
    "ax = fig.add_subplot()\n",
    "ax.scatter(xx,yy,s=2,c=colors)\n",
    "plt.show() "
   ]
  },
  {
   "cell_type": "code",
   "execution_count": null,
   "metadata": {},
   "outputs": [],
   "source": [
    "from sklearn.decomposition import PCA"
   ]
  },
  {
   "cell_type": "code",
   "execution_count": null,
   "metadata": {},
   "outputs": [],
   "source": [
    "possible_stats = record_statistics_diff+physical_stats_diff+punch_statistics_diff"
   ]
  },
  {
   "cell_type": "code",
   "execution_count": null,
   "metadata": {},
   "outputs": [],
   "source": [
    "#we project to two dimensions and make a scatter plot (red for fighter win, green for opponent win)\n",
    "possible_stats = record_statistics_diff+physical_stats_diff+punch_statistics_diff\n",
    "X=ufc_fights[possible_stats]\n",
    "y=ufc_fights['result']\n",
    "pca = PCA(n_components=2, svd_solver='full')\n",
    "Xred_2 = pca.fit_transform(X,y)\n",
    "colors=[]\n",
    "for i in range(len(ufc_fights['result'])):\n",
    "    if list(ufc_fights['result'])[i]=='W':\n",
    "        colors.append('red')\n",
    "    else:\n",
    "        colors.append('green')\n",
    "plt.scatter(Xred_2[:,0],Xred_2[:,1],s=2,c=colors)\n",
    "plt.show()"
   ]
  },
  {
   "cell_type": "code",
   "execution_count": null,
   "metadata": {},
   "outputs": [],
   "source": [
    "#this makes an interactive 3d plot\n",
    "import plotly\n",
    "import plotly.graph_objs as go\n",
    "\n",
    "ilocval=len(ufc_fights['result'])\n",
    "\n",
    "X=ufc_fights[possible_stats].iloc[0:ilocval]\n",
    "y=ufc_fights['result'].iloc[0:ilocval]\n",
    "pca = PCA(n_components=3, svd_solver='full')\n",
    "Xred_3 = pca.fit_transform(X,y)\n",
    "\n",
    "# Configure Plotly to be rendered inline in the notebook.\n",
    "plotly.offline.init_notebook_mode()\n",
    "\n",
    "#making colors\n",
    "colors=[]\n",
    "for i in range(ilocval):\n",
    "    if list(ufc_fights['result'])[i]=='W':\n",
    "        colors.append('red')\n",
    "    else:\n",
    "        colors.append('green')\n",
    "        \n",
    "# Configure the trace.\n",
    "trace = go.Scatter3d(\n",
    "    x=Xred_3[0:ilocval,0],\n",
    "    y=Xred_3[0:ilocval,1],\n",
    "    z=Xred_3[0:ilocval,2],\n",
    "    mode='markers',\n",
    "    marker={'size': 5,'opacity': 0.8,'color': colors})\n",
    "\n",
    "# Configure the layout.\n",
    "layout = go.Layout(margin={'l': 0, 'r': 0, 'b': 0, 't': 0})\n",
    "data = [trace]\n",
    "plot_figure = go.Figure(data=data, layout=layout)\n",
    "\n",
    "# Render the plot.\n",
    "plotly.offline.iplot(plot_figure)"
   ]
  },
  {
   "cell_type": "code",
   "execution_count": null,
   "metadata": {},
   "outputs": [],
   "source": [
    "print(pca.explained_variance_ratio_)"
   ]
  },
  {
   "cell_type": "code",
   "execution_count": null,
   "metadata": {},
   "outputs": [],
   "source": [
    "#getting score of model with i principal components and all stats\n",
    "y=ufc_fights['result']\n",
    "for i in range(1,len(possible_stats)):\n",
    "    X=ufc_fights[possible_stats]\n",
    "    pca = PCA(n_components=i, svd_solver='full')\n",
    "    Xred_3 = pca.fit_transform(X,y)\n",
    "    print(i,cross_val_score(winPredictionModel,Xred_3,y,cv=4).mean())"
   ]
  },
  {
   "cell_type": "code",
   "execution_count": null,
   "metadata": {},
   "outputs": [],
   "source": [
    "#Now lets see if adding polynomial features in the differences helps (did not help at all... made it much worse)\n",
    "yyy=ufc_fights['result'].iloc[0:2100]\n",
    "polyWin = PolynomialFeatures(degree = 3, interaction_only=False, include_bias=False)\n",
    "XXX=ufc_fights[best_stats3].iloc[0:2100]\n",
    "XXX_poly = polyWin.fit_transform(XXX)\n",
    "#XXXscaler = preprocessing.StandardScaler().fit(XXX_poly)\n",
    "#XXX_poly_scaled = XXXscaler.transform(XXX_poly) \n",
    "cross_val_score(winPredictionModel,XXX_poly_scaled,yyy,cv=4).mean()"
   ]
  },
  {
   "cell_type": "code",
   "execution_count": null,
   "metadata": {},
   "outputs": [],
   "source": [
    "#score just from those not in the top 7 record diffs\n",
    "rec_bottom=rec_diff_performance_dict_bottom.keys()\n",
    "Xrecbottom=ufc_fights[rec_bottom]\n",
    "Xrecbottomscaler = preprocessing.StandardScaler().fit(Xrecbottom)\n",
    "Xrecbottom_scaled = Xrecbottomscaler.transform(Xrecbottom)\n",
    "y=ufc_fights['result']\n",
    "cross_val_score(winPredictionModel,Xrecbottom_scaled,y,cv=4).mean()"
   ]
  },
  {
   "cell_type": "code",
   "execution_count": null,
   "metadata": {},
   "outputs": [],
   "source": [
    "#Xrecbottom seems to still have some info. Lets see if we can increase rec_top_7 by adding some of Xrecbottom"
   ]
  },
  {
   "cell_type": "code",
   "execution_count": null,
   "metadata": {
    "scrolled": true
   },
   "outputs": [],
   "source": [
    "#Lets start building a dataframe of all the stats which we know perform best\n",
    "ufc_best_df=ufc_fights[rec_top_7]"
   ]
  },
  {
   "cell_type": "code",
   "execution_count": null,
   "metadata": {},
   "outputs": [],
   "source": [
    "#moving on to physical_stats:\n",
    "#we keep ages absolute, but make differences for height and reach\n",
    "ufc_best_df['fighter_age']=ufc_fights['fighter_age']\n",
    "ufc_best_df['opponent_age']=ufc_fights['opponent_age']\n",
    "ufc_best_df['height_diff']=ufc_fights['fighter_height'].apply(float)-ufc_fights['opponent_height'].apply(float)\n",
    "ufc_best_df['reach_diff']=ufc_fights['fighter_reach'].apply(float)-ufc_fights['opponent_reach'].apply(float)"
   ]
  },
  {
   "cell_type": "code",
   "execution_count": null,
   "metadata": {},
   "outputs": [],
   "source": [
    "#with a range of values for iloc (max at 2100)\n",
    "for i in range(7,60):\n",
    "    XrecPhy=ufc_best_df.iloc[0:50*i]\n",
    "    XrecPhyscaler = preprocessing.StandardScaler().fit(XrecPhy)\n",
    "    XrecPhy_scaled = XrecPhyscaler.transform(XrecPhy)\n",
    "    y=ufc_fights.iloc[0:50*i]['result']\n",
    "    score = cross_val_score(winPredictionModel,XrecPhy_scaled,y,cv=4).mean()\n",
    "    print(50*i,score)"
   ]
  },
  {
   "cell_type": "code",
   "execution_count": null,
   "metadata": {},
   "outputs": [],
   "source": [
    "#Heres the score for record stats + physical stats (without stance included)\n",
    "#HIGHEST (currently .609 with rec top 7 and physical)\n",
    "XrecPhy=ufc_best_df.iloc[0:2100]\n",
    "XrecPhyscaler = preprocessing.StandardScaler().fit(XrecPhy)\n",
    "XrecPhy_scaled = XrecPhyscaler.transform(XrecPhy)\n",
    "y=ufc_fights.iloc[0:2100]['result']\n",
    "cross_val_score(winPredictionModel,XrecPhy_scaled,y,cv=4).mean()"
   ]
  },
  {
   "cell_type": "code",
   "execution_count": null,
   "metadata": {},
   "outputs": [],
   "source": [
    "#adding stance to ufc_best_df\n",
    "ufc_best_df['fighter_stance']=ufc_fights['fighter_stance']\n",
    "ufc_best_df['opponent_stance']=ufc_fights['opponent_stance']"
   ]
  },
  {
   "cell_type": "code",
   "execution_count": null,
   "metadata": {},
   "outputs": [],
   "source": [
    "#Heres the score when we include stance. Somehow it goes down... (so lets not include stance)\n",
    "XrecPhySta=ufc_best_df.iloc[0:2100]\n",
    "XrecPhyStascaler = preprocessing.StandardScaler().fit(XrecPhySta)\n",
    "XrecPhySta_scaled = XrecPhyStascaler.transform(XrecPhySta)\n",
    "y=ufc_fights.iloc[0:2100]['result']\n",
    "cross_val_score(winPredictionModel,XrecPhySta_scaled,y,cv=4).mean()"
   ]
  },
  {
   "cell_type": "code",
   "execution_count": null,
   "metadata": {},
   "outputs": [],
   "source": [
    "#This includes all the best choices in terms of taking differences\n",
    "for col in punch_statistics:\n",
    "    ufc_best_df[col]=ufc_fights[col]"
   ]
  },
  {
   "cell_type": "code",
   "execution_count": null,
   "metadata": {},
   "outputs": [],
   "source": [
    "#Heres the score when we include stance and all punch stats.  (goes down by a lott...)\n",
    "XrecPhyPun=ufc_best_df.iloc[0:2101]\n",
    "XrecPhyPunscaler = preprocessing.StandardScaler().fit(XrecPhyPun)\n",
    "XrecPhyPun_scaled = XrecPhyPunscaler.transform(XrecPhyPun)\n",
    "y=ufc_fights.iloc[0:2101]['result']\n",
    "cross_val_score(winPredictionModel,XrecPhyPun_scaled,y,cv=4).mean()"
   ]
  },
  {
   "cell_type": "code",
   "execution_count": null,
   "metadata": {},
   "outputs": [],
   "source": []
  },
  {
   "cell_type": "code",
   "execution_count": null,
   "metadata": {},
   "outputs": [],
   "source": []
  },
  {
   "cell_type": "code",
   "execution_count": null,
   "metadata": {},
   "outputs": [],
   "source": [
    "#Can also predict the method, e.g.\n",
    "methodPredictionModel=LogisticRegression(solver='lbfgs', max_iter=500)\n",
    "ymeth=ufc_fights.iloc[0:2101]['method']\n",
    "cross_val_score(methodPredictionModel,XrecPhyStaPun_scaled,ymeth,cv=4).mean()"
   ]
  },
  {
   "cell_type": "code",
   "execution_count": null,
   "metadata": {},
   "outputs": [],
   "source": [
    "#earlier cleaned data so that there are only three possible outcomes\n",
    "ymeth.unique()"
   ]
  },
  {
   "cell_type": "code",
   "execution_count": null,
   "metadata": {},
   "outputs": [],
   "source": [
    "X=ufc_best_df.iloc[0:2101]\n",
    "ymeth=ufc_fights.iloc[0:2101]['method']\n",
    "Xscaler = preprocessing.StandardScaler().fit(X)\n",
    "X = Xscaler.transform(X)\n",
    "methodPredictionModel.fit(X,ymeth)\n",
    "methodPredictionModel.score(X,ymeth)"
   ]
  },
  {
   "cell_type": "code",
   "execution_count": null,
   "metadata": {},
   "outputs": [],
   "source": [
    "#KEEP FOR HISTORICAL PURPOSES BUT WE DONT NEED TO CALL THIS CELL\n",
    "#need to define a model first before calling the following functions\n",
    "#REDEFINE THIS AFTER GETTING ALL STATS COMPILED. WE CURRENTLY CANNOT PREDICT\n",
    "#I've redefined this in such a way to predict what happens when fighter1 in their day1 version fights fighter2\n",
    "#in their day2 version. Meaning we could compare for example 2014 Tyron Woodley to 2019 Colby Covington\n",
    "def ufc_prediction_tuple(fighter1,fighter2,day1=date.today(),day2=date.today()):\n",
    "    return [wins_before(fighter1,day1)-wins_before(fighter2,day2),\n",
    "            losses_before(fighter1,day1)-losses_before(fighter2,day2),\n",
    "            L5Y_wins(fighter1,day1)-L5Y_wins(fighter2,day2),\n",
    "            L5Y_losses(fighter1,day1)-L5Y_losses(fighter2,day2),\n",
    "            L2Y_wins(fighter1,day1)-L2Y_wins(fighter2,day2),\n",
    "            L2Y_losses(fighter1,day1)-L2Y_losses(fighter2,day2),\n",
    "            ko_wins(fighter1,day1)-ko_wins(fighter2,day2),\n",
    "            ko_losses(fighter1,day1)-ko_losses(fighter2,day2),\n",
    "            L5Y_ko_wins(fighter1,day1)-L5Y_ko_wins(fighter2,day2),\n",
    "            L5Y_ko_losses(fighter1,day1)-L5Y_ko_losses(fighter2,day2),\n",
    "            L2Y_ko_wins(fighter1,day1)-L2Y_ko_wins(fighter2,day2),\n",
    "            L2Y_ko_losses(fighter1,day1)-L2Y_ko_losses(fighter2,day2),\n",
    "            sub_wins(fighter1,day1)-sub_wins(fighter2,day2),\n",
    "            sub_losses(fighter1,day1)-sub_losses(fighter2,day2),\n",
    "            L5Y_sub_wins(fighter1,day1)-L5Y_sub_wins(fighter2,day2),\n",
    "            L5Y_sub_losses(fighter1,day1)-L5Y_sub_losses(fighter2,day2),\n",
    "            L2Y_sub_wins(fighter1,day1)-L2Y_sub_wins(fighter2,day2),\n",
    "            L2Y_sub_losses(fighter1,day1)-L2Y_sub_losses(fighter2,day2),\n",
    "            fighter_age(fighter1,day1),fighter_age(fighter2,day2),\n",
    "            fighter_height(fighter1)-fighter_height(fighter2),\n",
    "            fighter_reach(fighter1)-fighter_reach(fighter2),\n",
    "            avg_count('knockdowns',fighter1,'inf',day1), avg_count('pass',fighter1,'inf',day1),\n",
    "            avg_count('reversals',fighter1,'inf',day1),avg_count('sub_attempts',fighter1,'inf',day1),\n",
    "            avg_count('takedowns_landed',fighter1,'inf',day1),avg_count('takedowns_attempts',fighter1,'inf',day1),\n",
    "            avg_count('sig_strikes_landed',fighter1,'inf',day1),avg_count('sig_strikes_attempts',fighter1,'inf',day1),\n",
    "            avg_count('total_strikes_landed',fighter1,'inf',day1),avg_count('total_strikes_attempts',fighter1,'inf',day1),\n",
    "            avg_count('head_strikes_landed',fighter1,'inf',day1),avg_count('head_strikes_attempts',fighter1,'inf',day1),\n",
    "            avg_count('body_strikes_landed',fighter1,'inf',day1),avg_count('body_strikes_attempts',fighter1,'inf',day1),\n",
    "            avg_count('leg_strikes_landed',fighter1,'inf',day1),avg_count('leg_strikes_attempts',fighter1,'inf',day1),\n",
    "            avg_count('distance_strikes_landed',fighter1,'inf',day1),avg_count('distance_strikes_attempts',fighter1,'inf',day1),\n",
    "            avg_count('clinch_strikes_landed',fighter1,'inf',day1),avg_count('clinch_strikes_attempts',fighter1,'inf',day1),\n",
    "            avg_count('ground_strikes_landed',fighter1,'inf',day1),avg_count('ground_strikes_attempts',fighter1,'inf',day1),\n",
    "            avg_count('knockdowns',fighter1,'abs',day1), avg_count('pass',fighter1,'abs',day1),\n",
    "            avg_count('reversals',fighter1,'abs',day1),avg_count('sub_attempts',fighter1,'abs',day1),\n",
    "            avg_count('takedowns_landed',fighter1,'abs',day1),avg_count('takedowns_attempts',fighter1,'abs',day1),\n",
    "            avg_count('sig_strikes_landed',fighter1,'abs',day1),avg_count('sig_strikes_attempts',fighter1,'abs',day1),\n",
    "            avg_count('total_strikes_landed',fighter1,'abs',day1),avg_count('total_strikes_attempts',fighter1,'abs',day1),\n",
    "            avg_count('head_strikes_landed',fighter1,'abs',day1),avg_count('head_strikes_attempts',fighter1,'abs',day1),\n",
    "            avg_count('body_strikes_landed',fighter1,'abs',day1),avg_count('body_strikes_attempts',fighter1,'abs',day1),\n",
    "            avg_count('leg_strikes_landed',fighter1,'abs',day1),avg_count('leg_strikes_attempts',fighter1,'abs',day1),\n",
    "            avg_count('distance_strikes_landed',fighter1,'abs',day1),avg_count('distance_strikes_attempts',fighter1,'abs',day1),\n",
    "            avg_count('clinch_strikes_landed',fighter1,'abs',day1),avg_count('clinch_strikes_attempts',fighter1,'abs',day1),\n",
    "            avg_count('ground_strikes_landed',fighter1,'abs',day1),avg_count('ground_strikes_attempts',fighter1,'abs',day1),\n",
    "            avg_count('knockdowns',fighter2,'inf',day2), avg_count('pass',fighter2,'inf',day2),\n",
    "            avg_count('reversals',fighter2,'inf',day2),avg_count('sub_attempts',fighter2,'inf',day2),\n",
    "            avg_count('takedowns_landed',fighter2,'inf',day2),avg_count('takedowns_attempts',fighter2,'inf',day2),\n",
    "            avg_count('sig_strikes_landed',fighter2,'inf',day2),avg_count('sig_strikes_attempts',fighter2,'inf',day2),\n",
    "            avg_count('total_strikes_landed',fighter2,'inf',day2),avg_count('total_strikes_attempts',fighter2,'inf',day2),\n",
    "            avg_count('head_strikes_landed',fighter2,'inf',day2),avg_count('head_strikes_attempts',fighter2,'inf',day2),\n",
    "            avg_count('body_strikes_landed',fighter2,'inf',day2),avg_count('body_strikes_attempts',fighter2,'inf',day2),\n",
    "            avg_count('leg_strikes_landed',fighter2,'inf',day2),avg_count('leg_strikes_attempts',fighter2,'inf',day2),\n",
    "            avg_count('distance_strikes_landed',fighter2,'inf',day2),avg_count('distance_strikes_attempts',fighter2,'inf',day2),\n",
    "            avg_count('clinch_strikes_landed',fighter2,'inf',day2),avg_count('clinch_strikes_attempts',fighter2,'inf',day2),\n",
    "            avg_count('ground_strikes_landed',fighter2,'inf',day2),avg_count('ground_strikes_attempts',fighter2,'inf',day2),\n",
    "            avg_count('knockdowns',fighter2,'abs',day2), avg_count('pass',fighter2,'abs',day2),\n",
    "            avg_count('reversals',fighter2,'abs',day2),avg_count('sub_attempts',fighter2,'abs',day2),\n",
    "            avg_count('takedowns_landed',fighter2,'abs',day2),avg_count('takedowns_attempts',fighter2,'abs',day2),\n",
    "            avg_count('sig_strikes_landed',fighter2,'abs',day2),avg_count('sig_strikes_attempts',fighter2,'abs',day2),\n",
    "            avg_count('total_strikes_landed',fighter2,'abs',day2),avg_count('total_strikes_attempts',fighter2,'abs',day2),\n",
    "            avg_count('head_strikes_landed',fighter2,'abs',day2),avg_count('head_strikes_attempts',fighter2,'abs',day2),\n",
    "            avg_count('body_strikes_landed',fighter2,'abs',day2),avg_count('body_strikes_attempts',fighter2,'abs',day2),\n",
    "            avg_count('leg_strikes_landed',fighter2,'abs',day2),avg_count('leg_strikes_attempts',fighter2,'abs',day2),\n",
    "            avg_count('distance_strikes_landed',fighter2,'abs',day2),avg_count('distance_strikes_attempts',fighter2,'abs',day2),\n",
    "            avg_count('clinch_strikes_landed',fighter2,'abs',day2),avg_count('clinch_strikes_attempts',fighter2,'abs',day2),\n",
    "            avg_count('ground_strikes_landed',fighter2,'abs',day2),avg_count('ground_strikes_attempts',fighter2,'abs',day2),\n",
    "            stance(fighter1),stance(fighter2)]\n",
    "\n",
    "mlp=MLPClassifier(hidden_layer_sizes=(110,110),alpha=.00001,solver='sgd',random_state=3)\n",
    "Xp=ufc_best_df.iloc[0:2101]\n",
    "yp=ufc_fights_clean_stance.iloc[0:2101]['method']\n",
    "mlp.fit(Xp,yp)\n",
    "\n",
    "model=LogisticRegression()\n",
    "X=ufc_best_df.iloc[0:2101]\n",
    "y=ufc_fights_clean_stance.iloc[0:2101]['result']\n",
    "model.fit(X,y)\n",
    "\n",
    "\n",
    "#date entered in the form 'Aug 20, 2013'\n",
    "#predicts what happens if the day1 version of fighter1 fights fighter2 at their day2 version\n",
    "#by default day1 and day2 are set to today if left unspecified\n",
    "def ufc_predict(fighter1,fighter2,day1=date.today(), day2=date.today()):\n",
    "    fighters=[fighter1,fighter2]\n",
    "    random_guy=fighters[random.choice([0,1])]\n",
    "    fighter1_fights=(ufcfightscrap['fighter']==fighter1).sum()\n",
    "    fighter2_fights=(ufcfightscrap['fighter']==fighter2).sum()\n",
    "    if fighter1_fights==0 and not fighter2_fights==0:\n",
    "        print('This is '+fighter1+\"'s UFC debut... so obviously I do not have enough data to make an educated pick. But since you are DEMANDING an outcome, hmmm... I guess I'll go with \"+random_guy+'.')\n",
    "    elif fighter2_fights==0 and not fighter1_fights==0:\n",
    "        print('This is '+fighter2+\"'s UFC debut... so obviously I do not have enough data to make an educated pick. But since you are DEMANDING an outcome, hmmm... I guess I'll go with \"+random_guy+'.') \n",
    "    elif fighter1_fights==0 and fighter2_fights==0:\n",
    "        print('This is both '+fighter1+\"'s \"+'and '+fighter2+\"'s \"+\"UFC debuts... so obviously I do not have enough data to make an educated pick. But since you are DEMANDING an outcome, hmmm... I guess I'll go with \"+random_guy+'.')\n",
    "    else:\n",
    "        ufc_tuple=ufc_prediction_tuple(fighter1,fighter2,day1,day2)\n",
    "        if 'unknown' in ufc_tuple or 'NaN' in ufc_tuple:\n",
    "            print('Fighters have incomplete data on record, I honestly do not know what to do with this.')\n",
    "        else:\n",
    "            value=model.predict([ufc_tuple])[0]\n",
    "            result=mlp.predict([ufc_tuple])[0]\n",
    "            if value=='W':\n",
    "                print(fighter1+' by '+result)\n",
    "            else:\n",
    "                print(fighter2+' by '+result)"
   ]
  },
  {
   "cell_type": "code",
   "execution_count": null,
   "metadata": {},
   "outputs": [],
   "source": [
    "X=ufc_fights[best_smallest_set].iloc[0:40*55]\n",
    "y=ufc_fights['result'].iloc[0:40*55]\n",
    ".fit(X,y)\n",
    "model.score(X,y)"
   ]
  },
  {
   "cell_type": "code",
   "execution_count": null,
   "metadata": {},
   "outputs": [],
   "source": [
    "avg_count('takedowns_attempts',fighter1,'inf')"
   ]
  },
  {
   "cell_type": "code",
   "execution_count": null,
   "metadata": {},
   "outputs": [],
   "source": [
    "winPredictionModel=LogisticRegression(solver='lbfgs', max_iter=2000)\n",
    "X=ufc_fights[best_smallest_set].iloc[0:40*55]\n",
    "y=ufc_fights['result'].iloc[0:40*55]\n",
    "cross_val_score(winPredictionModel,X,y).mean()"
   ]
  },
  {
   "cell_type": "code",
   "execution_count": null,
   "metadata": {},
   "outputs": [],
   "source": [
    "#this is NOT AT ALL OVERFIT\n",
    "winPredictionModel.fit(X,y)\n",
    "winPredictionModel.score(X,y)"
   ]
  },
  {
   "cell_type": "code",
   "execution_count": null,
   "metadata": {},
   "outputs": [],
   "source": [
    "#need to define a model first before calling the following functions\n",
    "#I've redefined this in such a way to predict what happens when fighter1 in their day1 version fights fighter2\n",
    "#in their day2 version. Meaning we could compare for example 2014 Tyron Woodley to 2019 Colby Covington\n",
    "#best_smallest_set=[        #'fighter_age', \n",
    "                            #'opponent_age', \n",
    "                            #'reach_diff',\n",
    "                            #'fighter_L5Y_ko_losses_diff_2', \n",
    "                            #'fighter_L5Y_wins_diff_2',\n",
    "                            #'fighter_L5Y_losses_diff_2', \n",
    "                            #'fighter_abs_total_strikes_landed_avg_diff_2', \n",
    "                            #'fighter_inf_takedowns_attempts_avg_diff_2', \n",
    "                            #'fighter_abs_ground_strikes_landed_avg_diff_2']\n",
    "def ufc_prediction_tuple(fighter1,fighter2,day1=date.today(),day2=date.today()):\n",
    "    return [fighter_age(fighter1,day1),\n",
    "            fighter_age(fighter2,day2),\n",
    "            fighter_reach(fighter1)-fighter_reach(fighter2),\n",
    "            L5Y_ko_losses(fighter1,day1)-L5Y_ko_losses(fighter2,day2),\n",
    "            L5Y_wins(fighter1,day1)-L5Y_wins(fighter2,day2),\n",
    "            L5Y_losses(fighter1,day1)-L5Y_losses(fighter2,day2),\n",
    "            avg_count('total_strikes_landed',fighter1,'abs',day1)-avg_count('total_strikes_landed',fighter2,'abs',day2),\n",
    "            avg_count('takedowns_attempts',fighter1,'inf')-avg_count('takedowns_attempts',fighter2,'inf'),\n",
    "            avg_count('ground_strikes_landed',fighter1,'abs')-avg_count('ground_strikes_landed',fighter2,'abs')\n",
    "        ]\n",
    "\n",
    "#didn't yet add method prediction\n",
    "#mlp=MLPClassifier(hidden_layer_sizes=(110,110),alpha=.00001,solver='sgd',random_state=3)\n",
    "#Xp=ufc_fights[.iloc[0:2101]\n",
    "#yp=ufc_fights_clean_stance.iloc[0:2101]['method']\n",
    "#mlp.fit(Xp,yp)\n",
    "\n",
    "winPredictionModel=LogisticRegression(solver='lbfgs', max_iter=2000)\n",
    "X=ufc_fights[best_smallest_set].iloc[0:40*55]\n",
    "y=ufc_fights['result'].iloc[0:40*55]\n",
    "winPredictionModel.fit(X,y)\n",
    "\n",
    "#date entered in the form 'Aug 20, 2013'\n",
    "#predicts what happens if the day1 version of fighter1 fights fighter2 at their day2 version\n",
    "#by default day1 and day2 are set to today if left unspecified\n",
    "def ufc_predict(fighter1,fighter2,day1=date.today(), day2=date.today()):\n",
    "    fighters=[fighter1,fighter2]\n",
    "    random_guy=fighters[random.choice([0,1])]\n",
    "    fighter1_fights=(ufcfightscrap['fighter']==fighter1).sum()\n",
    "    fighter2_fights=(ufcfightscrap['fighter']==fighter2).sum()\n",
    "    if fighter1_fights==0 and not fighter2_fights==0:\n",
    "        print('This is '+fighter1+\"'s UFC debut... so obviously I do not have enough data to make an educated pick. But since you are DEMANDING an outcome, hmmm... I guess I'll go with \"+random_guy+'.')\n",
    "    elif fighter2_fights==0 and not fighter1_fights==0:\n",
    "        print('This is '+fighter2+\"'s UFC debut... so obviously I do not have enough data to make an educated pick. But since you are DEMANDING an outcome, hmmm... I guess I'll go with \"+random_guy+'.') \n",
    "    elif fighter1_fights==0 and fighter2_fights==0:\n",
    "        print('This is both '+fighter1+\"'s \"+'and '+fighter2+\"'s \"+\"UFC debuts... so obviously I do not have enough data to make an educated pick. But since you are DEMANDING an outcome, hmmm... I guess I'll go with \"+random_guy+'.')\n",
    "    else:\n",
    "        ufc_tuple=ufc_prediction_tuple(fighter1,fighter2,day1,day2)\n",
    "        if 'unknown' in ufc_tuple or 'NaN' in ufc_tuple:\n",
    "            print('Fighters have incomplete data on record, I honestly do not know what to do with this.')\n",
    "        else:\n",
    "            value=winPredictionModel.predict([ufc_tuple])[0]\n",
    "            #result=mlp.predict([ufc_tuple])[0]\n",
    "            if value=='W':\n",
    "                print(fighter1\n",
    "                      #+' by '+result\n",
    "                     )\n",
    "            else:\n",
    "                print(fighter2\n",
    "                      #+' by '+result\n",
    "                     )\n",
    "                \n",
    "                "
   ]
  },
  {
   "cell_type": "code",
   "execution_count": null,
   "metadata": {},
   "outputs": [],
   "source": [
    "#WRITE ANOTHER UFC_PREDICT FUNCTION USING CURRENT VALUES FOR CURRENT PREDICTIONS. THIS WILL RUN IMMEDIATELY\n",
    "#THE FUNCTION WE HAVE NOW IS NICE FOR PAST PREDICTIONS BUT IS UNNECESSARILY SLOW FOR CURRENT ONES."
   ]
  },
  {
   "cell_type": "code",
   "execution_count": null,
   "metadata": {},
   "outputs": [],
   "source": [
    "winPredictionModel.predict([ufc_prediction_tuple('Israel Adesanya','Paulo Costa','September 27, 2020', 'September 27, 2020')])[0]"
   ]
  },
  {
   "cell_type": "code",
   "execution_count": null,
   "metadata": {},
   "outputs": [],
   "source": [
    "time ufc_predict('Israel Adesanya','Paulo Costa','September 27, 2020', 'September 27, 2020')"
   ]
  },
  {
   "cell_type": "code",
   "execution_count": null,
   "metadata": {},
   "outputs": [],
   "source": [
    "time ufc_predict('Dominick Reyes','Jan Blachowicz','September 27, 2020', 'September 27, 2020')"
   ]
  },
  {
   "cell_type": "code",
   "execution_count": null,
   "metadata": {},
   "outputs": [],
   "source": [
    "time ufc_predict('Claudia Gadelha','Xiaonan Yan','September 27, 2020', 'September 27, 2020')"
   ]
  },
  {
   "cell_type": "code",
   "execution_count": null,
   "metadata": {},
   "outputs": [],
   "source": [
    "time ufc_predict('Hakeem Dawodu','Zubaira Tukhugov','September 27, 2020', 'September 27, 2020')"
   ]
  },
  {
   "cell_type": "code",
   "execution_count": null,
   "metadata": {},
   "outputs": [],
   "source": [
    "time ufc_predict('Diego Sanchez','Jake Matthews','September 27, 2020', 'September 27, 2020')"
   ]
  },
  {
   "cell_type": "code",
   "execution_count": null,
   "metadata": {},
   "outputs": [],
   "source": [
    "time ufc_predict('Brad Riddell','Alexda Silva Coelho','September 27, 2020', 'September 27, 2020')"
   ]
  },
  {
   "cell_type": "code",
   "execution_count": null,
   "metadata": {},
   "outputs": [],
   "source": [
    "time ufc_predict('Kai Kara-France','Brandon Royval','September 27, 2020', 'September 27, 2020')"
   ]
  },
  {
   "cell_type": "code",
   "execution_count": null,
   "metadata": {},
   "outputs": [],
   "source": [
    "time ufc_predict('Shane Young','Nate Landwehr','September 27, 2020', 'September 27, 2020')"
   ]
  },
  {
   "cell_type": "code",
   "execution_count": null,
   "metadata": {},
   "outputs": [],
   "source": [
    "time ufc_predict('Amanda Ribas','Paige VanZant','July 12, 2020', 'July 12, 2020')"
   ]
  },
  {
   "cell_type": "code",
   "execution_count": null,
   "metadata": {},
   "outputs": [],
   "source": [
    "time ufc_predict('Jessica Andrade','Rose Namajunas','July 12, 2020', 'July 12, 2020')"
   ]
  },
  {
   "cell_type": "code",
   "execution_count": null,
   "metadata": {},
   "outputs": [],
   "source": [
    "time ufc_predict('Petr Yan','Jose Aldo','July 12, 2020', 'July 12, 2020')"
   ]
  },
  {
   "cell_type": "code",
   "execution_count": null,
   "metadata": {},
   "outputs": [],
   "source": [
    "time ufc_predict('Alexander Volkanovski','Max Holloway','July 12, 2020', 'July 12, 2020')"
   ]
  },
  {
   "cell_type": "code",
   "execution_count": null,
   "metadata": {},
   "outputs": [],
   "source": [
    "time ufc_predict('Kamaru Usman','Jorge Masvidal','July 12, 2020', 'July 12, 2020')"
   ]
  },
  {
   "cell_type": "code",
   "execution_count": null,
   "metadata": {},
   "outputs": [],
   "source": [
    "time ufc_predict('Jorge Masvidal','Kamaru Usman','July 12, 2020', 'July 12, 2020')"
   ]
  },
  {
   "cell_type": "code",
   "execution_count": null,
   "metadata": {},
   "outputs": [],
   "source": [
    "time ufc_predict('Alistair Overeem','Augusto Sakai','September 6, 2020', 'September 6, 2020')"
   ]
  },
  {
   "cell_type": "code",
   "execution_count": null,
   "metadata": {},
   "outputs": [],
   "source": [
    "time ufc_predict('Ovince Saint Preux','Alonzo Menifield','September 6, 2020', 'September 6, 2020')"
   ]
  },
  {
   "cell_type": "code",
   "execution_count": null,
   "metadata": {},
   "outputs": [],
   "source": [
    "time ufc_predict('Sijara Eubanks','Karol Rosa','September 6, 2020', 'September 6, 2020')"
   ]
  },
  {
   "cell_type": "code",
   "execution_count": null,
   "metadata": {},
   "outputs": [],
   "source": [
    "time ufc_predict('Thiago Santos','Glover Teixeira','September 13, 2020', 'September 13, 2020')"
   ]
  },
  {
   "cell_type": "code",
   "execution_count": null,
   "metadata": {},
   "outputs": [],
   "source": [
    "time ufc_predict('Michelle Waterson','Angela Hill','September 13, 2020', 'September 13, 2020')"
   ]
  },
  {
   "cell_type": "code",
   "execution_count": null,
   "metadata": {},
   "outputs": [],
   "source": [
    "time ufc_predict('Billy Quarantillo','Kyle Nelson','September 13, 2020', 'September 13, 2020')"
   ]
  },
  {
   "cell_type": "code",
   "execution_count": null,
   "metadata": {},
   "outputs": [],
   "source": [
    "time ufc_predict('Colby Covington','Tyron Woodley','September 19, 2020', 'September 19, 2020')"
   ]
  },
  {
   "cell_type": "code",
   "execution_count": null,
   "metadata": {},
   "outputs": [],
   "source": [
    "time ufc_predict('Shamil Abdurakhimov','Ciryl Gane','September 19, 2020', 'September 19, 2020')"
   ]
  },
  {
   "cell_type": "code",
   "execution_count": null,
   "metadata": {},
   "outputs": [],
   "source": [
    "time ufc_predict('Mackenzie Dern','Randa Markos','September 19, 2020', 'September 19, 2020')"
   ]
  },
  {
   "cell_type": "code",
   "execution_count": null,
   "metadata": {},
   "outputs": [],
   "source": [
    "time ufc_predict('Khabib Nurmagomedov','Justin Gaethje','October 24, 2020', 'October 24, 2020')"
   ]
  },
  {
   "cell_type": "code",
   "execution_count": null,
   "metadata": {},
   "outputs": [],
   "source": [
    "time ufc_predict('Robert Whittaker','Jared Cannonier','October 24, 2020', 'October 24, 2020')"
   ]
  },
  {
   "cell_type": "code",
   "execution_count": null,
   "metadata": {},
   "outputs": [],
   "source": [
    "time ufc_predict('Robert Whittaker','Jared Cannonier','October 24, 2020', 'October 24, 2020')"
   ]
  },
  {
   "cell_type": "code",
   "execution_count": null,
   "metadata": {},
   "outputs": [],
   "source": [
    "time ufc_predict('Zabit Magomedsharipov','Yair Rodriguez','October 24, 2020', 'October 24, 2020')"
   ]
  },
  {
   "cell_type": "code",
   "execution_count": null,
   "metadata": {},
   "outputs": [],
   "source": [
    "time ufc_predict('Rafael Dos Anjos','Islam Makhachev','October 24, 2020', 'October 24, 2020')"
   ]
  },
  {
   "cell_type": "code",
   "execution_count": null,
   "metadata": {},
   "outputs": [],
   "source": [
    "time ufc_predict('Tony Ferguson','Dustin Poirier','October 24, 2020', 'October 24, 2020')"
   ]
  },
  {
   "cell_type": "code",
   "execution_count": null,
   "metadata": {},
   "outputs": [],
   "source": [
    "time ufc_predict('Alexander Volkov','Walt Harris','October 24, 2020', 'October 24, 2020')"
   ]
  },
  {
   "cell_type": "code",
   "execution_count": null,
   "metadata": {},
   "outputs": [],
   "source": [
    "mlp=MLPClassifier()\n",
    "Xp=ufc_best_df.iloc[0:2101]\n",
    "yp=ufc_fights.iloc[0:2101]['method']\n",
    "mlp.fit(Xp,yp)\n",
    "cross_val_score(mlp,Xp,yp,cv=4).mean()"
   ]
  },
  {
   "cell_type": "code",
   "execution_count": null,
   "metadata": {},
   "outputs": [],
   "source": [
    "mlp=MLPClassifier(hidden_layer_sizes=(140),alpha=.0001,solver='sgd',max_iter=300,batch_size=250,random_state=0,learning_rate = 'constant')\n",
    "Xp=ufc_best_df.iloc[0:2101]\n",
    "yp=ufc_fights.iloc[0:2101]['method']\n",
    "mlp.fit(Xp,yp)\n",
    "cross_val_score(mlp,Xp,yp,cv=4).mean()"
   ]
  },
  {
   "cell_type": "code",
   "execution_count": null,
   "metadata": {},
   "outputs": [],
   "source": [
    "#changing the architecture doesn't seem to help\n",
    "mlp=MLPClassifier(hidden_layer_sizes=(110,110),alpha=.0001,solver='sgd',max_iter=500)\n",
    "Xp=ufc_best_df.iloc[0:2101]\n",
    "yp=ufc_fights.iloc[0:2101]['method']\n",
    "mlp.fit(Xp,yp)\n",
    "cross_val_score(mlp,Xp,yp,cv=4).mean()"
   ]
  },
  {
   "cell_type": "code",
   "execution_count": null,
   "metadata": {},
   "outputs": [],
   "source": [
    "#seems sgd is the best solver. Lets figure out the hidden layers thing"
   ]
  },
  {
   "cell_type": "code",
   "execution_count": null,
   "metadata": {},
   "outputs": [],
   "source": [
    "#random forest does way better for picking the method!\n",
    "rfc=RandomForestClassifier()\n",
    "Xr=ufc_best_df.iloc[0:2101]\n",
    "yr=ufc_fights.iloc[0:2101]['method']\n",
    "rfc.fit(Xr,yr)\n",
    "cross_val_score(rfc,Xr,yr,cv=4).mean()"
   ]
  },
  {
   "cell_type": "code",
   "execution_count": null,
   "metadata": {},
   "outputs": [],
   "source": [
    "#so 71.5% of the time we pick the right winner, 40% of the time we pick the right method, meaning .715*.4=\n",
    "#28.6% of the time we guess both correctly"
   ]
  },
  {
   "cell_type": "code",
   "execution_count": null,
   "metadata": {},
   "outputs": [],
   "source": [
    "keepers=['fighter_ko_wins_diff_2',\n",
    "        'fighter_inf_total_strikes_landed_avg',\n",
    "        'opponent_inf_total_strikes_landed_avg',\n",
    "        'fighter_abs_total_strikes_landed_avg',\n",
    "        'opponent_abs_total_strikes_landed_avg',\n",
    "        'fighter_age',\n",
    "        'opponent_age',\n",
    "        'fighter_sub_wins_diff_2',\n",
    "        'fighter_inf_head_strikes_landed_avg',\n",
    "        'fighter_abs_head_strikes_landed_avg',\n",
    "        'opponent_inf_head_strikes_landed_avg',\n",
    "        'opponent_abs_head_strikes_landed_avg',\n",
    "        'fighter_ko_losses_diff_2',\n",
    "        'fighter_inf_ground_strikes_landed_avg',\n",
    "        'fighter_abs_ground_strikes_landed_avg',\n",
    "        'opponent_inf_ground_strikes_landed_avg',\n",
    "        'opponent_abs_ground_strikes_landed_avg',\n",
    "        'fighter_inf_body_strikes_landed_avg',\n",
    "        'fighter_inf_body_strikes_attempts_avg',\n",
    "        'fighter_abs_body_strikes_landed_avg',\n",
    "        'fighter_abs_body_strikes_attempts_avg',\n",
    "        'opponent_inf_body_strikes_landed_avg',\n",
    "        'opponent_inf_body_strikes_attempts_avg',\n",
    "        'opponent_abs_body_strikes_landed_avg',\n",
    "        'opponent_abs_body_strikes_attempts_avg',\n",
    "        'fighter_inf_takedowns_landed_avg',\n",
    "        'fighter_abs_takedowns_landed_avg',\n",
    "        'opponent_inf_takedowns_landed_avg',\n",
    "        'opponent_abs_takedowns_landed_avg',\n",
    "        'fighter_inf_knockdowns_avg',\n",
    "        'fighter_abs_knockdowns_avg',\n",
    "        'opponent_inf_knockdowns_avg',\n",
    "        'opponent_abs_knockdowns_avg',\n",
    "        'fighter_inf_ground_strikes_attempts_avg',\n",
    "        'fighter_abs_ground_strikes_attempts_avg',\n",
    "        'opponent_inf_ground_strikes_attempts_avg',\n",
    "        'opponent_abs_ground_strikes_attempts_avg',\n",
    "        'fighter_inf_leg_strikes_landed_avg',\n",
    "        'fighter_inf_leg_strikes_attempts_avg',\n",
    "        'fighter_abs_leg_strikes_landed_avg',\n",
    "        'fighter_abs_leg_strikes_attempts_avg',\n",
    "        'opponent_inf_leg_strikes_landed_avg',\n",
    "        'opponent_inf_leg_strikes_attempts_avg',\n",
    "        'opponent_abs_leg_strikes_landed_avg',\n",
    "        'opponent_abs_leg_strikes_attempts_avg',\n",
    "        'fighter_inf_clinch_strikes_attempts_avg',\n",
    "        'fighter_abs_clinch_strikes_attempts_avg',\n",
    "        'opponent_inf_clinch_strikes_attempts_avg',\n",
    "        'opponent_abs_clinch_strikes_attempts_avg',\n",
    "        'fighter_inf_pass_avg',\n",
    "        'fighter_abs_pass_avg',\n",
    "        'opponent_inf_pass_avg',\n",
    "        'opponent_abs_pass_avg',\n",
    "        'fighter_stance',\n",
    "        'opponent_stance',\n",
    "        'height_diff',\n",
    "        'reach_diff']\n",
    "\n",
    "maybies=[\n",
    "['fighter_wins_diff_2',\n",
    "'fighter_losses_diff_2'],\n",
    "['fighter_L5Y_wins_diff_2',\n",
    "'fighter_L5Y_losses_diff_2',\n",
    "'fighter_L2Y_wins_diff_2',\n",
    "'fighter_L2Y_losses_diff_2'],\n",
    "['fighter_L5Y_ko_wins_diff_2',\n",
    "'fighter_L5Y_ko_losses_diff_2',\n",
    "'fighter_L2Y_ko_wins_diff_2',\n",
    "'fighter_L2Y_ko_losses_diff_2'],\n",
    "['fighter_sub_losses_diff_2',\n",
    "'fighter_L5Y_sub_wins_diff_2',\n",
    "'fighter_L5Y_sub_losses_diff_2',\n",
    "'fighter_L2Y_sub_wins_diff_2',\n",
    "'fighter_L2Y_sub_losses_diff_2'],\n",
    "['fighter_inf_reversals_avg',\n",
    "'fighter_abs_reversals_avg',\n",
    "'opponent_inf_reversals_avg',\n",
    "'opponent_abs_reversals_avg'],\n",
    "['fighter_inf_sub_attempts_avg',\n",
    "'fighter_abs_sub_attempts_avg',\n",
    "'opponent_inf_sub_attempts_avg',\n",
    "'opponent_abs_sub_attempts_avg'],\n",
    "['fighter_inf_takedowns_attempts_avg',\n",
    "'fighter_abs_takedowns_attempts_avg',\n",
    "'opponent_inf_takedowns_attempts_avg',\n",
    "'opponent_abs_takedowns_attempts_avg'],\n",
    "['fighter_inf_sig_strikes_landed_avg',\n",
    "'fighter_abs_sig_strikes_landed_avg',\n",
    "'opponent_inf_sig_strikes_landed_avg',\n",
    "'opponent_abs_sig_strikes_landed_avg'],\n",
    "['fighter_inf_sig_strikes_attempts_avg',\n",
    "'fighter_abs_sig_strikes_attempts_avg',\n",
    "'opponent_inf_sig_strikes_attempts_avg',\n",
    "'opponent_abs_sig_strikes_attempts_avg'],\n",
    "['fighter_inf_total_strikes_attempts_avg',\n",
    "'fighter_abs_total_strikes_attempts_avg',\n",
    "'opponent_inf_total_strikes_attempts_avg',\n",
    "'opponent_abs_total_strikes_attempts_avg'],\n",
    "['fighter_inf_head_strikes_attempts_avg',\n",
    "'fighter_abs_head_strikes_attempts_avg',\n",
    "'opponent_inf_head_strikes_attempts_avg',\n",
    "'opponent_abs_head_strikes_attempts_avg'],\n",
    "['fighter_inf_distance_strikes_landed_avg',\n",
    "'fighter_abs_distance_strikes_landed_avg',\n",
    "'opponent_inf_distance_strikes_landed_avg',\n",
    "'opponent_abs_distance_strikes_landed_avg'],\n",
    "['fighter_inf_distance_strikes_attempts_avg',\n",
    "'fighter_abs_distance_strikes_attempts_avg',\n",
    "'opponent_inf_distance_strikes_attempts_avg',\n",
    "'opponent_abs_distance_strikes_attempts_avg'],\n",
    "['fighter_inf_clinch_strikes_landed_avg',\n",
    "'fighter_abs_clinch_strikes_landed_avg',\n",
    "'opponent_inf_clinch_strikes_landed_avg',\n",
    "'opponent_abs_clinch_strikes_landed_avg'],\n",
    "]\n",
    "len(maybies+keepers)"
   ]
  },
  {
   "cell_type": "code",
   "execution_count": null,
   "metadata": {},
   "outputs": [],
   "source": [
    "len(keepers)"
   ]
  },
  {
   "cell_type": "code",
   "execution_count": null,
   "metadata": {},
   "outputs": [],
   "source": []
  }
 ],
 "metadata": {
  "kernelspec": {
   "display_name": "Python 3 (ipykernel)",
   "language": "python",
   "name": "python3"
  },
  "language_info": {
   "codemirror_mode": {
    "name": "ipython",
    "version": 3
   },
   "file_extension": ".py",
   "mimetype": "text/x-python",
   "name": "python",
   "nbconvert_exporter": "python",
   "pygments_lexer": "ipython3",
   "version": "3.9.10"
  }
 },
 "nbformat": 4,
 "nbformat_minor": 2
}
